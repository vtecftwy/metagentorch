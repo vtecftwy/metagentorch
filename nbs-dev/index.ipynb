{
 "cells": [
  {
   "cell_type": "markdown",
   "metadata": {},
   "source": [
    "# metagentools\n",
    "\n",
    "> Code used as part of a research project focusing on deep learning classification of a wide range of viruses."
   ]
  },
  {
   "cell_type": "markdown",
   "metadata": {},
   "source": [
    "This repo includes the code developed as part of a research project aiming at using deep learning techniques to classify a wide range of viruses based on NG reads. \n",
    "\n",
    "The code is structured into _general code_ and _submodules_:\n",
    "\n",
    "**_General code_** is used across the project and can also be reused for other projects:\n",
    "\n",
    "1. `art`: wrapper code to use ART-ILLUMINA read simulator package from a jupyter notebook. MUST BE RUN LOCALLY.\n",
    "1. `core`: base classes used accross the package\n",
    "1. `wandb`: utility classes to open, retrieve, use WandB runs and artifacts accross the project\n",
    "\n",
    "**_Submodules_** cover code written for a specific part of the project. At the moment, the only submodule is `cnn_virus`.\n",
    "\n",
    "1. `cnn_virus`: all specific code related to the evaluation and improvement of CNN Virus model \n",
    "    - `architecture`: all code related to evaluated and trained architectures\n",
    "    - `data`: data processing, iterators and parsing functions to handle data\n",
    "    - `utils`: other utility functions\n",
    "\n",
    "**_Disclaimer_**: This repository is currently under development and is offered as-is. Please note that certain functions or modules might raise errors or become deprecated without prior notice across different versions. Efforts will be made to clearly indicate in warnings or error messages how to substitute deprecated code. Support may or may not be available, depending on when the request for assistance is made.\n",
    "\n",
    "**_Installation_**:\n",
    "\n",
    "- `pip install metagentools` for the stable version\n",
    "\n",
    "- `pip install git+https://github.com/vtecftwy/metagentools.git@main` for the latest committed version\n",
    "\n",
    "**_Requirements_**:\n",
    "\n",
    "- python 3.8 or higher is required for this package\n",
    "- package tested with python 3.10"
   ]
  }
 ],
 "metadata": {
  "kernelspec": {
   "display_name": "python3",
   "language": "python",
   "name": "python3"
  }
 },
 "nbformat": 4,
 "nbformat_minor": 4
}
