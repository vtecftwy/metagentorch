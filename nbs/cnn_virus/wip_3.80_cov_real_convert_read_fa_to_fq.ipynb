{
 "cells": [
  {
   "cell_type": "markdown",
   "metadata": {},
   "source": [
    "# Convert real CoV read file from FASTA into FASTQ"
   ]
  },
  {
   "cell_type": "markdown",
   "metadata": {},
   "source": [
    "The real CoV read file received is in FASTA format.\n",
    "\n",
    "The pipeline used to infer virus label from reads is designed to work with FASTQ files.\n",
    "\n",
    "We will conver the real CoV read file into a FASTQ file."
   ]
  },
  {
   "cell_type": "markdown",
   "metadata": {},
   "source": [
    "# 1. Imports and setup environment"
   ]
  },
  {
   "cell_type": "code",
   "execution_count": null,
   "metadata": {},
   "outputs": [
    {
     "name": "stdout",
     "output_type": "stream",
     "text": [
      "`ecutilities` already installed\n",
      "`metagentools` already installed\n"
     ]
    }
   ],
   "source": [
    "# Install required custom packages if not installed yet.\n",
    "import importlib.util\n",
    "if not importlib.util.find_spec('ecutilities'):\n",
    "    print('installing package: `ecutilities`')\n",
    "    ! pip install -qqU ecutilities\n",
    "else:\n",
    "    print('`ecutilities` already installed')\n",
    "if not importlib.util.find_spec('metagentools'):\n",
    "    print('installing package: `metagentools')\n",
    "    ! pip install -qqU metagentools\n",
    "else:\n",
    "    print('`metagentools` already installed')"
   ]
  },
  {
   "cell_type": "code",
   "execution_count": null,
   "metadata": {},
   "outputs": [
    {
     "name": "stdout",
     "output_type": "stream",
     "text": [
      "Set autoreload mode\n"
     ]
    }
   ],
   "source": [
    "# Import all required packages\n",
    "import os\n",
    "\n",
    "from ecutilities.core import files_in_tree\n",
    "from ecutilities.ipython import nb_setup\n",
    "from IPython.display import display, update_display, Markdown, HTML\n",
    "from pathlib import Path\n",
    "from pprint import pprint\n",
    "from tqdm.notebook import tqdm, trange\n",
    "\n",
    "# Setup the notebook for development\n",
    "nb_setup()\n",
    "\n",
    "from metagentools.cnn_virus.data import FastaFileReader, FastqFileReader\n",
    "from metagentools.cnn_virus.data import OriginalLabels\n",
    "from metagentools.core import ProjectFileSystem, TextFileBaseReader"
   ]
  },
  {
   "cell_type": "markdown",
   "metadata": {},
   "source": [
    "List all computing devices available on the machine"
   ]
  },
  {
   "cell_type": "markdown",
   "metadata": {},
   "source": [
    "# 2. Setup paths to files"
   ]
  },
  {
   "cell_type": "markdown",
   "metadata": {},
   "source": [
    "Key folders and system information"
   ]
  },
  {
   "cell_type": "code",
   "execution_count": null,
   "metadata": {},
   "outputs": [
    {
     "name": "stdout",
     "output_type": "stream",
     "text": [
      "Running linux on local computer\n",
      "Device's home directory: /home/vtec\n",
      "Project file structure:\n",
      " - Root ........ /home/vtec/projects/bio/metagentools \n",
      " - Data Dir .... /home/vtec/projects/bio/metagentools/data \n",
      " - Notebooks ... /home/vtec/projects/bio/metagentools/nbs\n"
     ]
    }
   ],
   "source": [
    "pfs = ProjectFileSystem()\n",
    "pfs.info()"
   ]
  },
  {
   "cell_type": "code",
   "execution_count": null,
   "metadata": {},
   "outputs": [],
   "source": [
    "# pfs.set_project_root('/home/vtec/projects/bio/metagentools');"
   ]
  },
  {
   "cell_type": "markdown",
   "metadata": {},
   "source": [
    "- `p2model`: path to file with saved original pretrained model\n",
    "- `p2virus_labels` path to file with virus names and labels mapping for original model\n",
    "- `p2simreads`: path to folder where reads files are located (FASTQ and ALN)"
   ]
  },
  {
   "cell_type": "code",
   "execution_count": null,
   "metadata": {},
   "outputs": [],
   "source": [
    "p2fasta = pfs.data / 'ncov_data/reads/yf/yf-mapped.fa'\n",
    "assert p2fasta.is_file(), f\"No file found at {p2fasta.absolute()}\""
   ]
  },
  {
   "cell_type": "code",
   "execution_count": null,
   "metadata": {},
   "outputs": [
    {
     "name": "stdout",
     "output_type": "stream",
     "text": [
      "reads\n",
      "  |--yf\n",
      "  |    |--yf-reads-10.fq (0)\n",
      "  |    |--yf-mapped.fa (1)\n"
     ]
    }
   ],
   "source": [
    "files_in_tree(path=p2fasta.parent);"
   ]
  },
  {
   "cell_type": "markdown",
   "metadata": {},
   "source": [
    "# 3. Load data and review"
   ]
  },
  {
   "cell_type": "code",
   "execution_count": null,
   "metadata": {},
   "outputs": [],
   "source": [
    "fasta = FastaFileReader(p2fasta)"
   ]
  },
  {
   "cell_type": "code",
   "execution_count": null,
   "metadata": {},
   "outputs": [
    {
     "name": "stdout",
     "output_type": "stream",
     "text": [
      "This file includes 11,736 reads, with the following format:\n",
      "\n",
      ">A00551:791:HFLNGDSX7:1:2247:19289:3270/2\n",
      "GGCCGATTAAAGTCCGAATTCGGTGGATCACCAGGTGGATGTGTGAGGCCCATGTAGCCC ... (150 bp)\n"
     ]
    }
   ],
   "source": [
    "fasta.reset_iterator()\n",
    "for i, fa_read in enumerate(fasta):\n",
    "    seq = fa_read['sequence']\n",
    "    defline = fa_read['definition line']\n",
    "\n",
    "print(f\"This file includes {i+1:,d} reads, with the following format:\\n\")\n",
    "print(f\"{defline}\\n{seq[:60]} ... ({len(seq)} bp)\")"
   ]
  },
  {
   "cell_type": "markdown",
   "metadata": {},
   "source": [
    "# 4. Conversion Loop"
   ]
  },
  {
   "cell_type": "code",
   "execution_count": null,
   "metadata": {},
   "outputs": [
    {
     "data": {
      "text/plain": [
       "PosixPath('/home/vtec/projects/bio/metagentools/data/ncov_data/reads/yf/yf-mapped.fq')"
      ]
     },
     "execution_count": null,
     "metadata": {},
     "output_type": "execute_result"
    }
   ],
   "source": [
    "p2fastq = p2fasta.parent / f\"{p2fasta.stem}.fq\"\n",
    "p2fastq.absolute()"
   ]
  },
  {
   "cell_type": "code",
   "execution_count": null,
   "metadata": {},
   "outputs": [
    {
     "data": {
      "application/vnd.jupyter.widget-view+json": {
       "model_id": "c1dfac88c9d5435c87f0eecf0203983d",
       "version_major": 2,
       "version_minor": 0
      },
      "text/plain": [
       "0it [00:00, ?it/s]"
      ]
     },
     "metadata": {},
     "output_type": "display_data"
    }
   ],
   "source": [
    "fasta.reset_iterator()\n",
    "with open(p2fastq, 'w') as fp:\n",
    "    for i, fa_read in tqdm(enumerate(fasta)):\n",
    "        fa_defline = fa_read['definition line']\n",
    "        seq = fa_read['sequence']\n",
    "        q_score = 'K' * len(seq)\n",
    "        fp.write(f\"@{fa_defline[1:]}\" + '\\n')\n",
    "        fp.write(seq + '\\n')\n",
    "        fp.write('+\\n')\n",
    "        fp.write(q_score + '\\n')"
   ]
  },
  {
   "cell_type": "code",
   "execution_count": null,
   "metadata": {},
   "outputs": [
    {
     "name": "stdout",
     "output_type": "stream",
     "text": [
      "\n",
      "Sequence 1:\n",
      "@A00551:791:HFLNGDSX7:1:2427:6262:35321/2\n",
      "CCCAGTTAGGATGTTGAACAAAAAGAAGAAAGTAAATCCTGTGTGCTAATTGAGGTGCATTGGTCTGCAAATCGAGTTGC ...\n",
      "\n",
      "Sequence 2:\n",
      "@A00551:791:HFLNGDSX7:1:2427:6180:35368/2\n",
      "CCCAGTTAGGATGTTGAACAAAAAGAAGAAAGTAAATCCTGTGTGCTAATTGAGGTGCATTGGTCTGCAAATCGAGTTGC ...\n",
      "\n",
      "Sequence 3:\n",
      "@A00551:791:HFLNGDSX7:1:2428:6406:5353/2\n",
      "CCCAGTTAGGATGTTGAACAAAAAGAAGAAAGTAAATCCTGTGTGCTAATTGAGGTGCATTGGTCTGCAAATCGAGTTGC ...\n",
      "\n",
      "Sequence 4:\n",
      "@A00551:791:HFLNGDSX7:1:1124:13404:31062/1\n",
      "CCAGGGTTTTACCCTGAGCTTTTCGACCAGACATTATTCTTGTCAGTTCTCTGCAAATCGAGTTGCTAGGCAATAAACAC ...\n"
     ]
    }
   ],
   "source": [
    "fastq = FastqFileReader(p2fastq)\n",
    "fastq.print_first_chunks()"
   ]
  },
  {
   "cell_type": "markdown",
   "metadata": {},
   "source": [
    "# New Section"
   ]
  },
  {
   "cell_type": "code",
   "execution_count": null,
   "metadata": {},
   "outputs": [],
   "source": []
  },
  {
   "cell_type": "code",
   "execution_count": null,
   "metadata": {},
   "outputs": [],
   "source": []
  },
  {
   "cell_type": "code",
   "execution_count": null,
   "metadata": {},
   "outputs": [],
   "source": []
  },
  {
   "cell_type": "markdown",
   "metadata": {},
   "source": [
    "## end of section"
   ]
  }
 ],
 "metadata": {
  "kernelspec": {
   "display_name": "python3",
   "language": "python",
   "name": "python3"
  }
 },
 "nbformat": 4,
 "nbformat_minor": 1
}
