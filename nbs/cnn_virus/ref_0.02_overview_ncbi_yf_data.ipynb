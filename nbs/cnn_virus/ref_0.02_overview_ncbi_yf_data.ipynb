{
 "cells": [
  {
   "cell_type": "markdown",
   "metadata": {},
   "source": [
    "# Review NCBI Yellow Fever (YF) Sequences and SimReads Data"
   ]
  },
  {
   "cell_type": "markdown",
   "metadata": {},
   "source": [
    "In this notebook, we review the yellow fever sequences retrieved from NCBI GenBank and the corresponding simulated reads generated with ART Illumina."
   ]
  },
  {
   "cell_type": "markdown",
   "metadata": {},
   "source": [
    "> Note: \n",
    ">\n",
    "> The notebook was built and tested to run locally but should also work on Colab or Kaggle. If on Colab, it assumes that the project shared gdrive directory is accessible through a shortcut called `Metagenomics` under the root of gdrive."
   ]
  },
  {
   "cell_type": "markdown",
   "metadata": {},
   "source": [
    "# 1. Imports and setup environment"
   ]
  },
  {
   "cell_type": "markdown",
   "metadata": {},
   "source": [
    "### Install and import packages"
   ]
  },
  {
   "cell_type": "code",
   "execution_count": null,
   "metadata": {},
   "outputs": [
    {
     "name": "stdout",
     "output_type": "stream",
     "text": [
      "`eccore` already installed\n",
      "`metagentorch` already installed\n"
     ]
    }
   ],
   "source": [
    "# Install required custom packages if not installed yet.\n",
    "import importlib.util\n",
    "if not importlib.util.find_spec('eccore'):\n",
    "    print('installing package: `eccore`')\n",
    "    ! pip install -qqU eccore\n",
    "else:\n",
    "    print('`eccore` already installed')\n",
    "if not importlib.util.find_spec('metagentorch'):\n",
    "    print('installing package: `metagentorch')\n",
    "    ! pip install -qqU metagentorch\n",
    "else:\n",
    "    print('`metagentorch` already installed')"
   ]
  },
  {
   "cell_type": "code",
   "execution_count": null,
   "metadata": {},
   "outputs": [
    {
     "name": "stdout",
     "output_type": "stream",
     "text": [
      "Set autoreload mode\n"
     ]
    }
   ],
   "source": [
    "# Import all required packages\n",
    "import matplotlib.pyplot as plt\n",
    "import numpy as np\n",
    "import pandas as pd\n",
    "\n",
    "from eccore.core import files_in_tree\n",
    "from eccore.ipython import nb_setup\n",
    "from pathlib import Path\n",
    "from pprint import pprint\n",
    "\n",
    "# Setup the notebook for development\n",
    "nb_setup()\n",
    "\n",
    "from metagentorch.cnn_virus.data import FastaFileReader, FastqFileReader, AlnFileReader\n",
    "from metagentorch.core import ProjectFileSystem"
   ]
  },
  {
   "cell_type": "markdown",
   "metadata": {},
   "source": [
    "# 2. Project file system"
   ]
  },
  {
   "cell_type": "markdown",
   "metadata": {},
   "source": [
    "This project adopts a unified file structure to make coding and colaboration easier. In addition, we can run the code locally (from a `project-root` directory) or in the cloud (colab or kaggle).\n",
    "\n",
    "The unified file structure when running localy is:\n",
    "```text\n",
    "    project-root   \n",
    "        |--- data\n",
    "        |      |--- CNN_Virus_data  (all data related to CNN Virus original paper)\n",
    "        |      |--- ncbi            (all data related to NCBI reference sequences)\n",
    "        |      |--- saved           (trained and finetuned models)\n",
    "        |      |--- ....            (raw and pre-processed data from various sources)  \n",
    "        |      \n",
    "        |--- nbs  (all reference and work notebooks)\n",
    "        |      |--- cnn_virus\n",
    "        |      |        |--- ref_n.n_notebooks.ipynb\n",
    "        |      |        |--- wip_n.n_notebooks.ipynb\n",
    "```\n",
    "\n",
    "When running on google colab, it is assumed that a google drive is mounted on the colab server instance, and that the google drive root includes a shortcut named `Metagenomics` and pointing to the project shared directory. The project shared directory is accessible [here](/https://drive.google.com/drive/folders/134uei5fmt08TpzhmjG4sW0FQ06kn2ZfZ) if your google account was given access permission."
   ]
  },
  {
   "cell_type": "markdown",
   "metadata": {},
   "source": [
    "To make access to the unified file system, `metagentools` provides a `ProjectFileSystem` class (see [documentation](https://vtecftwy.github.io/metagentools/core.html#projectfilesystem) for more info).\n",
    "\n",
    "Key folders and system information"
   ]
  },
  {
   "cell_type": "code",
   "execution_count": null,
   "metadata": {},
   "outputs": [
    {
     "name": "stdout",
     "output_type": "stream",
     "text": [
      "Running linux on local computer\n",
      "Device's home directory: /home/vtec\n",
      "Project file structure:\n",
      " - Root ........ /home/vtec/projects/bio/metagentorch \n",
      " - Data Dir .... /home/vtec/projects/bio/metagentorch/data \n",
      " - Notebooks ... /home/vtec/projects/bio/metagentorch/nbs\n"
     ]
    }
   ],
   "source": [
    "pfs = ProjectFileSystem()\n",
    "pfs.info()"
   ]
  },
  {
   "cell_type": "code",
   "execution_count": null,
   "metadata": {},
   "outputs": [
    {
     "data": {
      "text/html": [
       "<hr>"
      ],
      "text/plain": [
       "<IPython.core.display.HTML object>"
      ]
     },
     "metadata": {},
     "output_type": "display_data"
    },
    {
     "data": {
      "text/markdown": [
       "ReadMe file for directory `data`:"
      ],
      "text/plain": [
       "<IPython.core.display.Markdown object>"
      ]
     },
     "metadata": {},
     "output_type": "display_data"
    },
    {
     "data": {
      "text/html": [
       "<hr>"
      ],
      "text/plain": [
       "<IPython.core.display.HTML object>"
      ]
     },
     "metadata": {},
     "output_type": "display_data"
    },
    {
     "data": {
      "text/markdown": [
       "### Data structure for this project\n",
       "This directory includes all the data required for the project.\n",
       "\n",
       "```text\n",
       "data\n",
       " |--- CNN_Virus_data \n",
       " |--- ncbi                \n",
       " |--- saved         \n",
       " |--- yf-reads\n",
       " |--- ....           \n",
       "     \n",
       "```\n",
       "#### Sub-directories\n",
       "- `CNN_Virus_data`: includes all the data related to the original CNN Virus paper, i.e. training data and validation data in a format that can be used by the CNN Virus code.\n",
       "- `ncbi`: includes data related to the use of viral sequences from NCBI: reference sequences, simulated reads, inference datasets, inference results.\n",
       "- `saved`: includes model saved parameters and preprocessing datasets.\n",
       "- `yf-reads`: includes all data related to real yellow fever reads, from \"wet\" samples\n",
       "\n",
       "Also available on AWS S3 at `https://s3.ap-southeast-1.amazonaws.com/bio.cnn-virus.data/data/...`"
      ],
      "text/plain": [
       "<IPython.core.display.Markdown object>"
      ]
     },
     "metadata": {},
     "output_type": "display_data"
    },
    {
     "data": {
      "text/html": [
       "<hr>"
      ],
      "text/plain": [
       "<IPython.core.display.HTML object>"
      ]
     },
     "metadata": {},
     "output_type": "display_data"
    }
   ],
   "source": [
    "pfs.readme()"
   ]
  },
  {
   "cell_type": "markdown",
   "metadata": {},
   "source": [
    "## Explore files in NCBI data directory"
   ]
  },
  {
   "cell_type": "code",
   "execution_count": null,
   "metadata": {},
   "outputs": [
    {
     "data": {
      "text/html": [
       "<hr>"
      ],
      "text/plain": [
       "<IPython.core.display.HTML object>"
      ]
     },
     "metadata": {},
     "output_type": "display_data"
    },
    {
     "data": {
      "text/markdown": [
       "ReadMe file for directory `data/ncbi`:"
      ],
      "text/plain": [
       "<IPython.core.display.Markdown object>"
      ]
     },
     "metadata": {},
     "output_type": "display_data"
    },
    {
     "data": {
      "text/html": [
       "<hr>"
      ],
      "text/plain": [
       "<IPython.core.display.HTML object>"
      ]
     },
     "metadata": {},
     "output_type": "display_data"
    },
    {
     "data": {
      "text/markdown": [
       "### NCBI Data\n",
       "\n",
       "This directory includes all data related to the work done with reference sequences from NCBI. \n",
       "\n",
       "The data is organized in the following subfolders:\n",
       "\n",
       "- `refsequences`: reference CoV sequences downloaded from NCBI, and related metadata\n",
       "- `simreads`: all data from simulated reads, using ART Illumina simulator and the reference sequences\n",
       "- `infer_results`: results from the inference using models with the simulated reads\n",
       "- `ds`: datasets in proper format for training or inference/prediction using the CNN Virus model\n"
      ],
      "text/plain": [
       "<IPython.core.display.Markdown object>"
      ]
     },
     "metadata": {},
     "output_type": "display_data"
    },
    {
     "data": {
      "text/html": [
       "<hr>"
      ],
      "text/plain": [
       "<IPython.core.display.HTML object>"
      ]
     },
     "metadata": {},
     "output_type": "display_data"
    }
   ],
   "source": [
    "pfs.readme(dir_path=pfs.data/'ncbi');"
   ]
  },
  {
   "cell_type": "code",
   "execution_count": null,
   "metadata": {},
   "outputs": [
    {
     "data": {
      "text/html": [
       "<hr>"
      ],
      "text/plain": [
       "<IPython.core.display.HTML object>"
      ]
     },
     "metadata": {},
     "output_type": "display_data"
    },
    {
     "data": {
      "text/markdown": [
       "ReadMe file for directory `data/ncbi/refsequences`:"
      ],
      "text/plain": [
       "<IPython.core.display.Markdown object>"
      ]
     },
     "metadata": {},
     "output_type": "display_data"
    },
    {
     "data": {
      "text/html": [
       "<hr>"
      ],
      "text/plain": [
       "<IPython.core.display.HTML object>"
      ]
     },
     "metadata": {},
     "output_type": "display_data"
    },
    {
     "data": {
      "text/markdown": [
       "### NCBI Reference Sequences\n",
       "\n",
       "This directory includes the reference sequences from NCBI, for each virus group. \n",
       "\n",
       "Each group of viruses is grouped into one directory:\n",
       "- `cov`: all reference sequences and related metadata files for corona (sars and mers)\n",
       "- `mRhiFer1`:  a reference sequence different from CoV and YF to test false positive predictions\n",
       "- `yf`: all reference sequences and related metadata files for yellow fever\n"
      ],
      "text/plain": [
       "<IPython.core.display.Markdown object>"
      ]
     },
     "metadata": {},
     "output_type": "display_data"
    },
    {
     "data": {
      "text/html": [
       "<hr>"
      ],
      "text/plain": [
       "<IPython.core.display.HTML object>"
      ]
     },
     "metadata": {},
     "output_type": "display_data"
    },
    {
     "name": "stdout",
     "output_type": "stream",
     "text": [
      "ncbi\n",
      "  |--refsequences\n",
      "  |    |--readme.md (0)\n",
      "  |    |--mRhiFer1\n",
      "  |    |    |--Rhinolophus_ferrumequinum.mRhiFer1_v1.p.dna_rm.primary_assembly.1.fa (1)\n",
      "  |    |    |--Rhinolophus_ferrumequinum.mRhiFer1_v1.p.dna.primary_assembly.1.fa.gz (2)\n",
      "  |    |    |--Rhinolophus_ferrumequinum.mRhiFer1_v1.p.dna_rm.primary_assembly.1.clean.fa (3)\n",
      "  |    |    |--readme.md (4)\n",
      "  |    |    |--Rhinolophus_ferrumequinum.mRhiFer1_v1.p.dna_rm.primary_assembly.1.fa.gz (5)\n",
      "  |    |--yf\n",
      "  |    |    |--yf_1971_angola.fa (6)\n",
      "  |    |    |--yf_2023_yellow_fever.fa (7)\n",
      "  |    |    |--yf_2023_yellow_fever_with_missing_bases.fa (8)\n",
      "  |    |    |--yf_2023_yellow_fever_aligned.fa (9)\n",
      "  |    |    |--yf_2023_multiple_alignment_original.fa (10)\n",
      "  |    |    |--readme.md (11)\n",
      "  |    |    |--yf_NC_002031_full_sequence.fa (12)\n",
      "  |    |--cov\n",
      "  |    |    |--cov_refseq_original.fa (13)\n",
      "  |    |    |--cov_original_cnn_sequences.json (14)\n",
      "  |    |    |--cov_refseq_002-seqs.fa (15)\n",
      "  |    |    |--cov_refseq_025-seqs.fa (16)\n",
      "  |    |    |--readme.md (17)\n",
      "  |    |    |--cov_refseq_001-seq2.fa (18)\n",
      "  |    |    |--taxonomyid-label-mapping.json (19)\n",
      "  |    |    |--cov_refseq_010-seqs.fa (20)\n",
      "  |    |    |--cov_refseq_list.txt (21)\n",
      "  |    |    |--accession-label-mapping.json (22)\n",
      "  |    |    |--cov_refseq.fa (23)\n",
      "  |    |    |--cov_refseq_001-seq1.fa (24)\n",
      "  |    |    |--cov_refseq_100-seqs.fa (25)\n",
      "====================================================================================================\n"
     ]
    },
    {
     "data": {
      "text/html": [
       "<hr>"
      ],
      "text/plain": [
       "<IPython.core.display.HTML object>"
      ]
     },
     "metadata": {},
     "output_type": "display_data"
    },
    {
     "data": {
      "text/markdown": [
       "ReadMe file for directory `data/ncbi/simreads`:"
      ],
      "text/plain": [
       "<IPython.core.display.Markdown object>"
      ]
     },
     "metadata": {},
     "output_type": "display_data"
    },
    {
     "data": {
      "text/html": [
       "<hr>"
      ],
      "text/plain": [
       "<IPython.core.display.HTML object>"
      ]
     },
     "metadata": {},
     "output_type": "display_data"
    },
    {
     "data": {
      "text/markdown": [
       "### NCBI simulated reads\n",
       "This directory includes all sets of simulated read sequence files generated from NCBI viral sequences using  ARC Illumina. \n",
       "\n",
       "```ascii\n",
       "this-directory\n",
       "    |--cov\n",
       "    |    |\n",
       "    |    |--single_10seq_50bp\n",
       "    |    |    |--single_10seq_50bp.fq\n",
       "    |    |    |--single_10seq_50bp.alnEnd\n",
       "    |    |-- ...\n",
       "    |    |--single_100seq_150bp\n",
       "    |    |    |--single_100seq_150bp.fq\n",
       "    |    |    |--single_100seq_150bp.aln\n",
       "    |    |--paired_100seq_50bp\n",
       "    |    |    |--paired_100seq_50bp2.aln\n",
       "    |    |    |--paired_100seq_50bp1.aln\n",
       "    |    |    |--paired_100seq_50bp2.fq\n",
       "    |    |    |--paired_100seq_50bp1.fq\n",
       "    |    |-- ...\n",
       "    |    |\n",
       "    |---yf\n",
       "    |    |\n",
       "    |    |--yf_AY968064-single-150bp\n",
       "    |    |    |--yf_AY968064-single-1seq-150bp.fq\n",
       "    |    |    |--yf_AY968064-single-1seq-150bp.aln\n",
       "    |    |\n",
       "    |--mRhiFer1\n",
       "    |    |--mRhiFer1_v1.p.dna_rm.primary_assembly.1\n",
       "    |    |    |--mRhiFer1_v1.p.dna_rm.primary_assembly.1.fq\n",
       "    |    |    |--mRhiFer1_v1.p.dna_rm.primary_assembly.1.aln\n",
       "    |    |\n",
       "\n",
       "```\n",
       "\n",
       "This directory includes several subdirectories, each for one virus, e.g. `cov` for corona, `yf` for yellow fever.\n",
       "\n",
       "In each virus subdirectory, several simreads directory includes simulated reads with various parameters, named as `<method>_<nb-seq>_<nb-bp>` where\"\n",
       "- `<method>` is either `single` or `paired` depending on the simulation method\n",
       "- `<nb-seq>` is the number of reference sequences used for simulation, and refers to the `fa` file used\n",
       "- `<nb-bp>` is the number of base pairs used to simulate reads\n",
       "\n",
       "\n",
       "Each sub-directory includes simreads files made using a simulation method and a specific number of reference sequences.\n",
       "- `xxx.fq` and `xxx.aln` files when method is `single`\n",
       "- `xxx1.fq`, `xxx2.fq`, `xxx1.aln` and `xxx2.aln` files when method is `paired`.\n",
       "\n",
       "Example:\n",
       "- `paired_10seq_50bp` means that the simreads were generated by using the `paired` method to simulate 50-bp reads, and using the `fa` file `cov_virus_sequences_010-seqs.fa`.\n",
       "- `single_100seq_50bp` means that the simreads were generated by using the `single` method to simulate 50-bp reads, and using the `fa` file `cov_virus_sequences_100-seqs.fa`. Note that this generated 20,660,104 reads !\n",
       "\n",
       "#### Simread file formats\n",
       "\n",
       "Simulated reads information is split between two files:\n",
       "- **FASTQ** (`.fq`) files providing the read sequences and their ASCII quality scores\n",
       "- **ALN** (`.aln`) files with alignment information\n",
       "\n",
       "##### FASTQ (`.fq`)\n",
       "FASTQ files generated by ART Illumina have the following structure (showing 5 reads), with 4 lines for each read:\n",
       "\n",
       "```ascii\n",
       "@2591237:ncbi:1-60400\n",
       "ACAACTCCTATTCGTAGTTGAAGTTGTTGACAAATACTTTGATTGTTACG\n",
       "+\n",
       "CCCBCGFGBGGGGGGGBGGGGGGGGG>GGG1G=/GGGGGGGGGGGGGGGG\n",
       "@2591237:ncbi:1-60399\n",
       "GATCAATGTGGCATCTACAATACAGACAGCATGAAGCACCACCAAAGGAC\n",
       "+\n",
       "BCBCCFGGGGGGGG1CGGGG<GGBGGGGGFGCGGGGGGDGGG/GG1GGGG\n",
       "@2591237:ncbi:1-60398\n",
       "ATCTACCAGTGGTAGATGGGTTCTTAATAATGAACATTATAGAGCTCTAC\n",
       "+\n",
       "CCCCCGGGEGG1GGF1G/GGEGGGGGGGGGGGGFFGGGGGGGGGGDGGDG\n",
       "@2591237:ncbi:1-60397\n",
       "CGTAAAGTAGAGGCTGTATGGTAGCTAGCACAAATGCCAGCACCAATAGG\n",
       "+\n",
       "BCCCCGGGFGGGGGGFGGGGFGG1GGGGGGG>GG1GGGGGGGGGGE<GGG\n",
       "@2591237:ncbi:1-60396\n",
       "GGTATCGGGTATCTCCTGCATCAATGCAAGGTCTTACAAAGATAAATACT\n",
       "+\n",
       "CBCCCGGG@CGGGGGGGGGGGG=GFGGGGDGGGFG1GGGGGGGG@GGGGG\n",
       "```\n",
       "The following information can be parsed from the each read sequence in the FASTQ file:\n",
       "\n",
       "- Line 1: `readid`, a unique ID for the read, under for format `@readid` \n",
       "- Line 2: `readseq`, the sequence of the read\n",
       "- Line 3: a separator `+`\n",
       "- Line 4: `read_qscores`, the base quality scores encoded in ASCII \n",
       "\n",
       "Example:\n",
       "```\n",
       "@2591237:ncbi:1-60400\n",
       "ACAACTCCTATTCGTAGTTGAAGTTGTTGACAAATACTTTGATTGTTACG\n",
       "+\n",
       "CCCBCGFGBGGGGGGGBGGGGGGGGG>GGG1G=/GGGGGGGGGGGGGGGG\n",
       "```\n",
       "- `readid` = `2591237:ncbi:1-60400`\n",
       "- `readseq` = `ACAACTCCTATTCGTAGTTGAAGTTGTTGACAAATACTTTGATTGTTACG`, a 50 bp read\n",
       "- `read_qscores` = `CCCBCGFGBGGGGGGGBGGGGGGGGG>GGG1G=/GGGGGGGGGGGGGGGG`\n",
       "\n",
       "\n",
       "#### ALN (`.aln`) \n",
       "ALN files generated by ART Illumina consist of :\n",
       "- a header with the ART-Ilumina command used for the simulation (`@CM`) and info on each of the reference sequences used for the simulations (`@SQ`). Header always starts with `##ART_Illumina` and ends with `##Header End` :\n",
       "- the body with 3 lines for each read:\n",
       "    1. definition line with `readid`, \n",
       "        - reference sequence identification number `refseqid`, \n",
       "        - the position in the read in the reference sequence `aln_start_pos` \n",
       "        - the strand the read was taken from `ref_seq_strand`. `+` for coding strand and `-` for template strand\n",
       "    2. aligned reference sequence, that is the sequence segment in the original reference corresponding to the read\n",
       "    3. aligned read sequence, that is the simmulated read sequence, where each bp corresponds to the reference sequence bp in the same position.\n",
       "\n",
       "Example of a ALN file generated by ART Illumina (showing 5 reads):\n",
       "\n",
       "```ascii\n",
       "##ART_Illumina    read_length    50\n",
       "@CM    /bin/art_illumina -i /home/vtec/projects/bio/metagentools/data/cov_data/cov_virus_sequences_ten.fa -ss HS25 -l 50 -f 100 -o /home/vtec/projects/bio/metagentools/data/cov_simreads/single_10seq_50bp/single_10seq_50bp -rs 1674660835\n",
       "@SQ    2591237:ncbi:1 1   MK211378    2591237    ncbi    1     Coronavirus BtRs-BetaCoV/YN2018D    30213\n",
       "@SQ    11128:ncbi:2   2   LC494191    11128    ncbi    2     Bovine coronavirus    30942\n",
       "@SQ    31631:ncbi:3   3   KY967361    31631    ncbi    3     Human coronavirus OC43        30661\n",
       "@SQ    277944:ncbi:4  4   LC654455    277944    ncbi    4     Human coronavirus NL63    27516\n",
       "@SQ    11120:ncbi:5   5   MN987231    11120    ncbi    5     Infectious bronchitis virus    27617\n",
       "@SQ    28295:ncbi:6   6   KU893866    28295    ncbi    6     Porcine epidemic diarrhea virus    28043\n",
       "@SQ    28295:ncbi:7   7   KJ645638    28295    ncbi    7     Porcine epidemic diarrhea virus    27998\n",
       "@SQ    28295:ncbi:8   8   KJ645678    28295    ncbi    8     Porcine epidemic diarrhea virus    27998\n",
       "@SQ    28295:ncbi:9   9   KR873434    28295    ncbi    9     Porcine epidemic diarrhea virus    28038\n",
       "@SQ    1699095:ncbi:10 10  KT368904    1699095    ncbi    10     Camel alphacoronavirus    27395\n",
       "##Header End\n",
       ">2591237:ncbi:1    2591237:ncbi:1-60400    14770    +\n",
       "ACAACTCCTATTCGTAGTTGAAGTTGTTGACAAATACTTTGATTGTTACG\n",
       "ACAACTCCTATTCGTAGTTGAAGTTGTTGACAAATACTTTGATTGTTACG\n",
       ">2591237:ncbi:1    2591237:ncbi:1-60399    17012    -\n",
       "GATCAATGTGGCATCTACAATACAGACAGCATGAAGCACCACCAAAGGAC\n",
       "GATCAATGTGGCATCTACAATACAGACAGCATGAAGCACCACCAAAGGAC\n",
       ">2591237:ncbi:1    2591237:ncbi:1-60398    9188    +\n",
       "ATCTACCAGTGGTAGATGGGTTCTTAATAATGAACATTATAGAGCTCTAC\n",
       "ATCTACCAGTGGTAGATGGGTTCTTAATAATGAACATTATAGAGCTCTAC\n",
       ".....\n",
       "```"
      ],
      "text/plain": [
       "<IPython.core.display.Markdown object>"
      ]
     },
     "metadata": {},
     "output_type": "display_data"
    },
    {
     "data": {
      "text/html": [
       "<hr>"
      ],
      "text/plain": [
       "<IPython.core.display.HTML object>"
      ]
     },
     "metadata": {},
     "output_type": "display_data"
    },
    {
     "name": "stdout",
     "output_type": "stream",
     "text": [
      "ncbi\n",
      "  |--simreads\n",
      "  |    |--readme.md (0)\n",
      "  |    |--mRhiFer1\n",
      "  |    |    |--readme.md (1)\n",
      "  |    |--yf\n",
      "  |    |    |--readme.md (2)\n",
      "  |    |--cov\n",
      "  |    |    |--readme.md (3)\n",
      "====================================================================================================\n"
     ]
    },
    {
     "data": {
      "text/html": [
       "<hr>"
      ],
      "text/plain": [
       "<IPython.core.display.HTML object>"
      ]
     },
     "metadata": {},
     "output_type": "display_data"
    },
    {
     "data": {
      "text/markdown": [
       "ReadMe file for directory `data/ncbi/infer_results`:"
      ],
      "text/plain": [
       "<IPython.core.display.Markdown object>"
      ]
     },
     "metadata": {},
     "output_type": "display_data"
    },
    {
     "data": {
      "text/html": [
       "<hr>"
      ],
      "text/plain": [
       "<IPython.core.display.HTML object>"
      ]
     },
     "metadata": {},
     "output_type": "display_data"
    },
    {
     "data": {
      "text/markdown": [
       "#### Inference Result Files\n",
       "\n",
       "Each directory includes a set of prediction/inference result files.\n",
       "\n",
       "```shell\n",
       "ncbi\n",
       "  |--infer_results\n",
       "  |    |--readme.md\n",
       "  |    |--cov-ncbi\n",
       "  |    |    |--readme.md\n",
       "  |    |    |--cnn_virus   (directory with results in parquet format)\n",
       "  |    |    |--csv         (directory with results in csv format)\n",
       "  |    |    |--xlsx        (directory with results in xlsx format)\n",
       "  |    |--yf-ncbi\n",
       "  |    |    |--readme.md\n",
       "  |    |    |--local-inf   (directory with results per sequence in csv format)\n",
       "  |    |    |--single_1seq_150bp.db          (inference results in a sqlite database)\n",
       "  |    |    |--single_1seq_150bp-backup.db   (inference results in a sqlite database)\n",
       "  |    |    |--selected_test.db              (inference results in a sqlite database)\n",
       "```"
      ],
      "text/plain": [
       "<IPython.core.display.Markdown object>"
      ]
     },
     "metadata": {},
     "output_type": "display_data"
    },
    {
     "data": {
      "text/html": [
       "<hr>"
      ],
      "text/plain": [
       "<IPython.core.display.HTML object>"
      ]
     },
     "metadata": {},
     "output_type": "display_data"
    },
    {
     "name": "stdout",
     "output_type": "stream",
     "text": [
      "ncbi\n",
      "  |--infer_results\n",
      "  |    |--readme.md (0)\n",
      "  |    |--cov-ncbi\n",
      "  |    |    |--readme.md (1)\n",
      "  |    |--yf-ncbi\n",
      "  |    |    |--readme.md (2)\n",
      "  |    |    |--single_1seq_150bp.db (3)\n",
      "  |    |    |--single_1seq_150bp-backup.db (4)\n",
      "  |    |    |--selected_test.db (5)\n",
      "====================================================================================================\n"
     ]
    }
   ],
   "source": [
    "for d in ['refsequences', 'simreads', 'infer_results']:\n",
    "    path = pfs.data / 'ncbi' / d\n",
    "    pfs.readme(dir_path=path)\n",
    "    # print(f\"{'-'*100}\")\n",
    "    files_in_tree(path)\n",
    "    print(f\"{'='*100}\")"
   ]
  },
  {
   "cell_type": "markdown",
   "metadata": {},
   "source": [
    "# 3. Review fasta, fastq and aln files"
   ]
  },
  {
   "cell_type": "markdown",
   "metadata": {},
   "source": [
    "## Setup paths"
   ]
  },
  {
   "cell_type": "markdown",
   "metadata": {},
   "source": [
    "- `p2refseqs`: path to a reference sequence file (FASTA)\n",
    "- `p2simreads`: path to folder where reads files are located (FASTQ and ALN)"
   ]
  },
  {
   "cell_type": "code",
   "execution_count": null,
   "metadata": {},
   "outputs": [],
   "source": [
    "p2refseqs = pfs.data / 'ncbi/refsequences/yf/yf_2023_yellow_fever.fa'\n",
    "assert p2refseqs.is_file(), f\"No file found at {p2refseqs.absolute()}\"\n",
    "\n",
    "p2simreads = pfs.data / 'ncbi/simreads/yf/single_69seq_150bp'\n",
    "assert p2simreads.is_dir(), f\"No directory found at {p2simreads.absolute()}\""
   ]
  },
  {
   "cell_type": "markdown",
   "metadata": {},
   "source": [
    "## Explore Reference Files (FASTA)"
   ]
  },
  {
   "cell_type": "markdown",
   "metadata": {},
   "source": [
    "`FastaFileReader` is a class to make reading and accessing fasta file information easier"
   ]
  },
  {
   "cell_type": "code",
   "execution_count": null,
   "metadata": {},
   "outputs": [],
   "source": [
    "fasta = FastaFileReader(path=p2refseqs)"
   ]
  },
  {
   "cell_type": "code",
   "execution_count": null,
   "metadata": {},
   "outputs": [
    {
     "name": "stdout",
     "output_type": "stream",
     "text": [
      "\n",
      "Sequence 1:\n",
      ">11089:ncbi:1\t1\tAY968064\t11089\tncbi\tAngola_1971\n",
      "ATGTCTGGTCGAAAAGCTCAGGGTAAAACCCTGGGCGTCAATATGGTAAGACGAGGGGTTCGCTCCTTGTCAAACAAAAT ...\n",
      "\n",
      "Sequence 2:\n",
      ">11089:ncbi:2\t2\tU54798\t11089\tncbi\tIvory_Coast_1982\n",
      "ATGTCTGGTCGCAAAGCTCAGGGAAAAACCCTGGGCGTCAATATGGTTCGACGGGGAGTCCGCTCCTTGTCAAACAAAAT ...\n",
      "\n",
      "Sequence 3:\n",
      ">11089:ncbi:3\t3\tDQ235229\t11089\tncbi\tEthiopia_1961\n",
      "ATGTCTGGTCGAAAAGCTCAGGGTAAAACCCTGGGCGTCAATATGGTAAGACGGGGAGCACGCTCCTTGTCAAACAAAAT ...\n"
     ]
    }
   ],
   "source": [
    "fasta.print_first_chunks(nchunks=3)"
   ]
  },
  {
   "cell_type": "markdown",
   "metadata": {},
   "source": [
    "Access each sequence (definition line and sequence) one by one"
   ]
  },
  {
   "cell_type": "code",
   "execution_count": null,
   "metadata": {},
   "outputs": [
    {
     "name": "stdout",
     "output_type": "stream",
     "text": [
      "Definition Line for sequence 1:\n",
      ">11089:ncbi:1\t1\tAY968064\t11089\tncbi\tAngola_1971\n",
      "10,234 bases:\n",
      "ATGTCTGGTCGAAAAGCTCAGGGTAAAACCCTGGGCGTCAATATGGTAAGACGAGGGGTTCGCTCCTTGTCAAACAAAATAAAACAAAAAACAAAACAGATTGGAAACAGACCTGGCCCTTCAAGAGGTGTTCAAGGATTTATTTTCTTCTTTTTGTTTAACATTCTGACTGGGAAAAAGTTGACTGCTCATCTAAAAAAACTTTGGAGGATGCTTGATCCAAGGCAGGGACTTGCTGTACTGCGGAAGGTCAAAAGAGTTGTAGCTAGCTTAATGAGAGGACTGTCTTCCAGGAAACGTAGATCCAATGAAATGGCCTTGTTTCCACTCTTGTTACTGGGTTTGTTGGCTCTATCAGGAGGAGTGACCCTCGTCAGAAAGAACAGATGGTTGCTCTTGAATGTAACTGCTGAAGATCTGGGGAAAACGTTTTCAGTGGGAACTGGGAATTGCACCACGAATATTCTGGAAGCAAAATACTGGTGCCCCGACTCAATGGAGTACAATTGTCCCAATCTCAGTCCAAGAGAAGAGCCAGATGACATAGATTGCTGGTGTTATGGAGTGGAAAATGTCAGAGTGGCCTATGGAAGATGTGATGCGGTAGGGCGATCAAAACGTTCTAGGAGAGCGATTGATCTACCCACACATGAGAACCATGGACTAAAGACTCGGCAGGAGAAGTGGATGACTGGCAGAATGGGTGAGAGGCAGCTCCAGAAGATTGAAAGATGGCTGGTTAGGAATCCATTTTTTGCGGTCACAGCATTGGCAATAGCCTATCTGGTGGGTAACAACACGACGCAACGAGTGGTAATAGCACTACTGGTTCTAGCGGTTGGTCCAGCGTACTCTGCCCATTGCATAGGGATAACCGACAGAGATTTCATTGAAGGTGTCCATGGGGGCACTTGGGTGTCAGCCACTCTGGAGCAGGACAAATGCGTGACTGTAATGGCCCCTGACAAACCTTCTCTAGACATCTCACTACAGACAGTGGCAATCGATGGACCGGCTGAAGCGAGGAAGGTTTGCTACAGTGCAGTCCTAACCCATGTGAAAATCAATGACAAATGCCCGAGCACTGGTGAGGCTCACCTTGCAGAGGAAAATGATGGTGACAATGCTTGCAAACGGACATATTCTGACAGAGGCTGGGGCAATGGCTGTGGTCTATTTGGGAAAGGGAGCATTGTGGCTTGTGCTAAGTTCACATGTGCCAAATCTATGAGTCTCTTTGAGGTGGATCAGACCAAGATTCAATATGTCATCAGGGCTCAGCTCCATGTGGGTGCCAAACAGGAAAACTGGAACACAGACATAAAAACGCTGAAATTTGATGCTCTTTCTGGCTCACAGGAGGCTGAATTCACTGGTTATGGAAAAGCAACACTGGAGTGTCAGGTCCAGACTGCCGTGGACTTTGGGAACAGCTACATCGCAGAGATGGAAAAAGATAGCTGGATCGTTGACCGCCAATGGGCACAGGACTTGACACTGCCATGGCAGAGTGGGAGTGGTGGCATATGGAGAGAAATGCACCACCTTGTTGAGTTTGAGCCCCCACATGCTGCCACAATTAGGGTGCTGGCCTTGGGCAATCAAGAAGGCTCCTTGAAGACCGCTCTCACAGGCGCCATGCGCGTCACCAAGGATGAGAATGACAACAACTTGTACAAACTGCACGGTGGTCACGTCTCCTGTAGAGTGAAACTGTCAGCTCTCACTCTCAAAGGAACATCCTACAAGATGTGTACAGACAAGATGTCATTTGTCAAGAATCCGACGGATACAGGGCATGGCACAGTTGTCATGCAAGTAAAGGTCCCCAAAGGGGCCCCATGCAAGATTCCCGTGATTGTGGCAGATGACCTAACGGCTGCGGTGAACAAAGGCATCTTGGTCACTGTCAATCCTATTGCATCCACAAATGATGATGAAGTTCTGATTGAGGTCAATCCCCCTTTTGGGGATAGCTACATCATAGTTGGGACTGGAGATTCACGACTGACCTATCAGTGGCACAAAGAAGGGAGTTCAATAGGAAAATTGTTTACACAGACAATGAAAGGAGCTGAACGTCTTGCAGTGATGGGTGATGCTGCTTGGGATTTTAGTTCTGCTGGGGGGTTCTTCACATCTGTGGGAAAAGGAATCCATACCGTGTTTGGCTCGGCCTTCCAGGGGCTGTTTGGTGGCTTGAGTTGGATTACGAAAGTCATCATGGGAGCCGTACTCATCTGGGTGGGAATAAACACCCGCAACATGACCATGTCCATGTCCATGATCTTGGTAGGTGTGATCATGATGTTTCTTTCATTGGGAGTTGGGGCTGACCAAGGATGTGCTGTCAACTTTGGGAAACGCGAGCTCAAATGCGGAGATGGCATCTTTGTGTTTAGAGACTCTGATGATTGGCTCACAAAGTACTCATACTATCCTGAAGACCCTGTCAAATTGGCATCCATTATTAAAGCCTCCCACGAGGAGGGCAAATGTGGATTGAATTCAGTTGATTCCCTCGAACACGAGATGTGGAGGAGTAGGGCGGATGAGATCAACGCCATTTTTGAAGAAAATGAGGTAGACATCTCGGTCGTCGTCCAAGACCCAAAGAACATCTATCAAAGAGGGACCCACCCGTTCTCAAGGATCCGTGACGGATTGCAGTATGGGTGGAAGACCTGGGGAAAAAACCTTGTTTTCTCACCAGGGAGGAAGAACGGCAGCTTCATCATTGACGGGAAGTCACGAAAGGAGTGCCCCTTCTCTAACAGAGTGTGGAACTCATTCCAGATTGAGGAGTTTGGCATGGGGGTCTTCACAACACGAGTTTTTATGGACGCGACCTTTGACTATTCAGTGGACTGTGATGGAGCCATCCTGGGTGCAGCGGTAAATGGAAAGAAGAGTGCCCATGGATCACCCACATTTTGGATGGGAAGTCATGAAGTCAATGGAACGTGGATGATACACACTCTGGAAACTCTTGATTACAAGGAGTGTGAATGGCCACTGACACACACTATTGGAACCTCAGTAGAAGAAAGTGACATGTTCATGCCCCGGTCCATTGGAGGTCCGGTGAGCTCCCACAACCGCATCCCGGGTTACAAGGTGCAAACTAATGGGCCATGGATGCAAGTCCCTCTGGAAGTAAAAAGGGAAGTCTGTCCAGGGACAAGCGTGGTGGTGGACTCCAACTGTGATGGACGTGGAAAATCAACAAGATCAACCACTGACAGTGGGAAAATAATCCCGGAATGGTGTTGCAGATCCTGTACCATGCCTCCAGTCAGCTTCCATGGAAGCGATGGTTGTTGGTATCCTATGGAGATCAGACCCATGAAAACATCCGACAGCCACCTAGTGAGGTCCTGGGTGACTGCAGGAGAAGTTCATGCAGTACCCTTTGGGCTGGTGAGCATGATGATTGCCATGGAGGTGGTGTTGCGCAGAAGGCAAGGACCAAAACAAATGCTGGTAGGAGGAGTTGTGCTGCTTGGAGCGATGTTAGTGGGACAAGTCACAGTCTTAGACCTTGTGAAGTTTGTTGTGGCAGTGGGATTGCACTTCCATGAGATTAACAACGGAGGAGATGCCATGTACATGGCATTAATTGCCAGCTTTTCCATCCGGCCAGGCCTGCTCATGGGCTTTGGGCTGCGCACACTGTGGAGTCCTCGGGAGCGACTTGTAATGGCATTTGGAGCAGCCATGGTTGAGATTGCCCTAGGTGGAATGATGGGTGGGCTTTGGCAGTACTTGAACGCCGTTTCACTGTGTGTGCTCACCATAAATGCAATCTCATCAAGGAAGGCCTCAAATATGATCCTCCCCCTGATGGCACTCATGACTCCCATGACAATGCATGAGGTGAGGATGGCGACGATGCTGTTCTGCACTGTTGTCATAATAGGGGTGCTTCATCAGAATTCAAAAGACACATCTATGCAAAAGACCATTCCCATTGTAGCCCTGACACTGACCTCATACATGGGCTTGACCCAGCCCTTTCTAGGGCTGTGTGCATACATGTCCACGCAGGTGTTTGGCAGAAGGAGTATACCTGTGAATGAAGCCTTGGCAGCGGCTGGCTTGGTGGGAGTGCTAGCAGGGCTAGCCTTCCAAGACATGGAAAACTTTTTGGGTCCAATAGCGGTGGGGGGGATCCTCATGATGCTAGTTAGTGTGGCAGGGAGAGTTGATGGACTAGAGCTCAAGAAACTTGGTGAAATCTCCTGGGAAGAAGAAGCTGAAATAAGCGGAAGCTCTAGCCGCTATGATGTGGCACTCAGTGAGCAGGGTGAATTTAAACTCCTCTCAGAGGACAAAGTGCCCTGGGACCAGATAGTAATGACATCCCTAGCCCTCGTGGGAGCAGCCATACATCCATTTGCCCTCTTGCTGGTCCTGGGAGGATGGATCCTGCACATTAAAGGTGCTAGGAGGAGTGGGGATGTTCTTTGGGACATTCCCACGCCAAAGGTGATTGAGGAATGTGAGCACCTGGAGGATGGAATCTATGGCATATTCCAGTCAACCTTCCTTGGAGCCTCGCAGCGAGGTGTTGGAGTGGCGCAGGGAGGGGTCTTCCACACAATGTGGCATGTCACTAGGGGAGCATTCCTCTTGAGGAATGGAAAGAAACTGGTTCCGTCTTGGGCTTCTGTGAAGGAAGATCTGGTGGCTTATGGTGGTTCCTGGAAACTAGACGGGAGATGGGATGGTGAGGAGGAAGTCCAACTCATCGCTGCTGTGCCTGGAAAATCTGTTGTCAACGTTCAAACAAAACCAAGCTTGTTCAGAGTGAAAAATGGTGGTGAGATTGGAGCAGTTGCTCTGGACTACCCCAGTGGAACCTCAGGCTCCCCCATTGTGAACCGAAATGGTGAAGTGGTCGGGCTCTATGGCAATGGAATTCTGGTGGGTGATAACTCCTTTGTGTCTGCCATCTCACAAACTGAATTGAAGGAAGAATCCAAAGAAGAACTGCAAGAAATACCAACTATGCTGAAGAAAGGAATGACCACCATCCTTGACTTCCACCCTGGGGCGGGGAAAACCCGTAGGTTCCTGCCTCAAATATTGGCGGAGTGTGCCAGAAGGCGTTTGCGCACTCTGGTATTAGCACCCACCAGGGTTGTTTTGTCAGAGATGAAAGAAGCTTTTCAGGGGTTGGATGTGAAATTCCACACACAAGCTTTCTCAGCCCATGGGAGTGGGAAGGAGGTCATTGATGCAATGTGCCATGCAACCCTTACATATAGAATGCTGGAACCAACAAGGGTAGTCAACTGGGAGGTCATTATCATGGATGAGGCGCACTTCCTGGACCCTGCTAGCATAGCAGCGAGAGGCTGGGCGGCTCATAGAGCAAGAGCAAATGAGAGCGCCACCATACTTATGACCGCCACCCCACCAGGCACCAGTGACGAGTTCCCTCACTCCAATGGTGAGATTGAGGACGTCCAGACTGACATCCCCAGCGAGCCATGGACCGCAGGACATGAATGGATCTTGGCGGACAAGCGACCAACTGCATGGTTCCTTCCATCGATCAGAGCAGCAAATGTCATGGCAGCCTCGCTGCGGAAAGCGGGGAAAAATGTGGTGGTGCTGAATAGGAAAACCTTTGAAAAGGAGTACCCCACCATTAAGCAGAAGAAACCGGATTTCATACTTGCCACCGATATCGCTGAGATGGGAGCAAACCTGTGTGTGGAGAGAGTCTTGGACTGCAGAACTGCCTACAAGCCTGTCCTGGTTGATGAAGGGAAGAAGGTGGCCATCAAAGGGCCGCTACGAATCTCAGCGTCATCGGCCGCTCAGAGGAGAGGACGCATTGGACGCAATCCCAACAGAGATGGTGACTCTTACTACTACTCAGAACCTACCAGTGAGGACAATGCACACCATGTGTGCTGGCTGGAGGCTTCCATGCTCCTGGATAACATGGAGGTTAGAGGGGGGATGGTTGCTCCACTTTATGGCATTGAGGGAACAAAGACTCCCGTCTCTCCAGGAGAAATGAGGCTAAGAGATGATCAGAGAAGGGTCTTTAGAGAGTTGGTGCGAGGGTGTGATTTGCCAGTGTGGTTGGCATGGCAAGTGGCAAAAGCTGGCCTGAAGACCAATGACCGCAAATGGTGTTTTGAGGGTCCTGAAGAGCATGAAATACTCAATGACAATGGTGAAACAGTAAAGTGTAGATCTCCGGGCGGAGCAAAAAGAGCATTGAGACCTAGATGGTGTGACGAGAGAGTTTCCTCAGACCAGAGTGCCTTGGCTGACTTCATCAAGTTTGCAGAAGGCAGAAGAGGGGCTGCTGAGATGCTTGTGATCCTCACGGAGTTGCCCGATTTCCTGGCAAAGAAGGGTGGGGAGGCCATGGATACCATCAGTGTGTTCCTACATTCTGAAGAGGGTTCAAGAGCGTACAGAAATGCCCTGTCAATGATGCCAGAAGCCATGACCATTGTCATGCTCTTCCTGCTTGCCGGACTCTTGACCTCAGGAGCGGTGATTTTCTTCATGTCGCCTAAAGGCATGAGTAGAATGTCAATGGCAATGGGTACCATGGCTGGCAGTGGATATCTCATGTTTTTGGGGGGAGTAAAACCAACCCACATCTCTTACGTCATGTTAATATTCTTTGTCCTCATGGTCGTCGTAATTCCCGAACCAGGACAGCAGAGAACAATCCAGGATAACCAAGTTGCCTATCTCATAATTGGGATCTTGACATTGCTATCAGTTGTGGCAGCTAATGAACTAGGGATGCTGGAGAAGACCAAGGAAGATTTTTTTGGAAAGAGAGACATCACAACACCAAGTGGGGCTATCCCATGGAGTTGGCCTGACCTGGATCTGAAACCTGGGGCAGCCTGGACAGTCTATGTGGGAATCGTGACGATGTTGTCTCCCATGTTACATCATTGGATAAAAGTTGAGTATGGCAATTTGTCACTATCGGGAATAGCCCAATCTGCCTCAGTTCTTTCATTTATGGACAAAGGAATTCCCTTCATGAAAATGAACATATCTGTGGTCATACTTTTGGTCAGTGGCTGGAATTCAATCACAGTGATCCCTCTGTTGTGCGGCATTGGTGGAGCCATGTTGCACTGGACGCTCATACTTCCTGGGATTAAAGCCCAGCAATCAAAGCTGGCTCAAAAAAGAGTTTTTCATGGAGTGGCAAAAAATCCAGTTGTTGATGGTAATCCAACTGCTGACATTGAGGAAGCCCCAGAAATGCCAGCTTTATATGAAAAGAAGCTGGCTCTTTACCTCCTTCTGGCCCTAAGCCTCATGTCAGTTGCCATGTGCAGAACCCCTTTTTCCTTAGCGGAAGGAATAGTATTGTCATCTGCCGCCCTTGGACCTCTCATTGAGGGGAACACTAGTCTGTTGTGGAATGGCCCAATGGCCGTTTCCATGACTGGAGTCATGCGTGGCAACTACTATGCTTTTGTGGGAGTCATGTACAATCTCTGGAAAATGAAAACAGAGCGTAGAGGGAGTGCAAGTGGAAAAACATTGGGTGAGGTCTGGAAGCGTGAACTCAACTTGCTAGACAAACAACAATTTGAAATGTACAAAAGAACAGACATCATTGAGGTGGACCGAGACATGGCACGACGACACTTGGCAGAGGGAAAGGTGGACACGGGAGTGGCCGTGTCGAGAGGGACTGCAAAGCTGAGATGGTTCCACGAGCGTGGCTATGTGAAGCTAGAAGGAAGGGTCACCGATCTTGGGTGTGGACGTGGAGGCTGGTGCTACTATGCAGCAGCTCAAAAAGAAGTTAGTGGTGTGAAGGGGTATACCCTTGGCAGAGATGGTCATGAGAAACCTATGAATGTCCAAAGCTTGGGATGGAATATTGTGACTTTTAAGGACAAGACTGATGTTCACCGACTGGAGCCACTCAAGTGTGAAACTCTCCTCTGTGACATTGGAGAATCGTCCCCATCCTCCGCAACTGAGGGTGAGAGGACCTTAAGAGTTCTGGACACAGTTGAAAAGTGGTTGGCTTGTGGAGTGGACAACTTTTGCATCAAAGTTCTGGCACCATACATGCCCGATGTGATAGAGAAACTGGAGCTTCTTCAAAGAAGATTCGGTGGAACCGTCATTAGGAATCCTCTTTCCAGGAATTCCACTCATGAAATGTACTACGTGTCAGGAGCAAGAAGTAACATCACATTCACAGTCAATCAGACATCACGCCTGCTGATGCGAAGGATGAGGCGGCCCACAGGCAAAGTTACCTTGGAAGCTGATGTTATTCTTCCGATAGGCACGCGCAGTGTGGAAACTGATAAAGGCCCATTGGATAAGGATGCTATTGAGGAAAGAGTTGAGAGAATCAAGAATGAATATGCCACTACATGGTTCTATGACAATGACAACCCGTATAGAACGTGGCATTATTGTGGCTCCTATGTGACCAAAACGTCAGGAAGTGCAGCCAGCATGATAAATGGAGTTATCAAAATCTTAACTTTTCCATGGGACAGAATAGAAGAAGTCACAAGAATGGCAATGACTGACACCACACCTTTTGGACAACAAAGAGTTTTCAAGGAGAAAGTAGACACAAGAGCAAAAGACCCTCCTGCTGGAACAAGGAAGATCATGAAGGTGGTGAATAGATGGTTGTTTCGGCATCTGTCCAGGGAGAAGAACCCTAGGTTGTGCACCAAAGAAGAGTTCATTGCCAAAGTGCGGAGCCATGCCGCAGTGGGGGCTTTTCTAGAGGAGCAAGAGCAGTGGAAAACGGCCAATGAGGCAGTCCAGGATCCAAAGTTTTGGGAGATGGTCGATGCAGAACGCAAACTTCATCAGCAGGGGCGATGCCAGTCCTGTGTGTACAACATGATGGGAAAGAGGGAAAAGAAACTCTCTGAATTTGGAAAGGCCAAAGGGAGCCGTGCTATCTGGTACATGTGGCTTGGGGCACGGTTTCTTGAGTTTGAGGCTCTTGGGTTCTTAAATGAAGATCACTGGGCCTCCCGGGAGAACTCGGGGGGAGGAGTTGAGGGCACAGGACTCCAGTACTTGGGCTATGTTATCAGGGACTTGTCAGCCAAAGAAGGTGGAGGGTTTTATGCTGATGACACCGCCGGCTGGGACACACGCATCACAGAAGCTGACCTGGATGACGAGCAAGAGATCATGAGTTACATGAGCCCTGAACAAAGGAAGCTGGCCTGGGCCATAATGGAAATGACATACAAGAACAAAGTGGTCAAGGTGCTGAGGCCAGCCCCAGGAGGCAAGGCCTTCATGGACATCATCAGCCGGAGAGACCAAAGGGGGTCAGGACAAGTTGTGACATACGCCCTCAACACCATAACCAATCTAAAAGTCCAGCTCATAAGAATGGCTGAAGCTGAAATGGTGATTAACCATCAGCATGTGCAGGAGTGTGGTGAAAATGTCTTAGAGCGGCTCGAAACTTGGCTTGCTGAAAATGGATGTGACAGATTGAGCCGAATGGCTGTGAGTGGAGATGATTGTGTGGTGAGACCGGTGGATGACAGATTTGGTCTGGCCCTTTCCCATCTCAATGCAATGTCCAAAGTTAGGAAGGACATATCAGAATGGCAACCCTCCAAAGGATGGACAGATTGGGAAAATGTTCCTTTCTGCTCTCACCACTTCCATGAACTGGTGTTGAAAGATGGGAGGAAGATAGTGGTGCCTTGCAGAGACCAAGATGAACTGATAGGGAGAGGGAGAGTGTCCCCAGGAAATGGCTGGATGATCAAGGAAACAGCCTGCCTCAGCAAAGCTTATGCAAACATGTGGTCACTGATGTACTTCCACAAGAGGGACATGAGGCTACTTTCATTTGCTGTTTCCTCCGCTGTTCCAACAGCCTGGGTGCCCAGTGGAAGGACGACGTGGTCTGTCCACGGAAGAGGGGAGTGGATGACCACTGAGGACATGCTAGATGTCTGGAACAGGGTGTGGGTGTTGAATAACCCGCACATGACGGACAAAACAACCATCAAGGAGTGGAGAGATGTTCCCTACCTCACAAAGAGACAGGATAAGCTTTGCGGGTCACTGATAGGAATGACAAACAGGGCCACATGGGCATCTCACATCCACCTTGTGATCCACCGGATCAGAACTCTAATAGGTCAAGAGAAGTTCACAGACTACCTCACCGTCATGGACAGGTATTCTGTTGATGCTGACCTTCAGCCAGGAGAGCTTA\n",
      "\n",
      "Definition Line for sequence 2:\n",
      ">11089:ncbi:2\t2\tU54798\t11089\tncbi\tIvory_Coast_1982\n",
      "10,231 bases:\n",
      "ATGTCTGGTCGCAAAGCTCAGGGAAAAACCCTGGGCGTCAATATGGTTCGACGGGGAGTCCGCTCCTTGTCAAACAAAATAAAACAAAAAACAAAACAAATTGGAAACAGACCTGGACCTTCAAGAGGTGTTCAAGGATTTATCTCTTTCTTCTCGTTCAACATTCTGACTGGAAAGAAGATCACGGCTCACCTAAAGAGGTTGTGGAAAATGCTAGACCCAAGGCAAGGCCTGGCTGTTCTGAGGAAAGTTAAAAGAGTGGTGGCTGGCTTGATGAGAGGGTTGTCTTCAAGGAAACGCCGCTCCCATGATGTCTTGACTGTGCAATTTCTGATTCTGGGAATGCTGCTGATGGCGGGTGGAGTTACCTTGGTGCGGAAAAACAGATGGCTACTCTTAAATGTGACATCTGAGGACCTTGGGAAGACCTTTTCTGTGGGCACAGGCAACTGTACAACAAACATTCTAGAAGCCAAGTACTGGTGCCCCGATTCAATGGAATACAACTGTCCCAATCTTAGCCCAAGAGAGGAGCCTGATGACATCGATTGCTGGTGTTACGGAGTGGAAAATGTTAGAGTTGCATATGGTAAGTGTGACTCAGCAGGCAGGTCGAGGAGGTCAAGAAGAGCCATTGATTTGCCCACGCATGAAAACCATGGCCTGAAAACTCGGCAAGAAAAATGGATGACTGGAAGAATGGGGGAGAGGCAACTCCAAAAGATTGAGAGATGGCTTGTGAGGAATCCCTTCTTTGCAGTAACAGCCCTGGCCATCGCCTACCTTGTGGGCAGCAACATGACACAACGAGTCGTGATTGCCCTGCTGGTTTTGGCTGTTGGCCCGGCTTACTCAGCTCACTGCATTGGAATCACTGACAGGGATTTCATTGAGGGGGTGCACGGAGGAACCTGGGTTTCAGCCACCTTGGAGCAAGACAAGTGTGTCACTGTCATGGCCCCTGACAAGCCTTCACTGGACATCTCACTGGAGACAGTGGCCATTGATGGACCTGCTGAGGCAAGAAAAGTGTGTTACAATGCAGTCCTTACCCATGTGAAGATCAATGACAAGTGCCCTAGCACTGGTGAGGCCCATTTAGCTGAAGAGAATGAGGGGGATAATGCGTGTAAGCGCACCTATTCGGACAGAGGCTGGGGAAACGGCTGTGGCCTGTTTGGGAAGGGAAGCATTGTGGCATGCGCCAAGTTCACTTGTGCCAAGTCCATGAGCTTGTTTGAGGTTGACCAGACAAAGATCCAGTACGTCATCAGAGCACAATTACATGTTGGGGCAAAGCAGGAAAATTGGAATACCGATATCAAAACTCTCAAGTTTGATGCGTTGTCAGGCTCTCAGGAAGCCGAGTTTACTGGGTATGGAAAAGCTACTCTGGAATGCCGGGTGCAGACTGCAGTAGACTTTGGCAACAGTTACATTGCTGAGATGGAGAAAGAGAGTTGGATAGTGGACAGGCAATGGGCCCAGGATCTAACCTTACCATGGCAGAGCGGTAGCGGCGGGGTGTGGAGAGAAATGCACCATCTTGTTGAATTTGAACCCCCTCACGCCGCAACCATCAGAGTGTTAGCCCTAGGAAACCAGGAAGGCTCTTTGAAAACAGCCCTTACAGGTGCAATGAGGGTCACAAAGGACACCAATGATAACAATCTGTACAAACTACATGGTGGACATGTTTCCTGTAGAGTGAAACTGTCAGCTTTAACACTCAAGGGGACATCCTACAAAATGTGCACAGATAAAATGTCCTTTGTCAAGAACCCGACTGACACTGACCATGGCACTGTTGTGATGCAGGTGAAAGTGCCAAAAGGAGCTCCCTGCAAGATCCCAGTGATAGTGGCTGATGATCTTACAGCAGCAATCAATAAAGGCATTTTGGTTACAGTTAACCCCATCGCCTCAACCAATGATGATGAAGTGCTGATTGAGGTGAATCCACCCTTTGGAGATAGTTACATCATAGTTGGAACGGGAGATTCACGTCTTACTTATCAGTGGCACAAAGAGGGGAGTTCAATAGGAAAGCTGTTTACCCAGACCATGAAAGGCGCAGAACGCCTGGCTGTTATGGGAGACGCTGCCTGGGATTTTAGCTCTGCTGGGGGGCTCTTCACTTCGATTGGGAAAGGAAGTCACACGGTGTTTGGCTCTGCCTTTCAGGGATTGTTTGGTGGCTTGAGCTGGATAACGAAGGTCATTATGGGCGCGGTCCTCATATGGGTTGGCATCAACACAAGAAACATGACAATGTCCATGAGTATGATCTTGGTGGGAGTGATCATGATGTTCTTGTCTCTGGGAGTTGGGGCGGATCAAGGATGTGCAATCAACTTTGGTAAGAGAGAGCTCAAGTGTGGGGATGGCATCTTCATCTTTAGAGATTCTGATGACTGGCTGAACAAGTACTCATACTACCCAGAGGATCCTGTGAAGCTTGCATCAATAGTGAAAGCCTCCTTTGAGGAAGGAAAGTGTGGCCTAAACTCAGTTGACTCCCTTGACCATGAGATGTGGAGAAGTAGGGCAGATGAGATCAATGCCATTCTCGAGGAAAATGAGGTTGACATTTCTGTTGTCGTGCAGGACCCAAAAAATGTGTACCAGAGAGGAACGCATCCATTTTCCAGAATCCGAGATGGTCTGCAGTATGGCTGGAAGACTTGGGGTAAGAACCTTGTGTTCTCCCCAGGGAGGAAGAACGGAAGCTTCATTATAGATGGAAAGTCCAGAAAAGAATGCCCGTTTTCAAACCGGGTTTGGAATTCCTTCCAGATAGAAGAGTTTGGGACAGGAGTGTTCACCACACGCGTGTACATGGACGCAGTCTTTGAATACACCATAGACTGTGATGGATCCATTCTGGGTGCAGCAGTGAATGGAAAAAAGAGTGCCCATGGGTCTCCAACATTTTGGATGGGAAGCCATGAGGTGAATGGGACATGGATGATCCACACCTTAGAGACATTAGATTATAAGGAGTGTGAGTGGCCACTGACGCACACAATAGGAACATCAGTTGAAGAAAGTGACATGTTCATGCCAAGATCAATTGGAGGCCCGGTTAGCTCCCACAATCATATTCCTGGATACAAGGTCCAGACGAATGGACCTTGGATGCAGGTGCCACTGGAAGTGAAGAGAGAAGCCTGCCCGGGGACCAGTGTGATCATTGATGGCAATTGTGATGGACGGGGAAAATCAACTAGATCCACCACAGACAGCGGGAAGATCATTCCTGAATGGTGTTGCCGCTCTTGCACAATGCCGCCTGTGAGCTTTCATGGGAATGATGGATGTTGGTACCCCATGGAAATTCGGCCAAGGAAAACACATGAAAGCCATCTGGTACGATCATGGGTAACGGCTGGAGAAATACATGCAGTCCCTTTTGGGCTGGTGAGCATGATGATAGCAATGGAGGTGGTCCTAAGGAAAAGACAGGGACCAAAGCAAATGCTAGTTGGAGGAATGGTGCTCCTGGGGGCAATGCTGGTTGGACAGGTAACTCTCCTTGATTTGCTGAAACTCACAATGGCCGTGGGACTGCATTTTCATGAGATGAACAATGGAGGAGACGCCATGTACATGGCGTTGATTGCTGCCTTTTCAATCAGGCCAGGGCTGCTCATTGGCTTTGGGCTCAGGACCCTGTGGAGCCCCCGGGAACGCCTTGTGCTGACCCTGGGTGCAGCCATGGTGGAGATTGCCCTGGGTGGCATGATGGGCGGCCTGTGGAAATATCTGAACGCAGTCTCTCTCTGCATCCTGACAATAAATGCTGTAGCCTCTAGGAAAGCATCAAACACCATCTTGCCCCTCATGGCTCTGTTAACACCTGTGACCATGGCGGAGGTGAGGCTTGCCACGATGCTCTTATGCGCCGTGGTTATCATAGGGGTCCTTCACCAGAACTCCAAGGACACCTCCATGCAAAAGACCATACCCTTGGTGGCTCTCACACTTACATCTTACCTGGGCTTGACACAACCTTTTCTGGGCCTGTGTGCATTTCTGGCAACCCGCATATTTGGGCGAAGGAGCATTCCAGTGAATGAGGCACTCGCGGCAGCTGGTTTGGTGGGAGTGCTGGCAGGACTGGCTTTCCAGGAGATGGAGAACTTCCTTGGTCCGATTGCAGTTGGAGGAATCCTGATGATGCTGGTTAGCGTGGCTGGGAGAGTAGATGGGCTTGAGCTGAAGAAGCTCGGTGAGGTTTCATGGGAAGAGGAGGCAGAGATCAGCGGGAGCTCCGCTCGCTATGATGTGGCACTCAGTGAACAGGGGGAATTCAAGCTGCTTTCTGAAGAGAAAGTGCCATGGGACCAGGTTGTGATGACCTCGCTGGCCTTGGTTGGAGCTGCCATTCATCCATCTGCTCTTCTGCTGGTCCTTGCTGGCTGGCTGTTCCATGTCAAGGGAGCTAGGAGAAGTGGGGATGTCCTGTGGGACATTCCCACTCCTAAGATCATTGAAGAATGTGAACATCTGGAGGATGGGATTTATGGCATATTCCAGTCAACCTTCTTGGGAGCCTCCCAGCGAGGAGTGGGAGTAGCACAAGGAGGGGTGTTCCACACAATGTGGCATGTCACAAGAGGAGCTTTCCTTGTCAGGAATGGCAAGAAGCTGATTCCATCTTGGGCTTCAGTAAAAGAGGACCTTGTCGCCTATGGTGGCTCATGGAAATTGGAAGGTAGATGGGATGGGGAAGAAGAGGTCCAGTTGATTGCTGCTGTACCAGGGAAGAATGTGGTCAATGTCCAGACGAAACCTAGCTTGTTCAAAGTGAGGAATGGGGGAGAAATCGGGGCGGTTGCTCTTGATTACCCAAGTGGCACTTCGGGATCTCCTATTGTCAACAGGAATGGAGAGGTGATTGGTCTGTATGGCAATGGCATTCTTGTCGGTGACAATTCATTCGTGTCCGCCATTTCCCAGACTGAGGTGAAGGAGGAAGGAAAGGAGGAGCTTCAGGAGATCCCGACAATGTTGAAGAAAGGAATGACAACTATCCTCGACTACCATCCTGGAGCTGGGAAGACGCGACGGTTTCTCCCACAGATCTTGGCTGAATGCGCACGGAGACGCCTACGCACGCTTGTGCTGGCTCCTACCAGGGTTGTTCTTTCTGAAATGAAGGAGGCTTTCCATGGCTTGGACGTGAAATTTCACACACAGGCTTTCTCCGCCCACGGCAGTGGAAGAGAAGTCATTGATGCCATGTGCCATGCCACTCTAACATATAGAATGTTGGAACCAACCAGGATTGTCAACTGGGAAGTGATCATTATGGATGAAGCCCATTTCCTGGACCCAGCCAGCATAGCAGCTAGAGGCTGGGCAGCACACAGAGCCAGGGCAAATGAAAGTGCAACAATTCTGATGACGGCCACACCGCCAGGGACCAGTGATGAATTCCCACATTCAAATGGTGAAATAGAAGATGTCCAAACGGACATACCCAGTGAACCCTGGAACACAGGGCATGATTGGATCCTGGCAGACAAAAGGCCCACGGCATGGTTCCTCCCTTCCATCAGGGCTGCAAATGTCATGGCTGCTTCCTTGCGCAAGGCTGGAAAGAGCGTGGTGGTCCTGAACAGAAAAACCTTTGAGAAAGAATACCCCACGATAAAACAGAAGAAACCTGATTTCATCTTGGCCACTGACATAGCTGAGATGGGAGCCAACCTTTGCGTGGACAGAGTGCTGGACTGCAGGACGGCTTTTAAGCCTGTACTTGTGGATGAAGGAAGGAAGGTGGCAATAAAGGGGCCACTCCGCATCTCTGCATCTTCTGCTGCCCAAAGAAGAGGACGCATTGGGAGAAATCCCAATAGAGATGGAGATTCATACTACTATTCTGAGCCCACAAGTGAGGATAATGCCCACCACGTCTGCTGGCTGGAGGCCTCAATGCTCCTGGACAACATGGAGGTGAGGGGTGGAATGGTCGCCCCACTCTATGGCATTGAAGGGACAAAAACACCAGTTTCCCCTGGTGAAATGAGACTGAGAGATGACCAGAGGAGAGTCTCCAGAGAATTGGTGAGGAACTGTGATCTGCCTGTCTGGCTGTCCTGGCAAGTGGCCAAGGCTGGTTTGAAGACGAATGACCGGAAATGGTGTTTCGATGGCCCTAAGGAACATGAAATTTTGAACGATAGTGGTGAAACAGTGAAGTGCAGGGCTCCTGGAGGAGCGAAGAGGCCTCTGCGCCCAAGGTGGTGTGATGAAAGGGTGTCATCTGATCAGAGTGCGCTTGCTGACTTCATAAAGTTCGCTGAAGGTAGAAGGGGAGCTGCAGAAATCCTGGTAGTGCTGAGTGAGCTCCCTGACTTCTTGGCGAAGAAAGGTGGAGAGGCCATGGATACCATCAGTGTGTTCCTGCATTCCGAGGAAGGCTCCAGGGCATACCGCAATGCTCTGTCAATGATGCCTGAAGCAATGACAATAGTCATGCTGTTCATACTGGCTGGATTGTTGACATCGGGAATGGTCATCTTCTTCATGTCTCCCAAAGGTATCAGTAGAATGTCCATGGCGATGGGCACAATGGCCGGCTGTGGATATCTCATGTTTCTTGGAGGCGCCAAACCCACTCATATTTCCTACATCATGCTCATATTCTTTGTCCTGATGGTAGTTGTGATTCCCGAGCCAGGGCAACAAAGGTCCATTCAGGACAATCAGGTGGCATATCTTATCATTGGCATCTTGACACTGGTCTCGGTAGTGGCAGCTAATGAATTGGGCATGCTGGAGAGAACTAAAGAAGACCTCTTTGGGAAGAAGAACTTGATTCCATCTAGCGCCTCACCCTGGAGTTGGCCGGATCTTGACTTAAAGCCAGGAGCGGCTTGGACTGTGTATGTTGGCATTGTCACAATCCTCTCTCCAATGTTGCACCACTGGATCAAGGTCGAGTATGGCAACCTGTCTCTGTCTGGAATAGCCCAGTCAGCCTCAGTCCTTTCTTTCATGGACAAGGGAATACCATTCATGAAGATGAACATCTCGGTCATAATACTGTTGGTTAGTGGCTGGAATTCAATAACAGTGATGCCCCTGCTTTGTGGCATAGGGTGTGCCATGCTCCACTGGACTCTCATCTTACCTGGGATCAAGGCGCAGCAGTCAAAGCTTCCACAAAGAAGGGTGTTTCATGGCGTAGCCAAGAACCCGGTGGTTGATGGAAACCCAACAGTTGACATTGAAGAAGCCCCTGAAATGCCTGCTCTGTATGAAAAGAAACTGGCCCTATATCTTCTTCTTGCTCTCAGCTTGGCCTCTGTTGCCATGTGCAGAACTCCCTTCTCACTGGCTGAAGGCATTGTCCTAGCATCAGCAGCCTTGGGGCCTCTCATAGAGGGAAACACTAGCCTTCTCTGGAACGGACCCATGGCTGTTTCCATGACAGGAGTTATGCGTGGAAACTACTATGCCTTTGTGGGAGTCATGTACAATCTGTGGAAGATGGAGACTGGACGCAGGGGGAGGGCGAATGGAAAAACTCTGGGTGAAGTCTGGAAAAGGGAGCTGAACCTGCTGGACAGGCAGCAGTTTGAGCTGTACAAAAGGACTGACATTGTGGAGGTGGACCGTGACACGGCACGCAGACATCTGGCTGAAGGAAAGGTGGACACCGGGGTGGCTGTCTCGAGGGGGACCGCAAAGTTAAGGTGGTTTCATGAACGTGGCTATGTCAAGCTGGAAGGCAGGGTGACTGACCTAGGGTGCGGACGCGGGGGCTGGTGCTACTACGCTGCTGCACAGAAGGAAGTGAGTGGGGTCAAAGGATTTACTCTTGGAAGAGAAGGCCATGAGAAACCCATGAACGTGCGAAGCCTGGGATGGAATATCATCACCTTCAAGGATAAAACTGACATCCACCACCTGGAACCAGTGAAATGTGACACCCTTCTGTGTGACATTGGAGAGTCATCATCGTCATCAGTGACAGAAGGGGAAAGAACCATGAGAGTTCTTGATACCGTTGAGAAATGGCTGGCTTGCGGCGTTGACAATTTCTGTGTGAAGGTGTTGGCTCCATACATGCCAGATGTTCTCGAGAAGCTGGAACTGCTCCAAAGGAGGTTTGGTGGAACAGTGATCAGGAACCCTCTTTCCAGAAATTCCACTCATGAGATGTACTACGTGTCTGGAGCCCGCAGTAATGTCACATTTACTGTGAACCAAACATCTCGTCTCCTAATGAGGAGAATGAGACGTCCAACTGGCAAAGTGACCCTGGAAGCTGATGTCATTCTCCCAATTGGGACACGCAGTGTCGAGACAGACAAAGGACCCCTGAATAGAGAGGCCATAGAAGAGAGAGTTGAGAGAATAAAATCTGAGTACATGACTACCTGGTTTTATGACAATGACAACCCTTACAGGACTTGGCATTACTGTGGCTCCTATGTTACTAAAACCTCAGGGAGCGCGGCAAGCATGGTCAATGGTGTCATCAAGATTTTGACGTATCCATGGGACAGAATAGAGGAGGTTACAAGAATGGCAATGACTGACACAACCCCCTTTGGACAGCAGAGGGTGTTCAAAGAAAAAGTTGACACCAGAGCAAAGGATCCACCCGCGGGAACCAGAAAAATCATGAAAGTTGTCAACAGATGGCTCTTCCGTCACTTGGCCAGGGAGAAGAATCCTAGACTGTGCACAAAAGAAGAATTCATTGCAAAGGTCCGCAGCCACGCAGCCATTGGAGCCTACCTGGAAGAACAAGAACAGTGGAAGACTGCCAACGAGGCTGTCCAGGACCCGAAGTTTTGGGAATTGGTGGATGAAGAAAGGAGGCTGCACCAACAAGGCAGGTGCCGGACTTGCGTGTACAACATGATGGGGAAAAGAGAGAAGAAGTTGTCAGAGTTTGGGAAAGCAAAAGGAAGCCGTGCCATCTGGTACATGTGGCTGGGGGCGCGGTATCTTGAGTTTGAAGCCCTAGGATTCCTGAATGAAGACCATTGGGCATCCAGAGAGAATTCGGGGGGAGGAGTAGAAGGCATTGGTTTACAGTACCTAGGATATGTGATCAGAGACTTGGCTGCAATGGATGGTGGGGGATTCTACGCGGATGATACCGCTGGGTGGGACACACGCATCACAGAGGCAGACCTTGATGATGAACAGGAGATCCTGAATTACATGAGCTCACATCACAAAAAACTGGCACAAGCAGTGATGGAAATGACATACAAGAATAAGGTGGTGAAAGTGCTGAGACCAACACCAGGCGGGAAAGCCTACATGGATGTCATAAGCCGGAGAGACCAAAGAGGGTCCGGGCAGGTGGTGACCTATGCCCTGAACACCATCACCAACCTGAAAGTCCAATTGATCAGGATGGCAGAAGCAGAGATGGTGATACATCATCATCATGTTCAAGATTGTGATGACTCGACCTTGGTTAGACTGGAGGCATGGCTCATTGAGCATGGATGTGACAGACTGAATAGGATGGCGGTGAATGGAGACGACTGCGTGGTCCGGCCTATTGATGACAGGTTCGGCATGGCCTTGTCCCACCTCAACGCCATGTCCAAGGTTAGAAAGGACATATCTGAATGGCAGCCATCAAAAGGGTGGAATGACTGGGAGAATGTGCCCTTTTGTTCCCACCACTTCCACGAACTGCAGCTGAAGGACGGCAGGAGGATTGTGGTGCCCTGCCGGGAACAAGATGAGCTCATTGGGAGAGGAAGGGTGTCTCCAGGAAATGGCTGGATGATCAAGGAAACGGCATGCCTTAGCAAAGCCTATGCCAACATGTGGTCACTGATGTACTTTCACAAGAGGGACATGAGATTGTTGTCATTGGCTGTTTCCTCGGCCGTTCCCACCTCATGGGTCCCACAAGGACGCACGACATGGTCGATTCATGGGAAAGGGGAGTGGATGACCACGGAAGACATGCTTGAGGTGTGGAACAGGGTGTGGATAACCAATAACCCGCACATGCAGGACAAAACAGTGGTGAAAGAATGGAGGGATGTCCCCTATCTGACCAAGAGACAAGACAAGCTGTGCGGATCACTGATTGGAATGACCAACAGGGCCACCTGGGCCTCCCACATCCATTTGGTAATCCATCGCATCCGAACACTGATTGGACAGGAGAAATATACTGACTATCTGACAGTCATGGACAGATACTCTGTGGATGCTGACCTGCAACCAGGTGAGCTTA\n",
      "\n",
      "Definition Line for sequence 3:\n",
      ">11089:ncbi:3\t3\tDQ235229\t11089\tncbi\tEthiopia_1961\n",
      "10,234 bases:\n",
      "ATGTCTGGTCGAAAAGCTCAGGGTAAAACCCTGGGCGTCAATATGGTAAGACGGGGAGCACGCTCCTTGTCAAACAAAATAAAACAAAAAACAAAACAGATTGGAAACAGACCTGGCCCTTCAAGAGGTGTTCAAGGATTTATTTTCTTCTTTTTGTTCAACATTCTAACTGGGAAAAAATTAACCACCCACCTGAAAAGGCTCTGGAGAATGCTTGACCCCCGACAGGGACTTGCTGTTCTGAGGAAAGTCAAGAGGGTGGTAGCCAGCTTGATGATAGGGCTGTCATCTAGGAAACGCCGCTCTAATGAGATGGCCATGATGCCACTTCTAATCTTGAGCATGGTGATTTTGGCTGGAGGGGTGACACTCGTCCGGAAAAATCGATGGTTGCTTTTGAATGTCACAGCTGAGGACTTGGGAAAGACGTTCTCATTGGGAACCGGGAACTGCACCACCAACATCCTTGAGGCAAAGTATTGGTGTCCCGACTCAATGGAATACAACTGTCCCAATCTCAGTCCCAGAGAGGAGCCTGACGACATTGACTGTTGGTGTTATGGAGTGGAAAATGTCAGAGTGGCCTATGGAAGGTGTGATGCAGTGGGGAGGTCAAAGCGGTCTAGGAGGGCAATTGATCTGCCCACGCATGAAAATCACGGACTGAAAACTCGGCAGGAGAAATGGATGGCAGGCAGAATGGGTGAGCGGCAACTCCAAAAGATTGAGCGGTGGCTGGTGAGAAATCCGTTTTTCGCCATAACAGCCTTGGCCATTGCTTATTTAGTGGGTAATAACATGACACAACGTGTCGTCATAGCTCTGCTAGTCTTAGCAGTTGGTCCAGCCTATTCTGCACATTGTATTGGGATAACTGACAGAGACTTCATTGAGGGTGTCCATGGGGGCACGTGGGTGTCAGCAACCCTAGAGCAGGGCAAGTGCGTAACTGTCATGGCTCCTGATAAACCATCATTGGATATCTCGCTCCAAACAGTGGCAATAGATGGGCCTGCTGAAGCGAGAAAGGTTTGCTACAGCGCGGTTCTCACCCATGTAAAAATCAATGACAAGTGCCCAAGCACTGGTGAGGCTCACCTCGCAGAGGAAAATGATGGTGACAATGCTTGCAAACGAACATACTCAGATAGAGGCTGGGGTAATGGTTGTGGGCTCTTTGGAAAGGGGAGTATTGTGGCATGTGCCAAATTTACGTGTGCCAAATCCATGAGCCTTTTTGAAGTGGACCAGACCAAAATCCAGTACGTTATCAGGGCTCAGCTTCATGTGGGTGCTAAGCAGGAGAACTGGAACACAGATATAAAGACACTGAAATTTGATGCCCTATCTGGCTCTCAAGAAGCCGAATTTACTGGTTATGGGAAAGCAACACTGGAGTGTCAGGTCCAGACTGCAGTTGACTTTGGGAACAGTTACATTGCAGAGATGGAGAAAGACAGCTGGATTGTTGACCGCCAGTGGGCACAAGACTTGACACTACCATGGCAGAGCGGGAGTGGTGGAATATGGAGGGAAATGCATCATCTTGTTGAGTTTGAGCCTCCTCATGCCGCCACAATCAGAGTGCTAGCCTTGGGAAACCAAGAGGGGTCTCTGAAAACAGCTCTCACAGGAGCTATGCGGGTCACTAAAGATGAAAATGACAACAACTTGTACAAGCTGCATGGTGGTCATGTCTCTTGTAGGGTGAAACTTTCAGCTCTAACTCTTAAGGGAACATCCTACAAGATGTGCACAGATAAAATGTCATTTGTGAAAAACCCAACGGACACAGGTCATGGCACGGTTGTCATGCAGGTGAAGGTCCCCAAAGGAGCCCCATGCAAGATTCCCGTGATTGTGGCTGATGACCTAACGGCTGCAGTGAACAAGGGCATACTGGTCACTGTCAACCCCATAGCATCCACAAATGATGATGAAGTCCTAATTGAAGTCAATCCCCCTTTTGGAGACAGCTACATCATTGTTGGGACTGGAGACTCAAGACTGACTTATCAGTGGCATAAGGAAGGAAGTTCAATTGGGAAACTGTTCACACAGACAATGAAGGGAGCTGAACGTCTTGCAGTGATGGGTGATGCCGCCTGGGACTTTAGCTCTGCAGGTGGTTTCTTCACGTCAGTGGGGAAAGGAATTCACACTGTGTTTGGCTCAGCTTTCCAGGGGTTGTTTGGTGGTCTGAGCTGGATTACGAAAGTCATCATGGGAGCCGTTCTCATCTGGGTAGGAATTAACACACGTAACATGACCATGTCCATGTCTATGATTCTGGTAGGTGTGATCATGATGTTCCTCTCCCTGGGTGTTGGGGCAGACCAAGGATGTGCTGTCAACTTTGGGAAGCGAGAGCTCAAATGTGGAGATGGCATCTTTGTGTTCAGAGACTCAGATGATTGGCTCACTAAGTATTCATATTATCCAGAAGACCCTGTTAAGCTGGCTTCTATCATCAAGGCCTCCCATGAAGAGGGCAAATGTGGACTGAATTCTGTGGACTCCCTTGAGCATGAAATGTGGAGGAGTAGAGCTGATGAGATCAACGCCATATTTGAGGAAAATGAGGTAGACATCTCGGTTGTTGTTCAAGACCCAAAGAATATCTATCAAAGAGGGACACATCCTTTCTCTCGGATTCGTGATGGGTTGCAGTATGGATGGAAAACCTGGGGAAAAAATCTCATCTTCTCACCCGGAAGGAAAAATGGCAGTTTCATCATTGATGGGAAGTCAAGGAAGGAATGCCCTTTCTCAAACAGAGTGTGGAACTCTTTCCAGATTGAGGAGTTTGGCATGGGAGTTTTCACAACACGGGTTTTTATGGATGCTGTTTTTGATTACTCAGTGGACTGTGATGGGGCTATACTAGGTGCAGCTGTGAATGGGAAGAAGAGCGCACACGGATCGCCCACATTCTGGATGGGAAGCCATGAGGTCAATGGAACATGGATGGTACACACACTTGAGACCCTTGATTACAAAGAGTGTGAATGGCCTTTGACACACACCATAGGAACCTCAGTGGAAGAGAGTGACATGTTCATGCCCCGTTCCATTGGAGGCCCAGTGAGCTCCCATAACCATATTCCAGGTTACAAAGTCCAAACGAATGGACCATGGATGCAAGTCCCTCTGGAAGTTAGAAGGGAGCCATGCCCGGGGACAAGTGTGGTGCTGGACACCGGCTGTGATGGACGTGGCAAATCAACCAGATCAACCACTGACAGTGGGAAAATTATTCCAGAATGGTGCTGCAGATCTTGCACTATGCCCCCAGTTAGCTTTCACGGCAGTGATGGCTGCTGGTACCCCATGGAAATCAGACCCATGAAAACCCATGAAAGCCATCTGGTGAGATCATGGGTTACCGCAGGAGAAGTGCATGCGGTTCCTTTCGGATTGGTGAGCATGATGATTGCCATGGAGGTTGTCCTACGTAAAAGACAAGGACCAAAGCAGATGCTGGTGGGAGGAATCATTTTACTTGGAGCAATGCTAGTGGGACAAGTCACGGTGCTAGATCTAGTGAAACTCATTGTGGCAGTAGGCTTGCACTTCCATGAGATCAACAATGGAGGAGATGCCATGTATATGGCTTTGATTGCGAGCTTTTCCATTCGCCCAGGCCTGCTCGTAGGCTTTGGACTGCGCACACTCTGGAGTCCTCGCGAGCGTCTCGTGATGGCATTCGGAGCAGCCATGGTCGAAGTGGCCTTGGGCGGGATGATGGGTGGACTGTGGCAGTACTTGAACGCCGTCTCACTATGTGTCCTCACCATCAACGCAATTTCTTCAAGAAAGGCGTCAAATGCGGTCCTCCCCCTGATGGCACTCTTGACTCCTGTAACAATGCATGAAGTAAGGATGGCAACAATGCTGTTCTGCACAGTGGTCATAGTGGGGGTGCTCCACCAGAATGCAAAAGACACGTCCATGCAAAAAACCATTCCCATTGTGGCTCTGACACTGACTTCATATATGGGTCTAACTCAGCCTTTTCTTGGATTGTGTGCCTACATGTCCACACAAGTGTTTGGCAGAAGAAGCATCCCTGTAAATGAAGCTCTTGCAGCAGCCGGCCTGGTAGGAGTGCTGGCAGGCCTAGCCTTCCAAGACATGGAAAATTTTTTAGGTCCGATTGCAGTGGGTGGGATACTCATGATGCTGGTCAGTGTGGCAGGGAAAGTTGATGGATTGGAACTCAAGAAGCTCGGTGAAGTCTCCTGGGAAGAGGAAGCTGAGATAAGTGGAAGCTCCAGCCGCTATGATGTGGCACTCAGTGAACAGGGAGAATTCAAGCTTCTCTCAGAGGATAAAGTGCCCTGGGACCAGATTGTCATGACTTCCTTGGCTCTCGTTGGGGCAGCGATACATCCATTTGCCCTATTACTGGTCCTAGGAGGTTGGGTTTTACACATCAAAGGAGCTAGAAGGAGCGGGGATGTTCTTTGGGACATTCCCACACCAAAAGTCATAGAGGAATGTGAGTATCTGGAAGATGGAATTTATGGCATATTTCAATCAACTTTTCTTGGAGCATCCCAGAGAGGAGTCGGAGTGGCCCAGGGGGGTGTCTTCCACACGATGTGGCACGTCACCAGAGGAGCGTTTCTCTTGAGGAACGGGAAGAAGTTAGTACCATCCTGGGCCTCTGTGAAGGAGGACTTAGTGGCCTATGGTGGATCTTGGAAGCTAGATGGAAAGTGGGATGGTGAGGAAGAGGTACAACTCATAGCTGCTGTGCCAGGAAAAGCCGTTGTCAATGTGCAAACCAAGCCAAGTGTGTTCAAAGTTAGAAATGGAGGTGAGATTGGAGCAGTTGCCTTGGACTATCCTAGCGGGACATCTGGTTCACCCATTGTGAATCGCAGTGGTGAAGTGGTGGGACTTTATGGCAATGGGATCCTGGTTGGTGACAATTCCTTTGTGTCCGCCATCTCACAAACTGAGGTGAAAGAGGAATCCAAAGAGGAACTGCAGGAAATACCAACAATGTTGAAAAAAGGAATGACAACTATCCTTGATTTCCACCCTGGTGCGGGAAAGACCCGTAGGTTCTTGCCCCAAATACTGGCAGAATGCGCCAGGAGGCGTCTACGGACGCTAGTGCTGGCGCCTACTCGGGTTGTCCTGTCAGAAATGAAGGAAGCCTTTCACGGACTTGATGTAAAGTTTCACACGCAGGCCTTTTCAGCCCATGGGAGTGGGAAAGAAGTCATTGATGCAATGTGCCACGCTACCCTCACGTACAGGATGCTGGAACCAACAAGAGCTGTTAACTGGGAGGTGATCATCATGGATGAGGCCCACTTCTTGGATCCTGCCAGCATCGCAGCAAGGGGCTGGGCAGCCCATAGGGCGAGAGCAAACGAGAGTGCCACAATACTTATGACAGCCACTCCACCAGGCACAAGTGATGAATTTCCCCATTCCAATGGTGAGATTGAGGATGTCCAAACTGACATTCCAAGTGAACCATGGACTTCAGGCCATGAGTGGATCCTAGCCGACAAGCGACCAACGGCATGGTTTCTCCCATCGATCAGAGCAGCAAATGTCATGGCCGCCTCTTTGCGGAAGGCCGGGAAGAGTGTGGTGGTGTTGAATAGGAAGACCTTTGAAAAGGAATACCCCACCATCAAACAAAAGAGGCCGGATTTCATCCTGGCCACAGACATTGCCGAAATGGGAGCAAACTTGTGCGTTGAAAGAGTGCTGGACTGTAGGACTGCATATAAACCTGTTCTGGTGGATGAAGGGAGGAAGGTGGCCATCAAAGGGCCACTACGGATTTCTGCATCATCGGCTGCTCAGAGAAGAGGGCGCATTGGACGAAACCCAAACAGGGATGGAGATTCCTACTACTATTCAGAACCCACCAGTGAGGACAATGCCCATCATGTGTGTTGGCTGGAAGCTTCCATGCTCCTTGACAACATGGAAGTTAGAGGAGGAATGGTTGCCCCGCTTTATGGAATTGAAGGGACAAAGACCCCTGTCTCCCCTGGGGAAATGAGGCTGAGAGATGATCAAAGGAGAGTCTTCAGGGAGTTGGTGCGTGGATGTGACTTACCAGTCTGGTTATCCTGGCAGGTAGCAAAGCCCGGTTTAAAAACCAATGACCGCAAGTGGTGCTTTGAAGGACCCGAGGAACACGAGATACTTAATGACAACGGTGAAACTGTGAAGTGCAGGTCACCCGGTGGAGCGAAAAAGGCACTGAGACCTAGATGGTGTGATGAAAGAGTGTCCTCAGACCAGAGCGCTTTGGCTGATTTCATCAAATTTGCCGAAGGTAGAAGAGGAGCAGCTGAGATGCTTGTGGTTCTCACGGAACTGCCTGATTTCCTGGCAAAAAAAGGTGGGGAGGCCATGGACACCATAAGTGTGTTTCTCCATTCTGAGGAGGGATCAAGAGCTTATAGAAATGCTCTGTCAATGATGCCTGAAGCCATGACCATCGTAATGCTTTTCATATTGGCTGGTCTCTTGACCTCAGGAATGGTGATTTTCTTCATGTCGCCCAAAGGCATGAGTAGGATGTCTATGGCAATGGGGACTATGGCTGGCAGCGGGTATCTCATGTTCTTGGGGGGAGTGAAACCAACACACATTTCATATGTTATGTTGATCTTTTTCGTCCTTATGGTCGTCATAATTCCAGAGCCAGGACAACAGAGGACCATCCAGGACAACCAAGTGGCCTATCTTATCATTGGAATACTCACATTGCTGTCCATTGTGGCAGCCAATGAGTTAGGAATGCTGGAAAAGACCAAGGAAGACTTTTTTGGAAGAAGGAATATTGCAACATCTGGTGGAACGATTCCATGGAGCTGGCCCGACTTGGATCTGAAACCTGGGGCCGCTTGGACTGTCTATGTGGGAATTGTGACAATGCTGTCACCAATGCTTCATCACTGGATTAAAGTGGAATATGGAAACCTCTCGCTGTCAGGAATAGCTCAGTCAGCCTCAGTCCTTTCATTCATGGACAAAGGAATTCCTTTCATGAAGATGAACATATCTGTGGTCATACTCCTGGTCAGTGGTTGGAACTCAATAACAGTGATCCCCCTGTTATGTGGAGTGGGTGGAGCCATGTTGCATTGGACGCTGATTCTTCCTGGAATCAAAGCCCAGCAGTCAAAACTGGCACAAAAAAGAGTTTTTCATGGAGTGGCAAAAAATCCAGTAGTTGATGGCAATCCAACCGCTGACATTGAAGAAGCACCTGAAATGCCTGCCTTGTATGAGAAGAAATTGGCACTGTATCTTCTTCTCGCTTTGAGCCTGATGTCAGTAGCCATGTGCAGAACTCCTTTTTCCCTAGCAGAAGGCATAGTGTTGTCATCTGCTGCTCTTGGGCCCCTAATAGAGGGAAACACAAGCTTGCTATGGAATGGTCCTATGGCCGTTTCCATGACTGGGGTCATGCGCGGCAACTACTACGCTTTTGTGGGTGTGATGTACAACCTCTGGAAGATGAAAACAGGGCGTAGAGGGAGCGCAAGCGGCAAGACACTAGGTGAGGTTTGGAAGAGGGAACTCAACCTGCTAGACAAACAGCAATTTGAGTTGTACAAGAGAACAGACATCACCGAGGTGGATCGCGACATGGCTAGGCGACATCTGGCAGAGGGGAAGGTGGATACTGGAGTGGCCGTGTCGAGGGGGACAGCAAAGCTGAGATGGTTCCACGAGCGTGGCTATGTAAAGCTGGAAGGAAGAGTCATGGATTTAGGATGTGGACGTGGAGGTTGGTGCTATTATGCAGCAGCTCAGAAAGAGGTCAGTGGTGTGAAAGGTTACACCCTGGGCAGAGATGGCCATGAAAAGCCCATGAACGTGCAAAGTTTAGGATGGAACATTGTGACCTTCAAGGACAAGACTGACATCCACAGGCTAGAGCCAGCCAAGTGTGAAACCCTCCTTTGTGACATTGGGGAATCCTCGCCTTCTTCCGTGACCGAGGGTGAGAGGACCTTGAGAGTTCTTGAAACAATTGAAAAGTGGCTGGCTTGTGGAGTGGACAACTTTTGTGTCAAGGTTTTAGCACCATACATGCCTGATGTGATAGAGAAATTGGAACTTCTCCAAAGAAGATTTGGCGGAACTATCATCAGGAATCCCCTTTCCAGAAACTCAACCCATGAGATGTATTATGTGTCAGGAGCAAGAAGTAACATTACCTTCACAGTCAACCAAACATCACGTCTGCTGATGAGGAGGATGAGACGACCAACAGGCAAAGTCACTCTTGAGCCCGATGTCATTCTTCCCATAGGCACACGTAGTGTGGAAACTGATAAGGGACCCCTAGACAGGGATGCCATTGAAGAGAGGGTTGAGAGAATTAAGACAGAGTATGCTGCTACATGGTTCTATGACAATGATAACCCGTATCGGACCTGGCATTACTGTGGCTCATATATCACCAAGACATCAGGCAGTGCAGCCAGCATGATAAATGGAGTCATTAAAATCTTGACCTTCCCATGGGACAGGATAGAAGAGGTTACCAGAATGGCAATGACTGACACCACGCCTTTTGGCCAACAAAGAGTCTTTAAGGAAAAGGTGGACACAAGAGCCAAAGATCCTCCTGCTGGAACTAGGAAAATCATGAAGGTGGTAAACCGTTGGTTGTTTCGACATCTGGCCCGGGAAAAGAATCCCAGGCTGTGCACAAAGGAGGAATTCATAGCCAAGGTGCGCAGTCATGCTGCGGTAGGAGCCTTCTTAGAGGAGCAGGAGCAATGGAAGACAGCCAATGAAGCGGTTCAAGACCCTAAGTTTTGGGAGATGGTTGATGCTGAGCGCAAGCTCCATCAACAGGGGCGATGCCAGTCTTGTGTCTATAACATGATGGGAAAAAGAGAGAAAAAACTATCTGAGTTTGGAAAAGCAAAAGGAAGTCGTGCGATCTGGTACATGTGGCTGGGGGCACGTTTCCTTGAGTTTGAGGCTCTTGGGTTCCTGAATGAAGATCACTGGGCCTCCAGAGAGAATTCAGGAGGGGGTGTTGAAGGCATAGGACTCCAATATCTAGGCTATGTAATCAAGGACCTGTCCACCAAAGAAGGGGGAGGATTCTATGCAGATGACACAGCAGGATGGGACACACGCATCACGGAAGCTGACCTGGATGATGAACAGGAGATCATGAGCTACATGAACGCTGAGCAGAGGAAACTGGCCTGGGCAGTGATGGAAATGACATACAAGAACAAAGTGGTCAAGGTCCTTCGACCAGCACCAGGTGGCAAGGCTTTCATGGACATCATCAGTAGGAGAGATCAAAGGGGGTCAGGGCAAGTGGTGACATACGCTCTCAACACTATCACCAATTTGAAAGTCCAGCTCATAAGGATGGCTGAAGCTGAGATGGTAATCAACCATCAGCACGTGAATGAATGTGACGAGGGCGTTTTGGCACGGCTGGACGCATGGCTTGCTGAGAATGGATGTGACAGACTTGCCCGGATGGCTGTGAGTGGAGATGATTGTGTCGTGAGGCCTGTGGATGATAGATTTGGCCTGGCTCTTTCCCATCTTAATGCCATGTCAAAAGTCAGGAAGGACATTTCAGAATGGCAGCCCTCCAAGGAGTGGACAGATTGGGAAAATGTTCCTTTCTGCTCCCACCATTTCCATGAACTTGTGTTGAAAGATGGAAGGAAAGTGGTGGTGCCCTGTAGAGACCAAGATGAGTTGATAGGGAGAGGGAGAGTGTCTCCAGGAAATGGCTGGATGATTAAAGAAACGGCTTGCCTCAGCAAGGCTTATGCAAACATGTGGTCACTGATGTATTTCCATAAGAGAGACATGAGGCTGCTCTCATTTGCTGTCTCATCAGCCGTTCCAATGGCATGGGTACCCAGTGGAAGAACAACATGGTCTGTTCATGGAAAAGGAGAGTGGATGACCACGCAAGACATGTTGGACGTCTGGAACAGAGTTTGGGTCCTAAACAACCCACACATGAAGGACAAGACCACCGTAAAGGAGTGGAGAGATGTTCCTTACCTCACAAAAAGGCAGGACAAACTCTGTGGGTCCCTGATAGGGATGACAAACAGGGCCACATGGGCCTCACACATCCACCTGGTGATCCACCGAATCCGAACCTTAATCGGCCAAGAAAAATACACAGATTATCTCACTGTGATGGACAGGTACTCGGTTGATGCTGACCTCCAACCAGGAGAGCTCA\n",
      "\n"
     ]
    }
   ],
   "source": [
    "fasta.reset_iterator()\n",
    "\n",
    "for i, seq in enumerate(fasta):\n",
    "    print(f\"Definition Line for sequence {i+1}:\")\n",
    "    print(seq['definition line'])\n",
    "    print(f\"{len(seq['sequence']):,d} bases:\")\n",
    "    print(seq['sequence'])\n",
    "    print()\n",
    "    if i >= 2: break"
   ]
  },
  {
   "cell_type": "code",
   "execution_count": null,
   "metadata": {},
   "outputs": [
    {
     "name": "stdout",
     "output_type": "stream",
     "text": [
      "Definition Line for sequence 1:\n",
      ">11089:ncbi:1\t1\tAY968064\t11089\tncbi\tAngola_1971\n",
      "Parsed data:\n",
      "key: 11089:ncbi:1\n",
      "metadata:\n",
      "{'accession': 'AY968064',\n",
      " 'organism': 'Angola_1971',\n",
      " 'seqid': '11089:ncbi:1',\n",
      " 'seqnb': '1',\n",
      " 'source': 'ncbi',\n",
      " 'taxonomyid': '11089'}\n",
      "====================================================================================================\n",
      "Definition Line for sequence 2:\n",
      ">11089:ncbi:2\t2\tU54798\t11089\tncbi\tIvory_Coast_1982\n",
      "Parsed data:\n",
      "key: 11089:ncbi:2\n",
      "metadata:\n",
      "{'accession': 'U54798',\n",
      " 'organism': 'Ivory_Coast_1982',\n",
      " 'seqid': '11089:ncbi:2',\n",
      " 'seqnb': '2',\n",
      " 'source': 'ncbi',\n",
      " 'taxonomyid': '11089'}\n",
      "====================================================================================================\n",
      "Definition Line for sequence 3:\n",
      ">11089:ncbi:3\t3\tDQ235229\t11089\tncbi\tEthiopia_1961\n",
      "Parsed data:\n",
      "key: 11089:ncbi:3\n",
      "metadata:\n",
      "{'accession': 'DQ235229',\n",
      " 'organism': 'Ethiopia_1961',\n",
      " 'seqid': '11089:ncbi:3',\n",
      " 'seqnb': '3',\n",
      " 'source': 'ncbi',\n",
      " 'taxonomyid': '11089'}\n",
      "====================================================================================================\n"
     ]
    }
   ],
   "source": [
    "definition_lines = fasta.parse_file()\n",
    "fasta.reset_iterator()\n",
    "\n",
    "for i, (k, v) in enumerate(definition_lines.items()):\n",
    "    print(f\"Definition Line for sequence {i+1}:\")\n",
    "    print(next(fasta)['definition line'])\n",
    "    print('Parsed data:')\n",
    "    print(f\"key: {k}\\nmetadata:\")\n",
    "    pprint(v)\n",
    "    print(f\"{'='*100}\")\n",
    "    if i >= 2: break"
   ]
  },
  {
   "cell_type": "markdown",
   "metadata": {},
   "source": [
    "## Explore simulated read output files (FASTQ and ALN)"
   ]
  },
  {
   "cell_type": "markdown",
   "metadata": {},
   "source": [
    "When simulating with ART Illumina,:\n",
    "- We simulated reads from referenmce sequences in a fasta file (`fasta` reader)\n",
    "- ART returns two files:\n",
    "    - a fastq file (`fastq` reader) with the reads sequences, their quality and some read metadata\n",
    "    - a aln file (`aln` reader), including:\n",
    "        - a header with the summulation command and the list of reference sequences\n",
    "        - additional metadata on each reads, including: \n",
    "            - the readid and its number (rank in the list)\n",
    "            - the read sequence itself (may include errors)\n",
    "            - the same sequence as in the reference sequence\n",
    "            - the read alignment starting position in the reference sequence\n",
    "            - the reference sequence strand\n",
    "            - the reference sequence id and its number in the sequence file            "
   ]
  },
  {
   "cell_type": "markdown",
   "metadata": {},
   "source": [
    "Like for FASTA file, `FastqFileReader` and `AlnFileReader` makes it easier to load and work with fastq and aln file"
   ]
  },
  {
   "cell_type": "code",
   "execution_count": null,
   "metadata": {},
   "outputs": [
    {
     "name": "stdout",
     "output_type": "stream",
     "text": [
      "yf\n",
      "  |--single_69seq_150bp\n",
      "  |    |--single_69seq_150bp.fq (0)\n",
      "  |    |--single_69seq_150bp.aln (1)\n",
      "  |    |--single_69seq_150bp_list_reads.json (2)\n"
     ]
    }
   ],
   "source": [
    "files_in_tree(p2simreads);"
   ]
  },
  {
   "cell_type": "code",
   "execution_count": null,
   "metadata": {},
   "outputs": [
    {
     "name": "stdout",
     "output_type": "stream",
     "text": [
      "single_69seq_150bp.fq\n",
      "single_69seq_150bp.aln\n",
      "fq reads file:  single_69seq_150bp.fq\n",
      "aln reads file: single_69seq_150bp.aln\n"
     ]
    }
   ],
   "source": [
    "# suffix = '1' if 'paired' in p2simreads.stem else ''\n",
    "suffix = '2' if 'paired' in p2simreads.stem else ''\n",
    "\n",
    "p2fastq = p2simreads / f\"{p2simreads.stem}{suffix}.fq\"\n",
    "print(p2fastq.name)\n",
    "assert p2fastq.is_file(), f\"{p2fastq} is not a file\"\n",
    "p2aln = p2simreads / f\"{p2simreads.stem}{suffix}.aln\"\n",
    "print(p2aln.name)\n",
    "assert p2aln.is_file(), f\"{p2aln} is not a file\"\n",
    "\n",
    "print(f\"fq reads file:  {p2fastq.name}\\naln reads file: {p2aln.name}\")\n",
    "\n",
    "fastq = FastqFileReader(p2fastq)\n",
    "assert fastq.re_rule_name is not None\n",
    "aln = AlnFileReader(p2aln)\n",
    "assert aln.re_rule_name is not None"
   ]
  },
  {
   "cell_type": "markdown",
   "metadata": {},
   "source": [
    "### Exploring information about the simreads in fastaq"
   ]
  },
  {
   "cell_type": "code",
   "execution_count": null,
   "metadata": {},
   "outputs": [
    {
     "data": {
      "text/plain": [
       "('fastq_art_illumina_ncbi_std', 'aln_art_illumina-refseq-ncbi-std')"
      ]
     },
     "execution_count": null,
     "metadata": {},
     "output_type": "execute_result"
    }
   ],
   "source": [
    "fastq.re_rule_name, aln.re_header_rule_name"
   ]
  },
  {
   "cell_type": "markdown",
   "metadata": {},
   "source": [
    "It is possible to parse metadata from each simread definition line in one step. \n",
    "\n",
    "> Note: depending on the size of the fastq file, this operation may take some time."
   ]
  },
  {
   "cell_type": "code",
   "execution_count": null,
   "metadata": {},
   "outputs": [
    {
     "name": "stdout",
     "output_type": "stream",
     "text": [
      "Total of 1,160,343 simreads parsed\n",
      "Read 1:\n",
      "{'readid': '11089:ncbi:1-17000',\n",
      " 'readnb': '17000',\n",
      " 'refseqnb': '1',\n",
      " 'refsource': 'ncbi',\n",
      " 'reftaxonomyid': '11089'}\n",
      "\n",
      "Read 2:\n",
      "{'readid': '11089:ncbi:1-16999',\n",
      " 'readnb': '16999',\n",
      " 'refseqnb': '1',\n",
      " 'refsource': 'ncbi',\n",
      " 'reftaxonomyid': '11089'}\n",
      "\n",
      "Read 3:\n",
      "{'readid': '11089:ncbi:1-16998',\n",
      " 'readnb': '16998',\n",
      " 'refseqnb': '1',\n",
      " 'refsource': 'ncbi',\n",
      " 'reftaxonomyid': '11089'}\n",
      "\n",
      "CPU times: user 50.1 s, sys: 382 ms, total: 50.5 s\n",
      "Wall time: 51.3 s\n"
     ]
    }
   ],
   "source": [
    "%%time\n",
    "simread_metadata = fastq.parse_file()\n",
    "print(f\"Total of {len(simread_metadata):,d} simreads parsed\")\n",
    "for i, (k,v) in enumerate(simread_metadata.items(), start=1):\n",
    "    print(f\"Read {i}:\")\n",
    "    pprint(v)\n",
    "    print()\n",
    "\n",
    "    if i >= 3: break"
   ]
  },
  {
   "cell_type": "markdown",
   "metadata": {},
   "source": [
    "### Exploring information in ALN header"
   ]
  },
  {
   "cell_type": "markdown",
   "metadata": {},
   "source": [
    "The header of ALN file includes:\n",
    "- the ART command used to simulate the reads\n",
    "- the list of reference sequences used to create the reads, with metadata"
   ]
  },
  {
   "cell_type": "markdown",
   "metadata": {},
   "source": [
    "First we can see from which reference fasta file the simulated sequences were imported, by checking the ART command in the alignment file's header. Then we can open a fasta reader for the reference fasta file as well:"
   ]
  },
  {
   "cell_type": "code",
   "execution_count": null,
   "metadata": {},
   "outputs": [
    {
     "data": {
      "text/plain": [
       "'/usr/bin/art_illumina -i /home/vtec/projects/bio/metagentools/data/ncbi/refsequences/yf/yf_2023_yellow_fever.fa -ss HS25 -l 150 -f 250 -o /home/vtec/projects/bio/metagentools/data/ncbi/simreads/yf/single_69seq_150bp/single_69seq_150bp -rs 1731415434'"
      ]
     },
     "execution_count": null,
     "metadata": {},
     "output_type": "execute_result"
    }
   ],
   "source": [
    "aln.header['command']"
   ]
  },
  {
   "cell_type": "markdown",
   "metadata": {},
   "source": [
    "We see that the simulated reads were generated from the reference sequences in `data/cov_data/cov_virus_sequences_ten.fa`, that is the same as the file in our `fasta`"
   ]
  },
  {
   "cell_type": "code",
   "execution_count": null,
   "metadata": {},
   "outputs": [
    {
     "data": {
      "text/plain": [
       "PosixPath('/home/vtec/projects/bio/metagentorch/data/ncbi/refsequences/yf/yf_2023_yellow_fever.fa')"
      ]
     },
     "execution_count": null,
     "metadata": {},
     "output_type": "execute_result"
    }
   ],
   "source": [
    "fasta.path"
   ]
  },
  {
   "cell_type": "markdown",
   "metadata": {},
   "source": [
    "Then we can review the metadata available for each reference sequence, as listed in `aln`'s header.\n",
    "\n",
    "This information can be seen in `aln.header` or with the method `parse_header_reference_sequences()`"
   ]
  },
  {
   "cell_type": "code",
   "execution_count": null,
   "metadata": {},
   "outputs": [
    {
     "name": "stdout",
     "output_type": "stream",
     "text": [
      "@SQ\t11089:ncbi:1\t1\tAY968064\t11089\tncbi\tAngola_1971\t10234\n",
      "@SQ\t11089:ncbi:2\t2\tU54798\t11089\tncbi\tIvory_Coast_1982\t10231\n",
      "@SQ\t11089:ncbi:3\t3\tDQ235229\t11089\tncbi\tEthiopia_1961\t10234\n",
      "@SQ\t11089:ncbi:4\t4\tAY572535\t11089\tncbi\tGambia_2001\t10231\n",
      "@SQ\t11089:ncbi:5\t5\tMF405338\t11089\tncbi\tGhana_Hsapiens_1927\t10231\n",
      "@SQ\t11089:ncbi:6\t6\tU21056\t11089\tncbi\tSenegal_1927\t10231\n",
      "@SQ\t11089:ncbi:7\t7\tAY968065\t11089\tncbi\tUganda_1948\t10234\n",
      "@SQ\t11089:ncbi:8\t8\tJX898871\t11089\tncbi\tArD114896_Senegal_1995\t10231\n",
      "@SQ\t11089:ncbi:9\t9\tJX898872\t11089\tncbi\tSenegal_Aedes-aegypti_1995\t10231\n",
      "@SQ\t11089:ncbi:10\t10\tGQ379163\t11089\tncbi\tPeru_Hsapiens_2007\t10231\n",
      "@SQ\t11089:ncbi:11\t11\tDQ118157\t11089\tncbi\tSpain_Vaccine_2004\t10231\n",
      "@SQ\t11089:ncbi:12\t12\tMF289572\t11089\tncbi\tSingapore_2017\t10231\n",
      "@SQ\t11089:ncbi:13\t13\tKU978764\t11089\tncbi\tSudan_Hsapiens_1941\t10231\n",
      "@SQ\t11089:ncbi:14\t14\tJX898878\t11089\tncbi\tArD181250_Senegal_2005\t10231\n",
      "@SQ\t11089:ncbi:15\t15\tJX898879\t11089\tncbi\tArD181676_Senegal_2005\t10231\n",
      "@SQ\t11089:ncbi:16\t16\tJX898881\t11089\tncbi\tSenegal_Aedes_luteocephalus_2005\t10231\n",
      "@SQ\t11089:ncbi:17\t17\tJX898880\t11089\tncbi\tArD181564_Senegal_2005\t10231\n",
      "@SQ\t11089:ncbi:18\t18\tJX898877\t11089\tncbi\tArD181464_Senegal_2005\t10231\n",
      "@SQ\t11089:ncbi:19\t19\tJX898876\t11089\tncbi\tSenegal_Aedes_fucifer_2001\t10231\n",
      "@SQ\t11089:ncbi:20\t20\tKU978765\t11089\tncbi\tGuinea_Bissau_Hsapiens_1965\t10231\n",
      "@SQ\t11089:ncbi:21\t21\tJX898870\t11089\tncbi\tSenegal_Ae_fucifer_1996\t10231\n",
      "@SQ\t11089:ncbi:22\t22\tJX898868\t11089\tncbi\tisolate_HD117294_Senegal_1995\t10231\n",
      "@SQ\t11089:ncbi:23\t23\tJX898875\t11089\tncbi\tSenegal_Aedes_fucifer_2000\t10231\n",
      "@SQ\t11089:ncbi:24\t24\tJX898874\t11089\tncbi\tArD149194_Senegal_2000\t10231\n",
      "@SQ\t11089:ncbi:25\t25\tJX898873\t11089\tncbi\tArD149214_Senegal_2000\t10231\n",
      "@SQ\t11089:ncbi:26\t26\tMK292067\t11089\tncbi\tNetherlands_Hsapiens_Gambia_2018\t10231\n",
      "@SQ\t11089:ncbi:27\t27\tMK457701\t11089\tncbi\tNigeria_Hsapiens_2018\t10231\n",
      "@SQ\t11089:ncbi:28\t28\tMN958078\t11089\tncbi\tNigeria_Hsapiens_2018\t10231\n",
      "@SQ\t11089:ncbi:29\t29\tJX898869\t11089\tncbi\tCotedIvoire_Ae_africanus_1973\t10231\n",
      "@SQ\t11089:ncbi:30\t30\tKU978763\t11089\tncbi\tNigeria_Hsapiens_1946\t10231\n",
      "@SQ\t11089:ncbi:31\t31\tMF004382\t11089\tncbi\tBolivia_Hsapiens_1999\t10231\n",
      "@SQ\t11089:ncbi:32\t32\tJF912181\t11089\tncbi\tBrazil_Hsapiens_1983\t10231\n",
      "@SQ\t11089:ncbi:33\t33\tJF912179\t11089\tncbi\tBrazil_Haemagogus_sp_1980\t10231\n",
      "@SQ\t11089:ncbi:34\t34\tJF912183\t11089\tncbi\tBrazil_Hsapiens_1984\t10231\n",
      "@SQ\t11089:ncbi:35\t35\tJF912182\t11089\tncbi\tBrazil_Hsapiens_1984\t10231\n",
      "@SQ\t11089:ncbi:36\t36\tJF912188\t11089\tncbi\tBrazil_Hsapiens_2000\t10231\n",
      "@SQ\t11089:ncbi:37\t37\tJF912190\t11089\tncbi\tBrazil_Hsapiens_2002\t10231\n",
      "@SQ\t11089:ncbi:38\t38\tHM582851\t11089\tncbi\tTrinidadandTobago_Alouetta_seniculus_2009\t10231\n",
      "@SQ\t11089:ncbi:39\t39\tKM388814\t11089\tncbi\tVenezuela_Portuguesa_Hsapiens_2005\t10231\n",
      "@SQ\t11089:ncbi:40\t40\tKM388815\t11089\tncbi\tVenezuela_Apure_Aseniculus_2007\t10231\n",
      "@SQ\t11089:ncbi:41\t41\tKM388818\t11089\tncbi\tVenezuela_Barinas_Aseniculus_2006\t10231\n",
      "@SQ\t11089:ncbi:42\t42\tKM388817\t11089\tncbi\tVenezuela_Guarico_Allouetta_seniculus_2004\t10231\n",
      "@SQ\t11089:ncbi:43\t43\tKM388816\t11089\tncbi\tVenezuela_Monagas_Asiniculus_2010\t10231\n",
      "@SQ\t11089:ncbi:44\t44\tMH666058\t11089\tncbi\tBrazil_Sapajus_sp_2016\t10234\n",
      "@SQ\t11089:ncbi:45\t45\tMK583152\t11089\tncbi\tBrazil_SaoPaulo_Hsapiens_2017\t10231\n",
      "@SQ\t11089:ncbi:46\t46\tMK583166\t11089\tncbi\tBrazil_SaoPaulo_Hsapiens_2018\t10231\n",
      "@SQ\t11089:ncbi:47\t47\tMK760660\t11089\tncbi\tNetherlands_brazil_2018\t10231\n",
      "@SQ\t11089:ncbi:48\t48\tMK760665\t11089\tncbi\tNetherlands_Hsapiens-from-brazil_2018\t10231\n",
      "@SQ\t11089:ncbi:49\t49\tMF370549\t11089\tncbi\tBrazil_monkey_2015\t10231\n",
      "@SQ\t11089:ncbi:50\t50\tMF370535\t11089\tncbi\tBrazil_Allouatta_sp_2016\t10231\n",
      "@SQ\t11089:ncbi:51\t51\tMF370533\t11089\tncbi\tBrazil_Hsapiens_2017\t10231\n",
      "@SQ\t11089:ncbi:52\t52\tMK333805\t11089\tncbi\tBrazil_IlhaGrande_Sabethes_chloropterus_2018\t10231\n",
      "@SQ\t11089:ncbi:53\t53\tMF370530\t11089\tncbi\tBrazil_Haemagogus-janthinomys_2017\t10231\n",
      "@SQ\t11089:ncbi:54\t54\tMW960207\t11089\tncbi\tYellow_fever_YF118_CAR_2018\t10234\n",
      "@SQ\t11089:ncbi:55\t55\tJN620362\t11089\tncbi\tUganda_Hsapiens_2010\t10234\n",
      "@SQ\t11089:ncbi:56\t56\tKY495641\t11089\tncbi\tChina_Hsapiens_2016\t10234\n",
      "@SQ\t11089:ncbi:57\t57\tKU949599\t11089\tncbi\tshanghai_2016\t10234\n",
      "@SQ\t11089:ncbi:58\t58\tMG589641\t11089\tncbi\tChina_Hsapiens_2016\t10234\n",
      "@SQ\t11089:ncbi:59\t59\tKX268355\t11089\tncbi\tChina_Hsapiens_2016\t10234\n",
      "@SQ\t11089:ncbi:60\t60\tKY587416\t11089\tncbi\tChina_Hsapiens_2016\t10234\n",
      "@SQ\t11089:ncbi:61\t61\tMH633692\t11089\tncbi\tChina_Hsapiens_2016\t10233\n",
      "@SQ\t11089:ncbi:62\t62\tMF004383\t11089\tncbi\t432429_S4_MF004383.1\t10234\n",
      "@SQ\t11089:ncbi:63\t63\tMW960207\t11089\tncbi\typ.bam from : MW960207.1\t10234\n",
      "@SQ\t11089:ncbi:64\t64\tON323052\t11089\tncbi\tNigeria_2020\t10231\n",
      "@SQ\t11089:ncbi:65\t65\tON323053\t11089\tncbi\tNigeria_2020\t10195\n",
      "@SQ\t11089:ncbi:66\t66\tON323054\t11089\tncbi\tNigeria_2020\t10231\n",
      "@SQ\t11089:ncbi:67\t67\tOM066735\t11089\tncbi\tVHF-21-014/GHA/Damongo/2021\t10014\n",
      "@SQ\t11089:ncbi:68\t68\tOM066736\t11089\tncbi\tVHF-21-029/GHA/Daboya/2021\t10231\n",
      "@SQ\t11089:ncbi:69\t69\tOM066737\t11089\tncbi\tVHF-21-037/GHA/Damongo/2021\t10231\n"
     ]
    }
   ],
   "source": [
    "print('\\n'.join(aln.header['reference sequences']))"
   ]
  },
  {
   "cell_type": "markdown",
   "metadata": {},
   "source": [
    "With `AlnFileReader.parse_header_reference_sequences`, we can extract information on all the sequences used to generate the reads:"
   ]
  },
  {
   "cell_type": "code",
   "execution_count": null,
   "metadata": {},
   "outputs": [
    {
     "name": "stdout",
     "output_type": "stream",
     "text": [
      "Reads simulated from 69 reference sequences.\n",
      "\n",
      "Reference Sequence 0:\n",
      "{'organism': 'Angola_1971',\n",
      " 'refseq_accession': 'AY968064',\n",
      " 'refseq_length': '10234',\n",
      " 'refseqid': '11089:ncbi:1',\n",
      " 'refseqnb': '1',\n",
      " 'refsource': 'ncbi',\n",
      " 'reftaxonomyid': '11089'}\n",
      "\n",
      "Reference Sequence 1:\n",
      "{'organism': 'Ivory_Coast_1982',\n",
      " 'refseq_accession': 'U54798',\n",
      " 'refseq_length': '10231',\n",
      " 'refseqid': '11089:ncbi:2',\n",
      " 'refseqnb': '2',\n",
      " 'refsource': 'ncbi',\n",
      " 'reftaxonomyid': '11089'}\n",
      "\n",
      "Reference Sequence 2:\n",
      "{'organism': 'Ethiopia_1961',\n",
      " 'refseq_accession': 'DQ235229',\n",
      " 'refseq_length': '10234',\n",
      " 'refseqid': '11089:ncbi:3',\n",
      " 'refseqnb': '3',\n",
      " 'refsource': 'ncbi',\n",
      " 'reftaxonomyid': '11089'}\n",
      "\n"
     ]
    }
   ],
   "source": [
    "header_refseq_meta = aln.parse_header_reference_sequences()\n",
    "\n",
    "print(f\"Reads simulated from {len(header_refseq_meta)} reference sequences.\\n\")\n",
    "\n",
    "for i, (k,v) in enumerate(header_refseq_meta.items()):\n",
    "    print(f\"Reference Sequence {i}:\")\n",
    "    pprint(v)\n",
    "    print()\n",
    "\n",
    "    if i+1 >= 3: break"
   ]
  },
  {
   "cell_type": "markdown",
   "metadata": {},
   "source": [
    "We see that the first reference sequence is a **Coronavirus BtRs-BetaCoV/YN2018D**"
   ]
  },
  {
   "cell_type": "markdown",
   "metadata": {},
   "source": [
    "### Exploring metadata available for simulated read's"
   ]
  },
  {
   "cell_type": "code",
   "execution_count": null,
   "metadata": {},
   "outputs": [
    {
     "name": "stdout",
     "output_type": "stream",
     "text": [
      "1,160,343 reads were simulated.\n",
      "\n",
      "Read 0\n",
      "11089:ncbi:1-17000\n",
      "{'aln_start_pos': '3131',\n",
      " 'read_seq_aligned': 'CACAACAGAGGGATCACTGTGATTGAATTCCAGCCACTGACCAAAAGTATGACCACAGATATGTTCATTTTCATTAAGGGAATTCCTTTGTCCATAAATGAAAGAACTGAGGCAGATTGGGCTATTCCCGATAGTGACAAATTGCCATAC',\n",
      " 'readid': '11089:ncbi:1-17000',\n",
      " 'readnb': '17000',\n",
      " 'ref_seq_aligned': 'CACAACAGAGGGATCACTGTGATTGAATTCCAGCCACTGACCAAAAGTATGACCACAGATATGTTCATTTTCATGAAGGGAATTCCTTTGTCCATAAATGAAAGAACTGAGGCAGATTGGGCTATTCCCGATAGTGACAAATTGCCATAC',\n",
      " 'refseq_strand': '-',\n",
      " 'refseqid': '11089:ncbi:1',\n",
      " 'refseqnb': '1',\n",
      " 'refsource': 'ncbi',\n",
      " 'reftaxonomyid': '11089'}\n",
      "\n",
      "Read 1\n",
      "11089:ncbi:1-16999\n",
      "{'aln_start_pos': '27',\n",
      " 'read_seq_aligned': 'ACCCTGGGCGTCAATATGGTAAGACGAGGGGTTCGCTCCTTGTCAAACAAAATAAAACAAAAAACAAAACAGATTGGAAACAGACCTGGCCCTTCAAGAGGTGTTCAAGGATTTATTTTCTTCTTTTTGTTTAACATTCTGACTGGGAAA',\n",
      " 'readid': '11089:ncbi:1-16999',\n",
      " 'readnb': '16999',\n",
      " 'ref_seq_aligned': 'ACCCTGGGCGTCAATATGGTAAGACGAGGGGTTCGCTCCTTGTCAAACAAAATAAAACAAAAAACAAAACAGATTGGAAACAGACCTGGCCCTTCAAGAGGTGTTCAAGGATTTATTTTCTTCTTTTTGTTTAACATTCTGACTGGGAAA',\n",
      " 'refseq_strand': '+',\n",
      " 'refseqid': '11089:ncbi:1',\n",
      " 'refseqnb': '1',\n",
      " 'refsource': 'ncbi',\n",
      " 'reftaxonomyid': '11089'}\n",
      "\n",
      "Read 2\n",
      "11089:ncbi:1-16998\n",
      "{'aln_start_pos': '1865',\n",
      " 'read_seq_aligned': 'AGATGACCTAACGGCTGCGGTGAACAAAGGCATCTTGGTCACTGTCAATCCTATTGCATCCACAAATGATGATGAAGTTCTGATTGAGGTCAATCCCCCTTTTGGGGATAGCTACATCATAGTTGGGACTGGAGATTCACGACTGACCTA',\n",
      " 'readid': '11089:ncbi:1-16998',\n",
      " 'readnb': '16998',\n",
      " 'ref_seq_aligned': 'AGATGACCTAACGGCTGCGGTGAACAAAGGCATCTTGGTCACTGTCAATCCTATTGCATCCACAAATGATGATGAAGTTCTGATTGAGGTCAATCCCCCTTTTGGGGATAGCTACATCATAGTTGGGACTGGAGATTCACGACTGACCTA',\n",
      " 'refseq_strand': '+',\n",
      " 'refseqid': '11089:ncbi:1',\n",
      " 'refseqnb': '1',\n",
      " 'refsource': 'ncbi',\n",
      " 'reftaxonomyid': '11089'}\n",
      "\n",
      "CPU times: user 6.4 s, sys: 1.01 s, total: 7.41 s\n",
      "Wall time: 10.2 s\n"
     ]
    }
   ],
   "source": [
    "%%time\n",
    "reads_meta = aln.parse_file(add_ref_seq_aligned=True, add_read_seq_aligned=True)\n",
    "\n",
    "print(f\"{len(reads_meta):,d} reads were simulated.\\n\")\n",
    "\n",
    "for i, (k,v) in enumerate(reads_meta.items()):\n",
    "    print(f\"Read {i}\")\n",
    "    print(k)\n",
    "    pprint(v)\n",
    "    print()\n",
    "    if i+1>=3: break"
   ]
  },
  {
   "cell_type": "markdown",
   "metadata": {},
   "source": [
    "### Comparison metadata in fasta, fastq and aln"
   ]
  },
  {
   "cell_type": "markdown",
   "metadata": {},
   "source": [
    "There is redundancy in metadata across the three sets of files (`.fa`, `.fq`, `.aln`). Let's compare them to confirm this is consistent"
   ]
  },
  {
   "cell_type": "markdown",
   "metadata": {},
   "source": [
    "Create the following list and dictionaries parsing metadata from fasta, fastq and aln:\n",
    "- `refseqs_fasta`: metadata in fasta sequence file used as reference sequences to create reads\n",
    "- `simreads`: metadata on reads, as available in the fastq read file\n",
    "- `refseqs_aln`: reference sequences with metadata as available in the aln header\n",
    "- `simread_align`: read sequence and alignment info"
   ]
  },
  {
   "cell_type": "code",
   "execution_count": null,
   "metadata": {},
   "outputs": [],
   "source": [
    "refseqs_fasta = fasta.parse_file(add_seq=True)\n",
    "simreads = fastq.parse_file(add_readseq=True)\n",
    "refseqs_aln = aln.ref_sequences\n",
    "simread_align = aln.parse_file(add_ref_seq_aligned=True, add_read_seq_aligned=True)"
   ]
  },
  {
   "cell_type": "markdown",
   "metadata": {},
   "source": [
    "Parsing rule is automatically identified as the standard ART Illlumina format, applied to our project standard definition line format for NCBI GenBank sequences. The following shows the parsing rule name and the corresponding regex code:"
   ]
  },
  {
   "cell_type": "code",
   "execution_count": null,
   "metadata": {},
   "outputs": [
    {
     "name": "stdout",
     "output_type": "stream",
     "text": [
      "aln_art_illumina-refseq-ncbi-std \n",
      " ^@SQ[\\t\\s]*(?P<refseqid>(?P<reftaxonomyid>\\d*):(?P<refsource>\\w*):(?P<refseqnb>\\d*))[\\t\\s]*(?P=refseqnb)[\\t\\s]*(?P<refseq_accession>[\\w\\d]*)[\\t\\s]*(?P=reftaxonomyid)[\\t\\s]*(?P=refsource)[\\t\\s](?P<organism>.*)[\\t\\s](?P<refseq_length>\\d*)$\n"
     ]
    }
   ],
   "source": [
    "print(aln.re_header_rule_name,'\\n',aln.re_header_pattern)"
   ]
  },
  {
   "cell_type": "code",
   "execution_count": null,
   "metadata": {},
   "outputs": [
    {
     "name": "stdout",
     "output_type": "stream",
     "text": [
      "reads simulated from the following 69 full sequences from `yf_2023_yellow_fever.fa`:\n",
      "\n",
      " 01: AY968064   Angola_1971\n",
      " 02: U54798     Ivory_Coast_1982\n",
      " 03: DQ235229   Ethiopia_1961\n",
      " 04: AY572535   Gambia_2001\n",
      " 05: MF405338   Ghana_Hsapiens_1927\n",
      " 06: U21056     Senegal_1927\n",
      " 07: AY968065   Uganda_1948\n",
      " 08: JX898871   ArD114896_Senegal_1995\n",
      " 09: JX898872   Senegal_Aedes-aegypti_1995\n",
      " 10: GQ379163   Peru_Hsapiens_2007\n",
      " 11: DQ118157   Spain_Vaccine_2004\n",
      " 12: MF289572   Singapore_2017\n",
      " 13: KU978764   Sudan_Hsapiens_1941\n",
      " 14: JX898878   ArD181250_Senegal_2005\n",
      " 15: JX898879   ArD181676_Senegal_2005\n",
      " 16: JX898881   Senegal_Aedes_luteocephalus_2005\n",
      " 17: JX898880   ArD181564_Senegal_2005\n",
      " 18: JX898877   ArD181464_Senegal_2005\n",
      " 19: JX898876   Senegal_Aedes_fucifer_2001\n",
      " 20: KU978765   Guinea_Bissau_Hsapiens_1965\n",
      " 21: JX898870   Senegal_Ae_fucifer_1996\n",
      " 22: JX898868   isolate_HD117294_Senegal_1995\n",
      " 23: JX898875   Senegal_Aedes_fucifer_2000\n",
      " 24: JX898874   ArD149194_Senegal_2000\n",
      " 25: JX898873   ArD149214_Senegal_2000\n",
      " 26: MK292067   Netherlands_Hsapiens_Gambia_2018\n",
      " 27: MK457701   Nigeria_Hsapiens_2018\n",
      " 28: MN958078   Nigeria_Hsapiens_2018\n",
      " 29: JX898869   CotedIvoire_Ae_africanus_1973\n",
      " 30: KU978763   Nigeria_Hsapiens_1946\n",
      " 31: MF004382   Bolivia_Hsapiens_1999\n",
      " 32: JF912181   Brazil_Hsapiens_1983\n",
      " 33: JF912179   Brazil_Haemagogus_sp_1980\n",
      " 34: JF912183   Brazil_Hsapiens_1984\n",
      " 35: JF912182   Brazil_Hsapiens_1984\n",
      " 36: JF912188   Brazil_Hsapiens_2000\n",
      " 37: JF912190   Brazil_Hsapiens_2002\n",
      " 38: HM582851   TrinidadandTobago_Alouetta_seniculus_2009\n",
      " 39: KM388814   Venezuela_Portuguesa_Hsapiens_2005\n",
      " 40: KM388815   Venezuela_Apure_Aseniculus_2007\n",
      " 41: KM388818   Venezuela_Barinas_Aseniculus_2006\n",
      " 42: KM388817   Venezuela_Guarico_Allouetta_seniculus_2004\n",
      " 43: KM388816   Venezuela_Monagas_Asiniculus_2010\n",
      " 44: MH666058   Brazil_Sapajus_sp_2016\n",
      " 45: MK583152   Brazil_SaoPaulo_Hsapiens_2017\n",
      " 46: MK583166   Brazil_SaoPaulo_Hsapiens_2018\n",
      " 47: MK760660   Netherlands_brazil_2018\n",
      " 48: MK760665   Netherlands_Hsapiens-from-brazil_2018\n",
      " 49: MF370549   Brazil_monkey_2015\n",
      " 50: MF370535   Brazil_Allouatta_sp_2016\n",
      " 51: MF370533   Brazil_Hsapiens_2017\n",
      " 52: MK333805   Brazil_IlhaGrande_Sabethes_chloropterus_2018\n",
      " 53: MF370530   Brazil_Haemagogus-janthinomys_2017\n",
      " 54: MW960207   Yellow_fever_YF118_CAR_2018\n",
      " 55: JN620362   Uganda_Hsapiens_2010\n",
      " 56: KY495641   China_Hsapiens_2016\n",
      " 57: KU949599   shanghai_2016\n",
      " 58: MG589641   China_Hsapiens_2016\n",
      " 59: KX268355   China_Hsapiens_2016\n",
      " 60: KY587416   China_Hsapiens_2016\n",
      " 61: MH633692   China_Hsapiens_2016\n",
      " 62: MF004383   432429_S4_MF004383\n",
      " 63: MW960207   yp\n",
      " 64: ON323052   Nigeria_2020\n",
      " 65: ON323053   Nigeria_2020\n",
      " 66: ON323054   Nigeria_2020\n",
      " 67: OM066735   VHF-21-014/GHA/Damongo/2021\n",
      " 68: OM066736   VHF-21-029/GHA/Daboya/2021\n",
      " 69: OM066737   VHF-21-037/GHA/Damongo/2021\n"
     ]
    }
   ],
   "source": [
    "print(f\"reads simulated from the following {len(refseqs_fasta)} full sequences from `{fasta.path.name}`:\\n\")\n",
    "print('\\n'.join([f\" {i:02d}: {refseq['accession']:10s} {refseq['organism']}\" for i, refseq in enumerate(refseqs_fasta.values(), start=1)]))"
   ]
  },
  {
   "cell_type": "code",
   "execution_count": null,
   "metadata": {},
   "outputs": [
    {
     "name": "stdout",
     "output_type": "stream",
     "text": [
      "1,160,343 reads generated and available in fastq file.\n",
      "For each read, following metadata is available in the fastq file:\n",
      " - readid\n",
      " - readnb\n",
      " - refseqnb\n",
      " - refsource\n",
      " - reftaxonomyid\n",
      " - readseq\n"
     ]
    }
   ],
   "source": [
    "print(f\"{len(simreads):,d} reads generated and available in fastq file.\")\n",
    "print('For each read, following metadata is available in the fastq file:')\n",
    "for s in ['readid', 'readnb', 'refseqnb', 'refsource', 'reftaxonomyid', 'readseq']:\n",
    "    print(f\" - {s}\")"
   ]
  },
  {
   "cell_type": "code",
   "execution_count": null,
   "metadata": {},
   "outputs": [
    {
     "name": "stdout",
     "output_type": "stream",
     "text": [
      "1,160,343 reads generated and available in aln file.\n",
      "For each read, following metadata is available in the aln file:\n",
      " - aln_start_pos\n",
      " - readid\n",
      " - readnb\n",
      " - refseq_strand\n",
      " - refseqid\n",
      " - refseqnb\n",
      " - refsource\n",
      " - reftaxonomyid\n",
      " - ref_seq_aligned\n",
      " - read_seq_aligned\n"
     ]
    }
   ],
   "source": [
    "print(f\"{len(simread_align):,d} reads generated and available in aln file.\")\n",
    "print('For each read, following metadata is available in the aln file:')\n",
    "for s in ['aln_start_pos', 'readid', 'readnb', 'refseq_strand', 'refseqid', 'refseqnb', 'refsource', 'reftaxonomyid', 'ref_seq_aligned', 'read_seq_aligned']:\n",
    "    print(f\" - {s}\")"
   ]
  },
  {
   "cell_type": "markdown",
   "metadata": {},
   "source": [
    "Check consistency between refseqs from fasta and from aln "
   ]
  },
  {
   "cell_type": "code",
   "execution_count": null,
   "metadata": {},
   "outputs": [
    {
     "name": "stdout",
     "output_type": "stream",
     "text": [
      "ATCCGTGGGT TAGGCACCCA\n",
      "ATCCGTGGGT TGGGTGCCTA\n"
     ]
    }
   ],
   "source": [
    "# utility functions\n",
    "def complementary_strand(seq):\n",
    "    \"\"\"Converts a strand in its complementary\"\"\"\n",
    "    conv = {'A':'T', 'C':'G', 'G':'C', 'T':'A'}\n",
    "    return ''.join([conv[base] for base in seq])\n",
    "\n",
    "strand = 'ATCCGTGGGT'\n",
    "print(strand, complementary_strand(strand))\n",
    "\n",
    "def reverse_sequence(seq):\n",
    "    return seq[::-1]\n",
    "\n",
    "print(strand, reverse_sequence(strand))"
   ]
  },
  {
   "cell_type": "markdown",
   "metadata": {},
   "source": [
    "### Check aln reference sequence information"
   ]
  },
  {
   "cell_type": "code",
   "execution_count": null,
   "metadata": {},
   "outputs": [],
   "source": [
    "# refseqid = '2591237:ncbi:1'\n",
    "# refseqid = '11128:ncbi:2'\n",
    "refseqid = '11089:ncbi:1'\n"
   ]
  },
  {
   "cell_type": "markdown",
   "metadata": {},
   "source": [
    "In the source `.fa` file"
   ]
  },
  {
   "cell_type": "code",
   "execution_count": null,
   "metadata": {},
   "outputs": [
    {
     "data": {
      "text/plain": [
       "('AY968064', 10234)"
      ]
     },
     "execution_count": null,
     "metadata": {},
     "output_type": "execute_result"
    }
   ],
   "source": [
    "original_seq = refseqs_fasta[refseqid]['sequence']\n",
    "original_seq_accession = refseqs_fasta[refseqid]['accession']\n",
    "\n",
    "original_seq_accession, len(original_seq)"
   ]
  },
  {
   "cell_type": "code",
   "execution_count": null,
   "metadata": {},
   "outputs": [
    {
     "data": {
      "text/plain": [
       "dict_keys(['11089:ncbi:1', '11089:ncbi:2', '11089:ncbi:3', '11089:ncbi:4', '11089:ncbi:5', '11089:ncbi:6', '11089:ncbi:7', '11089:ncbi:8', '11089:ncbi:9', '11089:ncbi:10', '11089:ncbi:11', '11089:ncbi:12', '11089:ncbi:13', '11089:ncbi:14', '11089:ncbi:15', '11089:ncbi:16', '11089:ncbi:17', '11089:ncbi:18', '11089:ncbi:19', '11089:ncbi:20', '11089:ncbi:21', '11089:ncbi:22', '11089:ncbi:23', '11089:ncbi:24', '11089:ncbi:25', '11089:ncbi:26', '11089:ncbi:27', '11089:ncbi:28', '11089:ncbi:29', '11089:ncbi:30', '11089:ncbi:31', '11089:ncbi:32', '11089:ncbi:33', '11089:ncbi:34', '11089:ncbi:35', '11089:ncbi:36', '11089:ncbi:37', '11089:ncbi:38', '11089:ncbi:39', '11089:ncbi:40', '11089:ncbi:41', '11089:ncbi:42', '11089:ncbi:43', '11089:ncbi:44', '11089:ncbi:45', '11089:ncbi:46', '11089:ncbi:47', '11089:ncbi:48', '11089:ncbi:49', '11089:ncbi:50', '11089:ncbi:51', '11089:ncbi:52', '11089:ncbi:53', '11089:ncbi:54', '11089:ncbi:55', '11089:ncbi:56', '11089:ncbi:57', '11089:ncbi:58', '11089:ncbi:59', '11089:ncbi:60', '11089:ncbi:61', '11089:ncbi:62', '11089:ncbi:63', '11089:ncbi:64', '11089:ncbi:65', '11089:ncbi:66', '11089:ncbi:67', '11089:ncbi:68', '11089:ncbi:69'])"
      ]
     },
     "execution_count": null,
     "metadata": {},
     "output_type": "execute_result"
    }
   ],
   "source": [
    "refseqs_fasta.keys()\n",
    "refseqs_aln.keys()"
   ]
  },
  {
   "cell_type": "markdown",
   "metadata": {},
   "source": [
    "In the output`.aln` file"
   ]
  },
  {
   "cell_type": "code",
   "execution_count": null,
   "metadata": {},
   "outputs": [
    {
     "data": {
      "text/plain": [
       "('AY968064', 10234)"
      ]
     },
     "execution_count": null,
     "metadata": {},
     "output_type": "execute_result"
    }
   ],
   "source": [
    "assert original_seq_accession == refseqs_aln[refseqid]['refseq_accession']\n",
    "assert len(original_seq) == int(refseqs_aln[refseqid]['refseq_length'])\n",
    "\n",
    "refseqs_aln[refseqid]['refseq_accession'], int(refseqs_aln[refseqid]['refseq_length'])"
   ]
  },
  {
   "cell_type": "markdown",
   "metadata": {},
   "source": [
    "### Check alignment information"
   ]
  },
  {
   "cell_type": "code",
   "execution_count": null,
   "metadata": {},
   "outputs": [
    {
     "name": "stdout",
     "output_type": "stream",
     "text": [
      "{'aln_start_pos': '7662',\n",
      " 'read_seq_aligned': 'AAGGTGGACACGGGAGTGGCCGTGTCGAGAGGGACTGCAAAGCTGAGATGGTTCCACGAGCGTGGCTATGTGAAGCTAGAAGGAAGGGTCACCGATCTTGGGTGTGGACGTGGAGGCTGGTGCTACTATGCAGCAGCTCAAAAAGACGTT',\n",
      " 'readid': '11089:ncbi:1-13598',\n",
      " 'readnb': '13598',\n",
      " 'ref_seq_aligned': 'AAGGTGGACACGGGAGTGGCCGTGTCGAGAGGGACTGCAAAGCTGAGATGGTTCCACGAGCGTGGCTATGTGAAGCTAGAAGGAAGGGTCACCGATCTTGGGTGTGGACGTGGAGGCTGGTGCTACTATGCAGCAGCTCAAAAAGAAGTT',\n",
      " 'refseq_strand': '+',\n",
      " 'refseqid': '11089:ncbi:1',\n",
      " 'refseqnb': '1',\n",
      " 'refsource': 'ncbi',\n",
      " 'reftaxonomyid': '11089'}\n"
     ]
    }
   ],
   "source": [
    "pprint(simread_align['11089:ncbi:1-13598'])"
   ]
  },
  {
   "cell_type": "markdown",
   "metadata": {},
   "source": [
    "Select all reads generated from a single reference sequence"
   ]
  },
  {
   "cell_type": "code",
   "execution_count": null,
   "metadata": {},
   "outputs": [
    {
     "name": "stdout",
     "output_type": "stream",
     "text": [
      "Select all reads from reference sequence '11089:ncbi:1''\n",
      "Total of 17,000 reads\n"
     ]
    }
   ],
   "source": [
    "print(f\"Select all reads from reference sequence '{refseqid}''\")\n",
    "reads_from_refseq = {k:v for k,v in simread_align.items() if v['refseqid']==refseqid}\n",
    "nbr_generated_reads = len(reads_from_refseq)\n",
    "print(f\"Total of {nbr_generated_reads:,d} reads\")"
   ]
  },
  {
   "cell_type": "code",
   "execution_count": null,
   "metadata": {},
   "outputs": [
    {
     "name": "stdout",
     "output_type": "stream",
     "text": [
      "{'aln_start_pos': '3841',\n",
      " 'read_seq_aligned': 'CATGGCCTCCCCACCCTTCTTTGCCAGGAAATCGGGCAACTCCGTGAGGATCACAAGCATCTCAGCAGCCCCTCTTCTGCCTTCTGCAAACTTGATGAAGTCAGCCAAGGCACTCTGGTCTGAGGAAACTCTCTCGTCACACCATCTAGG',\n",
      " 'readid': '11089:ncbi:1-16994',\n",
      " 'readnb': '16994',\n",
      " 'ref_seq_aligned': 'CATGGCCTCCCCACCCTTCTTTGCCAGGAAATCGGGCAACTCCGTGAGGATCACAAGCATCTCAGCAGCCCCTCTTCTGCCTTCTGCAAACTTGATGAAGTCAGCCAAGGCACTCTGGTCTGAGGAAACTCTCTCGTCACACCATCTAGG',\n",
      " 'refseq_strand': '-',\n",
      " 'refseqid': '11089:ncbi:1',\n",
      " 'refseqnb': '1',\n",
      " 'refsource': 'ncbi',\n",
      " 'reftaxonomyid': '11089'}\n"
     ]
    }
   ],
   "source": [
    "n = 6\n",
    "selected_simread = [v for k,v in reads_from_refseq.items()][n]\n",
    "pprint(selected_simread)"
   ]
  },
  {
   "cell_type": "code",
   "execution_count": null,
   "metadata": {},
   "outputs": [],
   "source": [
    "def check_alignment(n, reads):\n",
    "    selected_simread = [v for k,v in reads.items()][n]\n",
    "    print(f\"{'='*80}\")\n",
    "    print(f\"checking read {selected_simread['readid']}\")\n",
    "    start = int(selected_simread['aln_start_pos'])\n",
    "    strand = selected_simread['refseq_strand']\n",
    "    print(f\"simread info:\")\n",
    "    print(f\" - from `{strand}` strand\")\n",
    "    print(f\" - position: {start:,d}\")\n",
    "\n",
    "    if strand == '+':\n",
    "        segment_from_refseq = original_seq[start:start+50]\n",
    "    else:\n",
    "        segment_from_refseq = complementary_strand(reverse_sequence(original_seq)[start:start+50])\n",
    "\n",
    "    print('sequences:')\n",
    "    print(f'- simread seq          :', selected_simread['read_seq_aligned'])\n",
    "    print(f'- refseq aligned       :', selected_simread['ref_seq_aligned'])\n",
    "    print(f'- segment in orig. seq :', segment_from_refseq)"
   ]
  },
  {
   "cell_type": "code",
   "execution_count": null,
   "metadata": {},
   "outputs": [
    {
     "name": "stdout",
     "output_type": "stream",
     "text": [
      "================================================================================\n",
      "checking read 11089:ncbi:1-1\n",
      "simread info:\n",
      " - from `-` strand\n",
      " - position: 6,520\n",
      "sequences:\n",
      "- simread seq          : TGCTCCAAATGCCATTACAAGTCGCTCCCGAGGACTCCACAGTGTGCGCAGCCCAAAGCCCATGAGCACGCCTGGCCGGATGGAAAAGCTGGCAATTAATGCCATGTACATGGCATCTCCTCCGTTGTTAATCTCATGGAAGTGCAATCC\n",
      "- refseq aligned       : TGCTCCAAATGCCATTACAAGTCGCTCCCGAGGACTCCACAGTGTGCGCAGCCCAAAGCCCATGAGCAGGCCTGGCCGGATGGAAAAGCTGGCAATTAATGCCATGTACATGGCATCTCCTCCGTTGTTAATCTCATGGAAGTGCAATCC\n",
      "- segment in orig. seq : TGCTCCAAATGCCATTACAAGTCGCTCCCGAGGACTCCACAGTGTGCGCA\n",
      "================================================================================\n",
      "checking read 11089:ncbi:1-2\n",
      "simread info:\n",
      " - from `+` strand\n",
      " - position: 5,126\n",
      "sequences:\n",
      "- simread seq          : ATTAGCACCCACCAGGGTTGTTTTGTCAGAGATGAAAGAAGCTTTTCAGGGGTTGGATGTGAAATTCCACACACAAGCTTTCTCAGCCCATGGGAGTGGGAAGGAGGTCATTGATGCAATGTGCCATGCAACCCTTACATATAGAATGCT\n",
      "- refseq aligned       : ATTAGCACCCACCAGGGTTGTTTTGTCAGAGATGAAAGAAGCTTTTCAGGGGTTGGATGTGAAATTCCACACACAAGCTTTCTCAGCCCATGGGAGTGGGAAGGAGGTCATTGATGCAATGTGCCATGCAACCCTTACATATAGAATGCT\n",
      "- segment in orig. seq : ATTAGCACCCACCAGGGTTGTTTTGTCAGAGATGAAAGAAGCTTTTCAGG\n",
      "================================================================================\n",
      "checking read 11089:ncbi:1-3\n",
      "simread info:\n",
      " - from `+` strand\n",
      " - position: 827\n",
      "sequences:\n",
      "- simread seq          : GGTTCTAGCGGTTGGTCCAGCGTACTCTGCCCATTGCATAGGGATAACCGACAGAGATTTCATTGAAGGTGTCCATGGGGGCACTTGGGTGTCAGCCACTCTGGAGCAGGACAAATGCGTGACTGTAATGGCCCCTGACAAACCTTCTCT\n",
      "- refseq aligned       : GGTTCTAGCGGTTGGTCCAGCGTACTCTGCCCATTGCATAGGGATAACCGACAGAGATTTCATTGAAGGTGTCCATGGGGGCACTTGGGTGTCAGCCACTCTGGAGCAGGACAAATGCGTGACTGTAATGGCCCCTGACAAACCTTCTCT\n",
      "- segment in orig. seq : GGTTCTAGCGGTTGGTCCAGCGTACTCTGCCCATTGCATAGGGATAACCG\n",
      "================================================================================\n",
      "checking read 11089:ncbi:1-4\n",
      "simread info:\n",
      " - from `+` strand\n",
      " - position: 5,198\n",
      "sequences:\n",
      "- simread seq          : ACAAGCTTTCTCAGCCCATGGGAGTGGGAAGGAGGTCATTGATGCAATGTGCCATGCAACCCTTACATATAGAATGCTGGAACCAACAAGGGTAGTCAACTGGGAGGTCATTATCATGGATGAGGCGCACTTCCTGGACCCTGCTAGCAT\n",
      "- refseq aligned       : ACAAGCTTTCTCAGCCCATGGGAGTGGGAAGGAGGTCATTGATGCAATGTGCCATGCAACCCTTACATATAGAATGCTGGAACCAACAAGGGTAGTCAACTGGGAGGTCATTATCATGGATGAGGCGCACTTCCTGGACCCTGCTAGCAT\n",
      "- segment in orig. seq : ACAAGCTTTCTCAGCCCATGGGAGTGGGAAGGAGGTCATTGATGCAATGT\n",
      "================================================================================\n",
      "checking read 11089:ncbi:1-5\n",
      "simread info:\n",
      " - from `-` strand\n",
      " - position: 3,006\n",
      "sequences:\n",
      "- simread seq          : GATTACCATCAACAACTGGATTTTTTGCCACTCCATGAAAAACTCTTTTTTGAGCCAGCTTTGATTGCTGGGCTTTAATCGCAGGAATTATGAGCGTCCAGTGCAACATGGCTCCACCAATGCCGCACAACAGAGGGATCACTGTGATTG\n",
      "- refseq aligned       : GATTACCATCAACAACTGGATTTTTTGCCACTCCATGAAAAACTCTTTTTTGAGCCAGCTTTGATTGCTGGGCTTTAATCCCAGGAAGTATGAGCGTCCAGTGCAACATGGCTCCACCAATGCCGCACAACAGAGGGATCACTGTGATTG\n",
      "- segment in orig. seq : GATTACCATCAACAACTGGATTTTTTGCCACTCCATGAAAAACTCTTTTT\n"
     ]
    }
   ],
   "source": [
    "for n in range(nbr_generated_reads-1, nbr_generated_reads-6, -1):\n",
    "    check_alignment(n, reads_from_refseq)"
   ]
  },
  {
   "cell_type": "markdown",
   "metadata": {},
   "source": [
    "# end of section"
   ]
  }
 ],
 "metadata": {
  "kernelspec": {
   "display_name": "python3",
   "language": "python",
   "name": "python3"
  }
 },
 "nbformat": 4,
 "nbformat_minor": 1
}
