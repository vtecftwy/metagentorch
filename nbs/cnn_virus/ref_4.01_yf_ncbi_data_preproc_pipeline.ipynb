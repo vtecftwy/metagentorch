{
 "cells": [
  {
   "cell_type": "markdown",
   "metadata": {},
   "source": [
    "# Preprocess NCBI Yellow Fever (YFV) Sequences"
   ]
  },
  {
   "cell_type": "markdown",
   "metadata": {},
   "source": [
    "In this notebook,we will:\n",
    "- Standardize the reference sequence FASTA definition lines\n",
    "- Remove the gaps inserted in aligned reference sequences (`-` characters)\n",
    "- Generate a set of simulated reads by using ARt Illumina."
   ]
  },
  {
   "cell_type": "markdown",
   "metadata": {},
   "source": [
    "> Note: The notebook was built and tested to run locally. It will not work on Colab or Kaggle because Art Illumina must be installed on the system."
   ]
  },
  {
   "cell_type": "markdown",
   "metadata": {},
   "source": [
    "# 1. Imports and setup environment"
   ]
  },
  {
   "cell_type": "markdown",
   "metadata": {},
   "source": [
    "### Install and import packages"
   ]
  },
  {
   "cell_type": "code",
   "execution_count": 1,
   "metadata": {},
   "outputs": [
    {
     "name": "stdout",
     "output_type": "stream",
     "text": [
      "`eccore` already installed\n",
      "`metagentorch` already installed\n"
     ]
    }
   ],
   "source": [
    "# Install required custom packages if not installed yet.\n",
    "import importlib.util\n",
    "if not importlib.util.find_spec('eccore'):\n",
    "    print('installing package: `eccore`')\n",
    "    ! pip install -qqU eccore\n",
    "else:\n",
    "    print('`eccore` already installed')\n",
    "if not importlib.util.find_spec('metagentorch'):\n",
    "    print('installing package: `metagentorch')\n",
    "    ! pip install -qqU metagentorch\n",
    "else:\n",
    "    print('`metagentorch` already installed')"
   ]
  },
  {
   "cell_type": "code",
   "execution_count": 2,
   "metadata": {},
   "outputs": [
    {
     "name": "stdout",
     "output_type": "stream",
     "text": [
      "Set autoreload mode\n"
     ]
    }
   ],
   "source": [
    "# Import all required packages\n",
    "import matplotlib.pyplot as plt\n",
    "import numpy as np\n",
    "import pandas as pd\n",
    "import os\n",
    "import re\n",
    "\n",
    "from eccore.core import files_in_tree\n",
    "from eccore.ipython import nb_setup\n",
    "from IPython.display import display, Markdown\n",
    "from nbdev import show_doc\n",
    "from pathlib import Path\n",
    "from pprint import pprint\n",
    "from tqdm.notebook import tqdm, trange\n",
    "\n",
    "# Setup the notebook for development\n",
    "nb_setup()\n",
    "\n",
    "from metagentorch.cnn_virus.data import FastaFileReader, FastqFileReader, AlnFileReader\n",
    "from metagentorch.core import ProjectFileSystem\n",
    "from metagentorch.art import ArtIllumina"
   ]
  },
  {
   "cell_type": "markdown",
   "metadata": {},
   "source": [
    "# 2. Review project file system"
   ]
  },
  {
   "cell_type": "markdown",
   "metadata": {},
   "source": [
    "This project adopts a unified file structure to make coding and colaboration easier. In addition, we can run the code locally (from a `project-root` directory) or in the cloud (colab or kaggle).\n",
    "\n",
    "The unified file structure when running localy is:\n",
    "```text\n",
    "    project-root   \n",
    "        |--- data\n",
    "        |      |--- CNN_Virus_data  (all data related to CNN Virus original paper)\n",
    "        |      |--- ncbi            (all data related to NCBI reference sequences)\n",
    "        |      |--- saved           (trained and finetuned models)\n",
    "        |      |--- ....            (raw and pre-processed data from various sources)  \n",
    "        |      \n",
    "        |--- nbs  (all reference and work notebooks)\n",
    "        |      |--- cnn_virus\n",
    "        |      |        |--- ref_n.n_notebooks.ipynb\n",
    "        |      |        |--- wip_n.n_notebooks.ipynb\n",
    "```\n",
    "\n",
    "When running on google colab, it is assumed that a google drive is mounted on the colab server instance, and that the google drive root includes a shortcut named `Metagenomics` and pointing to the project shared directory. The project shared directory is accessible [here](/https://drive.google.com/drive/folders/134uei5fmt08TpzhmjG4sW0FQ06kn2ZfZ) if your google account was given access permission."
   ]
  },
  {
   "cell_type": "markdown",
   "metadata": {},
   "source": [
    "To make access to the unified file system, `metagentorch` provides a `ProjectFileSystem` class (see [documentation](https://vtecftwy.github.io/metagentorch/core.html#projectfilesystem) for more info).\n",
    "\n",
    "Key folders and system information"
   ]
  },
  {
   "cell_type": "code",
   "execution_count": 3,
   "metadata": {},
   "outputs": [
    {
     "name": "stdout",
     "output_type": "stream",
     "text": [
      "Running linux on local computer\n",
      "Device's home directory: /home/vtec\n",
      "Project file structure:\n",
      " - Root ........ /home/vtec/projects/bio/metagentorch \n",
      " - Data Dir .... /home/vtec/projects/bio/metagentorch/data \n",
      " - Notebooks ... /home/vtec/projects/bio/metagentorch/nbs\n"
     ]
    }
   ],
   "source": [
    "pfs = ProjectFileSystem()\n",
    "pfs.info()"
   ]
  },
  {
   "cell_type": "code",
   "execution_count": 4,
   "metadata": {},
   "outputs": [
    {
     "data": {
      "text/html": [
       "<hr>"
      ],
      "text/plain": [
       "<IPython.core.display.HTML object>"
      ]
     },
     "metadata": {},
     "output_type": "display_data"
    },
    {
     "data": {
      "text/markdown": [
       "ReadMe file for directory `data`:"
      ],
      "text/plain": [
       "<IPython.core.display.Markdown object>"
      ]
     },
     "metadata": {},
     "output_type": "display_data"
    },
    {
     "data": {
      "text/html": [
       "<hr>"
      ],
      "text/plain": [
       "<IPython.core.display.HTML object>"
      ]
     },
     "metadata": {},
     "output_type": "display_data"
    },
    {
     "data": {
      "text/markdown": [
       "### Data structure for this project\n",
       "This directory includes all the data required for the project.\n",
       "\n",
       "```text\n",
       "data\n",
       " |--- CNN_Virus_data \n",
       " |--- ncbi                \n",
       " |--- saved         \n",
       " |--- yf-reads\n",
       " |--- ....           \n",
       "     \n",
       "```\n",
       "#### Sub-directories\n",
       "- `CNN_Virus_data`: includes all the data related to the original CNN Virus paper, i.e. training data and validation data in a format that can be used by the CNN Virus code.\n",
       "- `ncbi`: includes data related to the use of viral sequences from NCBI: reference sequences, simulated reads, inference datasets, inference results.\n",
       "- `saved`: includes model saved parameters and preprocessing datasets.\n",
       "- `yf-reads`: includes all data related to real yellow fever reads, from \"wet\" samples\n",
       "\n",
       "Also available on AWS S3 at `https://s3.ap-southeast-1.amazonaws.com/bio.cnn-virus.data/data/...`"
      ],
      "text/plain": [
       "<IPython.core.display.Markdown object>"
      ]
     },
     "metadata": {},
     "output_type": "display_data"
    },
    {
     "data": {
      "text/html": [
       "<hr>"
      ],
      "text/plain": [
       "<IPython.core.display.HTML object>"
      ]
     },
     "metadata": {},
     "output_type": "display_data"
    }
   ],
   "source": [
    "pfs.readme()"
   ]
  },
  {
   "cell_type": "code",
   "execution_count": 5,
   "metadata": {},
   "outputs": [
    {
     "name": "stdout",
     "output_type": "stream",
     "text": [
      "refsequences\n",
      "  |--yf\n",
      "  |    |--yf_1971_angola.fa (0)\n",
      "  |    |--yf_2023_yellow_fever.fa (1)\n",
      "  |    |--yf_2023_yellow_fever_with_missing_bases.fa (2)\n",
      "  |    |--yf_2023_yellow_fever_aligned.fa (3)\n",
      "  |    |--yf_2023_multiple_alignment_original.fa (4)\n",
      "  |    |--readme.md (5)\n",
      "  |    |--yf_NC_002031_full_sequence.fa (6)\n"
     ]
    }
   ],
   "source": [
    "files_in_tree(pfs.data/'ncbi/refsequences/yf');"
   ]
  },
  {
   "cell_type": "markdown",
   "metadata": {},
   "source": [
    "`yf_2023_multiple_alignment_original.fa (4)` is the file including the original reference sequences"
   ]
  },
  {
   "cell_type": "markdown",
   "metadata": {},
   "source": [
    "# 3. Standardize YFV FASTA definition line"
   ]
  },
  {
   "cell_type": "code",
   "execution_count": 6,
   "metadata": {},
   "outputs": [
    {
     "name": "stdout",
     "output_type": "stream",
     "text": [
      "\n",
      "Sequence 1:\n",
      ">AY968064_Angola_1971\n",
      "ATGTCTGGTCGAAAAGCTCAGGGTAAAACCCTGGGCGTCAATATGGTAAGACGAGGGGTTCGCTCCTTGTCAAACAAAAT ...\n"
     ]
    },
    {
     "name": "stderr",
     "output_type": "stream",
     "text": [
      "/home/vtec/projects/bio/metagentorch/metagentorch/core.py:678: UserWarning: \n",
      "        None of the saved parsing rules were able to extract metadata from the first line in this file.\n",
      "        You must set a custom rule (pattern + keys) before parsing text, by using:\n",
      "            `self.set_parsing_rules(custom_pattern, custom_list_of_keys)`\n",
      "                \n",
      "  warnings.warn(msg, category=UserWarning)\n"
     ]
    }
   ],
   "source": [
    "p2yfrefseqs = pfs.data / 'ncbi/refsequences/yf/yf_2023_multiple_alignment_original.fa'\n",
    "assert p2yfrefseqs.is_file()\n",
    "fasta_original = FastaFileReader(p2yfrefseqs)\n",
    "fasta_original.print_first_chunks(1)"
   ]
  },
  {
   "cell_type": "markdown",
   "metadata": {},
   "source": [
    "Metadata on YFV in the NCBI database: \n",
    "\n",
    "- Taxonomy ID: [11089](https://www.ncbi.nlm.nih.gov/Taxonomy/Browser/wwwtax.cgi?id=11089)\n",
    "- Accession Number: [AY968064](https://www.ncbi.nlm.nih.gov/nuccore/AY968064)\n",
    "\n",
    "Metadata on [AY968064](https://www.ncbi.nlm.nih.gov/nuccore/AY968064)\n",
    "```\n",
    "source: \n",
    "    /organism=\"Yellow fever virus\"\n",
    "    /mol_type=\"genomic RNA\"\n",
    "    /strain=\"Angola71\"\n",
    "    /host=\"Homo sapiens\"/db_xref=\"taxon:11089\"\n",
    "    /geo_loc_name=\"Angola\"\n",
    "\n",
    "CDS:\n",
    "    121..10359\n",
    "    /codon_start=1\n",
    "    /product=\"polyprotein\"\n",
    "    /protein_id=\"AAY34247.1\"\n",
    "```\n"
   ]
  },
  {
   "cell_type": "markdown",
   "metadata": {},
   "source": [
    "In the original file, the definition line is like `>AY968064_Angola_1971` where the start of the line is the accession and the end is the strain name\n",
    "\n",
    "We want to standardize it to match this project standard definition line (tab separated):\n",
    "- `>taxonomy_id:ncbi:seqnb\tseqnb\taccession\ttaxonomy_id\tncbi accession  description`\n",
    "\n",
    "YFV taxonomy ID is `11089` for all accessions. \n",
    "\n",
    "New definition line: `>11089:ncbi:seqnb accession\t11089\tncbi\t11098\tstrain`\n",
    "\n",
    "`>AY968064_Angola_1971` will be transformed into `>11089:ncbi:seqnb seqnb  AY968064\t11089\tncbi\tAngola_1971`"
   ]
  },
  {
   "cell_type": "code",
   "execution_count": 7,
   "metadata": {},
   "outputs": [],
   "source": [
    "p2yf_new_dfn_lines = pfs.data / 'ncbi/refsequences/yf/yf_2023_yellow_fever_aligned.fa'"
   ]
  },
  {
   "cell_type": "code",
   "execution_count": 14,
   "metadata": {},
   "outputs": [
    {
     "data": {
      "text/plain": [
       "dict_keys(['accession', 'species'])"
      ]
     },
     "execution_count": 14,
     "metadata": {},
     "output_type": "execute_result"
    }
   ],
   "source": [
    "re_accession = re.compile(r'^>(?P<accession>[A-Z]{1,2}\\d*)(\\_|\\.\\d)?_(?P<species>.*)$')\n",
    "re_accession.groupindex.keys()"
   ]
  },
  {
   "cell_type": "code",
   "execution_count": 9,
   "metadata": {},
   "outputs": [
    {
     "name": "stdout",
     "output_type": "stream",
     "text": [
      "No new fasta file created\n"
     ]
    }
   ],
   "source": [
    "CREATE_NEW_FA = False\n",
    "if CREATE_NEW_FA:\n",
    "    print('>11089:ncbi:1\t1\tAY968064\t11089\tncbi\tAngola_1971')   \n",
    "    original_fa = FastaFileReader(p2yfrefseqs)\n",
    "    with open(p2yf_new_dfn_lines, 'w') as fp:\n",
    "        for i, refseq in enumerate(original_fa):\n",
    "            dfn = refseq['definition line']\n",
    "            accession = re_accession.search(dfn).group('accession')\n",
    "            species = re_accession.search(dfn).group('species')\n",
    "            new_dfn = f\">11089:ncbi:{i+1}\\t{i+1}\\t{accession}\\t11089\\tncbi\\t{species}\"\n",
    "\n",
    "            fp.write(f\"{new_dfn}\\n{refseq['sequence']}\\n\")\n",
    "            # print(dfn)\n",
    "            # print(new_dfn)\n",
    "            # if i > 10: break\n",
    "else:\n",
    "    print('No new fasta file created')"
   ]
  },
  {
   "cell_type": "markdown",
   "metadata": {},
   "source": [
    "When we create FastFileReader with the new file, the format is understood"
   ]
  },
  {
   "cell_type": "code",
   "execution_count": 15,
   "metadata": {},
   "outputs": [
    {
     "name": "stdout",
     "output_type": "stream",
     "text": [
      "\n",
      "Sequence 1:\n",
      ">11089:ncbi:1\t1\tAY968064\t11089\tncbi\tAngola_1971\n",
      "ATGTCTGGTCGAAAAGCTCAGGGTAAAACCCTGGGCGTCAATATGGTAAGACGAGGGGTTCGCTCCTTGTCAAACAAAAT ...\n"
     ]
    }
   ],
   "source": [
    "new_fa = FastaFileReader(p2yf_new_dfn_lines)\n",
    "new_fa.print_first_chunks(1)"
   ]
  },
  {
   "cell_type": "code",
   "execution_count": 16,
   "metadata": {},
   "outputs": [
    {
     "data": {
      "text/plain": [
       "'fasta_ncbi_std'"
      ]
     },
     "execution_count": 16,
     "metadata": {},
     "output_type": "execute_result"
    }
   ],
   "source": [
    "new_fa.re_rule_name"
   ]
  },
  {
   "cell_type": "markdown",
   "metadata": {},
   "source": [
    "# 4. Remove gaps from reference sequences"
   ]
  },
  {
   "cell_type": "markdown",
   "metadata": {},
   "source": [
    "The original fasta file (`yf_2023_yellow_fever_aligned.fa`) consists of **aligned** sequences from the coding region ([CDS](https://www.ncbi.nlm.nih.gov/books/NBK470040/)) of each accession. This means:\n",
    "- All sequence strings in the file have the same length\n",
    "- Sequences include gaps  (`-` characters) used to align the sequences with each other."
   ]
  },
  {
   "cell_type": "code",
   "execution_count": 17,
   "metadata": {},
   "outputs": [
    {
     "name": "stdout",
     "output_type": "stream",
     "text": [
      "gap character found in position 7993 for:\n",
      ">11089:ncbi:1\t1\tAY968064\t11089\tncbi\tAngola_1971\n"
     ]
    }
   ],
   "source": [
    "p2fa_aligned = pfs.data / 'ncbi/refsequences/yf/yf_2023_yellow_fever_aligned.fa'\n",
    "assert p2fa_aligned.is_file()\n",
    "p2fa_original = pfs.data / 'ncbi/refsequences/yf/yf_2023_yellow_fever.fa'\n",
    "\n",
    "fa_aligned = FastaFileReader(p2fa_aligned)\n",
    "for refseq in fa_aligned:\n",
    "    if '-' in refseq['sequence']:\n",
    "        print('gap character found in position',refseq['sequence'].index('-'), 'for:')\n",
    "        print(refseq['definition line'])\n",
    "        break"
   ]
  },
  {
   "cell_type": "markdown",
   "metadata": {},
   "source": [
    "For our purpose, we want to use unaligned sequences. Therefore we need to remove those `-` characters from the sequences, before we use them for read simulation."
   ]
  },
  {
   "cell_type": "code",
   "execution_count": 18,
   "metadata": {},
   "outputs": [],
   "source": [
    "CREATE_NEW_FA = False\n",
    "\n",
    "if CREATE_NEW_FA:\n",
    "\n",
    "    with open(p2fa_aligned) as fp_in:\n",
    "        i, EOF = 0, False\n",
    "        with open(p2fa_original, 'w') as fp_out:\n",
    "            print(f\"Saving new file in {p2fa_original.name}\")\n",
    "            while not EOF:\n",
    "                line = fp_in.readline()\n",
    "                if line == '': \n",
    "                    EOF = True\n",
    "                elif line.startswith('>'):\n",
    "                    fp_out.write(line)\n",
    "                else:\n",
    "                    fp_out.write(line.replace('-', ''))\n",
    "                    # l2 = line.replace('-', '')\n",
    "                    # print(len(line)-len(l2), 'gaps removed')\n",
    "                # if i > 20: break"
   ]
  },
  {
   "cell_type": "markdown",
   "metadata": {},
   "source": [
    "Read the cleaned up file"
   ]
  },
  {
   "cell_type": "code",
   "execution_count": 19,
   "metadata": {},
   "outputs": [
    {
     "name": "stdout",
     "output_type": "stream",
     "text": [
      ">11089:ncbi:1\t1\tAY968064\t11089\tncbi\tAngola_1971\n",
      "10,234 bases in the sequence. Gap in sequence? False\n"
     ]
    }
   ],
   "source": [
    "p2fa = pfs.data / 'ncbi/refsequences/yf/yf_2023_yellow_fever.fa'\n",
    "assert p2fa.is_file()\n",
    "\n",
    "fa = FastaFileReader(p2fa)\n",
    "\n",
    "refseq = next(fa)\n",
    "print(refseq['definition line'])\n",
    "seq = refseq['sequence']\n",
    "print(f\"{len(seq):,d} bases in the sequence. Gap in sequence? {'-' in seq}\")"
   ]
  },
  {
   "cell_type": "markdown",
   "metadata": {},
   "source": [
    "Check that no `-` characters are present in the sequences"
   ]
  },
  {
   "cell_type": "code",
   "execution_count": 20,
   "metadata": {},
   "outputs": [],
   "source": [
    "fa.reset_iterator()\n",
    "for refseq in fa:\n",
    "    if '-' in refseq['sequence']:\n",
    "        print('gap character found in position',refseq['sequence'].index('-'), 'for:')\n",
    "        print(refseq['definition line'])"
   ]
  },
  {
   "cell_type": "markdown",
   "metadata": {},
   "source": [
    "# 5. Generate simulated reads"
   ]
  },
  {
   "cell_type": "markdown",
   "metadata": {},
   "source": [
    "## Review the data in the input reference sequence FASTA file"
   ]
  },
  {
   "cell_type": "code",
   "execution_count": 21,
   "metadata": {},
   "outputs": [
    {
     "name": "stdout",
     "output_type": "stream",
     "text": [
      "refsequences\n",
      "  |--yf\n",
      "  |    |--yf_2023_yellow_fever.fa (0)\n",
      "  |    |--yf_2023_yellow_fever_with_missing_bases.fa (1)\n",
      "  |    |--yf_2023_yellow_fever_aligned.fa (2)\n"
     ]
    }
   ],
   "source": [
    "p2yfv_refs = pfs.data / 'ncbi/refsequences/yf'\n",
    "assert p2yfv_refs.is_dir()\n",
    "files = files_in_tree(p2yfv_refs, pattern='yellow_fever')"
   ]
  },
  {
   "cell_type": "code",
   "execution_count": null,
   "metadata": {},
   "outputs": [
    {
     "name": "stdout",
     "output_type": "stream",
     "text": [
      "\n",
      "Sequence 1:\n",
      ">11089:ncbi:1\t1\tAY968064\t11089\tncbi\tAngola_1971\n",
      "ATGTCTGGTCGAAAAGCTCAGGGTAAAACCCTGGGCGTCAATATGGTAAGACGAGGGGTTCGCTCCTTGTCAAACAAAAT ...\n",
      "\n",
      "Sequence 2:\n",
      ">11089:ncbi:2\t2\tU54798\t11089\tncbi\tIvory_Coast_1982\n",
      "ATGTCTGGTCGCAAAGCTCAGGGAAAAACCCTGGGCGTCAATATGGTTCGACGGGGAGTCCGCTCCTTGTCAAACAAAAT ...\n",
      "\n",
      "Sequence 3:\n",
      ">11089:ncbi:3\t3\tDQ235229\t11089\tncbi\tEthiopia_1961\n",
      "ATGTCTGGTCGAAAAGCTCAGGGTAAAACCCTGGGCGTCAATATGGTAAGACGGGGAGCACGCTCCTTGTCAAACAAAAT ...\n"
     ]
    }
   ],
   "source": [
    "p2inputs = pfs.data / 'ncbi/refsequences/yf/yf_2023_yellow_fever.fa'\n",
    "assert p2fa.is_file()\n",
    "fasta = FastaFileReader(p2inputs)\n",
    "fasta.print_first_chunks(3)"
   ]
  },
  {
   "cell_type": "code",
   "execution_count": null,
   "metadata": {},
   "outputs": [
    {
     "name": "stdout",
     "output_type": "stream",
     "text": [
      "69 sequences in the file, with an average length of 10,227 bases\n"
     ]
    }
   ],
   "source": [
    "fasta.reset_iterator()\n",
    "cum_length = 0\n",
    "for i, refseq in enumerate(fasta):\n",
    "    cum_length += len(refseq['sequence'])\n",
    "nb_sequences = i+1\n",
    "mean_length = int(cum_length / nb_sequences)\n",
    "print(f\"{nb_sequences:,d} sequences in the file, with an average length of {mean_length:,d} bases\")"
   ]
  },
  {
   "cell_type": "markdown",
   "metadata": {},
   "source": [
    "## ART Illumina: Single read simulation - 150 bp read"
   ]
  },
  {
   "cell_type": "code",
   "execution_count": 22,
   "metadata": {},
   "outputs": [
    {
     "data": {
      "text/markdown": [
       "---\n",
       "\n",
       "[source](https://github.com/vtecftwy/metagentorch/blob/main/metagentorch/art.py#LNone){target=\"_blank\" style=\"float:right; font-size:smaller\"}\n",
       "\n",
       "### ArtIllumina\n",
       "\n",
       ">      ArtIllumina (path2app:str|pathlib.Path, input_dir:str|pathlib.Path,\n",
       ">                   output_dir:str|pathlib.Path=None,\n",
       ">                   app_in_system_path:bool=False)\n",
       "\n",
       "*Class to handle all aspects of simulating sequencing with art_illumina*\n",
       "\n",
       "|    | **Type** | **Default** | **Details** |\n",
       "| -- | -------- | ----------- | ----------- |\n",
       "| path2app | str \\| pathlib.Path |  | full path to art_illumina application on the system |\n",
       "| input_dir | str \\| pathlib.Path |  | full path to dir where input files are |\n",
       "| output_dir | str \\| pathlib.Path | None | full path to dir where to save output files, if different from input_dir |\n",
       "| app_in_system_path | bool | False | whether `art_illumina` is in the system path or not |"
      ],
      "text/plain": [
       "---\n",
       "\n",
       "[source](https://github.com/vtecftwy/metagentorch/blob/main/metagentorch/art.py#LNone){target=\"_blank\" style=\"float:right; font-size:smaller\"}\n",
       "\n",
       "### ArtIllumina\n",
       "\n",
       ">      ArtIllumina (path2app:str|pathlib.Path, input_dir:str|pathlib.Path,\n",
       ">                   output_dir:str|pathlib.Path=None,\n",
       ">                   app_in_system_path:bool=False)\n",
       "\n",
       "*Class to handle all aspects of simulating sequencing with art_illumina*\n",
       "\n",
       "|    | **Type** | **Default** | **Details** |\n",
       "| -- | -------- | ----------- | ----------- |\n",
       "| path2app | str \\| pathlib.Path |  | full path to art_illumina application on the system |\n",
       "| input_dir | str \\| pathlib.Path |  | full path to dir where input files are |\n",
       "| output_dir | str \\| pathlib.Path | None | full path to dir where to save output files, if different from input_dir |\n",
       "| app_in_system_path | bool | False | whether `art_illumina` is in the system path or not |"
      ]
     },
     "execution_count": 22,
     "metadata": {},
     "output_type": "execute_result"
    }
   ],
   "source": [
    "show_doc(ArtIllumina)"
   ]
  },
  {
   "cell_type": "code",
   "execution_count": 23,
   "metadata": {},
   "outputs": [
    {
     "name": "stdout",
     "output_type": "stream",
     "text": [
      "Reference sequences from </home/vtec/projects/bio/metagentorch/data/ncbi/refsequences/yf>\n",
      "Simreads will be saved in </home/vtec/projects/bio/metagentorch/data/ncbi/simreads/yf>\n"
     ]
    }
   ],
   "source": [
    "p2inputs = p2fa.parent\n",
    "assert p2inputs.is_dir()\n",
    "\n",
    "p2simread_outputs = pfs.data / 'ncbi/simreads/yf'\n",
    "assert p2simread_outputs.is_dir()\n",
    "\n",
    "print(f\"Reference sequences from <{p2inputs.absolute()}>\")\n",
    "print(f\"Simreads will be saved in <{p2simread_outputs}>\")"
   ]
  },
  {
   "cell_type": "code",
   "execution_count": 24,
   "metadata": {},
   "outputs": [
    {
     "name": "stdout",
     "output_type": "stream",
     "text": [
      "Ready to operate with art: /usr/bin/art_illumina\n",
      "Input files from : /home/vtec/projects/bio/metagentorch/data/ncbi/refsequences/yf\n",
      "Output files to :  /home/vtec/projects/bio/metagentorch/data/ncbi/simreads/yf\n"
     ]
    }
   ],
   "source": [
    "art = ArtIllumina(\n",
    "    path2app=Path('/usr/bin/art_illumina'), \n",
    "    input_dir=p2inputs, \n",
    "    output_dir=p2simread_outputs\n",
    "    )"
   ]
  },
  {
   "cell_type": "markdown",
   "metadata": {},
   "source": [
    "### Parameters for ART Illumina read simulation"
   ]
  },
  {
   "cell_type": "code",
   "execution_count": null,
   "metadata": {},
   "outputs": [
    {
     "data": {
      "text/markdown": [
       "---\n",
       "\n",
       "[source](https://github.com/vtecftwy/metagentools/blob/main/metagentools/art.py#LNone){target=\"_blank\" style=\"float:right; font-size:smaller\"}\n",
       "\n",
       "### ArtIllumina.sim_reads\n",
       "\n",
       ">      ArtIllumina.sim_reads (input_file:str, output_seed:str,\n",
       ">                             sim_type:str='single', read_length:int=150,\n",
       ">                             fold:int=10, mean_read:int=None,\n",
       ">                             std_read:int=None, ss:str='HS25',\n",
       ">                             overwrite:bool=False, print_output:bool=True)\n",
       "\n",
       "*Simulates reads with art_illumina. Output files saved in a separate directory*\n",
       "\n",
       "|    | **Type** | **Default** | **Details** |\n",
       "| -- | -------- | ----------- | ----------- |\n",
       "| input_file | str |  | name of the fasta file to use as input |\n",
       "| output_seed | str |  | seed to use for the output files |\n",
       "| sim_type | str | single | type of read simmulation: 'single' or 'paired' |\n",
       "| read_length | int | 150 | length of the read in bp |\n",
       "| fold | int | 10 | fold |\n",
       "| mean_read | int | None | mean length of the read for paired reads |\n",
       "| std_read | int | None | std of the read length, for paired reads |\n",
       "| ss | str | HS25 | quality profile to use for simulation, |\n",
       "| overwrite | bool | False | overwrite existing output files if true, raise error if false |\n",
       "| print_output | bool | True | if True, prints art ilumina's CLI output |"
      ],
      "text/plain": [
       "---\n",
       "\n",
       "[source](https://github.com/vtecftwy/metagentools/blob/main/metagentools/art.py#LNone){target=\"_blank\" style=\"float:right; font-size:smaller\"}\n",
       "\n",
       "### ArtIllumina.sim_reads\n",
       "\n",
       ">      ArtIllumina.sim_reads (input_file:str, output_seed:str,\n",
       ">                             sim_type:str='single', read_length:int=150,\n",
       ">                             fold:int=10, mean_read:int=None,\n",
       ">                             std_read:int=None, ss:str='HS25',\n",
       ">                             overwrite:bool=False, print_output:bool=True)\n",
       "\n",
       "*Simulates reads with art_illumina. Output files saved in a separate directory*\n",
       "\n",
       "|    | **Type** | **Default** | **Details** |\n",
       "| -- | -------- | ----------- | ----------- |\n",
       "| input_file | str |  | name of the fasta file to use as input |\n",
       "| output_seed | str |  | seed to use for the output files |\n",
       "| sim_type | str | single | type of read simmulation: 'single' or 'paired' |\n",
       "| read_length | int | 150 | length of the read in bp |\n",
       "| fold | int | 10 | fold |\n",
       "| mean_read | int | None | mean length of the read for paired reads |\n",
       "| std_read | int | None | std of the read length, for paired reads |\n",
       "| ss | str | HS25 | quality profile to use for simulation, |\n",
       "| overwrite | bool | False | overwrite existing output files if true, raise error if false |\n",
       "| print_output | bool | True | if True, prints art ilumina's CLI output |"
      ]
     },
     "execution_count": null,
     "metadata": {},
     "output_type": "execute_result"
    }
   ],
   "source": [
    "show_doc(art.sim_reads)"
   ]
  },
  {
   "cell_type": "markdown",
   "metadata": {},
   "source": [
    "We will run a **single** read simulations with the following parameters:"
   ]
  },
  {
   "cell_type": "markdown",
   "metadata": {},
   "source": [
    "`input_file`"
   ]
  },
  {
   "cell_type": "markdown",
   "metadata": {},
   "source": [
    "Check which files are available:"
   ]
  },
  {
   "cell_type": "code",
   "execution_count": 25,
   "metadata": {},
   "outputs": [
    {
     "name": "stdout",
     "output_type": "stream",
     "text": [
      "yf_1971_angola.fa\n",
      "yf_2023_multiple_alignment_original.fa\n",
      "yf_2023_yellow_fever.fa\n",
      "yf_2023_yellow_fever_aligned.fa\n",
      "yf_2023_yellow_fever_with_missing_bases.fa\n",
      "yf_NC_002031_full_sequence.fa\n"
     ]
    }
   ],
   "source": [
    "art.list_all_input_files()"
   ]
  },
  {
   "cell_type": "markdown",
   "metadata": {},
   "source": [
    "Pick the fasta file with the cleaned up reference sequences"
   ]
  },
  {
   "cell_type": "code",
   "execution_count": 26,
   "metadata": {},
   "outputs": [],
   "source": [
    "input_fname = 'yf_2023_yellow_fever.fa'"
   ]
  },
  {
   "cell_type": "markdown",
   "metadata": {},
   "source": [
    "`fold`"
   ]
  },
  {
   "cell_type": "markdown",
   "metadata": {},
   "source": [
    "Fold coverage, also known as sequencing depth or read depth, represents the average number of times each base in the reference genome is expected to be sequenced. For example:\n",
    "- If you set -f 20, it means you're simulating a sequencing run that would cover each base in the reference genome an average of 20 times.\n",
    "- If you set -f 100, it would simulate coverage where each base is sequenced an average of 100 times.\n",
    "\n",
    "The fold coverage is an important parameter because it affects:\n",
    "- The total number of reads generated: Higher fold coverage results in more reads.\n",
    "- The likelihood of capturing rare variants or sequencing errors: Higher coverage generally improves the ability to detect rare variants and distinguish true variants from sequencing errors.\n",
    "- The overall quality of the simulated dataset: Higher coverage typically leads to more accurate representation of the reference genome in the simulated data.\n",
    "\n",
    "It's worth noting that ART Illumina uses this fold coverage value along with the read length and reference genome size to calculate the total number of reads to generate. The actual formula is:\n",
    "\n",
    "```Total number of reads = (Genome size * Fold coverage) / Read length```"
   ]
  },
  {
   "cell_type": "code",
   "execution_count": null,
   "metadata": {},
   "outputs": [
    {
     "name": "stdout",
     "output_type": "stream",
     "text": [
      "Estimated number of reads: 17,045 per sequence\n",
      "Estimated total number of reads: 1,176,105\n"
     ]
    }
   ],
   "source": [
    "fold = 250\n",
    "genome_size = mean_length\n",
    "nb_reads_per_sequence = (genome_size * fold) // 150\n",
    "print(f\"Estimated number of reads: {nb_reads_per_sequence:,d} per sequence\")\n",
    "print(f\"Estimated total number of reads: {nb_reads_per_sequence * nb_sequences:,d}\")"
   ]
  },
  {
   "cell_type": "markdown",
   "metadata": {},
   "source": [
    "Set all simulation parameters:"
   ]
  },
  {
   "cell_type": "code",
   "execution_count": null,
   "metadata": {},
   "outputs": [
    {
     "data": {
      "text/plain": [
       "{'input_file': 'yf_2023_yellow_fever.fa',\n",
       " 'sim_type': 'single',\n",
       " 'read_length': 150,\n",
       " 'nb_sequences': 69,\n",
       " 'fold': 250,\n",
       " 'q_profile': 'HS25',\n",
       " 'output_seed': 'single_69seq_150bp'}"
      ]
     },
     "execution_count": null,
     "metadata": {},
     "output_type": "execute_result"
    }
   ],
   "source": [
    "sim_params = {\n",
    "    'input_file': input_fname,\n",
    "    \"sim_type\": \"single\",\n",
    "    \"read_length\": 150,\n",
    "    'nb_sequences': nb_sequences,\n",
    "    \"fold\": fold,\n",
    "    'q_profile': 'HS25'\n",
    "}\n",
    "# add an output seed for the simread files based on the simulation parameters:\n",
    "sim_params['output_seed'] = f\"{sim_params['sim_type']}_{sim_params['nb_sequences']}seq_{sim_params['read_length']}bp\"\n",
    "sim_params"
   ]
  },
  {
   "cell_type": "markdown",
   "metadata": {},
   "source": [
    "Run the simulation:"
   ]
  },
  {
   "cell_type": "code",
   "execution_count": null,
   "metadata": {},
   "outputs": [
    {
     "name": "stdout",
     "output_type": "stream",
     "text": [
      "return code:  0 \n",
      "\n",
      "\n",
      "    ====================ART====================\n",
      "             ART_Illumina (2008-2016)          \n",
      "          Q Version 2.5.8 (June 6, 2016)       \n",
      "     Contact: Weichun Huang <whduke@gmail.com> \n",
      "    -------------------------------------------\n",
      "\n",
      "                  Single-end Simulation\n",
      "\n",
      "Total CPU time used: 30.165\n",
      "\n",
      "The random seed for the run: 1731415434\n",
      "\n",
      "Parameters used during run\n",
      "\tRead Length:\t150\n",
      "\tGenome masking 'N' cutoff frequency: \t1 in 150\n",
      "\tFold Coverage:            250X\n",
      "\tProfile Type:             Combined\n",
      "\tID Tag:                   \n",
      "\n",
      "Quality Profile(s)\n",
      "\tFirst Read:   HiSeq 2500 Length 150 R1 (built-in profile) \n",
      "\n",
      "Output files\n",
      "\n",
      "  FASTQ Sequence File:\n",
      "\t/home/vtec/projects/bio/metagentools/data/ncbi/simreads/yf/single_69seq_150bp/single_69seq_150bp.fq\n",
      "\n",
      "  ALN Alignment File:\n",
      "\t/home/vtec/projects/bio/metagentools/data/ncbi/simreads/yf/single_69seq_150bp/single_69seq_150bp.aln\n",
      "\n",
      "\n"
     ]
    }
   ],
   "source": [
    "art.sim_reads( \n",
    "    input_file=sim_params['input_file'],\n",
    "    output_seed=sim_params['output_seed'],\n",
    "    sim_type=sim_params['sim_type'],\n",
    "    read_length=sim_params['read_length'],\n",
    "    fold=sim_params['fold'],\n",
    "    ss=sim_params['q_profile'],\n",
    "    overwrite=True\n",
    ")"
   ]
  },
  {
   "cell_type": "markdown",
   "metadata": {},
   "source": [
    "Check the generated output files:"
   ]
  },
  {
   "cell_type": "code",
   "execution_count": null,
   "metadata": {},
   "outputs": [
    {
     "name": "stdout",
     "output_type": "stream",
     "text": [
      "single_69seq_150bp.fq\n",
      "single_69seq_150bp.aln\n"
     ]
    }
   ],
   "source": [
    "art.list_last_output_files()"
   ]
  },
  {
   "cell_type": "markdown",
   "metadata": {},
   "source": [
    "We also can have access to all output files in the ArtIlluma output folder:"
   ]
  },
  {
   "cell_type": "code",
   "execution_count": null,
   "metadata": {},
   "outputs": [
    {
     "name": "stdout",
     "output_type": "stream",
     "text": [
      "single_69seq_150bp\n",
      "- single_69seq_150bp.fq\n",
      "- single_69seq_150bp.aln\n"
     ]
    }
   ],
   "source": [
    "art.list_all_output_files()"
   ]
  },
  {
   "cell_type": "markdown",
   "metadata": {},
   "source": [
    "## Review simulation output files"
   ]
  },
  {
   "cell_type": "code",
   "execution_count": null,
   "metadata": {},
   "outputs": [
    {
     "data": {
      "text/plain": [
       "'aln_art_illumina_ncbi_std'"
      ]
     },
     "execution_count": null,
     "metadata": {},
     "output_type": "execute_result"
    }
   ],
   "source": [
    "p2aln = pfs.data / 'ncbi/simreads/yf/single_69seq_150bp/single_69seq_150bp.aln'\n",
    "assert p2aln.is_file()\n",
    "aln = AlnFileReader(p2aln)\n",
    "\n",
    "aln.re_rule_name"
   ]
  },
  {
   "cell_type": "code",
   "execution_count": null,
   "metadata": {},
   "outputs": [
    {
     "name": "stdout",
     "output_type": "stream",
     "text": [
      "1,160,343 simulated reads\n"
     ]
    }
   ],
   "source": [
    "aln.reset_iterator()\n",
    "for i, read in enumerate(aln):\n",
    "    pass\n",
    "print(f\"{i+1:,d} simulated reads\")"
   ]
  },
  {
   "cell_type": "code",
   "execution_count": null,
   "metadata": {},
   "outputs": [
    {
     "name": "stdout",
     "output_type": "stream",
     "text": [
      "{'11089:ncbi:1': {'organism': 'Angola_1971',\n",
      "                  'refseq_accession': 'AY968064',\n",
      "                  'refseq_length': '10234',\n",
      "                  'refseqid': '11089:ncbi:1',\n",
      "                  'refseqnb': '1',\n",
      "                  'refsource': 'ncbi',\n",
      "                  'reftaxonomyid': '11089'},\n",
      " '11089:ncbi:10': {'organism': 'Peru_Hsapiens_2007',\n",
      "                   'refseq_accession': 'GQ379163',\n",
      "                   'refseq_length': '10231',\n",
      "                   'refseqid': '11089:ncbi:10',\n",
      "                   'refseqnb': '10',\n",
      "                   'refsource': 'ncbi',\n",
      "                   'reftaxonomyid': '11089'},\n",
      " '11089:ncbi:11': {'organism': 'Spain_Vaccine_2004',\n",
      "                   'refseq_accession': 'DQ118157',\n",
      "                   'refseq_length': '10231',\n",
      "                   'refseqid': '11089:ncbi:11',\n",
      "                   'refseqnb': '11',\n",
      "                   'refsource': 'ncbi',\n",
      "                   'reftaxonomyid': '11089'},\n",
      " '11089:ncbi:12': {'organism': 'Singapore_2017',\n",
      "                   'refseq_accession': 'MF289572',\n",
      "                   'refseq_length': '10231',\n",
      "                   'refseqid': '11089:ncbi:12',\n",
      "                   'refseqnb': '12',\n",
      "                   'refsource': 'ncbi',\n",
      "                   'reftaxonomyid': '11089'},\n",
      " '11089:ncbi:13': {'organism': 'Sudan_Hsapiens_1941',\n",
      "                   'refseq_accession': 'KU978764',\n",
      "                   'refseq_length': '10231',\n",
      "                   'refseqid': '11089:ncbi:13',\n",
      "                   'refseqnb': '13',\n",
      "                   'refsource': 'ncbi',\n",
      "                   'reftaxonomyid': '11089'},\n",
      " '11089:ncbi:14': {'organism': 'ArD181250_Senegal_2005',\n",
      "                   'refseq_accession': 'JX898878',\n",
      "                   'refseq_length': '10231',\n",
      "                   'refseqid': '11089:ncbi:14',\n",
      "                   'refseqnb': '14',\n",
      "                   'refsource': 'ncbi',\n",
      "                   'reftaxonomyid': '11089'},\n",
      " '11089:ncbi:15': {'organism': 'ArD181676_Senegal_2005',\n",
      "                   'refseq_accession': 'JX898879',\n",
      "                   'refseq_length': '10231',\n",
      "                   'refseqid': '11089:ncbi:15',\n",
      "                   'refseqnb': '15',\n",
      "                   'refsource': 'ncbi',\n",
      "                   'reftaxonomyid': '11089'},\n",
      " '11089:ncbi:16': {'organism': 'Senegal_Aedes_luteocephalus_2005',\n",
      "                   'refseq_accession': 'JX898881',\n",
      "                   'refseq_length': '10231',\n",
      "                   'refseqid': '11089:ncbi:16',\n",
      "                   'refseqnb': '16',\n",
      "                   'refsource': 'ncbi',\n",
      "                   'reftaxonomyid': '11089'},\n",
      " '11089:ncbi:17': {'organism': 'ArD181564_Senegal_2005',\n",
      "                   'refseq_accession': 'JX898880',\n",
      "                   'refseq_length': '10231',\n",
      "                   'refseqid': '11089:ncbi:17',\n",
      "                   'refseqnb': '17',\n",
      "                   'refsource': 'ncbi',\n",
      "                   'reftaxonomyid': '11089'},\n",
      " '11089:ncbi:18': {'organism': 'ArD181464_Senegal_2005',\n",
      "                   'refseq_accession': 'JX898877',\n",
      "                   'refseq_length': '10231',\n",
      "                   'refseqid': '11089:ncbi:18',\n",
      "                   'refseqnb': '18',\n",
      "                   'refsource': 'ncbi',\n",
      "                   'reftaxonomyid': '11089'},\n",
      " '11089:ncbi:19': {'organism': 'Senegal_Aedes_fucifer_2001',\n",
      "                   'refseq_accession': 'JX898876',\n",
      "                   'refseq_length': '10231',\n",
      "                   'refseqid': '11089:ncbi:19',\n",
      "                   'refseqnb': '19',\n",
      "                   'refsource': 'ncbi',\n",
      "                   'reftaxonomyid': '11089'},\n",
      " '11089:ncbi:2': {'organism': 'Ivory_Coast_1982',\n",
      "                  'refseq_accession': 'U54798',\n",
      "                  'refseq_length': '10231',\n",
      "                  'refseqid': '11089:ncbi:2',\n",
      "                  'refseqnb': '2',\n",
      "                  'refsource': 'ncbi',\n",
      "                  'reftaxonomyid': '11089'},\n",
      " '11089:ncbi:20': {'organism': 'Guinea_Bissau_Hsapiens_1965',\n",
      "                   'refseq_accession': 'KU978765',\n",
      "                   'refseq_length': '10231',\n",
      "                   'refseqid': '11089:ncbi:20',\n",
      "                   'refseqnb': '20',\n",
      "                   'refsource': 'ncbi',\n",
      "                   'reftaxonomyid': '11089'},\n",
      " '11089:ncbi:21': {'organism': 'Senegal_Ae_fucifer_1996',\n",
      "                   'refseq_accession': 'JX898870',\n",
      "                   'refseq_length': '10231',\n",
      "                   'refseqid': '11089:ncbi:21',\n",
      "                   'refseqnb': '21',\n",
      "                   'refsource': 'ncbi',\n",
      "                   'reftaxonomyid': '11089'},\n",
      " '11089:ncbi:22': {'organism': 'isolate_HD117294_Senegal_1995',\n",
      "                   'refseq_accession': 'JX898868',\n",
      "                   'refseq_length': '10231',\n",
      "                   'refseqid': '11089:ncbi:22',\n",
      "                   'refseqnb': '22',\n",
      "                   'refsource': 'ncbi',\n",
      "                   'reftaxonomyid': '11089'},\n",
      " '11089:ncbi:23': {'organism': 'Senegal_Aedes_fucifer_2000',\n",
      "                   'refseq_accession': 'JX898875',\n",
      "                   'refseq_length': '10231',\n",
      "                   'refseqid': '11089:ncbi:23',\n",
      "                   'refseqnb': '23',\n",
      "                   'refsource': 'ncbi',\n",
      "                   'reftaxonomyid': '11089'},\n",
      " '11089:ncbi:24': {'organism': 'ArD149194_Senegal_2000',\n",
      "                   'refseq_accession': 'JX898874',\n",
      "                   'refseq_length': '10231',\n",
      "                   'refseqid': '11089:ncbi:24',\n",
      "                   'refseqnb': '24',\n",
      "                   'refsource': 'ncbi',\n",
      "                   'reftaxonomyid': '11089'},\n",
      " '11089:ncbi:25': {'organism': 'ArD149214_Senegal_2000',\n",
      "                   'refseq_accession': 'JX898873',\n",
      "                   'refseq_length': '10231',\n",
      "                   'refseqid': '11089:ncbi:25',\n",
      "                   'refseqnb': '25',\n",
      "                   'refsource': 'ncbi',\n",
      "                   'reftaxonomyid': '11089'},\n",
      " '11089:ncbi:26': {'organism': 'Netherlands_Hsapiens_Gambia_2018',\n",
      "                   'refseq_accession': 'MK292067',\n",
      "                   'refseq_length': '10231',\n",
      "                   'refseqid': '11089:ncbi:26',\n",
      "                   'refseqnb': '26',\n",
      "                   'refsource': 'ncbi',\n",
      "                   'reftaxonomyid': '11089'},\n",
      " '11089:ncbi:27': {'organism': 'Nigeria_Hsapiens_2018',\n",
      "                   'refseq_accession': 'MK457701',\n",
      "                   'refseq_length': '10231',\n",
      "                   'refseqid': '11089:ncbi:27',\n",
      "                   'refseqnb': '27',\n",
      "                   'refsource': 'ncbi',\n",
      "                   'reftaxonomyid': '11089'},\n",
      " '11089:ncbi:28': {'organism': 'Nigeria_Hsapiens_2018',\n",
      "                   'refseq_accession': 'MN958078',\n",
      "                   'refseq_length': '10231',\n",
      "                   'refseqid': '11089:ncbi:28',\n",
      "                   'refseqnb': '28',\n",
      "                   'refsource': 'ncbi',\n",
      "                   'reftaxonomyid': '11089'},\n",
      " '11089:ncbi:29': {'organism': 'CotedIvoire_Ae_africanus_1973',\n",
      "                   'refseq_accession': 'JX898869',\n",
      "                   'refseq_length': '10231',\n",
      "                   'refseqid': '11089:ncbi:29',\n",
      "                   'refseqnb': '29',\n",
      "                   'refsource': 'ncbi',\n",
      "                   'reftaxonomyid': '11089'},\n",
      " '11089:ncbi:3': {'organism': 'Ethiopia_1961',\n",
      "                  'refseq_accession': 'DQ235229',\n",
      "                  'refseq_length': '10234',\n",
      "                  'refseqid': '11089:ncbi:3',\n",
      "                  'refseqnb': '3',\n",
      "                  'refsource': 'ncbi',\n",
      "                  'reftaxonomyid': '11089'},\n",
      " '11089:ncbi:30': {'organism': 'Nigeria_Hsapiens_1946',\n",
      "                   'refseq_accession': 'KU978763',\n",
      "                   'refseq_length': '10231',\n",
      "                   'refseqid': '11089:ncbi:30',\n",
      "                   'refseqnb': '30',\n",
      "                   'refsource': 'ncbi',\n",
      "                   'reftaxonomyid': '11089'},\n",
      " '11089:ncbi:31': {'organism': 'Bolivia_Hsapiens_1999',\n",
      "                   'refseq_accession': 'MF004382',\n",
      "                   'refseq_length': '10231',\n",
      "                   'refseqid': '11089:ncbi:31',\n",
      "                   'refseqnb': '31',\n",
      "                   'refsource': 'ncbi',\n",
      "                   'reftaxonomyid': '11089'},\n",
      " '11089:ncbi:32': {'organism': 'Brazil_Hsapiens_1983',\n",
      "                   'refseq_accession': 'JF912181',\n",
      "                   'refseq_length': '10231',\n",
      "                   'refseqid': '11089:ncbi:32',\n",
      "                   'refseqnb': '32',\n",
      "                   'refsource': 'ncbi',\n",
      "                   'reftaxonomyid': '11089'},\n",
      " '11089:ncbi:33': {'organism': 'Brazil_Haemagogus_sp_1980',\n",
      "                   'refseq_accession': 'JF912179',\n",
      "                   'refseq_length': '10231',\n",
      "                   'refseqid': '11089:ncbi:33',\n",
      "                   'refseqnb': '33',\n",
      "                   'refsource': 'ncbi',\n",
      "                   'reftaxonomyid': '11089'},\n",
      " '11089:ncbi:34': {'organism': 'Brazil_Hsapiens_1984',\n",
      "                   'refseq_accession': 'JF912183',\n",
      "                   'refseq_length': '10231',\n",
      "                   'refseqid': '11089:ncbi:34',\n",
      "                   'refseqnb': '34',\n",
      "                   'refsource': 'ncbi',\n",
      "                   'reftaxonomyid': '11089'},\n",
      " '11089:ncbi:35': {'organism': 'Brazil_Hsapiens_1984',\n",
      "                   'refseq_accession': 'JF912182',\n",
      "                   'refseq_length': '10231',\n",
      "                   'refseqid': '11089:ncbi:35',\n",
      "                   'refseqnb': '35',\n",
      "                   'refsource': 'ncbi',\n",
      "                   'reftaxonomyid': '11089'},\n",
      " '11089:ncbi:36': {'organism': 'Brazil_Hsapiens_2000',\n",
      "                   'refseq_accession': 'JF912188',\n",
      "                   'refseq_length': '10231',\n",
      "                   'refseqid': '11089:ncbi:36',\n",
      "                   'refseqnb': '36',\n",
      "                   'refsource': 'ncbi',\n",
      "                   'reftaxonomyid': '11089'},\n",
      " '11089:ncbi:37': {'organism': 'Brazil_Hsapiens_2002',\n",
      "                   'refseq_accession': 'JF912190',\n",
      "                   'refseq_length': '10231',\n",
      "                   'refseqid': '11089:ncbi:37',\n",
      "                   'refseqnb': '37',\n",
      "                   'refsource': 'ncbi',\n",
      "                   'reftaxonomyid': '11089'},\n",
      " '11089:ncbi:38': {'organism': 'TrinidadandTobago_Alouetta_seniculus_2009',\n",
      "                   'refseq_accession': 'HM582851',\n",
      "                   'refseq_length': '10231',\n",
      "                   'refseqid': '11089:ncbi:38',\n",
      "                   'refseqnb': '38',\n",
      "                   'refsource': 'ncbi',\n",
      "                   'reftaxonomyid': '11089'},\n",
      " '11089:ncbi:39': {'organism': 'Venezuela_Portuguesa_Hsapiens_2005',\n",
      "                   'refseq_accession': 'KM388814',\n",
      "                   'refseq_length': '10231',\n",
      "                   'refseqid': '11089:ncbi:39',\n",
      "                   'refseqnb': '39',\n",
      "                   'refsource': 'ncbi',\n",
      "                   'reftaxonomyid': '11089'},\n",
      " '11089:ncbi:4': {'organism': 'Gambia_2001',\n",
      "                  'refseq_accession': 'AY572535',\n",
      "                  'refseq_length': '10231',\n",
      "                  'refseqid': '11089:ncbi:4',\n",
      "                  'refseqnb': '4',\n",
      "                  'refsource': 'ncbi',\n",
      "                  'reftaxonomyid': '11089'},\n",
      " '11089:ncbi:40': {'organism': 'Venezuela_Apure_Aseniculus_2007',\n",
      "                   'refseq_accession': 'KM388815',\n",
      "                   'refseq_length': '10231',\n",
      "                   'refseqid': '11089:ncbi:40',\n",
      "                   'refseqnb': '40',\n",
      "                   'refsource': 'ncbi',\n",
      "                   'reftaxonomyid': '11089'},\n",
      " '11089:ncbi:41': {'organism': 'Venezuela_Barinas_Aseniculus_2006',\n",
      "                   'refseq_accession': 'KM388818',\n",
      "                   'refseq_length': '10231',\n",
      "                   'refseqid': '11089:ncbi:41',\n",
      "                   'refseqnb': '41',\n",
      "                   'refsource': 'ncbi',\n",
      "                   'reftaxonomyid': '11089'},\n",
      " '11089:ncbi:42': {'organism': 'Venezuela_Guarico_Allouetta_seniculus_2004',\n",
      "                   'refseq_accession': 'KM388817',\n",
      "                   'refseq_length': '10231',\n",
      "                   'refseqid': '11089:ncbi:42',\n",
      "                   'refseqnb': '42',\n",
      "                   'refsource': 'ncbi',\n",
      "                   'reftaxonomyid': '11089'},\n",
      " '11089:ncbi:43': {'organism': 'Venezuela_Monagas_Asiniculus_2010',\n",
      "                   'refseq_accession': 'KM388816',\n",
      "                   'refseq_length': '10231',\n",
      "                   'refseqid': '11089:ncbi:43',\n",
      "                   'refseqnb': '43',\n",
      "                   'refsource': 'ncbi',\n",
      "                   'reftaxonomyid': '11089'},\n",
      " '11089:ncbi:44': {'organism': 'Brazil_Sapajus_sp_2016',\n",
      "                   'refseq_accession': 'MH666058',\n",
      "                   'refseq_length': '10234',\n",
      "                   'refseqid': '11089:ncbi:44',\n",
      "                   'refseqnb': '44',\n",
      "                   'refsource': 'ncbi',\n",
      "                   'reftaxonomyid': '11089'},\n",
      " '11089:ncbi:45': {'organism': 'Brazil_SaoPaulo_Hsapiens_2017',\n",
      "                   'refseq_accession': 'MK583152',\n",
      "                   'refseq_length': '10231',\n",
      "                   'refseqid': '11089:ncbi:45',\n",
      "                   'refseqnb': '45',\n",
      "                   'refsource': 'ncbi',\n",
      "                   'reftaxonomyid': '11089'},\n",
      " '11089:ncbi:46': {'organism': 'Brazil_SaoPaulo_Hsapiens_2018',\n",
      "                   'refseq_accession': 'MK583166',\n",
      "                   'refseq_length': '10231',\n",
      "                   'refseqid': '11089:ncbi:46',\n",
      "                   'refseqnb': '46',\n",
      "                   'refsource': 'ncbi',\n",
      "                   'reftaxonomyid': '11089'},\n",
      " '11089:ncbi:47': {'organism': 'Netherlands_brazil_2018',\n",
      "                   'refseq_accession': 'MK760660',\n",
      "                   'refseq_length': '10231',\n",
      "                   'refseqid': '11089:ncbi:47',\n",
      "                   'refseqnb': '47',\n",
      "                   'refsource': 'ncbi',\n",
      "                   'reftaxonomyid': '11089'},\n",
      " '11089:ncbi:48': {'organism': 'Netherlands_Hsapiens-from-brazil_2018',\n",
      "                   'refseq_accession': 'MK760665',\n",
      "                   'refseq_length': '10231',\n",
      "                   'refseqid': '11089:ncbi:48',\n",
      "                   'refseqnb': '48',\n",
      "                   'refsource': 'ncbi',\n",
      "                   'reftaxonomyid': '11089'},\n",
      " '11089:ncbi:49': {'organism': 'Brazil_monkey_2015',\n",
      "                   'refseq_accession': 'MF370549',\n",
      "                   'refseq_length': '10231',\n",
      "                   'refseqid': '11089:ncbi:49',\n",
      "                   'refseqnb': '49',\n",
      "                   'refsource': 'ncbi',\n",
      "                   'reftaxonomyid': '11089'},\n",
      " '11089:ncbi:5': {'organism': 'Ghana_Hsapiens_1927',\n",
      "                  'refseq_accession': 'MF405338',\n",
      "                  'refseq_length': '10231',\n",
      "                  'refseqid': '11089:ncbi:5',\n",
      "                  'refseqnb': '5',\n",
      "                  'refsource': 'ncbi',\n",
      "                  'reftaxonomyid': '11089'},\n",
      " '11089:ncbi:50': {'organism': 'Brazil_Allouatta_sp_2016',\n",
      "                   'refseq_accession': 'MF370535',\n",
      "                   'refseq_length': '10231',\n",
      "                   'refseqid': '11089:ncbi:50',\n",
      "                   'refseqnb': '50',\n",
      "                   'refsource': 'ncbi',\n",
      "                   'reftaxonomyid': '11089'},\n",
      " '11089:ncbi:51': {'organism': 'Brazil_Hsapiens_2017',\n",
      "                   'refseq_accession': 'MF370533',\n",
      "                   'refseq_length': '10231',\n",
      "                   'refseqid': '11089:ncbi:51',\n",
      "                   'refseqnb': '51',\n",
      "                   'refsource': 'ncbi',\n",
      "                   'reftaxonomyid': '11089'},\n",
      " '11089:ncbi:52': {'organism': 'Brazil_IlhaGrande_Sabethes_chloropterus_2018',\n",
      "                   'refseq_accession': 'MK333805',\n",
      "                   'refseq_length': '10231',\n",
      "                   'refseqid': '11089:ncbi:52',\n",
      "                   'refseqnb': '52',\n",
      "                   'refsource': 'ncbi',\n",
      "                   'reftaxonomyid': '11089'},\n",
      " '11089:ncbi:53': {'organism': 'Brazil_Haemagogus-janthinomys_2017',\n",
      "                   'refseq_accession': 'MF370530',\n",
      "                   'refseq_length': '10231',\n",
      "                   'refseqid': '11089:ncbi:53',\n",
      "                   'refseqnb': '53',\n",
      "                   'refsource': 'ncbi',\n",
      "                   'reftaxonomyid': '11089'},\n",
      " '11089:ncbi:54': {'organism': 'Yellow_fever_YF118_CAR_2018',\n",
      "                   'refseq_accession': 'MW960207',\n",
      "                   'refseq_length': '10234',\n",
      "                   'refseqid': '11089:ncbi:54',\n",
      "                   'refseqnb': '54',\n",
      "                   'refsource': 'ncbi',\n",
      "                   'reftaxonomyid': '11089'},\n",
      " '11089:ncbi:55': {'organism': 'Uganda_Hsapiens_2010',\n",
      "                   'refseq_accession': 'JN620362',\n",
      "                   'refseq_length': '10234',\n",
      "                   'refseqid': '11089:ncbi:55',\n",
      "                   'refseqnb': '55',\n",
      "                   'refsource': 'ncbi',\n",
      "                   'reftaxonomyid': '11089'},\n",
      " '11089:ncbi:56': {'organism': 'China_Hsapiens_2016',\n",
      "                   'refseq_accession': 'KY495641',\n",
      "                   'refseq_length': '10234',\n",
      "                   'refseqid': '11089:ncbi:56',\n",
      "                   'refseqnb': '56',\n",
      "                   'refsource': 'ncbi',\n",
      "                   'reftaxonomyid': '11089'},\n",
      " '11089:ncbi:57': {'organism': 'shanghai_2016',\n",
      "                   'refseq_accession': 'KU949599',\n",
      "                   'refseq_length': '10234',\n",
      "                   'refseqid': '11089:ncbi:57',\n",
      "                   'refseqnb': '57',\n",
      "                   'refsource': 'ncbi',\n",
      "                   'reftaxonomyid': '11089'},\n",
      " '11089:ncbi:58': {'organism': 'China_Hsapiens_2016',\n",
      "                   'refseq_accession': 'MG589641',\n",
      "                   'refseq_length': '10234',\n",
      "                   'refseqid': '11089:ncbi:58',\n",
      "                   'refseqnb': '58',\n",
      "                   'refsource': 'ncbi',\n",
      "                   'reftaxonomyid': '11089'},\n",
      " '11089:ncbi:59': {'organism': 'China_Hsapiens_2016',\n",
      "                   'refseq_accession': 'KX268355',\n",
      "                   'refseq_length': '10234',\n",
      "                   'refseqid': '11089:ncbi:59',\n",
      "                   'refseqnb': '59',\n",
      "                   'refsource': 'ncbi',\n",
      "                   'reftaxonomyid': '11089'},\n",
      " '11089:ncbi:6': {'organism': 'Senegal_1927',\n",
      "                  'refseq_accession': 'U21056',\n",
      "                  'refseq_length': '10231',\n",
      "                  'refseqid': '11089:ncbi:6',\n",
      "                  'refseqnb': '6',\n",
      "                  'refsource': 'ncbi',\n",
      "                  'reftaxonomyid': '11089'},\n",
      " '11089:ncbi:60': {'organism': 'China_Hsapiens_2016',\n",
      "                   'refseq_accession': 'KY587416',\n",
      "                   'refseq_length': '10234',\n",
      "                   'refseqid': '11089:ncbi:60',\n",
      "                   'refseqnb': '60',\n",
      "                   'refsource': 'ncbi',\n",
      "                   'reftaxonomyid': '11089'},\n",
      " '11089:ncbi:61': {'organism': 'China_Hsapiens_2016',\n",
      "                   'refseq_accession': 'MH633692',\n",
      "                   'refseq_length': '10233',\n",
      "                   'refseqid': '11089:ncbi:61',\n",
      "                   'refseqnb': '61',\n",
      "                   'refsource': 'ncbi',\n",
      "                   'reftaxonomyid': '11089'},\n",
      " '11089:ncbi:62': {'organism': '432429_S4_MF004383.1',\n",
      "                   'refseq_accession': 'MF004383',\n",
      "                   'refseq_length': '10234',\n",
      "                   'refseqid': '11089:ncbi:62',\n",
      "                   'refseqnb': '62',\n",
      "                   'refsource': 'ncbi',\n",
      "                   'reftaxonomyid': '11089'},\n",
      " '11089:ncbi:63': {'organism': 'yp.bam from : MW960207.1',\n",
      "                   'refseq_accession': 'MW960207',\n",
      "                   'refseq_length': '10234',\n",
      "                   'refseqid': '11089:ncbi:63',\n",
      "                   'refseqnb': '63',\n",
      "                   'refsource': 'ncbi',\n",
      "                   'reftaxonomyid': '11089'},\n",
      " '11089:ncbi:64': {'organism': 'Nigeria_2020',\n",
      "                   'refseq_accession': 'ON323052',\n",
      "                   'refseq_length': '10231',\n",
      "                   'refseqid': '11089:ncbi:64',\n",
      "                   'refseqnb': '64',\n",
      "                   'refsource': 'ncbi',\n",
      "                   'reftaxonomyid': '11089'},\n",
      " '11089:ncbi:65': {'organism': 'Nigeria_2020',\n",
      "                   'refseq_accession': 'ON323053',\n",
      "                   'refseq_length': '10195',\n",
      "                   'refseqid': '11089:ncbi:65',\n",
      "                   'refseqnb': '65',\n",
      "                   'refsource': 'ncbi',\n",
      "                   'reftaxonomyid': '11089'},\n",
      " '11089:ncbi:66': {'organism': 'Nigeria_2020',\n",
      "                   'refseq_accession': 'ON323054',\n",
      "                   'refseq_length': '10231',\n",
      "                   'refseqid': '11089:ncbi:66',\n",
      "                   'refseqnb': '66',\n",
      "                   'refsource': 'ncbi',\n",
      "                   'reftaxonomyid': '11089'},\n",
      " '11089:ncbi:67': {'organism': 'VHF-21-014/GHA/Damongo/2021',\n",
      "                   'refseq_accession': 'OM066735',\n",
      "                   'refseq_length': '10014',\n",
      "                   'refseqid': '11089:ncbi:67',\n",
      "                   'refseqnb': '67',\n",
      "                   'refsource': 'ncbi',\n",
      "                   'reftaxonomyid': '11089'},\n",
      " '11089:ncbi:68': {'organism': 'VHF-21-029/GHA/Daboya/2021',\n",
      "                   'refseq_accession': 'OM066736',\n",
      "                   'refseq_length': '10231',\n",
      "                   'refseqid': '11089:ncbi:68',\n",
      "                   'refseqnb': '68',\n",
      "                   'refsource': 'ncbi',\n",
      "                   'reftaxonomyid': '11089'},\n",
      " '11089:ncbi:69': {'organism': 'VHF-21-037/GHA/Damongo/2021',\n",
      "                   'refseq_accession': 'OM066737',\n",
      "                   'refseq_length': '10231',\n",
      "                   'refseqid': '11089:ncbi:69',\n",
      "                   'refseqnb': '69',\n",
      "                   'refsource': 'ncbi',\n",
      "                   'reftaxonomyid': '11089'},\n",
      " '11089:ncbi:7': {'organism': 'Uganda_1948',\n",
      "                  'refseq_accession': 'AY968065',\n",
      "                  'refseq_length': '10234',\n",
      "                  'refseqid': '11089:ncbi:7',\n",
      "                  'refseqnb': '7',\n",
      "                  'refsource': 'ncbi',\n",
      "                  'reftaxonomyid': '11089'},\n",
      " '11089:ncbi:8': {'organism': 'ArD114896_Senegal_1995',\n",
      "                  'refseq_accession': 'JX898871',\n",
      "                  'refseq_length': '10231',\n",
      "                  'refseqid': '11089:ncbi:8',\n",
      "                  'refseqnb': '8',\n",
      "                  'refsource': 'ncbi',\n",
      "                  'reftaxonomyid': '11089'},\n",
      " '11089:ncbi:9': {'organism': 'Senegal_Aedes-aegypti_1995',\n",
      "                  'refseq_accession': 'JX898872',\n",
      "                  'refseq_length': '10231',\n",
      "                  'refseqid': '11089:ncbi:9',\n",
      "                  'refseqnb': '9',\n",
      "                  'refsource': 'ncbi',\n",
      "                  'reftaxonomyid': '11089'}}\n"
     ]
    }
   ],
   "source": [
    "pprint(aln.parse_header_reference_sequences())"
   ]
  },
  {
   "cell_type": "code",
   "execution_count": null,
   "metadata": {},
   "outputs": [
    {
     "name": "stdout",
     "output_type": "stream",
     "text": [
      "single_69seq_150bp.fq\n",
      "single_69seq_150bp.aln\n"
     ]
    }
   ],
   "source": [
    "art.list_last_output_files()"
   ]
  },
  {
   "cell_type": "markdown",
   "metadata": {},
   "source": [
    "Overview of the reference sequences used to generate the simreads:"
   ]
  },
  {
   "cell_type": "code",
   "execution_count": null,
   "metadata": {},
   "outputs": [
    {
     "name": "stdout",
     "output_type": "stream",
     "text": [
      "@SQ\t11089:ncbi:1\t1\tAY968064\t11089\tncbi\tAngola_1971\t10234\n",
      "@SQ\t11089:ncbi:2\t2\tU54798\t11089\tncbi\tIvory_Coast_1982\t10231\n",
      "@SQ\t11089:ncbi:3\t3\tDQ235229\t11089\tncbi\tEthiopia_1961\t10234\n",
      "@SQ\t11089:ncbi:4\t4\tAY572535\t11089\tncbi\tGambia_2001\t10231\n",
      "@SQ\t11089:ncbi:5\t5\tMF405338\t11089\tncbi\tGhana_Hsapiens_1927\t10231\n",
      "@SQ\t11089:ncbi:6\t6\tU21056\t11089\tncbi\tSenegal_1927\t10231\n",
      "@SQ\t11089:ncbi:7\t7\tAY968065\t11089\tncbi\tUganda_1948\t10234\n",
      "@SQ\t11089:ncbi:8\t8\tJX898871\t11089\tncbi\tArD114896_Senegal_1995\t10231\n",
      "@SQ\t11089:ncbi:9\t9\tJX898872\t11089\tncbi\tSenegal_Aedes-aegypti_1995\t10231\n",
      "@SQ\t11089:ncbi:10\t10\tGQ379163\t11089\tncbi\tPeru_Hsapiens_2007\t10231\n",
      "@SQ\t11089:ncbi:11\t11\tDQ118157\t11089\tncbi\tSpain_Vaccine_2004\t10231\n",
      "@SQ\t11089:ncbi:12\t12\tMF289572\t11089\tncbi\tSingapore_2017\t10231\n",
      "@SQ\t11089:ncbi:13\t13\tKU978764\t11089\tncbi\tSudan_Hsapiens_1941\t10231\n",
      "@SQ\t11089:ncbi:14\t14\tJX898878\t11089\tncbi\tArD181250_Senegal_2005\t10231\n",
      "@SQ\t11089:ncbi:15\t15\tJX898879\t11089\tncbi\tArD181676_Senegal_2005\t10231\n",
      "@SQ\t11089:ncbi:16\t16\tJX898881\t11089\tncbi\tSenegal_Aedes_luteocephalus_2005\t10231\n",
      "@SQ\t11089:ncbi:17\t17\tJX898880\t11089\tncbi\tArD181564_Senegal_2005\t10231\n",
      "@SQ\t11089:ncbi:18\t18\tJX898877\t11089\tncbi\tArD181464_Senegal_2005\t10231\n",
      "@SQ\t11089:ncbi:19\t19\tJX898876\t11089\tncbi\tSenegal_Aedes_fucifer_2001\t10231\n",
      "@SQ\t11089:ncbi:20\t20\tKU978765\t11089\tncbi\tGuinea_Bissau_Hsapiens_1965\t10231\n",
      "@SQ\t11089:ncbi:21\t21\tJX898870\t11089\tncbi\tSenegal_Ae_fucifer_1996\t10231\n",
      "@SQ\t11089:ncbi:22\t22\tJX898868\t11089\tncbi\tisolate_HD117294_Senegal_1995\t10231\n",
      "@SQ\t11089:ncbi:23\t23\tJX898875\t11089\tncbi\tSenegal_Aedes_fucifer_2000\t10231\n",
      "@SQ\t11089:ncbi:24\t24\tJX898874\t11089\tncbi\tArD149194_Senegal_2000\t10231\n",
      "@SQ\t11089:ncbi:25\t25\tJX898873\t11089\tncbi\tArD149214_Senegal_2000\t10231\n",
      "@SQ\t11089:ncbi:26\t26\tMK292067\t11089\tncbi\tNetherlands_Hsapiens_Gambia_2018\t10231\n",
      "@SQ\t11089:ncbi:27\t27\tMK457701\t11089\tncbi\tNigeria_Hsapiens_2018\t10231\n",
      "@SQ\t11089:ncbi:28\t28\tMN958078\t11089\tncbi\tNigeria_Hsapiens_2018\t10231\n",
      "@SQ\t11089:ncbi:29\t29\tJX898869\t11089\tncbi\tCotedIvoire_Ae_africanus_1973\t10231\n",
      "@SQ\t11089:ncbi:30\t30\tKU978763\t11089\tncbi\tNigeria_Hsapiens_1946\t10231\n",
      "@SQ\t11089:ncbi:31\t31\tMF004382\t11089\tncbi\tBolivia_Hsapiens_1999\t10231\n",
      "@SQ\t11089:ncbi:32\t32\tJF912181\t11089\tncbi\tBrazil_Hsapiens_1983\t10231\n",
      "@SQ\t11089:ncbi:33\t33\tJF912179\t11089\tncbi\tBrazil_Haemagogus_sp_1980\t10231\n",
      "@SQ\t11089:ncbi:34\t34\tJF912183\t11089\tncbi\tBrazil_Hsapiens_1984\t10231\n",
      "@SQ\t11089:ncbi:35\t35\tJF912182\t11089\tncbi\tBrazil_Hsapiens_1984\t10231\n",
      "@SQ\t11089:ncbi:36\t36\tJF912188\t11089\tncbi\tBrazil_Hsapiens_2000\t10231\n",
      "@SQ\t11089:ncbi:37\t37\tJF912190\t11089\tncbi\tBrazil_Hsapiens_2002\t10231\n",
      "@SQ\t11089:ncbi:38\t38\tHM582851\t11089\tncbi\tTrinidadandTobago_Alouetta_seniculus_2009\t10231\n",
      "@SQ\t11089:ncbi:39\t39\tKM388814\t11089\tncbi\tVenezuela_Portuguesa_Hsapiens_2005\t10231\n",
      "@SQ\t11089:ncbi:40\t40\tKM388815\t11089\tncbi\tVenezuela_Apure_Aseniculus_2007\t10231\n",
      "@SQ\t11089:ncbi:41\t41\tKM388818\t11089\tncbi\tVenezuela_Barinas_Aseniculus_2006\t10231\n",
      "@SQ\t11089:ncbi:42\t42\tKM388817\t11089\tncbi\tVenezuela_Guarico_Allouetta_seniculus_2004\t10231\n",
      "@SQ\t11089:ncbi:43\t43\tKM388816\t11089\tncbi\tVenezuela_Monagas_Asiniculus_2010\t10231\n",
      "@SQ\t11089:ncbi:44\t44\tMH666058\t11089\tncbi\tBrazil_Sapajus_sp_2016\t10234\n",
      "@SQ\t11089:ncbi:45\t45\tMK583152\t11089\tncbi\tBrazil_SaoPaulo_Hsapiens_2017\t10231\n",
      "@SQ\t11089:ncbi:46\t46\tMK583166\t11089\tncbi\tBrazil_SaoPaulo_Hsapiens_2018\t10231\n",
      "@SQ\t11089:ncbi:47\t47\tMK760660\t11089\tncbi\tNetherlands_brazil_2018\t10231\n",
      "@SQ\t11089:ncbi:48\t48\tMK760665\t11089\tncbi\tNetherlands_Hsapiens-from-brazil_2018\t10231\n",
      "@SQ\t11089:ncbi:49\t49\tMF370549\t11089\tncbi\tBrazil_monkey_2015\t10231\n",
      "@SQ\t11089:ncbi:50\t50\tMF370535\t11089\tncbi\tBrazil_Allouatta_sp_2016\t10231\n",
      "@SQ\t11089:ncbi:51\t51\tMF370533\t11089\tncbi\tBrazil_Hsapiens_2017\t10231\n",
      "@SQ\t11089:ncbi:52\t52\tMK333805\t11089\tncbi\tBrazil_IlhaGrande_Sabethes_chloropterus_2018\t10231\n",
      "@SQ\t11089:ncbi:53\t53\tMF370530\t11089\tncbi\tBrazil_Haemagogus-janthinomys_2017\t10231\n",
      "@SQ\t11089:ncbi:54\t54\tMW960207\t11089\tncbi\tYellow_fever_YF118_CAR_2018\t10234\n",
      "@SQ\t11089:ncbi:55\t55\tJN620362\t11089\tncbi\tUganda_Hsapiens_2010\t10234\n",
      "@SQ\t11089:ncbi:56\t56\tKY495641\t11089\tncbi\tChina_Hsapiens_2016\t10234\n",
      "@SQ\t11089:ncbi:57\t57\tKU949599\t11089\tncbi\tshanghai_2016\t10234\n",
      "@SQ\t11089:ncbi:58\t58\tMG589641\t11089\tncbi\tChina_Hsapiens_2016\t10234\n",
      "@SQ\t11089:ncbi:59\t59\tKX268355\t11089\tncbi\tChina_Hsapiens_2016\t10234\n",
      "@SQ\t11089:ncbi:60\t60\tKY587416\t11089\tncbi\tChina_Hsapiens_2016\t10234\n",
      "@SQ\t11089:ncbi:61\t61\tMH633692\t11089\tncbi\tChina_Hsapiens_2016\t10233\n",
      "@SQ\t11089:ncbi:62\t62\tMF004383\t11089\tncbi\t432429_S4_MF004383.1\t10234\n",
      "@SQ\t11089:ncbi:63\t63\tMW960207\t11089\tncbi\typ.bam from : MW960207.1\t10234\n",
      "@SQ\t11089:ncbi:64\t64\tON323052\t11089\tncbi\tNigeria_2020\t10231\n",
      "@SQ\t11089:ncbi:65\t65\tON323053\t11089\tncbi\tNigeria_2020\t10195\n",
      "@SQ\t11089:ncbi:66\t66\tON323054\t11089\tncbi\tNigeria_2020\t10231\n",
      "@SQ\t11089:ncbi:67\t67\tOM066735\t11089\tncbi\tVHF-21-014/GHA/Damongo/2021\t10014\n",
      "@SQ\t11089:ncbi:68\t68\tOM066736\t11089\tncbi\tVHF-21-029/GHA/Daboya/2021\t10231\n",
      "@SQ\t11089:ncbi:69\t69\tOM066737\t11089\tncbi\tVHF-21-037/GHA/Damongo/2021\t10231\n"
     ]
    }
   ],
   "source": [
    "p2aln = p2simread_outputs / 'single_69seq_150bp/single_69seq_150bp.aln'\n",
    "assert p2aln.exists()\n",
    "aln = AlnFileReader(p2aln)\n",
    "print('\\n'.join(aln.header['reference sequences']))"
   ]
  },
  {
   "cell_type": "markdown",
   "metadata": {},
   "source": [
    "# end of section"
   ]
  }
 ],
 "metadata": {
  "kernelspec": {
   "display_name": "torch",
   "language": "python",
   "name": "python3"
  },
  "language_info": {
   "codemirror_mode": {
    "name": "ipython",
    "version": 3
   },
   "file_extension": ".py",
   "mimetype": "text/x-python",
   "name": "python",
   "nbconvert_exporter": "python",
   "pygments_lexer": "ipython3",
   "version": "3.10.6"
  }
 },
 "nbformat": 4,
 "nbformat_minor": 1
}
