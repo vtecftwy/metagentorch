{
 "cells": [
  {
   "cell_type": "markdown",
   "metadata": {},
   "source": [
    "# Inference from fastq file including k-mer reads"
   ]
  },
  {
   "cell_type": "markdown",
   "metadata": {},
   "source": [
    "This notebook provides a reference implementation of the inference applied on k-mer reads, stored in a simple fastq file. The notebook uses simreads generated from NCBI CoV sequences."
   ]
  },
  {
   "cell_type": "markdown",
   "metadata": {},
   "source": [
    "# 1. Imports and setup environment"
   ]
  },
  {
   "cell_type": "code",
   "execution_count": null,
   "metadata": {},
   "outputs": [
    {
     "name": "stdout",
     "output_type": "stream",
     "text": [
      "`ecutilities` already installed\n",
      "`metagentools` already installed\n"
     ]
    }
   ],
   "source": [
    "# Install required custom packages if not installed yet.\n",
    "import importlib.util\n",
    "if not importlib.util.find_spec('ecutilities'):\n",
    "    print('installing package: `ecutilities`')\n",
    "    ! pip install -qqU ecutilities\n",
    "else:\n",
    "    print('`ecutilities` already installed')\n",
    "if not importlib.util.find_spec('metagentools'):\n",
    "    print('installing package: `metagentools')\n",
    "    ! pip install -qqU metagentools\n",
    "else:\n",
    "    print('`metagentools` already installed')"
   ]
  },
  {
   "cell_type": "code",
   "execution_count": null,
   "metadata": {},
   "outputs": [
    {
     "name": "stdout",
     "output_type": "stream",
     "text": [
      "Set autoreload mode\n",
      "Tensorflow version: 2.8.2\n",
      "\n"
     ]
    }
   ],
   "source": [
    "# Import all required packages\n",
    "import matplotlib.pyplot as plt\n",
    "import numpy as np\n",
    "import pandas as pd\n",
    "import os\n",
    "\n",
    "from datetime import datetime\n",
    "from ecutilities.core import files_in_tree\n",
    "from ecutilities.ipython import nb_setup\n",
    "from functools import partial\n",
    "from IPython.display import display, update_display, Markdown, HTML\n",
    "from pathlib import Path\n",
    "from pprint import pprint\n",
    "from tqdm.notebook import tqdm, trange\n",
    "\n",
    "# Setup the notebook for development\n",
    "nb_setup()\n",
    "\n",
    "os.environ['TF_CPP_MIN_LOG_LEVEL'] = '3' # or any {'0', '1', '2'}\n",
    "import tensorflow as tf\n",
    "from tensorflow.python.client import device_lib\n",
    "from tensorflow.keras.models import load_model\n",
    "print(f\"Tensorflow version: {tf.__version__}\\n\")\n",
    "\n",
    "from metagentools.cnn_virus.data import _base_hot_encode, split_kmer_into_50mers, combine_predictions\n",
    "from metagentools.cnn_virus.data import FastqFileReader, AlnFileReader\n",
    "from metagentools.cnn_virus.data import OriginalLabels\n",
    "from metagentools.cnn_virus.architecture import create_model_original\n",
    "from metagentools.core import ProjectFileSystem, TextFileBaseReader"
   ]
  },
  {
   "cell_type": "markdown",
   "metadata": {},
   "source": [
    "List all computing devices available on the machine"
   ]
  },
  {
   "cell_type": "code",
   "execution_count": null,
   "metadata": {},
   "outputs": [
    {
     "name": "stdout",
     "output_type": "stream",
     "text": [
      "\n",
      "Devices:\n",
      "  - CPU  /device:CPU:0                          \n",
      "  - GPU  /device:GPU:0  NVIDIA GeForce GTX 1050 \n"
     ]
    }
   ],
   "source": [
    "devices = device_lib.list_local_devices()\n",
    "print('\\nDevices:')\n",
    "for d in devices:\n",
    "    t = d.device_type\n",
    "    name = d.physical_device_desc\n",
    "    l = [item.split(':', 1) for item in name.split(', ')]\n",
    "    name_attr = dict([x for x in l if len(x)==2])\n",
    "    dev = name_attr.get('name', ' ')\n",
    "    print(f\"  - {t}  {d.name} {dev:25s}\")"
   ]
  },
  {
   "cell_type": "markdown",
   "metadata": {},
   "source": [
    "# 2. Setup paths to files"
   ]
  },
  {
   "cell_type": "markdown",
   "metadata": {},
   "source": [
    "Key folders and system information"
   ]
  },
  {
   "cell_type": "code",
   "execution_count": null,
   "metadata": {},
   "outputs": [
    {
     "name": "stdout",
     "output_type": "stream",
     "text": [
      "Running linux on local computer\n",
      "Device's home directory: /home/vtec\n",
      "Project file structure:\n",
      " - Root ........ /home/vtec/projects/bio/metagentools \n",
      " - Data Dir .... /home/vtec/projects/bio/metagentools/data \n",
      " - Notebooks ... /home/vtec/projects/bio/metagentools/nbs\n"
     ]
    }
   ],
   "source": [
    "pfs = ProjectFileSystem()\n",
    "pfs.info()"
   ]
  },
  {
   "cell_type": "code",
   "execution_count": null,
   "metadata": {},
   "outputs": [],
   "source": [
    "# pfs.set_project_root('/home/vtec/projects/bio/metagentools');"
   ]
  },
  {
   "cell_type": "markdown",
   "metadata": {},
   "source": [
    "- `p2model`: path to file with saved original pretrained model\n",
    "- `p2virus_labels` path to file with virus names and labels mapping for original model\n",
    "- `p2simreads`: path to folder where reads files are located (FASTQ and ALN)"
   ]
  },
  {
   "cell_type": "code",
   "execution_count": null,
   "metadata": {},
   "outputs": [],
   "source": [
    "p2model = pfs.data / 'saved/cnn_virus_original/pretrained_model.h5'\n",
    "assert p2model.is_file(), f\"No file found at {p2model.absolute()}\"\n",
    "\n",
    "p2virus_labels = pfs.data / 'CNN_Virus_data/virus_name_mapping'\n",
    "assert p2virus_labels.is_file(), f\"No file found at {p2virus_labels.absolute()}\"\n",
    "\n",
    "# p2fastq = pfs.data / 'ncov_data/reads/yf/yf-reads-10.fq'\n",
    "p2fastq = pfs.data / 'ncbi/simreads/cov/single_1seq_150bp/single_1seq_150bp.fq'\n",
    "assert p2fastq.is_file(), f\"No file found at {p2fastq.absolute()}\""
   ]
  },
  {
   "cell_type": "code",
   "execution_count": null,
   "metadata": {},
   "outputs": [
    {
     "name": "stdout",
     "output_type": "stream",
     "text": [
      "cov\n",
      "  |--single_1seq_150bp\n",
      "  |    |--single_1seq_150bp.fq (0)\n",
      "  |    |--single_1seq_150bp.aln (1)\n"
     ]
    }
   ],
   "source": [
    "files_in_tree(path=p2fastq.parent);"
   ]
  },
  {
   "cell_type": "markdown",
   "metadata": {},
   "source": [
    "# 3. Load data and review"
   ]
  },
  {
   "cell_type": "code",
   "execution_count": null,
   "metadata": {},
   "outputs": [],
   "source": [
    "fastq = FastqFileReader(p2fastq)\n",
    "# aln = AlnFileReader(p2fastq.with_suffix('.aln'))"
   ]
  },
  {
   "cell_type": "code",
   "execution_count": null,
   "metadata": {},
   "outputs": [
    {
     "name": "stdout",
     "output_type": "stream",
     "text": [
      "This file includes 40,200 reads, with the following format:\n",
      "\n",
      "@2591237:ncbi:1-1\n",
      "ATGTGACTCCATTGACACTAGCTTGTGCTGGTCCTTTTGAAGGTGTTAAACCTTTAACTG ... (150 bp)\n"
     ]
    }
   ],
   "source": [
    "fastq.reset_iterator()\n",
    "for i, fq_read in enumerate(fastq):\n",
    "    seq = fq_read['sequence']\n",
    "    defline = fq_read['definition line']\n",
    "\n",
    "print(f\"This file includes {i+1:,d} reads, with the following format:\\n\")\n",
    "print(f\"{defline}\\n{seq[:60]} ... ({len(seq)} bp)\")"
   ]
  },
  {
   "cell_type": "markdown",
   "metadata": {},
   "source": [
    "# 4. Prediction Loop"
   ]
  },
  {
   "cell_type": "markdown",
   "metadata": {},
   "source": [
    "- load model\n",
    "- define output file\n",
    "- iterate through the fastq file, read by read\n",
    "    - get read k-mer sequence\n",
    "    - base encode k-mer sequence and preprocess into (k-50+1) 50-mer sequences\n",
    "    - prediction for each 50-mer sequence\n",
    "    - combine all predictions into a single label and position prediction\n",
    "    - add prediction and metadata to the output file\n",
    "    "
   ]
  },
  {
   "cell_type": "code",
   "execution_count": null,
   "metadata": {},
   "outputs": [],
   "source": [
    "model = create_model_original(path2parameters=p2model)\n",
    "# model.summary()"
   ]
  },
  {
   "cell_type": "markdown",
   "metadata": {},
   "source": [
    "Create class to convert original labels into species name"
   ]
  },
  {
   "cell_type": "code",
   "execution_count": null,
   "metadata": {},
   "outputs": [
    {
     "name": "stdout",
     "output_type": "stream",
     "text": [
      "Middle_East_respiratory_syndrome-related_coronavirus\n",
      "Severe_acute_respiratory_syndrome-related_coronavirus\n",
      "Yellow_fever_virus\n"
     ]
    }
   ],
   "source": [
    "labels = OriginalLabels()\n",
    "for n in [94, 117, 118]:\n",
    "    print(labels.label2species(n))"
   ]
  },
  {
   "cell_type": "code",
   "execution_count": null,
   "metadata": {},
   "outputs": [
    {
     "name": "stdout",
     "output_type": "stream",
     "text": [
      "CNCACCCAAAGGATGCCCTTTGGACCTCAGTAATGAGACTTCCATCATTTTTCAGTGGTTGATGGATGACTTGGAGGCTGATCTAATAGTTTCAGTATTTTATTCTTCATTCAGTCAGGGATCACAGCTTGAAAACTTCCATCTCTAGTC\n",
      "150\n",
      "CNTTTTTATGCTTTTTTGTATCTGTTTTAAAAATATTTTTATATATTTGTTTACTTATTTTATGTATCTCAGTACACTGTTGCTATCTTTAGACGATTCTTTGAAGAGGGCATTGAATCCCATTACAGATGGTTGTGAGCCACCATGTAG\n",
      "150\n",
      "CNATCTCTCTGTCTCTGTGTTTCTCTCTCTATGTCTCTCCATCTCTGTCTCTACATTTCGGTCTCTATCTCTCTGTGTTTGCCTGTCTCCATCGTCTCTCTGTGTCTCTGTGTCTCTGTTTCTCTGTTTCTGTCTCTCTGTCTCCCTTTC\n",
      "150\n",
      "GTCAGAGTACTCTCTGCAGGCAAGCTCTCCTCTTGCAGGGAAGGTGCCAAGATATCTGGTGTTTGAACCTGCCTCCTGGCAGAAGTTGTGTTCCACTCACCAGAGGTCCTATGATCCTGTGGAGAGTCCTCTGGGGACTTTGCACCCAAG\n",
      "150\n",
      "GGTGGCCCAGGTGTGGGCGGAGGGGGTTGTCGCGGCGTGGATCGGAGGCACTGGCTCTCAGAATGCAAGGCTAAGCAGTCCTATGTGCGGGCGTTGACTGCAGACTCCCAGGGCCGCGTAGGCTGGCGCTGGATTCGGATCGACACAGCT\n",
      "150\n",
      "CTTCCATGAAGCCTTCCCTGATCTGCTCTGCTTTTCTCTGGAAGAATTAACCAGTTCTTTCTTCATCTATAATCTCCTACTGGAGTCTTTCACAGAAGGATGCACTTACGTTCCGGGCTCCTCTTCCTCCTAGTGGTGGTGAATAAAGAT\n",
      "150\n",
      "TNAAAGCTGTCCACTGTGTTGGATATCAAAATATTTACCTCTCCCAACTTGAATAACCACTATTAAAATTAATGGTTGTCACTAGGCTAGACTTGTCTGAGCAAATATTTGCCATATTTCCCTCCACTAAAGTTATTTTCTTCCCCCTCT\n",
      "150\n",
      "GGAGTTTGAGGCAAGCCTGGGATACATAGAACCTATCCCAAAACAGAGAGGGGAGAGAAGACTGTCTTCCGCAGCACAGTAGGCTGGAATTCCAATAGCAATGAAGCCCATGAACACCCACAGTGACCAGTAATGCTTCAGAGGGGCCTG\n",
      "150\n",
      "CTCAGGACCTGCGGTAGTCTGGAAGACTGGCCGTGAAGTCCTGCCCCCCACTGGCAGGAGAGTGGGCCTTGAACCTGGCCTGGACAACACAATGGAGCTGTCCCCGCTGATGGTGAAAACACAAGTGAGCCAGGCCTGGGGGTGAGATCG\n",
      "150\n",
      "GAGGGAAGTTGTTATGAAATTTTGCTTTGGTCCTATAAATGTCCCTGAATAAAAGAACAAGAAGACTAATGACCTTGCTTGAAAATCCAAGGTAAAAAATATAATGAGATCAAAACATTAGTTGATATTTCAGCAATCTATCCTGTCATA\n",
      "150\n"
     ]
    },
    {
     "data": {
      "text/plain": [
       "dict_keys(['definition line', 'sequence', 'read_qscores', 'probs error'])"
      ]
     },
     "execution_count": null,
     "metadata": {},
     "output_type": "execute_result"
    }
   ],
   "source": [
    "fastq.reset_iterator()\n",
    "for fq in fastq:\n",
    "    print(fq['sequence'])\n",
    "    print(len(fq['sequence']))\n",
    "    pass\n",
    "fq.keys()"
   ]
  },
  {
   "cell_type": "code",
   "execution_count": null,
   "metadata": {},
   "outputs": [
    {
     "name": "stdout",
     "output_type": "stream",
     "text": [
      "Results will be saved into /home/vtec/projects/bio/metagentools/data/ncov_data/infer_results/yf-reads-10_results_20240131_18h54m19.csv\n"
     ]
    },
    {
     "data": {
      "application/vnd.jupyter.widget-view+json": {
       "model_id": "329e2cca58944d589b57cf814ca216b1",
       "version_major": 2,
       "version_minor": 0
      },
      "text/plain": [
       "0it [00:00, ?it/s]"
      ]
     },
     "metadata": {},
     "output_type": "display_data"
    }
   ],
   "source": [
    "# dataset_reference = 'NCBI Simulated CoV Reads'\n",
    "dataset_reference = 'YF'\n",
    "\n",
    "fname_seed = p2fastq.stem\n",
    "p2results = pfs.data / f\"ncov_data/infer_results/{fname_seed}_results_{datetime.now().strftime('%Y%m%d_%Hh%Mm%S')}.csv\"\n",
    "print(f\"Results will be saved into {p2results.absolute()}\")\n",
    "\n",
    "fastq.reset_iterator()\n",
    "\n",
    "with open(p2results, 'a') as fp:\n",
    "    line = 'ID\\tSequence\\tQ Score\\tMax Prob Error\\tPredicted Label\\tPredicted Species\\tPredicted Position\\tDataset Reference\\n'\n",
    "    fp.write(line)\n",
    "    for i, fqelement in tqdm(enumerate(fastq)):\n",
    "        # Get k-mer read and some metadata\n",
    "        readid = fqelement['definition line']\n",
    "        read = fqelement['sequence']\n",
    "        read_qscores = fqelement['read_qscores']\n",
    "        max_prob_error = fqelement['probs error'].max()\n",
    "\n",
    "        # Split one k-mer read into 50-mer reads\n",
    "        bhe_kmer, _, _ = _base_hot_encode(f\"{read}\\t0\\t0\")\n",
    "        bhe_50mer = split_kmer_into_50mers(kmer=bhe_kmer)\n",
    "\n",
    "        # Predict labels and positions for each 50-mer reads and combine\n",
    "        label_probs, pos_probs = model.predict(bhe_50mer)\n",
    "        label_preds = tf.argmax(label_probs, axis=-1)\n",
    "        pos_preds = tf.argmax(pos_probs, axis=-1) \n",
    "        combined_label, combined_pos = combine_predictions(label_preds, label_probs, pos_preds)\n",
    "\n",
    "        line = f\"{readid}\\t{read}\\t{read_qscores}\\t{max_prob_error}\\t{combined_label}\\t{labels.label2species(combined_label)}\\t{combined_pos}\\t{dataset_reference}\\n\"\n",
    "        fp.write(line)\n",
    "        # if i >= 5: break"
   ]
  },
  {
   "cell_type": "code",
   "execution_count": null,
   "metadata": {},
   "outputs": [
    {
     "data": {
      "text/html": [
       "<div>\n",
       "<style scoped>\n",
       "    .dataframe tbody tr th:only-of-type {\n",
       "        vertical-align: middle;\n",
       "    }\n",
       "\n",
       "    .dataframe tbody tr th {\n",
       "        vertical-align: top;\n",
       "    }\n",
       "\n",
       "    .dataframe thead th {\n",
       "        text-align: right;\n",
       "    }\n",
       "</style>\n",
       "<table border=\"1\" class=\"dataframe\">\n",
       "  <thead>\n",
       "    <tr style=\"text-align: right;\">\n",
       "      <th></th>\n",
       "      <th>ID</th>\n",
       "      <th>Predicted Species</th>\n",
       "      <th>Predicted Label</th>\n",
       "      <th>Predicted Position</th>\n",
       "      <th>Max Prob Error</th>\n",
       "      <th>Sequence</th>\n",
       "      <th>Q Score</th>\n",
       "      <th>Dataset Reference</th>\n",
       "    </tr>\n",
       "  </thead>\n",
       "  <tbody>\n",
       "    <tr>\n",
       "      <th>0</th>\n",
       "      <td>@A00551:791:HFLNGDSX7:1:1101:3441:1031 1:N:0:C...</td>\n",
       "      <td>Isfahan_vesiculovirus</td>\n",
       "      <td>104</td>\n",
       "      <td>1</td>\n",
       "      <td>0.630957</td>\n",
       "      <td>CNCACCCAAAGGATGCCCTTTGGACCTCAGTAATGAGACTTCCATC...</td>\n",
       "      <td>F#FFFFFFFFFFFFFFFFFFFFFFFF:FFFFFFFFFFFFFFFFFFF...</td>\n",
       "      <td>YF</td>\n",
       "    </tr>\n",
       "    <tr>\n",
       "      <th>1</th>\n",
       "      <td>@A00551:791:HFLNGDSX7:1:1101:14642:1047 1:N:0:...</td>\n",
       "      <td>Variola_virus</td>\n",
       "      <td>0</td>\n",
       "      <td>0</td>\n",
       "      <td>0.630957</td>\n",
       "      <td>CNTTTTTATGCTTTTTTGTATCTGTTTTAAAAATATTTTTATATAT...</td>\n",
       "      <td>F#FFFFFFFFFFFFFFFFFFFFFFFFFFFFFFFFFFFFFFFFFFFF...</td>\n",
       "      <td>YF</td>\n",
       "    </tr>\n",
       "    <tr>\n",
       "      <th>2</th>\n",
       "      <td>@A00551:791:HFLNGDSX7:1:1101:20699:1047 1:N:0:...</td>\n",
       "      <td>Human_betaherpesvirus_6A</td>\n",
       "      <td>12</td>\n",
       "      <td>9</td>\n",
       "      <td>0.630957</td>\n",
       "      <td>CNATCTCTCTGTCTCTGTGTTTCTCTCTCTATGTCTCTCCATCTCT...</td>\n",
       "      <td>F#FFFFFFFFFFFFFFFFFFFFFFFFFFFFF:FFFFFFFFFFFFFF...</td>\n",
       "      <td>YF</td>\n",
       "    </tr>\n",
       "    <tr>\n",
       "      <th>3</th>\n",
       "      <td>@A00551:791:HFLNGDSX7:1:1101:15194:1063 1:N:0:...</td>\n",
       "      <td>Human_gammaherpesvirus_4</td>\n",
       "      <td>62</td>\n",
       "      <td>9</td>\n",
       "      <td>0.003162</td>\n",
       "      <td>GTCAGAGTACTCTCTGCAGGCAAGCTCTCCTCTTGCAGGGAAGGTG...</td>\n",
       "      <td>FFFFF:FFFFFFFFFFFFFFFFFFFFFFFFFFFFFFFFFFFFFFFF...</td>\n",
       "      <td>YF</td>\n",
       "    </tr>\n",
       "    <tr>\n",
       "      <th>4</th>\n",
       "      <td>@A00551:791:HFLNGDSX7:1:1101:16839:1063 1:N:0:...</td>\n",
       "      <td>Human_gammaherpesvirus_8</td>\n",
       "      <td>32</td>\n",
       "      <td>0</td>\n",
       "      <td>0.003162</td>\n",
       "      <td>GGTGGCCCAGGTGTGGGCGGAGGGGGTTGTCGCGGCGTGGATCGGA...</td>\n",
       "      <td>FFFFFFFFFFFFFFFFFFFFFFFFFFFFFFFFFFFFFFFFFFFFFF...</td>\n",
       "      <td>YF</td>\n",
       "    </tr>\n",
       "    <tr>\n",
       "      <th>5</th>\n",
       "      <td>@A00551:791:HFLNGDSX7:1:1101:17562:1063 1:N:0:...</td>\n",
       "      <td>Human_respirovirus_3</td>\n",
       "      <td>84</td>\n",
       "      <td>1</td>\n",
       "      <td>0.079433</td>\n",
       "      <td>CTTCCATGAAGCCTTCCCTGATCTGCTCTGCTTTTCTCTGGAAGAA...</td>\n",
       "      <td>FFFFFFFFFFFFFFFFFFFFFFFFFFFFFFFFFFFFFFFFFFFFFF...</td>\n",
       "      <td>YF</td>\n",
       "    </tr>\n",
       "    <tr>\n",
       "      <th>6</th>\n",
       "      <td>@A00551:791:HFLNGDSX7:1:1101:29658:1063 1:N:0:...</td>\n",
       "      <td>Severe_acute_respiratory_syndrome-related_coro...</td>\n",
       "      <td>117</td>\n",
       "      <td>1</td>\n",
       "      <td>0.630957</td>\n",
       "      <td>TNAAAGCTGTCCACTGTGTTGGATATCAAAATATTTACCTCTCCCA...</td>\n",
       "      <td>F#FFFFFFFFFFFFFFFFFFFFFFFFFFFFFFFFFFFFFFFFF,FF...</td>\n",
       "      <td>YF</td>\n",
       "    </tr>\n",
       "    <tr>\n",
       "      <th>7</th>\n",
       "      <td>@A00551:791:HFLNGDSX7:1:1101:15420:1078 1:N:0:...</td>\n",
       "      <td>Human_gammaherpesvirus_8</td>\n",
       "      <td>32</td>\n",
       "      <td>3</td>\n",
       "      <td>0.003162</td>\n",
       "      <td>GGAGTTTGAGGCAAGCCTGGGATACATAGAACCTATCCCAAAACAG...</td>\n",
       "      <td>FFFFFFFFFFFFFFFFFFFFFFFFFFFFFFFFFFFFFFFFFFFFFF...</td>\n",
       "      <td>YF</td>\n",
       "    </tr>\n",
       "    <tr>\n",
       "      <th>8</th>\n",
       "      <td>@A00551:791:HFLNGDSX7:1:1101:30789:1078 1:N:0:...</td>\n",
       "      <td>Human_gammaherpesvirus_4</td>\n",
       "      <td>62</td>\n",
       "      <td>7</td>\n",
       "      <td>0.079433</td>\n",
       "      <td>CTCAGGACCTGCGGTAGTCTGGAAGACTGGCCGTGAAGTCCTGCCC...</td>\n",
       "      <td>FFFFFFFFFFFFFFFFFFFFFFFFFFFFFFFFFFFFFFFF:FFFFF...</td>\n",
       "      <td>YF</td>\n",
       "    </tr>\n",
       "    <tr>\n",
       "      <th>9</th>\n",
       "      <td>@A00551:791:HFLNGDSX7:1:1101:1633:1094 1:N:0:C...</td>\n",
       "      <td>Influenza_D_virus</td>\n",
       "      <td>111</td>\n",
       "      <td>6</td>\n",
       "      <td>0.079433</td>\n",
       "      <td>GAGGGAAGTTGTTATGAAATTTTGCTTTGGTCCTATAAATGTCCCT...</td>\n",
       "      <td>FFF,FFFFFFFFFFFFFFFFFFFF:FFF,FFFFFFFF:FFFFFFFF...</td>\n",
       "      <td>YF</td>\n",
       "    </tr>\n",
       "  </tbody>\n",
       "</table>\n",
       "</div>"
      ],
      "text/plain": [
       "                                                  ID  \\\n",
       "0  @A00551:791:HFLNGDSX7:1:1101:3441:1031 1:N:0:C...   \n",
       "1  @A00551:791:HFLNGDSX7:1:1101:14642:1047 1:N:0:...   \n",
       "2  @A00551:791:HFLNGDSX7:1:1101:20699:1047 1:N:0:...   \n",
       "3  @A00551:791:HFLNGDSX7:1:1101:15194:1063 1:N:0:...   \n",
       "4  @A00551:791:HFLNGDSX7:1:1101:16839:1063 1:N:0:...   \n",
       "5  @A00551:791:HFLNGDSX7:1:1101:17562:1063 1:N:0:...   \n",
       "6  @A00551:791:HFLNGDSX7:1:1101:29658:1063 1:N:0:...   \n",
       "7  @A00551:791:HFLNGDSX7:1:1101:15420:1078 1:N:0:...   \n",
       "8  @A00551:791:HFLNGDSX7:1:1101:30789:1078 1:N:0:...   \n",
       "9  @A00551:791:HFLNGDSX7:1:1101:1633:1094 1:N:0:C...   \n",
       "\n",
       "                                   Predicted Species  Predicted Label  \\\n",
       "0                              Isfahan_vesiculovirus              104   \n",
       "1                                      Variola_virus                0   \n",
       "2                           Human_betaherpesvirus_6A               12   \n",
       "3                           Human_gammaherpesvirus_4               62   \n",
       "4                           Human_gammaherpesvirus_8               32   \n",
       "5                               Human_respirovirus_3               84   \n",
       "6  Severe_acute_respiratory_syndrome-related_coro...              117   \n",
       "7                           Human_gammaherpesvirus_8               32   \n",
       "8                           Human_gammaherpesvirus_4               62   \n",
       "9                                  Influenza_D_virus              111   \n",
       "\n",
       "   Predicted Position  Max Prob Error  \\\n",
       "0                   1        0.630957   \n",
       "1                   0        0.630957   \n",
       "2                   9        0.630957   \n",
       "3                   9        0.003162   \n",
       "4                   0        0.003162   \n",
       "5                   1        0.079433   \n",
       "6                   1        0.630957   \n",
       "7                   3        0.003162   \n",
       "8                   7        0.079433   \n",
       "9                   6        0.079433   \n",
       "\n",
       "                                            Sequence  \\\n",
       "0  CNCACCCAAAGGATGCCCTTTGGACCTCAGTAATGAGACTTCCATC...   \n",
       "1  CNTTTTTATGCTTTTTTGTATCTGTTTTAAAAATATTTTTATATAT...   \n",
       "2  CNATCTCTCTGTCTCTGTGTTTCTCTCTCTATGTCTCTCCATCTCT...   \n",
       "3  GTCAGAGTACTCTCTGCAGGCAAGCTCTCCTCTTGCAGGGAAGGTG...   \n",
       "4  GGTGGCCCAGGTGTGGGCGGAGGGGGTTGTCGCGGCGTGGATCGGA...   \n",
       "5  CTTCCATGAAGCCTTCCCTGATCTGCTCTGCTTTTCTCTGGAAGAA...   \n",
       "6  TNAAAGCTGTCCACTGTGTTGGATATCAAAATATTTACCTCTCCCA...   \n",
       "7  GGAGTTTGAGGCAAGCCTGGGATACATAGAACCTATCCCAAAACAG...   \n",
       "8  CTCAGGACCTGCGGTAGTCTGGAAGACTGGCCGTGAAGTCCTGCCC...   \n",
       "9  GAGGGAAGTTGTTATGAAATTTTGCTTTGGTCCTATAAATGTCCCT...   \n",
       "\n",
       "                                             Q Score Dataset Reference  \n",
       "0  F#FFFFFFFFFFFFFFFFFFFFFFFF:FFFFFFFFFFFFFFFFFFF...                YF  \n",
       "1  F#FFFFFFFFFFFFFFFFFFFFFFFFFFFFFFFFFFFFFFFFFFFF...                YF  \n",
       "2  F#FFFFFFFFFFFFFFFFFFFFFFFFFFFFF:FFFFFFFFFFFFFF...                YF  \n",
       "3  FFFFF:FFFFFFFFFFFFFFFFFFFFFFFFFFFFFFFFFFFFFFFF...                YF  \n",
       "4  FFFFFFFFFFFFFFFFFFFFFFFFFFFFFFFFFFFFFFFFFFFFFF...                YF  \n",
       "5  FFFFFFFFFFFFFFFFFFFFFFFFFFFFFFFFFFFFFFFFFFFFFF...                YF  \n",
       "6  F#FFFFFFFFFFFFFFFFFFFFFFFFFFFFFFFFFFFFFFFFF,FF...                YF  \n",
       "7  FFFFFFFFFFFFFFFFFFFFFFFFFFFFFFFFFFFFFFFFFFFFFF...                YF  \n",
       "8  FFFFFFFFFFFFFFFFFFFFFFFFFFFFFFFFFFFFFFFF:FFFFF...                YF  \n",
       "9  FFF,FFFFFFFFFFFFFFFFFFFF:FFF,FFFFFFFF:FFFFFFFF...                YF  "
      ]
     },
     "execution_count": null,
     "metadata": {},
     "output_type": "execute_result"
    }
   ],
   "source": [
    "df = pd.read_csv(p2results, sep='\\t')\n",
    "coi = ['ID', 'Predicted Species', 'Predicted Label', 'Predicted Position', 'Max Prob Error', 'Sequence', 'Q Score', 'Dataset Reference']\n",
    "df.loc[:, coi]"
   ]
  },
  {
   "cell_type": "code",
   "execution_count": null,
   "metadata": {},
   "outputs": [
    {
     "data": {
      "text/html": [
       "<div>\n",
       "<style scoped>\n",
       "    .dataframe tbody tr th:only-of-type {\n",
       "        vertical-align: middle;\n",
       "    }\n",
       "\n",
       "    .dataframe tbody tr th {\n",
       "        vertical-align: top;\n",
       "    }\n",
       "\n",
       "    .dataframe thead th {\n",
       "        text-align: right;\n",
       "    }\n",
       "</style>\n",
       "<table border=\"1\" class=\"dataframe\">\n",
       "  <thead>\n",
       "    <tr style=\"text-align: right;\">\n",
       "      <th></th>\n",
       "      <th>index</th>\n",
       "      <th>ID</th>\n",
       "      <th>Predicted Species</th>\n",
       "      <th>Predicted Label</th>\n",
       "      <th>Predicted Position</th>\n",
       "      <th>Max Prob Error</th>\n",
       "      <th>Sequence</th>\n",
       "      <th>Q Score</th>\n",
       "      <th>Dataset Reference</th>\n",
       "    </tr>\n",
       "  </thead>\n",
       "  <tbody>\n",
       "  </tbody>\n",
       "</table>\n",
       "</div>"
      ],
      "text/plain": [
       "Empty DataFrame\n",
       "Columns: [index, ID, Predicted Species, Predicted Label, Predicted Position, Max Prob Error, Sequence, Q Score, Dataset Reference]\n",
       "Index: []"
      ]
     },
     "execution_count": null,
     "metadata": {},
     "output_type": "execute_result"
    }
   ],
   "source": [
    "# df.loc[df.loc[:, 'Predicted Label'].isin([94, 117]), coi].reset_index()\n",
    "df.loc[df.loc[:, 'Predicted Label'].isin([118]), coi].reset_index()"
   ]
  },
  {
   "cell_type": "code",
   "execution_count": null,
   "metadata": {},
   "outputs": [
    {
     "data": {
      "text/html": [
       "<div>\n",
       "<style scoped>\n",
       "    .dataframe tbody tr th:only-of-type {\n",
       "        vertical-align: middle;\n",
       "    }\n",
       "\n",
       "    .dataframe tbody tr th {\n",
       "        vertical-align: top;\n",
       "    }\n",
       "\n",
       "    .dataframe thead th {\n",
       "        text-align: right;\n",
       "    }\n",
       "</style>\n",
       "<table border=\"1\" class=\"dataframe\">\n",
       "  <thead>\n",
       "    <tr style=\"text-align: right;\">\n",
       "      <th></th>\n",
       "      <th>index</th>\n",
       "      <th>ID</th>\n",
       "      <th>Predicted Species</th>\n",
       "      <th>Predicted Label</th>\n",
       "      <th>Predicted Position</th>\n",
       "      <th>Max Prob Error</th>\n",
       "      <th>Sequence</th>\n",
       "      <th>Q Score</th>\n",
       "      <th>Dataset Reference</th>\n",
       "    </tr>\n",
       "  </thead>\n",
       "  <tbody>\n",
       "    <tr>\n",
       "      <th>0</th>\n",
       "      <td>0</td>\n",
       "      <td>@A00551:791:HFLNGDSX7:1:1101:3441:1031 1:N:0:C...</td>\n",
       "      <td>Isfahan_vesiculovirus</td>\n",
       "      <td>104</td>\n",
       "      <td>1</td>\n",
       "      <td>0.630957</td>\n",
       "      <td>CNCACCCAAAGGATGCCCTTTGGACCTCAGTAATGAGACTTCCATC...</td>\n",
       "      <td>F#FFFFFFFFFFFFFFFFFFFFFFFF:FFFFFFFFFFFFFFFFFFF...</td>\n",
       "      <td>YF</td>\n",
       "    </tr>\n",
       "    <tr>\n",
       "      <th>1</th>\n",
       "      <td>1</td>\n",
       "      <td>@A00551:791:HFLNGDSX7:1:1101:14642:1047 1:N:0:...</td>\n",
       "      <td>Variola_virus</td>\n",
       "      <td>0</td>\n",
       "      <td>0</td>\n",
       "      <td>0.630957</td>\n",
       "      <td>CNTTTTTATGCTTTTTTGTATCTGTTTTAAAAATATTTTTATATAT...</td>\n",
       "      <td>F#FFFFFFFFFFFFFFFFFFFFFFFFFFFFFFFFFFFFFFFFFFFF...</td>\n",
       "      <td>YF</td>\n",
       "    </tr>\n",
       "    <tr>\n",
       "      <th>2</th>\n",
       "      <td>2</td>\n",
       "      <td>@A00551:791:HFLNGDSX7:1:1101:20699:1047 1:N:0:...</td>\n",
       "      <td>Human_betaherpesvirus_6A</td>\n",
       "      <td>12</td>\n",
       "      <td>9</td>\n",
       "      <td>0.630957</td>\n",
       "      <td>CNATCTCTCTGTCTCTGTGTTTCTCTCTCTATGTCTCTCCATCTCT...</td>\n",
       "      <td>F#FFFFFFFFFFFFFFFFFFFFFFFFFFFFF:FFFFFFFFFFFFFF...</td>\n",
       "      <td>YF</td>\n",
       "    </tr>\n",
       "    <tr>\n",
       "      <th>3</th>\n",
       "      <td>3</td>\n",
       "      <td>@A00551:791:HFLNGDSX7:1:1101:15194:1063 1:N:0:...</td>\n",
       "      <td>Human_gammaherpesvirus_4</td>\n",
       "      <td>62</td>\n",
       "      <td>9</td>\n",
       "      <td>0.003162</td>\n",
       "      <td>GTCAGAGTACTCTCTGCAGGCAAGCTCTCCTCTTGCAGGGAAGGTG...</td>\n",
       "      <td>FFFFF:FFFFFFFFFFFFFFFFFFFFFFFFFFFFFFFFFFFFFFFF...</td>\n",
       "      <td>YF</td>\n",
       "    </tr>\n",
       "    <tr>\n",
       "      <th>4</th>\n",
       "      <td>4</td>\n",
       "      <td>@A00551:791:HFLNGDSX7:1:1101:16839:1063 1:N:0:...</td>\n",
       "      <td>Human_gammaherpesvirus_8</td>\n",
       "      <td>32</td>\n",
       "      <td>0</td>\n",
       "      <td>0.003162</td>\n",
       "      <td>GGTGGCCCAGGTGTGGGCGGAGGGGGTTGTCGCGGCGTGGATCGGA...</td>\n",
       "      <td>FFFFFFFFFFFFFFFFFFFFFFFFFFFFFFFFFFFFFFFFFFFFFF...</td>\n",
       "      <td>YF</td>\n",
       "    </tr>\n",
       "    <tr>\n",
       "      <th>5</th>\n",
       "      <td>5</td>\n",
       "      <td>@A00551:791:HFLNGDSX7:1:1101:17562:1063 1:N:0:...</td>\n",
       "      <td>Human_respirovirus_3</td>\n",
       "      <td>84</td>\n",
       "      <td>1</td>\n",
       "      <td>0.079433</td>\n",
       "      <td>CTTCCATGAAGCCTTCCCTGATCTGCTCTGCTTTTCTCTGGAAGAA...</td>\n",
       "      <td>FFFFFFFFFFFFFFFFFFFFFFFFFFFFFFFFFFFFFFFFFFFFFF...</td>\n",
       "      <td>YF</td>\n",
       "    </tr>\n",
       "    <tr>\n",
       "      <th>6</th>\n",
       "      <td>6</td>\n",
       "      <td>@A00551:791:HFLNGDSX7:1:1101:29658:1063 1:N:0:...</td>\n",
       "      <td>Severe_acute_respiratory_syndrome-related_coro...</td>\n",
       "      <td>117</td>\n",
       "      <td>1</td>\n",
       "      <td>0.630957</td>\n",
       "      <td>TNAAAGCTGTCCACTGTGTTGGATATCAAAATATTTACCTCTCCCA...</td>\n",
       "      <td>F#FFFFFFFFFFFFFFFFFFFFFFFFFFFFFFFFFFFFFFFFF,FF...</td>\n",
       "      <td>YF</td>\n",
       "    </tr>\n",
       "    <tr>\n",
       "      <th>7</th>\n",
       "      <td>7</td>\n",
       "      <td>@A00551:791:HFLNGDSX7:1:1101:15420:1078 1:N:0:...</td>\n",
       "      <td>Human_gammaherpesvirus_8</td>\n",
       "      <td>32</td>\n",
       "      <td>3</td>\n",
       "      <td>0.003162</td>\n",
       "      <td>GGAGTTTGAGGCAAGCCTGGGATACATAGAACCTATCCCAAAACAG...</td>\n",
       "      <td>FFFFFFFFFFFFFFFFFFFFFFFFFFFFFFFFFFFFFFFFFFFFFF...</td>\n",
       "      <td>YF</td>\n",
       "    </tr>\n",
       "    <tr>\n",
       "      <th>8</th>\n",
       "      <td>8</td>\n",
       "      <td>@A00551:791:HFLNGDSX7:1:1101:30789:1078 1:N:0:...</td>\n",
       "      <td>Human_gammaherpesvirus_4</td>\n",
       "      <td>62</td>\n",
       "      <td>7</td>\n",
       "      <td>0.079433</td>\n",
       "      <td>CTCAGGACCTGCGGTAGTCTGGAAGACTGGCCGTGAAGTCCTGCCC...</td>\n",
       "      <td>FFFFFFFFFFFFFFFFFFFFFFFFFFFFFFFFFFFFFFFF:FFFFF...</td>\n",
       "      <td>YF</td>\n",
       "    </tr>\n",
       "    <tr>\n",
       "      <th>9</th>\n",
       "      <td>9</td>\n",
       "      <td>@A00551:791:HFLNGDSX7:1:1101:1633:1094 1:N:0:C...</td>\n",
       "      <td>Influenza_D_virus</td>\n",
       "      <td>111</td>\n",
       "      <td>6</td>\n",
       "      <td>0.079433</td>\n",
       "      <td>GAGGGAAGTTGTTATGAAATTTTGCTTTGGTCCTATAAATGTCCCT...</td>\n",
       "      <td>FFF,FFFFFFFFFFFFFFFFFFFF:FFF,FFFFFFFF:FFFFFFFF...</td>\n",
       "      <td>YF</td>\n",
       "    </tr>\n",
       "  </tbody>\n",
       "</table>\n",
       "</div>"
      ],
      "text/plain": [
       "   index                                                 ID  \\\n",
       "0      0  @A00551:791:HFLNGDSX7:1:1101:3441:1031 1:N:0:C...   \n",
       "1      1  @A00551:791:HFLNGDSX7:1:1101:14642:1047 1:N:0:...   \n",
       "2      2  @A00551:791:HFLNGDSX7:1:1101:20699:1047 1:N:0:...   \n",
       "3      3  @A00551:791:HFLNGDSX7:1:1101:15194:1063 1:N:0:...   \n",
       "4      4  @A00551:791:HFLNGDSX7:1:1101:16839:1063 1:N:0:...   \n",
       "5      5  @A00551:791:HFLNGDSX7:1:1101:17562:1063 1:N:0:...   \n",
       "6      6  @A00551:791:HFLNGDSX7:1:1101:29658:1063 1:N:0:...   \n",
       "7      7  @A00551:791:HFLNGDSX7:1:1101:15420:1078 1:N:0:...   \n",
       "8      8  @A00551:791:HFLNGDSX7:1:1101:30789:1078 1:N:0:...   \n",
       "9      9  @A00551:791:HFLNGDSX7:1:1101:1633:1094 1:N:0:C...   \n",
       "\n",
       "                                   Predicted Species  Predicted Label  \\\n",
       "0                              Isfahan_vesiculovirus              104   \n",
       "1                                      Variola_virus                0   \n",
       "2                           Human_betaherpesvirus_6A               12   \n",
       "3                           Human_gammaherpesvirus_4               62   \n",
       "4                           Human_gammaherpesvirus_8               32   \n",
       "5                               Human_respirovirus_3               84   \n",
       "6  Severe_acute_respiratory_syndrome-related_coro...              117   \n",
       "7                           Human_gammaherpesvirus_8               32   \n",
       "8                           Human_gammaherpesvirus_4               62   \n",
       "9                                  Influenza_D_virus              111   \n",
       "\n",
       "   Predicted Position  Max Prob Error  \\\n",
       "0                   1        0.630957   \n",
       "1                   0        0.630957   \n",
       "2                   9        0.630957   \n",
       "3                   9        0.003162   \n",
       "4                   0        0.003162   \n",
       "5                   1        0.079433   \n",
       "6                   1        0.630957   \n",
       "7                   3        0.003162   \n",
       "8                   7        0.079433   \n",
       "9                   6        0.079433   \n",
       "\n",
       "                                            Sequence  \\\n",
       "0  CNCACCCAAAGGATGCCCTTTGGACCTCAGTAATGAGACTTCCATC...   \n",
       "1  CNTTTTTATGCTTTTTTGTATCTGTTTTAAAAATATTTTTATATAT...   \n",
       "2  CNATCTCTCTGTCTCTGTGTTTCTCTCTCTATGTCTCTCCATCTCT...   \n",
       "3  GTCAGAGTACTCTCTGCAGGCAAGCTCTCCTCTTGCAGGGAAGGTG...   \n",
       "4  GGTGGCCCAGGTGTGGGCGGAGGGGGTTGTCGCGGCGTGGATCGGA...   \n",
       "5  CTTCCATGAAGCCTTCCCTGATCTGCTCTGCTTTTCTCTGGAAGAA...   \n",
       "6  TNAAAGCTGTCCACTGTGTTGGATATCAAAATATTTACCTCTCCCA...   \n",
       "7  GGAGTTTGAGGCAAGCCTGGGATACATAGAACCTATCCCAAAACAG...   \n",
       "8  CTCAGGACCTGCGGTAGTCTGGAAGACTGGCCGTGAAGTCCTGCCC...   \n",
       "9  GAGGGAAGTTGTTATGAAATTTTGCTTTGGTCCTATAAATGTCCCT...   \n",
       "\n",
       "                                             Q Score Dataset Reference  \n",
       "0  F#FFFFFFFFFFFFFFFFFFFFFFFF:FFFFFFFFFFFFFFFFFFF...                YF  \n",
       "1  F#FFFFFFFFFFFFFFFFFFFFFFFFFFFFFFFFFFFFFFFFFFFF...                YF  \n",
       "2  F#FFFFFFFFFFFFFFFFFFFFFFFFFFFFF:FFFFFFFFFFFFFF...                YF  \n",
       "3  FFFFF:FFFFFFFFFFFFFFFFFFFFFFFFFFFFFFFFFFFFFFFF...                YF  \n",
       "4  FFFFFFFFFFFFFFFFFFFFFFFFFFFFFFFFFFFFFFFFFFFFFF...                YF  \n",
       "5  FFFFFFFFFFFFFFFFFFFFFFFFFFFFFFFFFFFFFFFFFFFFFF...                YF  \n",
       "6  F#FFFFFFFFFFFFFFFFFFFFFFFFFFFFFFFFFFFFFFFFF,FF...                YF  \n",
       "7  FFFFFFFFFFFFFFFFFFFFFFFFFFFFFFFFFFFFFFFFFFFFFF...                YF  \n",
       "8  FFFFFFFFFFFFFFFFFFFFFFFFFFFFFFFFFFFFFFFF:FFFFF...                YF  \n",
       "9  FFF,FFFFFFFFFFFFFFFFFFFF:FFF,FFFFFFFF:FFFFFFFF...                YF  "
      ]
     },
     "execution_count": null,
     "metadata": {},
     "output_type": "execute_result"
    }
   ],
   "source": [
    "# df.loc[~df.loc[:, 'Predicted Label'].isin([94, 117]), coi].reset_index()\n",
    "df.loc[~df.loc[:, 'Predicted Label'].isin([118]), coi].reset_index()"
   ]
  },
  {
   "cell_type": "code",
   "execution_count": null,
   "metadata": {},
   "outputs": [],
   "source": []
  },
  {
   "cell_type": "markdown",
   "metadata": {},
   "source": [
    "# New Section"
   ]
  },
  {
   "cell_type": "code",
   "execution_count": null,
   "metadata": {},
   "outputs": [],
   "source": []
  },
  {
   "cell_type": "code",
   "execution_count": null,
   "metadata": {},
   "outputs": [],
   "source": []
  },
  {
   "cell_type": "code",
   "execution_count": null,
   "metadata": {},
   "outputs": [],
   "source": []
  },
  {
   "cell_type": "markdown",
   "metadata": {},
   "source": [
    "## end of section"
   ]
  }
 ],
 "metadata": {
  "kernelspec": {
   "display_name": "python3",
   "language": "python",
   "name": "python3"
  }
 },
 "nbformat": 4,
 "nbformat_minor": 1
}
