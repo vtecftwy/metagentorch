{
 "cells": [
  {
   "cell_type": "markdown",
   "metadata": {},
   "source": [
    "# Review NCBI CoV Sequences and SimReads Data"
   ]
  },
  {
   "cell_type": "markdown",
   "metadata": {},
   "source": [
    "In this notebook, we explore several `metagentools` tools to explore this project file structure and sequence files:\n",
    "- `ProjectFileSystem` to explore the file structure of the project\n",
    "- `FastaFileReader` to explore CoV reference sequence (from NCBI GenBank)\n",
    "- `FastqFileReader` and `AlnFileReader` to the corresponding simulated reads generated from the reference sequences with ART Illumina."
   ]
  },
  {
   "cell_type": "markdown",
   "metadata": {},
   "source": [
    "Note: The notebook was built and tested to run locally but should also work on Colab or Kaggle. If on Colab, it assumes that the project shared gdrive directory is accessible through a shortcut called `Metagenomics` under the root of gdrive."
   ]
  },
  {
   "cell_type": "markdown",
   "metadata": {},
   "source": [
    "# 1. Imports and setup environment"
   ]
  },
  {
   "cell_type": "markdown",
   "metadata": {},
   "source": [
    "### Install and import packages\n",
    "This project requires `ecutilities` and `metagentools` to be installed. If not already installed, it will be automatically installed."
   ]
  },
  {
   "cell_type": "code",
   "execution_count": null,
   "metadata": {},
   "outputs": [
    {
     "name": "stdout",
     "output_type": "stream",
     "text": [
      "`eccore` already installed\n",
      "`metagentorch` already installed\n"
     ]
    }
   ],
   "source": [
    "# Install required custom packages if not installed yet.\n",
    "import importlib.util\n",
    "if not importlib.util.find_spec('eccore'):\n",
    "    print('installing package: `eccore`')\n",
    "    ! pip install -qqU eccore\n",
    "else:\n",
    "    print('`eccore` already installed')\n",
    "if not importlib.util.find_spec('metagentorch'):\n",
    "    print('installing package: `metagentorch')\n",
    "    ! pip install -qqU metagentorch\n",
    "else:\n",
    "    print('`metagentorch` already installed')"
   ]
  },
  {
   "cell_type": "code",
   "execution_count": null,
   "metadata": {},
   "outputs": [
    {
     "name": "stdout",
     "output_type": "stream",
     "text": [
      "Set autoreload mode\n"
     ]
    }
   ],
   "source": [
    "# Import all required packages\n",
    "import matplotlib.pyplot as plt\n",
    "import numpy as np\n",
    "import pandas as pd\n",
    "\n",
    "from eccore.core import files_in_tree\n",
    "from eccore.ipython import nb_setup\n",
    "from nbdev import show_doc\n",
    "from pathlib import Path\n",
    "from pprint import pprint\n",
    "\n",
    "# Setup the notebook for development\n",
    "nb_setup()\n",
    "\n",
    "from metagentorch.cnn_virus.data import FastaFileReader, FastqFileReader, AlnFileReader\n",
    "from metagentorch.core import ProjectFileSystem"
   ]
  },
  {
   "cell_type": "markdown",
   "metadata": {},
   "source": [
    "# 2. Review the project file system"
   ]
  },
  {
   "cell_type": "markdown",
   "metadata": {},
   "source": [
    "This project adopts a unified file structure to make coding and colaboration easier. In addition, we can run the code locally (from a `project-root` directory) or in the cloud (colab or kaggle).\n",
    "\n",
    "The unified file structure when running localy is:\n",
    "```text\n",
    "    project-root   \n",
    "        |--- data\n",
    "        |      |--- CNN_Virus_data  (all data related to CNN Virus original paper)\n",
    "        |      |--- saved           (trained and finetuned models)\n",
    "        |      |--- ....            (raw and pre-processed data from various sources)  \n",
    "        |      \n",
    "        |--- nbs  (all reference and work notebooks)\n",
    "        |      |--- cnn_virus\n",
    "        |      |        |--- notebooks.ipynb\n",
    "```\n",
    "\n",
    "When running on google colab, it is assumed that a google drive is mounted on the colab server instance, and that the google drive root includes a shortcut named `Metagenomics` and pointing to the project shared directory. The project shared directory is accessible [here](/https://drive.google.com/drive/folders/134uei5fmt08TpzhmjG4sW0FQ06kn2ZfZ) if your google account was given access permission."
   ]
  },
  {
   "cell_type": "markdown",
   "metadata": {},
   "source": [
    "To make access to the unified file system, `metagentools` provides a `ProjectFileSystem` class (see [documentation](https://vtecftwy.github.io/metagentools/core.html#projectfilesystem) for more info or run `show_doc(ProjectFileSystem)` in an empty cell).\n",
    "\n",
    "Key folders and system information"
   ]
  },
  {
   "cell_type": "code",
   "execution_count": null,
   "metadata": {},
   "outputs": [
    {
     "name": "stdout",
     "output_type": "stream",
     "text": [
      "Running linux on local computer\n",
      "Device's home directory: /home/vtec\n",
      "Project file structure:\n",
      " - Root ........ /home/vtec/projects/bio/metagentorch \n",
      " - Data Dir .... /home/vtec/projects/bio/metagentorch/data \n",
      " - Notebooks ... /home/vtec/projects/bio/metagentorch/nbs\n"
     ]
    }
   ],
   "source": [
    "pfs = ProjectFileSystem()\n",
    "pfs.info()"
   ]
  },
  {
   "cell_type": "code",
   "execution_count": null,
   "metadata": {},
   "outputs": [
    {
     "data": {
      "text/html": [
       "<hr>"
      ],
      "text/plain": [
       "<IPython.core.display.HTML object>"
      ]
     },
     "metadata": {},
     "output_type": "display_data"
    },
    {
     "data": {
      "text/markdown": [
       "ReadMe file for directory `data`:"
      ],
      "text/plain": [
       "<IPython.core.display.Markdown object>"
      ]
     },
     "metadata": {},
     "output_type": "display_data"
    },
    {
     "data": {
      "text/html": [
       "<hr>"
      ],
      "text/plain": [
       "<IPython.core.display.HTML object>"
      ]
     },
     "metadata": {},
     "output_type": "display_data"
    },
    {
     "data": {
      "text/markdown": [
       "### Data structure for this project\n",
       "This directory includes all the data required for the project.\n",
       "\n",
       "```text\n",
       "data\n",
       " |--- CNN_Virus_data \n",
       " |--- ncbi                \n",
       " |--- saved         \n",
       " |--- yf-reads\n",
       " |--- ....           \n",
       "     \n",
       "```\n",
       "#### Sub-directories\n",
       "- `CNN_Virus_data`: includes all the data related to the original CNN Virus paper, i.e. training data and validation data in a format that can be used by the CNN Virus code.\n",
       "- `ncbi`: includes data related to the use of viral sequences from NCBI: reference sequences, simulated reads, inference datasets, inference results.\n",
       "- `saved`: includes model saved parameters and preprocessing datasets.\n",
       "- `yf-reads`: includes all data related to real yellow fever reads, from \"wet\" samples\n",
       "\n",
       "Also available on AWS S3 at `https://s3.ap-southeast-1.amazonaws.com/bio.cnn-virus.data/data/...`"
      ],
      "text/plain": [
       "<IPython.core.display.Markdown object>"
      ]
     },
     "metadata": {},
     "output_type": "display_data"
    },
    {
     "data": {
      "text/html": [
       "<hr>"
      ],
      "text/plain": [
       "<IPython.core.display.HTML object>"
      ]
     },
     "metadata": {},
     "output_type": "display_data"
    }
   ],
   "source": [
    "pfs.readme()"
   ]
  },
  {
   "cell_type": "markdown",
   "metadata": {},
   "source": [
    "### Explore files in NCBI data directory"
   ]
  },
  {
   "cell_type": "markdown",
   "metadata": {},
   "source": [
    "`pfs` makes it easy to explore the data directory tree under `data`, using the `readme.md` files in each directory."
   ]
  },
  {
   "cell_type": "code",
   "execution_count": null,
   "metadata": {},
   "outputs": [
    {
     "name": "stdout",
     "output_type": "stream",
     "text": [
      "data\n",
      "  |--ncbi\n",
      "  |    |--readme.md (0)\n",
      "  |    |--refsequences\n",
      "  |    |    |--readme.md (1)\n",
      "  |    |--simreads\n",
      "  |    |    |--readme.md (2)\n",
      "  |    |--other\n",
      "  |    |    |--phylo-tree-example.xml (3)\n",
      "  |    |    |--phylo-tree-examples.xml (4)\n",
      "  |    |    |--phylo-tree-apaf.xml (5)\n",
      "  |    |--infer_results\n",
      "  |    |    |--readme.md (6)\n",
      "  |    |--bowtie2\n",
      "  |    |--ds\n",
      "  |    |    |--readme.md (7)\n"
     ]
    }
   ],
   "source": [
    "files_in_tree(pfs.data/'ncbi');"
   ]
  },
  {
   "cell_type": "markdown",
   "metadata": {},
   "source": [
    "#### Reference Sequences"
   ]
  },
  {
   "cell_type": "code",
   "execution_count": null,
   "metadata": {},
   "outputs": [
    {
     "data": {
      "text/html": [
       "<hr>"
      ],
      "text/plain": [
       "<IPython.core.display.HTML object>"
      ]
     },
     "metadata": {},
     "output_type": "display_data"
    },
    {
     "data": {
      "text/markdown": [
       "ReadMe file for directory `data/ncbi/refsequences`:"
      ],
      "text/plain": [
       "<IPython.core.display.Markdown object>"
      ]
     },
     "metadata": {},
     "output_type": "display_data"
    },
    {
     "data": {
      "text/html": [
       "<hr>"
      ],
      "text/plain": [
       "<IPython.core.display.HTML object>"
      ]
     },
     "metadata": {},
     "output_type": "display_data"
    },
    {
     "data": {
      "text/markdown": [
       "### NCBI Reference Sequences\n",
       "\n",
       "This directory includes the reference sequences from NCBI, for each virus group. \n",
       "\n",
       "Each group of viruses is grouped into one directory:\n",
       "- `cov`: all reference sequences and related metadata files for corona (sars and mers)\n",
       "- `mRhiFer1`:  a reference sequence different from CoV and YF to test false positive predictions\n",
       "- `yf`: all reference sequences and related metadata files for yellow fever\n"
      ],
      "text/plain": [
       "<IPython.core.display.Markdown object>"
      ]
     },
     "metadata": {},
     "output_type": "display_data"
    },
    {
     "data": {
      "text/html": [
       "<hr>"
      ],
      "text/plain": [
       "<IPython.core.display.HTML object>"
      ]
     },
     "metadata": {},
     "output_type": "display_data"
    },
    {
     "name": "stdout",
     "output_type": "stream",
     "text": [
      "ncbi\n",
      "  |--refsequences\n",
      "  |    |--readme.md (0)\n",
      "  |    |--mRhiFer1\n",
      "  |    |    |--Rhinolophus_ferrumequinum.mRhiFer1_v1.p.dna_rm.primary_assembly.1.fa (1)\n",
      "  |    |    |--Rhinolophus_ferrumequinum.mRhiFer1_v1.p.dna.primary_assembly.1.fa.gz (2)\n",
      "  |    |    |--Rhinolophus_ferrumequinum.mRhiFer1_v1.p.dna_rm.primary_assembly.1.clean.fa (3)\n",
      "  |    |    |--readme.md (4)\n",
      "  |    |    |--Rhinolophus_ferrumequinum.mRhiFer1_v1.p.dna_rm.primary_assembly.1.fa.gz (5)\n",
      "  |    |--yf\n",
      "  |    |    |--yf_1971_angola.fa (6)\n",
      "  |    |    |--yf_2023_yellow_fever.fa (7)\n",
      "  |    |    |--yf_2023_yellow_fever_with_missing_bases.fa (8)\n",
      "  |    |    |--yf_2023_yellow_fever_aligned.fa (9)\n",
      "  |    |    |--yf_2023_multiple_alignment_original.fa (10)\n",
      "  |    |    |--readme.md (11)\n",
      "  |    |    |--yf_NC_002031_full_sequence.fa (12)\n",
      "  |    |--cov\n",
      "  |    |    |--cov_refseq_original.fa (13)\n",
      "  |    |    |--cov_original_cnn_sequences.json (14)\n",
      "  |    |    |--cov_refseq_002-seqs.fa (15)\n",
      "  |    |    |--cov_refseq_025-seqs.fa (16)\n",
      "  |    |    |--readme.md (17)\n",
      "  |    |    |--cov_refseq_001-seq2.fa (18)\n",
      "  |    |    |--taxonomyid-label-mapping.json (19)\n",
      "  |    |    |--cov_refseq_010-seqs.fa (20)\n",
      "  |    |    |--cov_refseq_list.txt (21)\n",
      "  |    |    |--accession-label-mapping.json (22)\n",
      "  |    |    |--cov_refseq.fa (23)\n",
      "  |    |    |--cov_refseq_001-seq1.fa (24)\n",
      "  |    |    |--cov_refseq_100-seqs.fa (25)\n"
     ]
    }
   ],
   "source": [
    "path = pfs.data / 'ncbi' / 'refsequences'\n",
    "pfs.readme(dir_path=path)\n",
    "files_in_tree(path);"
   ]
  },
  {
   "cell_type": "markdown",
   "metadata": {},
   "source": [
    "#### Simulated Reads (ART Illumina)"
   ]
  },
  {
   "cell_type": "code",
   "execution_count": null,
   "metadata": {},
   "outputs": [
    {
     "data": {
      "text/html": [
       "<hr>"
      ],
      "text/plain": [
       "<IPython.core.display.HTML object>"
      ]
     },
     "metadata": {},
     "output_type": "display_data"
    },
    {
     "data": {
      "text/markdown": [
       "ReadMe file for directory `data/ncbi/simreads`:"
      ],
      "text/plain": [
       "<IPython.core.display.Markdown object>"
      ]
     },
     "metadata": {},
     "output_type": "display_data"
    },
    {
     "data": {
      "text/html": [
       "<hr>"
      ],
      "text/plain": [
       "<IPython.core.display.HTML object>"
      ]
     },
     "metadata": {},
     "output_type": "display_data"
    },
    {
     "data": {
      "text/markdown": [
       "### NCBI simulated reads\n",
       "This directory includes all sets of simulated read sequence files generated from NCBI viral sequences using  ARC Illumina. \n",
       "\n",
       "```ascii\n",
       "this-directory\n",
       "    |--cov\n",
       "    |    |\n",
       "    |    |--single_10seq_50bp\n",
       "    |    |    |--single_10seq_50bp.fq\n",
       "    |    |    |--single_10seq_50bp.alnEnd\n",
       "    |    |-- ...\n",
       "    |    |--single_100seq_150bp\n",
       "    |    |    |--single_100seq_150bp.fq\n",
       "    |    |    |--single_100seq_150bp.aln\n",
       "    |    |--paired_100seq_50bp\n",
       "    |    |    |--paired_100seq_50bp2.aln\n",
       "    |    |    |--paired_100seq_50bp1.aln\n",
       "    |    |    |--paired_100seq_50bp2.fq\n",
       "    |    |    |--paired_100seq_50bp1.fq\n",
       "    |    |-- ...\n",
       "    |    |\n",
       "    |---yf\n",
       "    |    |\n",
       "    |    |--yf_AY968064-single-150bp\n",
       "    |    |    |--yf_AY968064-single-1seq-150bp.fq\n",
       "    |    |    |--yf_AY968064-single-1seq-150bp.aln\n",
       "    |    |\n",
       "    |--mRhiFer1\n",
       "    |    |--mRhiFer1_v1.p.dna_rm.primary_assembly.1\n",
       "    |    |    |--mRhiFer1_v1.p.dna_rm.primary_assembly.1.fq\n",
       "    |    |    |--mRhiFer1_v1.p.dna_rm.primary_assembly.1.aln\n",
       "    |    |\n",
       "\n",
       "```\n",
       "\n",
       "This directory includes several subdirectories, each for one virus, e.g. `cov` for corona, `yf` for yellow fever.\n",
       "\n",
       "In each virus subdirectory, several simreads directory includes simulated reads with various parameters, named as `<method>_<nb-seq>_<nb-bp>` where\"\n",
       "- `<method>` is either `single` or `paired` depending on the simulation method\n",
       "- `<nb-seq>` is the number of reference sequences used for simulation, and refers to the `fa` file used\n",
       "- `<nb-bp>` is the number of base pairs used to simulate reads\n",
       "\n",
       "\n",
       "Each sub-directory includes simreads files made using a simulation method and a specific number of reference sequences.\n",
       "- `xxx.fq` and `xxx.aln` files when method is `single`\n",
       "- `xxx1.fq`, `xxx2.fq`, `xxx1.aln` and `xxx2.aln` files when method is `paired`.\n",
       "\n",
       "Example:\n",
       "- `paired_10seq_50bp` means that the simreads were generated by using the `paired` method to simulate 50-bp reads, and using the `fa` file `cov_virus_sequences_010-seqs.fa`.\n",
       "- `single_100seq_50bp` means that the simreads were generated by using the `single` method to simulate 50-bp reads, and using the `fa` file `cov_virus_sequences_100-seqs.fa`. Note that this generated 20,660,104 reads !\n",
       "\n",
       "#### Simread file formats\n",
       "\n",
       "Simulated reads information is split between two files:\n",
       "- **FASTQ** (`.fq`) files providing the read sequences and their ASCII quality scores\n",
       "- **ALN** (`.aln`) files with alignment information\n",
       "\n",
       "##### FASTQ (`.fq`)\n",
       "FASTQ files generated by ART Illumina have the following structure (showing 5 reads), with 4 lines for each read:\n",
       "\n",
       "```ascii\n",
       "@2591237:ncbi:1-60400\n",
       "ACAACTCCTATTCGTAGTTGAAGTTGTTGACAAATACTTTGATTGTTACG\n",
       "+\n",
       "CCCBCGFGBGGGGGGGBGGGGGGGGG>GGG1G=/GGGGGGGGGGGGGGGG\n",
       "@2591237:ncbi:1-60399\n",
       "GATCAATGTGGCATCTACAATACAGACAGCATGAAGCACCACCAAAGGAC\n",
       "+\n",
       "BCBCCFGGGGGGGG1CGGGG<GGBGGGGGFGCGGGGGGDGGG/GG1GGGG\n",
       "@2591237:ncbi:1-60398\n",
       "ATCTACCAGTGGTAGATGGGTTCTTAATAATGAACATTATAGAGCTCTAC\n",
       "+\n",
       "CCCCCGGGEGG1GGF1G/GGEGGGGGGGGGGGGFFGGGGGGGGGGDGGDG\n",
       "@2591237:ncbi:1-60397\n",
       "CGTAAAGTAGAGGCTGTATGGTAGCTAGCACAAATGCCAGCACCAATAGG\n",
       "+\n",
       "BCCCCGGGFGGGGGGFGGGGFGG1GGGGGGG>GG1GGGGGGGGGGE<GGG\n",
       "@2591237:ncbi:1-60396\n",
       "GGTATCGGGTATCTCCTGCATCAATGCAAGGTCTTACAAAGATAAATACT\n",
       "+\n",
       "CBCCCGGG@CGGGGGGGGGGGG=GFGGGGDGGGFG1GGGGGGGG@GGGGG\n",
       "```\n",
       "The following information can be parsed from the each read sequence in the FASTQ file:\n",
       "\n",
       "- Line 1: `readid`, a unique ID for the read, under for format `@readid` \n",
       "- Line 2: `readseq`, the sequence of the read\n",
       "- Line 3: a separator `+`\n",
       "- Line 4: `read_qscores`, the base quality scores encoded in ASCII \n",
       "\n",
       "Example:\n",
       "```\n",
       "@2591237:ncbi:1-60400\n",
       "ACAACTCCTATTCGTAGTTGAAGTTGTTGACAAATACTTTGATTGTTACG\n",
       "+\n",
       "CCCBCGFGBGGGGGGGBGGGGGGGGG>GGG1G=/GGGGGGGGGGGGGGGG\n",
       "```\n",
       "- `readid` = `2591237:ncbi:1-60400`\n",
       "- `readseq` = `ACAACTCCTATTCGTAGTTGAAGTTGTTGACAAATACTTTGATTGTTACG`, a 50 bp read\n",
       "- `read_qscores` = `CCCBCGFGBGGGGGGGBGGGGGGGGG>GGG1G=/GGGGGGGGGGGGGGGG`\n",
       "\n",
       "\n",
       "#### ALN (`.aln`) \n",
       "ALN files generated by ART Illumina consist of :\n",
       "- a header with the ART-Ilumina command used for the simulation (`@CM`) and info on each of the reference sequences used for the simulations (`@SQ`). Header always starts with `##ART_Illumina` and ends with `##Header End` :\n",
       "- the body with 3 lines for each read:\n",
       "    1. definition line with `readid`, \n",
       "        - reference sequence identification number `refseqid`, \n",
       "        - the position in the read in the reference sequence `aln_start_pos` \n",
       "        - the strand the read was taken from `ref_seq_strand`. `+` for coding strand and `-` for template strand\n",
       "    2. aligned reference sequence, that is the sequence segment in the original reference corresponding to the read\n",
       "    3. aligned read sequence, that is the simmulated read sequence, where each bp corresponds to the reference sequence bp in the same position.\n",
       "\n",
       "Example of a ALN file generated by ART Illumina (showing 5 reads):\n",
       "\n",
       "```ascii\n",
       "##ART_Illumina    read_length    50\n",
       "@CM    /bin/art_illumina -i /home/vtec/projects/bio/metagentools/data/cov_data/cov_virus_sequences_ten.fa -ss HS25 -l 50 -f 100 -o /home/vtec/projects/bio/metagentools/data/cov_simreads/single_10seq_50bp/single_10seq_50bp -rs 1674660835\n",
       "@SQ    2591237:ncbi:1 1   MK211378    2591237    ncbi    1     Coronavirus BtRs-BetaCoV/YN2018D    30213\n",
       "@SQ    11128:ncbi:2   2   LC494191    11128    ncbi    2     Bovine coronavirus    30942\n",
       "@SQ    31631:ncbi:3   3   KY967361    31631    ncbi    3     Human coronavirus OC43        30661\n",
       "@SQ    277944:ncbi:4  4   LC654455    277944    ncbi    4     Human coronavirus NL63    27516\n",
       "@SQ    11120:ncbi:5   5   MN987231    11120    ncbi    5     Infectious bronchitis virus    27617\n",
       "@SQ    28295:ncbi:6   6   KU893866    28295    ncbi    6     Porcine epidemic diarrhea virus    28043\n",
       "@SQ    28295:ncbi:7   7   KJ645638    28295    ncbi    7     Porcine epidemic diarrhea virus    27998\n",
       "@SQ    28295:ncbi:8   8   KJ645678    28295    ncbi    8     Porcine epidemic diarrhea virus    27998\n",
       "@SQ    28295:ncbi:9   9   KR873434    28295    ncbi    9     Porcine epidemic diarrhea virus    28038\n",
       "@SQ    1699095:ncbi:10 10  KT368904    1699095    ncbi    10     Camel alphacoronavirus    27395\n",
       "##Header End\n",
       ">2591237:ncbi:1    2591237:ncbi:1-60400    14770    +\n",
       "ACAACTCCTATTCGTAGTTGAAGTTGTTGACAAATACTTTGATTGTTACG\n",
       "ACAACTCCTATTCGTAGTTGAAGTTGTTGACAAATACTTTGATTGTTACG\n",
       ">2591237:ncbi:1    2591237:ncbi:1-60399    17012    -\n",
       "GATCAATGTGGCATCTACAATACAGACAGCATGAAGCACCACCAAAGGAC\n",
       "GATCAATGTGGCATCTACAATACAGACAGCATGAAGCACCACCAAAGGAC\n",
       ">2591237:ncbi:1    2591237:ncbi:1-60398    9188    +\n",
       "ATCTACCAGTGGTAGATGGGTTCTTAATAATGAACATTATAGAGCTCTAC\n",
       "ATCTACCAGTGGTAGATGGGTTCTTAATAATGAACATTATAGAGCTCTAC\n",
       ".....\n",
       "```"
      ],
      "text/plain": [
       "<IPython.core.display.Markdown object>"
      ]
     },
     "metadata": {},
     "output_type": "display_data"
    },
    {
     "data": {
      "text/html": [
       "<hr>"
      ],
      "text/plain": [
       "<IPython.core.display.HTML object>"
      ]
     },
     "metadata": {},
     "output_type": "display_data"
    },
    {
     "name": "stdout",
     "output_type": "stream",
     "text": [
      "ncbi\n",
      "  |--simreads\n",
      "  |    |--readme.md (0)\n",
      "  |    |--mRhiFer1\n",
      "  |    |    |--readme.md (1)\n",
      "  |    |--yf\n",
      "  |    |    |--readme.md (2)\n",
      "  |    |--cov\n",
      "  |    |    |--readme.md (3)\n"
     ]
    }
   ],
   "source": [
    "path = pfs.data / 'ncbi' / 'simreads'\n",
    "pfs.readme(dir_path=path)\n",
    "files_in_tree(path);"
   ]
  },
  {
   "cell_type": "markdown",
   "metadata": {},
   "source": [
    "#### Inference Results"
   ]
  },
  {
   "cell_type": "code",
   "execution_count": null,
   "metadata": {},
   "outputs": [
    {
     "data": {
      "text/html": [
       "<hr>"
      ],
      "text/plain": [
       "<IPython.core.display.HTML object>"
      ]
     },
     "metadata": {},
     "output_type": "display_data"
    },
    {
     "data": {
      "text/markdown": [
       "ReadMe file for directory `data/ncbi/infer_results`:"
      ],
      "text/plain": [
       "<IPython.core.display.Markdown object>"
      ]
     },
     "metadata": {},
     "output_type": "display_data"
    },
    {
     "data": {
      "text/html": [
       "<hr>"
      ],
      "text/plain": [
       "<IPython.core.display.HTML object>"
      ]
     },
     "metadata": {},
     "output_type": "display_data"
    },
    {
     "data": {
      "text/markdown": [
       "#### Inference Result Files\n",
       "\n",
       "Each directory includes a set of prediction/inference result files.\n",
       "\n",
       "```shell\n",
       "ncbi\n",
       "  |--infer_results\n",
       "  |    |--readme.md\n",
       "  |    |--cov-ncbi\n",
       "  |    |    |--readme.md\n",
       "  |    |    |--cnn_virus   (directory with results in parquet format)\n",
       "  |    |    |--csv         (directory with results in csv format)\n",
       "  |    |    |--xlsx        (directory with results in xlsx format)\n",
       "  |    |--yf-ncbi\n",
       "  |    |    |--readme.md\n",
       "  |    |    |--local-inf   (directory with results per sequence in csv format)\n",
       "  |    |    |--single_1seq_150bp.db          (inference results in a sqlite database)\n",
       "  |    |    |--single_1seq_150bp-backup.db   (inference results in a sqlite database)\n",
       "  |    |    |--selected_test.db              (inference results in a sqlite database)\n",
       "```"
      ],
      "text/plain": [
       "<IPython.core.display.Markdown object>"
      ]
     },
     "metadata": {},
     "output_type": "display_data"
    },
    {
     "data": {
      "text/html": [
       "<hr>"
      ],
      "text/plain": [
       "<IPython.core.display.HTML object>"
      ]
     },
     "metadata": {},
     "output_type": "display_data"
    },
    {
     "name": "stdout",
     "output_type": "stream",
     "text": [
      "ncbi\n",
      "  |--infer_results\n",
      "  |    |--readme.md (0)\n",
      "  |    |--cov-ncbi\n",
      "  |    |    |--readme.md (1)\n",
      "  |    |--yf-ncbi\n",
      "  |    |    |--readme.md (2)\n",
      "  |    |    |--single_1seq_150bp.db (3)\n",
      "  |    |    |--single_1seq_150bp-backup.db (4)\n",
      "  |    |    |--selected_test.db (5)\n"
     ]
    }
   ],
   "source": [
    "path = pfs.data / 'ncbi' / 'infer_results'\n",
    "pfs.readme(dir_path=path)\n",
    "files_in_tree(path);"
   ]
  },
  {
   "cell_type": "markdown",
   "metadata": {},
   "source": [
    "# 3. Review fasta, fastq and aln files"
   ]
  },
  {
   "cell_type": "markdown",
   "metadata": {},
   "source": [
    "## Setup paths"
   ]
  },
  {
   "cell_type": "markdown",
   "metadata": {},
   "source": [
    "- `p2refseqs`: path to a reference sequence file (FASTA)\n",
    "- `p2simreads`: path to folder where reads and alignment files are located (FASTQ and ALN)"
   ]
  },
  {
   "cell_type": "code",
   "execution_count": null,
   "metadata": {},
   "outputs": [],
   "source": [
    "p2refseqs = pfs.data / 'ncbi/refsequences/cov/cov_refseq_010-seqs.fa'\n",
    "assert p2refseqs.is_file(), f\"No file found at {p2refseqs.absolute()}\"\n",
    "\n",
    "p2simreads = pfs.data / 'ncbi/simreads/cov/single_1seq_50bp'\n",
    "assert p2simreads.is_dir(), f\"No directory found at {p2simreads.absolute()}\""
   ]
  },
  {
   "cell_type": "markdown",
   "metadata": {},
   "source": [
    "## Explore Reference Files (FASTA)"
   ]
  },
  {
   "cell_type": "markdown",
   "metadata": {},
   "source": [
    "`FastaFileReader` is a class to make reading and accessing fasta file information easier"
   ]
  },
  {
   "cell_type": "code",
   "execution_count": null,
   "metadata": {},
   "outputs": [],
   "source": [
    "fasta = FastaFileReader(path=p2refseqs)"
   ]
  },
  {
   "cell_type": "code",
   "execution_count": null,
   "metadata": {},
   "outputs": [
    {
     "name": "stdout",
     "output_type": "stream",
     "text": [
      "\n",
      "Sequence 1:\n",
      ">2591237:ncbi:1\t1\tMK211378\t2591237\tncbi\tCoronavirus BtRs-BetaCoV/YN2018D\n",
      "TATTAGGTTTTCTACCTACCCAGGAAAAGCCAACCAACCTCGATCTCTTGTAGATCTGTTCTCTAAACGAACTTTAAAAT ...\n",
      "\n",
      "Sequence 2:\n",
      ">11128:ncbi:2\t2\tLC494191\t11128\tncbi\tBovine coronavirus\n",
      "CATCCCGCTTCACTGATCTCTTGTTAGATCTTTTCATAATCTAAACTTTATAAAAACATCCACTCCCTGTAGTCTATGCC ...\n",
      "\n",
      "Sequence 3:\n",
      ">31631:ncbi:3\t3\tKY967361\t31631\tncbi\tHuman coronavirus OC43\n",
      "ATCTCTTGTTAGATCTTTTTGTAATCTAAACTTTATAAAAACATCCACTCCCTGTAATCTATGCTTGTGGGCGTAGATTT ...\n"
     ]
    }
   ],
   "source": [
    "fasta.print_first_chunks(nchunks=3)"
   ]
  },
  {
   "cell_type": "markdown",
   "metadata": {},
   "source": [
    "Access each sequence (definition line and sequence) one by one"
   ]
  },
  {
   "cell_type": "code",
   "execution_count": null,
   "metadata": {},
   "outputs": [
    {
     "name": "stdout",
     "output_type": "stream",
     "text": [
      "Definition Line for sequence 1:\n",
      ">2591237:ncbi:1\t1\tMK211378\t2591237\tncbi\tCoronavirus BtRs-BetaCoV/YN2018D\n",
      "30,213 bases:\n",
      "TATTAGGTTTTCTACCTACCCAGGAAAAGCCAACCAACCTCGATCTCTTGTAGATCTGTTCTCTAAACGAACTTTAAAATCTGTGTAGCTGTCGCTCGGCTGCATGCCTAGTGCACCTACGCAGTATAAACAATAATAAATTTTACTGTCGTTGACAAGAAACGAGTAACTCGTCCCTCTTCTGCAGACTGCTTACGGTTCCGTCCGTGTTGCAGTCGATCATCAGCATACCTAGGTTTCGTCCGGGTGTGACCGAAAGGTAAGATGGAGAGCCTTGTTCTTGGTGTCAACGAGAAAACACACGTCCAACTCAGTTTGCCTGTTCTTCAGGTTAGAGACGTGCTAGTGCGTGGCTTCGGGGACTCTGTGGAAGAGGCCCTATCGGAGGCACGTGAACATCTTAAAAATGGCACTTGTGGTTTAGTAGAGCTGGAAAAAGGCGTACTGCCCCAGCTTGAACAGCCCTATGTGTTCATTAAACGTTCTGATGCCTTAAGCACCAATCACGGCCACAAGGTCGTTGAGCTGGTTGCAGAATTGGACGGCATTCAGTACGGTCGTAGCGGTATAACTCTGGGAGTACTCGTGCCACATGTGGGCGAAACCCCAATCGCATACCGCAATGTTCTTCTTCGTAAGAACGGTAATAAGGGAGCCGGTGGCCATAGCTTTGGCATCGATCTAAAGTCTTATGACTTAGGTGACGAGCTTGGTACTGATCCCATTGAAGATTATGAACAAAACTGGAACACTAAGCATGGCAGTGGTGTACTCCGTGAACTCACTCGTGAGCTCAATGGAGGTGCAGTCACTCGCTATGTCGACAACAACTTCTGTGGCCCAGATGGGTACCCTCTTGATTGCATCAAAGATTTTCTCGCTCGCGCGGGTAAGTCAATGTGCACTCTTTCTGAACAACTTGATTACATTGAGTCGAAGAGAGGTGTCTACTGCTGCCGTGACCATGAGCATGAAGTTGCCTGGTTCACTGAGCGCTCTGATAAGAGCTATGAGCATCAGACACCCTTCGAAATTAAGAGTGCCAAGAAATTTGACACTTTCAAAGGGGAATGCCCAAAGTTTGTATTTCCTCTCAATTCAAAAGTCAAAGTCATTCAACCACGTGTTGAAAAGAAAAAGACTGAAGGTTTCATGGGGCGTATACGCTCTGTGTACCCTGTTGCATCTCCACAGGAGTGTAACAACATGCACTTGTCTACCTTGATGAAATGTAATCATTGCGATGAAGTTTCATGGCAGACGTGCGACTTTCTGAAAGCCACTTGTGAACATTGTGGCACTGAAAATTTAGTCACTGAAGGACCTACTACATGTGGGTACCTACCTACTAATGCTGTAGTGAAAATGCCATGTCCTGCCTGTCAAGACCCAGAGATTGGACCTGAGCATAGTGTTGCAGATTATCACAACCACTCAAACATTGAAACTCGACTCCGCAAGGGAGGTAGGACTAGATGTTTTGGAGGCTGTGTGTTTGCCTATGTCGGCTGCTATAACAAGCGTGCCTACTGGGTTCCTCGTGCTAGTGCTGATATTGGTTCAGGCCATACCGGCATTACTGGTGACAACGTGGAGACCTTGAATGAGGATCTCCTCGAGATACTGAGTCGTGAACGTGTTAACATTAACATTGTTGGCGATTTTCAGTTGACTGAAGAGGTTGCCATCATTTTGGCATCTTTTTCTGCTTCTACAAGTGCCTTTATTGACACTATAAAGAGTCTTGATTACAAGTCTTTCAAAGCCATTGTTGAGTCCTGCGGTAACTACAAAGTCACCAAGGGAAAGCCCGTAAAAGGTGCTTGGAACATAGGACAACAGAGATCAGTTTTAACACCACTGTGTGGTTTTCCCTCACAGGCTGCTGGTGTTATCAGATCAATTTTTGCACGCACACTTGATGCAGCAAACCACTCAATTCCTGACTTGCAAAGAGCAGCTGTCACCATACTTGATGGTATTTCTGAACAGTCATTGCGTCTTGTTGATGCCATGGTTTACACCTCAGACCTGATCACCAACAGTGTCATTATTATGGCATATGTAACTGGTGGTCTTGTACAACAGACTTCTCAGTGGTTGTCTAATCTTTTGGGCACTACTGTTGAAAAACTCAGGCCCGTCTTTGCATGGATTGAGGCGAAACTTAGTGCAGGAGTTGAATTTCTCAAGGATGCTTGGGAGATTCTCAAATTTCTCATTACAGGTGTTTTTGACATCGTCAAGGGTCAAATACAGGTCGCTTCAGATAACATCAAGGATTGTGTAAAATGCTTCATTGATGTTGTTAACAAAGCACTCGAAATGTGCATTGACCAAGTCACTATCGCTGGCGCAAAGTTGCGATCACTCAACTTGGGTGAAGTCTTCATCGCTCAAAGCAAGGGACTTTACCGTCAGTGTATACGTGGCAAGGAACAGCTGCAACTACTCATGCCTCTTAAGGCACCAAAAGAAGTCACCTTTCTTGAAGGTGATTCACATGACACAGTACTTACCTCTGAGGAGGTTGTTCTCAAGAACGGTGAACTCGAAGCACTCGAGACGCCTGTTGATAGCTTCACAAATGGAGCTGTCGTTGGCACACCAGTCTGTGTGAATGGCCTCATGCTCTTAGAGATCAAAGACAAAGAACAATATTGCGCATTGTCTCCTGGTTTACTGGCTACAAACAATGTCTTTCGCCTAAAAGGAGGTGCACCAACTAAAGGTGTAACCTTTGGAGAAGATACTGTTTTGGAAGTTCAAGGCTACAAGAATGTGAGAATCACATTTGAGCTTGATGAACGTGTAGACAAAGTGCTTAATGAAAAGTGCTCTGTCTACACTGTTGAATCCGGTACTGAAGTTACTGAGTTTGCATGTGTTGTAGCAGAGGCTGTTGTGAAGACTTTACAACCAGTTTCTGATCTTCTTACCAATATGGGTATTGATCTTGATGAATGGAGTGTGGCTACATTCTATTTGTTTGATGATGCTGGTGAAGAAAAACTTTCTTCACGTATGTACTGTTCCTTTTATCCTCCCGATGATGAGGAGGATTGTGATGAGTATGAGGAAGAAGAGGAAGTCCTGGAAGAATCCTGTGCGCATGAATACGGTACAGAAGAAGACTACCAAGGTCTTCCACTGGAATTTGGTGCCTCAACTGAAATGCAAGTTGAGGAAGAAGAAGAAGAGGACTGGCTTGGTGATGCTACCGAATTATCGGAGCATGAACTAGAATCAGAACCAACACCTGAGGAACCAGTTAACCAGTTTACTGGTTATTTAAAACTTACTGACAATGTTGCCATTAAGTGTGTGGACATCGTGAAGGAGGCGCAAAATGCTAACCCCACGGTGATTGTAAATGCTGCTAACATACATCTGAAACATGGTGGTGGTGTAGCAGGTGCACTCAACAAGGCAACCAACGGTGCCATGCAAAAAGAGAGCGATGATTACATTAAGCTAAATGGTCCTCTCGCAGTTGGAGGTTCATGTTTGCTTTCTGGACATAATCTTGCTAAGAAGTGTCTGCATGTTGTTGGACCTAACCTAAATGCAGGTGAGGACATCCAGCTTCTTAAGGCAGCATATGAAAATTTCAATTCACAGGACACCTTACTTGCACCATTGTTGTCAGCAGGCATATTTGGTGCTAAACCACTTCAGTCTTTACAAGTGTGCGTACAGACAGTTCGTACACAGGTTTACATTGCAGTCAATGACAAAGCTCTTTATGAGCAGGTTGTCATGGATTACCTTGATAGCCTGAAGCCTAGAGTGGAAGCACCTAAACAAGAGGAGCCACCAAAGACAGAAGATCCTAAAATTGAGGAGAAATCTGTCGTACAGAAGCCTGTCGATGTGAAGCCAAAAATTAAGGCTTGCATTGATGAGGTTACCACAACACTGGAAGAAACTAAGTTTCTTACCAATAAGTTACTCTTGTTTGCTGACATCAATGGTAAGCTTTACCATGATTCTCACAACATGCTTAGAGGTGAAGATATGTCTTTCCTTGAGAAGGATGCACCTTACATGGTAGGTGATGTTATCACTAGTGGTGATATCACTTGTGTTGTAATACCCTCCAAAAAGGCTGGTGGCACTACAGAGATGCTCTCAAGAGCTTTGAAGAAAGTGCCAGTTGATGAGTATATAACCACATACCCTGGACAAGGATGTGCTGGTTATACACTTGAGGAAGCTAAGACTGCTCTTAAGAAATGCAAATCTGCATTTTACGTGTTACCTTCAGAAACACCTAATGCTAAGGAGGAGATTCTAGGAACTGTGTCCTGGAATTTGAGAGAAATGCTTGCTCATGCTGAAGAGACAAGAAAATTAATGCCTATATGCATGGATGTTAGAGCCATAATGGCCACCATCCAACGCAAGTACAAAGGAATTAAAGTTCAAGAAGGCATTGTTGACTATGGAGTCCGATTCTTCTTTTATACTAGTAAAGAGCCTGTAGCTTCTATCATTACGAAGCTGAACTCTCTAAATGAGCCACTTGTCACAATGCCAATTGGTTATGTGACACATGGTTTTAATCTTGAAGAGGCTGCGCGCTGTATGCGTTCTCTTAAAGCTCCTGCCGTAGTGTCAGTATCATCACCAGATGCTGTTACTACATATAATGGATACCTCACTTCGTCATCAAAGACATCTGAGGAGCACTTTGTGGAAACAGTTTCTTTGGCTGGCTCTTACAGAGATTGGTCCTATTCAGGACAGCGTACAGAGTTAGGTGTTGAGTTTCTTAAGCGTGGTGACAAAATTGTGTACCACACTTTGGAGAGCCCCGTCGAGTTTCATCTTGACGGTGAAGTTCTTCCACTTGACAAACTAAAGAGTCTCTTATCCCTACGGGAGGTTAAGACTATAAAAGTGTTCACAACTGTGGACAACACTAATCTCCACACACAGCTTGTGGATATGTCTATGACATATGGACAGCAGTTTGGTCCAACATACTTGGATGGTGCTGATGTTACAAAAATTAAACCTCATGTAAATCATGAGGGTAAGACTTTCTTTGTACTACCTAGTGATGACACACTACGTAGTGAAGCTTTCGAGTACTACCACACTCTTGATGAGAGTTTTCTTGGTAGATACATGTCTGCTTTAAACCACACAAAGAAATGGAAATTTCCTCAAGTTGGTGGTTTAACTTCAATTAAATGGGCTGATAACAATTGTTATTTGTCTAGTGTTTTATTAGCACTTCAACAGATTGAAGTCAAATTCAATGCACCAGCACTTCAAGAGGCCTATTATAGAGCCCGTGCTGGTGATGCTGCTAACTTTTGTGCACTCATACTCGCTTACAGTAATAAAACTGTTGGCGAGCTTGGTGATGTCAGAGAAACTATGACCCATCTTCTACAGCATGCTAATTTGGAATCTGCAAAGCGAGTTCTTAATGTGGTGTGTAAACATTGCGGTCAGAAAACTACTACCTTAATGGGTGTAGAAGCTGTGATGTATATGGGTACTCTATCTTATGATAATCTTAAGACAGGTGTTTCCATTCCATGTGTGTGTGGTCGCGATGCTACACAATATCTAGTACAACAAGAGTCTTCTTTTGTTATGATGTCTGCACCACCTGCTGAATATAAATTACAGCAAGGTACATTCTTATGTGCGAATGAGTACACTGGTAACTATCAGTGTGGTCATTACACTCATATAACTGCTAAGGAGACCCTCTATCGTATTGACGGAGCTCACCTTACAAAGATGTCAGAGTACAAAGGACCAGTGACTGATGTTTTCTATAAGGAAACATCTTACACTACAACCATCAAGCCTGTGTCATATAAACTCGATGGAGTTACTTACACAGAGATTGAACCAAAATTGGATGGGTATTATAAAAAGGATAATGCTTACTATACAGAGCAGCCTATAGACCTTGTACCAACTCAACCACTACCAAATGCGAGTTTTGACAATTTCAAACTCACATGTTCTAATACAAAATTCGCTGATGACTTAAATCAAATGACAGGCTTCACAAAGCCAGCTTCACGAGAGCTATCTGTCACATTCTTTCCAGACTTGAATGGCGATGTAGTGGCTATTGACTATAGACACTATTCAGCGAGTTTCAAGAAAGGTGCTAAATTACTGCATAAGCCAATTGTTTGGCACATTAACCAGGCTACAACCAAGACAACGTTTAAACCAAATACTTGGTGTTTACGTTGTCTTTGGAGTACAAAACCAGTAGATACTTCAAATTCATTTGAAGTTCTGGCAGTAGAAGACACACAAGGAATGGACAATCTTGCTTGTGAAAGTCAACAACCCACCTCTGAAGAAGTAGTGGAAAATCCTACCATACAGAAGGAAGTCCTAGAGTGTGACGTGAAAACTACCGAAGTTGTAGGCAATGTCATACTTAAACCATCAGATGAAGGTGTTAAAGTAACACAAGAGTTAGGTCATGAGGATCTTATGGCTGCCTATGTGGAAAACACAAGCATTACCATTAAGAAACCTAATGAGCTTTCATTAGCCCTAGGTTTAAAAACAATTGCCACTCATGGTATTGCTGCAATTAATAGTGTGCCTTGGAGTAAAATTTTGGCTTATGTCAAACCATTCTTAGGACAGGCAGCAATTACAACATCAAACTGCGCTAAGAGATTAGCGCAATGTGTGTTTAACAACTATATGCCTTATGTGCTTACACTACTGTTTCAATTGTGTACTTTTACCAAAAGTACAAATTCTAGAATTAGAGCTTCACTACCTACGACTATTGCTAAAAATAGTGTTAAGGGTGTAGCTAGATTATGTTTGGATGCTGTCATCAATTATGTAAAGTCACCCAAATTTTCTAAATTGTTCACTATTGCAATGTGGCTATTATTGTTAAGCATTTGCTTAGGTTCACTAATCTATGTAACTGCAGCTTTAGGTGTATTATTGTCCAACTTTGGAGCTCCTTCTTATTGTAGTGGCGTTAGAGAATCGTACCTCAATTCCTCTAATGTTACTACTATGGATTTCTGTGAAGGTTCTTTTCCTTGCAGTGTTTGTTTAAGTGGATTAGATTCTCTTGATTCCTATCCAGCTCTTGAAACCATTCAGGTGACGATCTCATCGTACAAGCTAGACTTGACAATTTTAGGTCTGGCTGCTGAGTGGTTTTTGGCATATATGTTGTTTACAAAATTCTTTTATTTACTAGGTCTTTCAGCTATAATGCAGGTGTTCTTTGGCTATTTTGCTAGTCATTTCATCAGCAATTCTTGGCTCATGTGGTTTATCATTAGCATTGTACAAATGGCACCCGTTTCTGCAATGGTTAGGATGTACATCTTCTTTGCTTCTTTTTACTACATATGGAAGAGCTATGTTCATATTATGGATGGTTGTACCTCTTCGACTTGCATGATGTGCTATAAGCGCAATCGTGCCACACGCGTTGAGTGTACAACTATTGTTAATGGCATGAAGAGATCTTTCTATGTCTATGCAAATGGAGGCCGTGGCTTCTGCAAGACTCACAATTGGAATTGTCTCAATTGTGACACATTTTGCACTGGTAGTACATTCATTAGTGATGAAGTTGCTCGTGATTTGTCACTCCAGTTTAAAAGACCAATTAACCCTACTGACCAGTCATCGTATATTGTTGATAGTGTTGCTGTGAAAAATGGCGCACTTCACCTCTACTTTGACAAGGCTGGTCAAAAGACTTATGAGAGACACCCACTCTCCCATTTTGTCAATTTAGACAATTTGAGAGCTAACAACACTAAAGGTTCACTACCTATTAATGTCATAGTCTTTGATGGCAAGTCCAAATGCGACGAGTCTGCTGCTAGGTCTGCATCTGTGTACTACAGTCAGCTAATGTGCCAACCTATTCTGTTGCTTGACCAAGCTCTCGTATCAGATGTTGGAGATAGTACTGAAGTTTCTGTTAAGATGTTTGATGCTTATGTCGACACCTTTTCAGCAACTTTTAGTGTTCCTATGGAAAAACTTAAGGTACTCGTTGCTACAGCTCATAGCGAGCTGGCAAAGGGTGTAGCTTTAGATGGTGTCCTTTCTACATTTGTGTCAGCAGCCCGTCAAGGTGTTGTTGATACTGATGTTGACACAAAGGATGTCATTGAATGTCTCAAACTTTCACATCACTCCGACTTGGAAGTGACAGGTGACAGTTGTAACAACTTCATGCTCACCTATAACAAAGTTGAAAACATGACGCCTAGAGATCTTGGCGCATGTATTGATTGTAATGCAAGGCATATTAATGCTCAAGTAGCAAAAAGTCACAATGTTTCACTCATCTGGAATGTAAAAGACTATATGTCTTTATCTGAACAGCTGCGTAAACAAATTCGTAGTGCTGCTAAGAAGAACAACATACCTTTTAGACTAACTTGTGCTACAACTAGACAGGTTGTCAATGTCATAACTACTAAAATCTCACTCAAGGGTGGTAAGATTGTTAGTACTTGGTTTAAACTTATGCTTAAGGCCACATTATTGTGCGTTTTTGCTGCATTGGTCTGTTACATCGTTATGCCAGTACATACATTGTCTGCTCATGATGGTTATACAAATGAAATCATTGGTTACAAAGCCATTCAGGATGGTGTCACTCGTGACATCGTTTCTACTGATGATTGTTTTGCAAACAAACATGCTGGTTTTGACTCATGGTTTAGCCAGCGTGGTGGTTCATACAAAAATGACAAAAGCTGCCCTGTAGTAGCTGCTATCATTACAAGAGAGATTGGTTTCATAGTGCCTGGCTTACCAGGTACTGTGTTGAGAGCAATCAATGGTGACTTCTTGCATTTTCTACCTCGTGTTTTTAGTGCTGTTGGCAACATTTGCTACACACCTTCCAAACTCATTGAGTATAGTGATTTTGCTACCTCTGCTTGCGTTCTTGCTGCTGAGTGTACAATTTTTAAGGATGCTATGGGCAAACCTGTGCCATATTGTTATGACACTAATTTGCTAGAGGGTTCTATTTCTTATAGTGAGCTTCGTCCAGACACTCGTTATGTCCTTATGGATGGTTCTATCATACAGTTTCCTAACACTTACCTGGAGGGTTCTGTTAGAGTGGTAACAACTTTTGATGCTGAGTACTGTAGACATGGTACATGCGAAAGGTCAGAAGCTGGTATTTGCTTATCTACCAGTGGTAGATGGGTTCTTAATAATGAACATTATAGAGCTCTACCTGGAGTATTCTGTGGTGTTGATGCAATGAATCTTATAGCAAACATCTTTACTCCCCTTGTGCAACCTGTGGGTGCTTTAGATGTGTCTGCTTCAGTAGTGGCTGGTGGTATTATTGCCATATTGGTGACTTGTGCTGCCTACTACTTTATGAAATTCAGACGTGCTTTTGGTGAGTACAACCATGTTGTTGCTGCTAATGCACTTTTGTTTTTGATGTCTTTCACTATACTTTGTCTGGCACCAGCTTATAGCTTTTTGCCAGGAGTCTACTCAGTCTTTTACTTGTACTTGACATTCTATTTCACTAATGATGTTTCGTTCTTGGCTCACCTTCAATGGTTTGCCATGTTTTCTCCTATTGTGCCTTTTTGGATAACAGCAATCTATGTATTCTGTATTTCTCTGAAGCACTGCCATTGGTTCTTTAACAACTATCTTAGGAAAAGAGTCATGTTTAATGGAGTTACATTTAGTACCTTCGAGGAGGCTGCTTTGTGTACCTTTTTGCTCAATAAGGAAATGTACCTAAAATTGCGTAGTGAGACACTGTTGCCACTTACACAGTACAACAGGTATCTTGCTCTATATAACAAGTACAAGTATTTCAGTGGAGCCTTAGATACTACCAGCTATCGTGAAGCAGCTTGCTGCCACTTAGCAAAGGCTCTAAATGACTTTAGCAATTCAGGTGCTGATGTTCTCTACCAACCACCACAGACATCAATCACTTCTGCTGTTCTGCAGAGTGGTTTTAGGAAAATGGCATTCCCATCAGGCAAAGTTGAAGGGTGCATGGTACAAGTAACCTGTGGAACTACAACTCTTAATGGATTGTGGTTAGATGACACAGTATACTGTCCAAGACATGTCATTTGCACAGCAGAAGACATGCTTAATCCTAACTATGAAGATCTGCTCATTCGCAAATCCAACCATAGCTTCCTTGTTCAGGCTGGCAATGTACAACTCCGAGTTATCGGCCATTCTATGCAAAATTGTCTGCTTAGGCTTAAAGTTGATACCTCTAACCCTAAGACACCCAAGTATAAATTTGTCCGTATTCAACCTGGTCAAACATTTTCAGTTCTAGCATGCTACAATGGTTCACCATCTGGTGTTTATCAGTGTGCCATGAGACCTAACCATACCATTAAAGGTTCTTTCCTTAATGGATCATGTGGTAGTGTTGGTTTTAACATTGATTATGATTGCGTGTCTTTCTGCTATATGCATCACATGGAGCTTCCAACAGGAGTACACGCTGGTACTGACTTAGAAGGTAAATTCTATGGTCCATTTGTTGACAGACAAACTGCACAGGCTGCAGGTACAGACACAACCATAACATTAAATGTTTTGGCATGGCTGTATGCTGCTGTTATCAATGGTGATAGGTGGTTTCTTAATAGATTCACCACTACTTTGAATGACTTTAACCTTGTGGCAATGAAGTACAACTATGAACCTTTGACACAAGATCATGTTGACATATTGGGACCTCTTTCTGCTCAAACAGGAATTGCTGTCTTAGATATGTGTGCTGCTTTGAAAGAGCTGCTGCAGAATGGTATGAATGGTCGTACTATCCTTGGTAGCACTATTTTAGAAGATGAGTTTACACCATTTGATGTTGTTAGACAATGCTCTGGTGTTACCTTCCAAGGTAAGTTCAAGAAAATTGTTAAAGGCACTCATCATTGGATGCTTTTAACTTTCTTGACATCACTATTGATTCTTGTCCAAAGTACTCAGTGGTCACTGTTTTTCTTTGTTTACGAGAATGCTTTCTTGCCATTTACTCTTGGTATTATGGCAATTGCTGCATGTGCTATGCTGCTTGTTAAGCATAAGCACGCATTCTTGTGCTTGTTCCTGTTACCTTCTCTTGCAACAGTTGCTTACTTTAATATGGTCTACATGCCTGCTAGCTGGGTGATGCGTATTATGACATGGCTTGAATTGGCTGACACTAGCTTGTCTGGTTATCGGCTTAAGGACTGTGTTATGTATGCTTCAGCTTTAGTTTTGCTTATTCTCATGACAGCTCGCACTGTTTATGATGATGCTGCTAGACGTGTTTGGACACTGATGAATGTCATTACACTTGTTTACAAAGTCTACTATGGTAATGCTTTAGATCAAGCTATTTCCATGTGGGCCTTAGTTATTTCTGTAACCTCTAACTATTCTGGTGTCGTCACGACTATCATGTTTTTAGCTAGAGCTATAGTGTTTGTGTGTGTTGAGTATTACCCATTGTTATTTATTACTGGCAACACCTTACAGTGTATCATGCTTGTTTATTGTTTCTTAGGCTATTGTTGCTGCTGCTATTTTGGCCTTTTCTGTTTACTCAACCGTTACTTCAGGCTTACTCTTGGTGTTTATGACTACTTGGTCTCTACACAAGAATTTAGGTATATGAACTCCCAGGGGCTTTTGCCTCCTAAGAGTAGTATTGATGCTTTCAAGCTTAACATTAAGTTGTTAGGTATTGGAGGTAAACCATGTATCAAGGTTGCTACTGTACAGTCTAAAATGTCTGACGTAAAGTGCACATCTGTGGTACTGCTCTCGGTTCTTCAACAACTTAGAGTAGAGTCATCTTCTAAATTGTGGGCACAATGTGTACAACTCCACAATGATATTCTTCTTGCAAAAGACACAACTGAAGCTTTCGAGAAGATGGTTTCTCTTTTGTCTGTTTTGCTATCCATGCAGGGTGCTGTAGACATTAACAAGTTGTGCGAGGAAATGCTCGACAACCGTGCTACTCTTCAGGCTATTGCTTCAGAATTTAGTTCTTTACCATCATATGCCGCTTATGCCACTGCCCAAGAGGCCTATGAGCAGGCTGTAGCTAATGGTGATTCTGAAGTCGTTCTCAAAAAGTTAAAGAAATCTTTGAATGTGGCTAAATCTGAGTTTGACCGTGATGCTGCCATGCAACGCAAGTTGGAAAAGATGGCAGATCAGGCTATGACCCAAATGTACAAACAGGCAAGATCTGAGGACAAGAGGGCAAAAGTAACTAGTGCTATGCAAACAATGCTTTTCACTATGCTTAGGAAGCTTGATAATGATGCACTTAACAACATTATCAACAATGCGCGTGATGGTTGTGTTCCACTCAACATCATACCATTGACTACAGCAGCCAAACTTATGGTTGTTGTCCCTGATTATGGTACCTACAAGAACACTTGTGATGGTAACACTTTTACATATGCATCTGCACTCTGGGAAATCCAGCAAGTTGTTGATGCAGATAGTAAGATTGTTCAACTTAGTGAAATTAACATGGATAATTCACCAAATTTGGCTTGGCCTCTTATTGTTACAGCTCTAAGAGCCAACTCAGCTGTCAAACTACAGAATAATGAACTGAGTCCGGTAGCACTACGACAGATGTCTTGTGCGGCTGGTACCACACAAACAGCTTGTACTGATGACAATGCACTTGCCTACTATAACAATTCAAAGGGAGGTAGATTTGTGCTGGCATTACTATCAGACCACCAAGATCTCAAATGGGCTAGATTCCCTAAGAGTGATGGTACAGGTACAATTTACACAGAACTGGAACCACCTTGTAGGTTTGTTACAGACACACCAAAAGGGCCTAAAGTGAAATACTTGTACTTCATCAAAGGCTTAAATAACCTAAATAGAGGTATGGTGCTGGGCAGTTTAGCTGCTACAGTACGTCTTCAGGCTGGAAATGCTACAGAAGTACCTGCCAATTCAACTGTGCTTTCCTTCTGTGCCTTTGCAGTAGACCCTGCTAAAGCATATAAGGATTACCTAGCAAGTGGAGGACAACCAATCACCAACTGTGTGAAGATGTTGTGTACACACACTGGTACAGGACAGGCAATTACTGTAACACCAGAAGCTAACATGGACCAAGAGTCCTTTGGTGGTGCTTCATGCTGTCTGTATTGTAGATGCCACATTGATCATCCAAATCCTAAAGGATTTTGTGACTTGAAAGGTAAGTACGTCCAAATACCTACCACTTGTGCTAATGACCCAGTGGGTTTTACACTTAGAAACACAGTCTGTACCGTCTGCGGAATGTGGAAAGGTTATGGCTGTAGTTGTGATCAACTCCGCGAACCCATGATGCAGTCTGCGGATGCGTCAACGTTTTTAAACGGGTTTGCGGTGTAAGTGCAGCCCGTCTTACACCGTGCGGCACAGGCACTAGCACTGATGTCGTCTACAGGGCTTTTGATATTTACAACGAAAAAGTTGCTGGTTTTGCAAAGTTCCTAAAAACTAATTGCTGCCGCTTCCAGGAGAAGGATGAGGAAGGCAATTTATTAGACTCTTACTTTGTAGTTAAGAGGCATACTATGTCTAACTACCAACATGAAGAGACTATTTACAACTTGGTTAAAGATTGTCCAGCGGTTGCTGTTCATGACTTTTTCAAGTTTAGAGTAGATGGTGACATGGTACCACATATATCACGTCAGCGTCTAACTAAATACACAATGGCTGATTTAGTCTATGCTCTACGTCATTTTGACGAGGGTAATTGTGACACATTAAAAGAAATACTCGTCACATACAATTGTTGTGATGATGATTATTTCAATAAGAAGGATTGGTATGACTTCGTAGAGAATCCTGACATCTTACGCGTATATGCTAACTTAGGTGAACGTGTACGCCAAGCATTATTAAAGACTGTACAATTCTGCGATGCTATGCGTGATGCAGGCATTGTAGGCGTACTGACATTAGACAATCAGGATCTTAATGGGAACTGGTACGACTTCGGTGATTTCGTACAAGTAGCACCAGGCTGCGGAGTTCCTATTGTGGATTCATACTACTCATTGCTGATGCCCATCCTCACTCTGACTAGGGCATTGGCTGCTGAGTCCCATATGGATGCTGATCTCGCAAAACCACTTATTAAGTGGGATTTGCTGAAATATGATTTTACGGAAGAGAGACTTTGTCTCTTCGACCGTTATTTTAAATATTGGGACCAGACATACCATCCCAATTGTATTAACTGTTTGGATGATAGGTGTATCCTTCATTGTGCAAACTTTAATGTGTTATTTTCTACTGTGTTTCCACCTACAAGTTTTGGACCACTAGTAAGAAAAATATTTGTAGATGGTGTTCCTTTTGTTGTTTCAACTGGATACCATTTTCGTGAGTTAGGAGTTGTACATAATCAGGATGTAAACTTACATAGCTCGCGTCTCAGTTTCAAGGAACTTTTAGTGTATGCTGCTGATCCAGCCATGCATGCAGCTTCTGGCAATTTATTGCTAGATAAACGCACTACATGCTTTTCAGTAGCTGCACTAACAAACAATGTTGCTTTTCAAACTGTCAAACCCGGTAATTTTAACAAAGACTTTTATGACTTTGCTGTGTCTAAAGGTTTCTTTAAGGAAGGAAGTTCTGTTGAACTAAAACACTTCTTCTTTGCTCAGGATGGCAATGCTGCTATCAGTGATTATGACTATTATCGTTATAATCTGCCAACAATGTGTGATATCAGACAACTCCTATTCGTAGTTGAAGTTGTTGACAAATACTTTGATTGTTACGATGGTGGCTGTATTAATGCCAACCAAGTAATCGTTAACAATCTGGACAAATCAGCTGGTTTTCCATTTAATAAATGGGGTAAGGCTAGACTTTATTATGACTCAATGAGTTATGAGGATCAAGATGCACTTTTCGCGTATACTAAGCGTAATGTCATCCCTACTATAACTCAAATGAATCTTAAGTACGCCATTAGTGCAAAGAATAGAGCTCGCACCGTAGCTGGTGTCTCTATCTGTAGTACTATGACAAATAGACAGTTTCATCAGAAATTATTGAAGTCAATAGCCGCCACTAGAGGAGCTACTGTGGTAATTGGAACAAGCAAATTTTACGGTGGCTGGCATAACATGTTAAAAACTGTTTACAGTGATGTAGAAACTCCACACCTTATGGGTTGGGATTATCCAAAATGTGACAGAGCCATGCCTAACATGCTTAGGATAATGGCCTCTCTTGTTCTTGCTCGCAAACATAGCACTTGCTGTAACTTGTCACACCGTTTCTACAGGTTAGCTAATGAGTGTGCGCAAGTATTAAGTGAGATGGTCATGTGTGGCGGCTCACTATATGTTAAACCAGGTGGAACATCATCCGGTGATGCTACAACTGCTTATGCTAATAGTGTCTTTAACATTTGTCAAGCTGTTACAGCTAATGTAAATGCACTCCTTTCAACTGATGGTAACAAGATAGCTGACAAGTACGTCCGCAATCTACAACACAGGCTTTATGAGTGTCTCTATAGAAACAGGGATGTTGATCATGAATTCGTGGATGAGTTTTACGCATACCTGCGTAAACATTTCTCCATGATGATTCTTTCTGATGATGCCGTTGTGTGCTATAACAGTAACTATGCGGCTCAAGGTTTAGTAGCTAGCATTAAGAACTTTAAGGCAGTTCTTTATTATCAAAATAATGTGTTCATGTCTGAGGCAAAATGTTGGACTGAGACTGACCTTACTAAAGGACCTCACGAATTTTGCTCACAGCATACAATGCTAGTTAAACAAGGAGATGACTACGTGTACCTGCCTTACCCAGATCCATCAAGAATATTAGGCGCGGGCTGTTTTGTCGATGATATTGTCAAAACAGATGGTACACTTATGATTGAGAGGTTTGTGTCATTAGCTATTGATGCCTACCCTCTTACTAAACATCCTAATCAGGAGTATGCTGATGTCTTTCACTTGTATTTACAATACATTAGGAAGTTACATGATGAGCTTACTGGTCACATGTTAGACATGTATTCTGTAATGCTAACCAATGACAACACCTCACGGTATTGGGAACCTGAGTTTTATGAAGCTATGTACACACCACACACAGTCTTGCAGGCTGTAGGTGCTTGTGTATTGTGTAATTCACAGACTTCACTTCGTTGCGGTGCCTGCATTAGGAGACCATTCCTGTGTTGCAAGTGCTGCTATGACCATGTCATTTCAACATCACATAAATTAGTGTTGTCTGTTAATCCCTATGTTTGCAATGCACCAGGTTGTGATGTCACTGACGTGACACAACTATATCTAGGAGGTATGAGCTATTACTGCAAGTCACATAAGCCTCCCATTAGTTTTCCATTGTGTGCTAATGGTCAGGTTTTTGGTTTATACAAGAACACATGTGTAGGTAGTGACAATGTCACTGACTTCAATGCGATAGCAACATGTGATTGGACTAATGCTGGCGATTACATACTTGCCAACACTTGTACTGAGAGACTCAAACTCTTTGCAGCAGAAACACTCAAAGCTACTGAGGAAACATTCAAGCTGTCATATGGTATTGCCACTGTACGTGAAGTACTCTCTGACAGAGAATTGCATCTTTCATGGGAGGTTGGAAAACCTAGACCACCATTGAATAGAAATTATGTCTTTACTGGTTACCGTGTAACTAAAAATAGTAAAGTACAGATTGGAGAGTACACTTTTGAAAAGGGTGACTACGGTGACGCTGTTGTGTACAGAGGTACTACAACATACAAATTGAATGTTGGTGATTACTTTGTGTTAACATCTCACACTGTAATGCCACTCAGTGCACCTACTCTAGTGCCACAAGAGCACTATGTTAGAATTACTGGCTTGTACCCAACACTCAACATCTCAGATGAGTTTTCTAGCAATGTTGCAAATTATCAAAAGGTCGGTATGCAAAAGTACTCTACACTCCAAGGACCACCAGGTACTGGTAAGAGTCATTTTGCCATTGGACTTGCTCTCTACTACCCATCTGCTCGCATAGTGTATACAGCTTGCTCTCATGCGGCTGTTGATGCCCTATGCGAAAAGGCATTAAAATACTTGCCTATAGATAAATGTAGTAGGATTATACCTGCGCGTGCGCGCGTAGAGTGTTTTGACAAATTCAAAGTGAATTCAACACTAGAACAGTATGTTTTCTGCACTGTAAATGCATTGCCAGAAACAACTGCTGACATTGTAGTCTTTGATGAAATCTCTATGGCTACCAATTATGACTTGAGTGTCGTCAATGCTAGACTTCGTGCAAAACACTATGTCTACATTGGTGATCCTGCTCAACTACCAGCTCCTCGCACATTGCTGACCAAAGGCACACTAGAACCAGAATACTTCAATTCAGTGTGCAGACTTATGAAAACAATAGGTCCAGACATGTTCCTTGGAACTTGTCGCCGTTGTCCTGCTGAAATTGTCGACACTGTGAGTGCTTTAGTTTATGATAATAAGCTAAAGGCACACAAGGAGAAGTCAGCTCAATGCTTCAAAATGTTTTACAAGGGTGTTATTACACATGATGTTTCATCTGCAATTAACAGACCTCAAATAGGCGTTGTAAGAGAATTTCTTACACGCAATCCTGCTTGGAGAAAAGCTGTTTTTATCTCACCTTATAATTCACAGAATGCTGTAGCTTCAAAAATCTTAGGATTGCCTACGCAGACTGTTGATTCCTCACAGGGTTCTGAGTATGACTATGTCATATTCACGCAAACTACCGAAACAGCACACTCTTGCAATGTCAACCGCTTTAATGTGGCTATCACAAGAGCAAAAATTGGCATTTTGTGCATAATGTCTGATAGAGATCTTTATGACAAACTGCAATTTACAAGTCTAGAAGTACCACGCCGCAATGTGGCTACATTACAGGCAGAAAATGGAACTGGACTTTTTAAGGACTGTAGTAAGATCATTACCGGTCTTCATCCAACACAGGCACCTACACACCTCAGCGTTGACACAAAATTTAAGACTGAGGGACTATGTGTTGACATACCAGGCATACCAAAGGACATGACCTACCGTAGACTCATCTCTATGATGGGTTTTAAAATGAATTACCAAGTCAATGGTTACCCTAATATGTTTATCACCCGCGAAGAAGCTATTCGTCACGTTCGTGCATGGATTGGCTTCGACGTAGAGGGCTGTCATGCAACTAGAGATGCTGTGGGTACTAACCTACCTCTCCAGCTAGGATTTTCTACAGGTGTTAACTTAGTAGCTGTACCGACTGGCTATGTTGACACTGAAAATAATACAGAATTCACCAGAGTTAATGCAAAACCTCCACCAGGTGACCAGTTTAAACATCTTATACCACTCATGTACAAAGGCTTGCCCTGGAATGTAGTGCGTATTAAGATAGTACAAATGCTCAGTGATACACTGAAAGGATTGTCAGACAGAGTCGTGTTTGTCCTTTGGGCGCATGGCTTTGAGCTTACATCAATGAAGTACTTTGTCAAGATTGGACCTGAAAGAACGTGCTGTCTGTGTGACAAACGTGCAACTTGCTTTTCTACTTCATCAGATACTTATGCCTGCTGGAATCATTCTGTGGGTTTTGACTATGTCTACAACCCATTTATGATTGATGTTCAGCAGTGGGGTTTTACGGGTAACCTTCAGAGTAACCACGACCAACATTGTCAAGTGCATGGAAATGCACATGTGGCTAGTTGTGATGCTATCATGACTAGATGCCTGGCGGTCCATGAGTGCTTTGTTAAGCGCGTTGATTGGTCTGTTGAATACCCCATTATAGGAGATGAACTGAAGATTAATTCTGCTTGCAGAAAAGTACAGCATATGGTTGTAAAGTCTGCATTGCTTGCTGATAAGTTTCCAGTTCTTCATGACATTGGAAATCCAAAGGCTATCAAGTGTGTGCCTCAGGCTGAAGTAGAGTGGAAGTTCTATGACGCTCAGCCATGCAGTGACAAAGCCTACAAAATAGAGGAACTTTTCTATTCTTATGCTACACATCATGATAAATTCACTGATGGTGTTTGTTTGTTTTGGAACTGTAACGTCGATCGTTACCCAGCCAATGCAATTGTGTGTAGGTTTGACACGAGAGTTTTGTCAAACTTGAACTTACCAGGTTGTGATGGTGGTAGCTTGTATGTGAATAAGCATGCATTCCACACTCCAGCTTTTGATAAAAGTGCATTTACCAATTTAAAGCAATTGCCTTTCTTTTATTATTCTGATAGTCCTTGTGAGTCTCATGGCAAACAAGTAGTGTCAGATATTGATTATGTACCACTTAAATCAGCTACGTGTATTACACGTTGCAATTTGGGAGGTGCTGTTTGCAGACACCATGCAAATGAGTACCGACAGTACTTAGATGCATACAACATGATGATTTCTGCTGGATTTAGCCTATGGATTTACAAACAGTTTGATACTTATAACCTGTGGAATACATTTACCAGGTTACAAAGCTTAGAAAATGTGGCTTACAACGTTGTTAATAAAGGACACTTTGATGGACAAGCTGGTGAAGCGCCTGTTTCCATCATCAATAATGCTGTTTACACAAAGGTAGATGGTGTTGATGTAGAAATCTTTGAGAACAAGACAACACTTCCTGTTAATGTTGCATTTGAGCTTTGGGCTAAGCGTAACATTAAACCAGTGCCAGAGATTAAGATACTCAATAATTTGGGTGTCGACATCGCTGCTAATACTGTGGTCTGGGACTACAAGAGAGAAGCACCAGCACATATGTCAACAATAGGTGTCTGCACAATGACTGACATTGCTAAGAAACCTACTGAGAGTGCTTGTTCCTCGCTTACTGTCTTATTTGATGGTAGAGTGGAAGGACAGGTAGACCTTTTTAGAAATGCCCGTAATGGTGTTTTAATAACAGAAGGTTCAGTTAAAGGTTTAACACCTTCAAAAGGACCAGCACAAGCTAGTGTCAATGGAGTCACATTAATTGGAGAATCAGTAAAAACACAGTTCAACTATTTTAAGAAAGTAGATGGCATTATTCAACAGTTGCCTGAAACCTACTTTACTCAGAGCCGAGACTTAGAGGATTTCAAGCCCAGATCACAAATGGAAACTGACTTTCTTGAGCTCGCTATGGATGAATTCATACAGCGGTATAAGCTAGAGGGTTATGCCTTCGAACATATCGTTTATGGGGATTTCAGTCATGGACAACTTGGCGGCCTTCATCTAATGATTGGTTTAGCCAAGCGCTCACAAGATTCACCGCTTAAATTAGAGGATTTTATCCCTATGGATAGCACAGTGAAAAATTACTTCATAACAGACGCACAAACAGGTTCATCAAAATGTGTGTGTTCTGTTATTGACCTCTTACTCGATGACTTTGTTGAGATAATAAAGTCACAGGATTTGTCAGTAATCTCTAAGGTAGTCAAGGTTACAATTGACTACGCTGAGATTTCATTCATGCTTTGGTGTAAAGATGGTCATGTCGAAACCTTCTACCCAAAATTACAAGCAAGTCAAGCGTGGCAACCGGGGGTTGCAATGCCTAACTTGTACAAGATGCAAAGAATGCTTCTTGAAAAGTGTGACCTTCAGAATTATGGTGAAAATGCTGTCATACCAAAAGGAATAATGATGAATGTCGCAAAATACACTCAACTGTGTCAATACTTAAATACACTTACTTTAGCTGTACCCTACAACATGAGAGTTATTCACTTTGGTGCGGGCTCTGATAAAGGAGTCGCACCTGGTACAGCTGTACTCAGACAATGGTTGCCAACTGGCACACTACTTGTCGATTCAGACCTTAATGACTTCGTCTCTGACGCGGATTCTACTTTAATTGGAGACTGTGCAACAGTACATACGGCTAATAAATGGGACCTCATTATTAGCGATATGTATGACCCTAAGACCAAACACGTGAAAAAAGAGAATGACTCAAAAGAAGGGTTTTTCACTTACCTGTGTGGATTTATAAAGCAAAAGCTAGCCCTGGGCGGTTCTGTGGCTGTGAAGATAACAGAGCATTCTTGGAATGCTGATCTTTACAAGCTTATGGGACATTTCTCATGGTGGACAGCTTTTGTTACAAATGTAAATGCATCATCATCAGAAGCATTTTTAATTGGGGCTAACTATCTTGGCAAGCCGAAGGAACAAATTGACGGCTATACCATGCATGCTAACTACATTTTCTGGAGGAACACAAACCCTATCCAATTGTCTTCCTATTCACTTTTTGACATGAGTAAATTTCCCCTTAAGTTAAGAGGGACTGCTGTTATGTCTTTAAAAGAGAATCAAATCAATGACATGATTTATTCTTTGCTTGAAAAAGGTAGACTCATCATTAGAGAAAACAACAGAGTTGTGGTCTCGAGTGACGTGCTTGTTAATAATTAAACGAACATGAAAGTTTTGATTGTTCTTTTATGCCTCGGCCTTGTTACTGCTCAAGATGGCTGTGGGCATATTAGCACTAAACCTCAACCATTATTGGATAAATTTTCTTCTTCGCGTAGGGGTGTCTATTATAATGATGACATTTTTCGTTCAGATGTTTTACATCTTACTCAGGATTATTTTCTACCATTTGACACCAATCTAACGCGTTATTTGTCTTTTAACATGGATTCTGCAACAAAGGTTTACTTTGATAATCCAACATTACCATTTGGTGACGGCATTTATTTTGCAGCCACTGAAAAATCTAATGTTGTTAGAGGCTGGATTTTTGGTTCCACTATGGATAACACCACGCAATCTGCCATTATAGTCAATAATTCCACGCATATTATTATACGTGTGTGTTATTTTAATTTATGTAAAGAACCCATGTATGCTATCTCGAATGAGCAGCATTACAAATCATGGGTGTATCAAAATGCATATAATTGCACATATGATAGAGTGGAGCAGAGCTTTCAACTCGACACTGCCCCTCAGACTGGAAATTTTAAGGACTTACGTGAGTATGTCTTTAAAAATAAGGATGGGTTTCTAAGTGTTTATAATGCTTATTCACCTATTGACATACCAAGGGGTCTTCCTGTTGGTTTTTCGGTGTTGAAACCAATTCTTAAACTCCCTATAGGTATAAATATTACCTCTTTTAAGGTAGTTATGTCCATGTTTAGCAGAACAACTTCTAATTTCCTACCTGAAGTTGCTGCTTATTTTGTTGGTAACTTAAAATATAGTACCTTCATGCTTAATTTTAATGAGAATGGGACTATTACTGATGCCATTGATTGTGCCCAAAATCCCCTATCTGAATTAAAATGCACCATTAAAAATTTTAATGTCAGTAAAGGAATCTATCAGACATCTAACTTCAGAGTATCACCAACTCATGAAGTTATTAGGTTCCCTAACATTACAAACCGTTGTCCTTTCGACAAAGTTTTTAATGCTAGTCGCTTTCCCAATGTTTATGCTTGGGAAAGAACAAAAATTTCTGATTGTGTTGCTGATTACACTGTTCTCTACAACTCAACTTCATTTTCAACTTTTAAATGTTATGGAGTCTCTCCCTCTAAGTTGATTGATTTGTGCTTTACAAGTGTGTATGCTGATACATTCTTGATAAGATCTTCAGAAGTAAGGCAAGTTGCACCAGGTGAAACTGGTGTTATTGCTGACTATAACTACAAACTGCCTGATGACTTTACAGGCTGCGTCATAGCTTGGAACACTGCTAAACAAGATCAGGGCCAGTATTATTATAGATCCTCCCGAAAAACAAAACTTAAACCTTTTGAGAGGGATCTAACTTCTGACGAAAATGGTGTACGTACTCTTAGTACTTATGACTTCTATCCTAATGTGCCTATTGAATATCAGGCTACTAGGGTTGTTGTGCTTTCATTTGAACTTCTAAATGCACCTGCTACAGTTTGTGGACCTAAATTATCCACAGGACTTGTTAAGAACCAGTGTGTTAATTTTAACTTCAATGGACTCAGGGGCACTGGTGTTTTGACTGACTCATCAAAGAGGTTTCAGTCTTTTCAACAATTTGGTCGTGACACTTCTGACTTTACGGATTCAGTGCGTGATCCACAAACACTAGAAATACTTGACATTACACCATGTTCTTTTGGTGGTGTGAGTGTAATAACACCTGGAACAAATGCTTCATCTGAAGTGGCTGTTCTTTACCAAGATGTAAATTGCACTGATGTCCCAACGGCCATACGTGCTGATCAACTAACACCAGCTTGGCGCGTTTACTCCACTGGAATAAATGTTTTTCAAACACAAGCTGGCTGTCTTATTGGGGCTGAACATGTCAATGCTTCTTACGAGTGTGACATCCCTATTGGTGCTGGCATTTGTGCTAGCTACCATACAGCCTCTACTTTACGTAGTGTAGGTCAGAAATCCATTGTGGCTTACACTATGTCTTTGGGTGCAGAAAATTCCATTGCTTACGCTAATAACTCAATTGCCATACCTACAAATTTTTCAATTAGTGTCACGACTGAAGTGATGCCAGTTTCAATGTCTAAGACATCAGTAGATTGTACAATGTACATCTGTGGTGACTCTCAGGAGTGCAGTAATTTACTTCTTCAATACGGAAGTTTCTGCACGCAATTGAATCGTGCTCTTACGGGCATTGCCATAGAACAGGACAAAAATACACAGGAGGTTTTTGCCCAGGTTAAACAAATGTACAAGACACCAGCCATAAAGGATTTTGGCGGTTTCAATTTTTCACAAATATTGCCTGACCCTTCTAAGCCAACAAAGAGATCATTTATTGAAGATTTACTTTTCAACAAGGTGACTCTCGCTGATGCTGGCTTTATGAAGCAGTATGGCGAATGCCTAGGTGATATTAATGCTAGAGACCTCATCTGTGCACAAAAGTTCAATGGCCTTACTGTCCTGCCACCTTTACTCACGGATGACATGATCGCTGCGTACACTGCTGCCCTTGTCAGTGGTACTGCTACTGCTGGCTGGACATTCGGTGCTGGTGCTGCTCTTCAAATACCTTTTGCTATGCAAATGGCATATAGGTTCAATGGCATTGGAGTTACTCAAAATGTTCTCTATGAGAATCAAAAACAGATCGCCAATCAATTCAACAAGGCGATCAGTCAAATTCAAGAATCACTTACAACAACATCAACTGCGTTGGGCAAGCTGCAAGACGTTGTCAACCAGAACGCTCAAGCATTGAACACACTTGTTAAACAGCTTAGCTCCAATTTTGGTGCAATTTCAAGTGTGCTAAATGACATTCTTTCACGACTAGACAAAGTCGAGGCAGAGGTGCAAATTGACAGGTTGATCACAGGCAGATTGCAGAGCCTTCAAACCTATGTAACACAACAACTAATTAGAGCTGCTGAAATCAGAGCTTCTGCTAATCTTGCTGCTACTAAAATGTCTGAGTGTGTTCTTGGACAATCAAAAAGAGTTGACTTCTGTGGAAGAGGCTATCATCTTATGTCTTTTCCTCAGGCTGCTCCGCATGGTGTTGTTTTCTTACATGTCACATATGTGCCATCGCAGGAGAAAAACTTCACCACAGCTCCGGCAATTTGTCATGAAGGCAAAGCATACTTCCCGCGTGAAGGTGTTTTTGTATCTAATGGCACTTCTTGGTTCATTACACAGAGGAATTTTTACTCACCACAAATAATCACAACAGATAATACATTTGTTGCTGGAAGCTGTGATGTCGTAATTGGCATCATTAACAACACAGTCTATGATCCTCTGCAACCTGAGCTTGACTCATTCAAGGAAGAGCTGGACAAGTACTTCAAAAATCATACATCACCTGATGTTGATCTCGGCGACATTTCAGGCATTAATGCTTCTGTCGTCAACATTCAGAAAGAAATTGACCGCCTCAATGAGGTTGCCAAAAATCTAAATGAATCGCTCATTGACCTCCAAGAACTTGGTAAATATGAGCAATACATCAAATGGCCCTGGTACGTTTGGCTCGGCTTCATTGCTGGACTGATTGCTATCGTTATGGCCACTATACTGCTTTGTTGCATGACCAGCTGTTGCAGTTGCCTCAAGGGTGCATGCTCTTGTGGTTCTTGCTGCAAATTTGATGAGGACGACTCTGAGCCAGTGCTCAAAGGAGTCAAATTACACTACACATAAACGAACTTAATGGATTTGTTTATGAGTATTTTCACACTTGGCTCAATCACACGTCAACCGAGTAAGATTGACAATGCTTCTCCTGCAGGTACTGTTCATGCTACAGCAACGATACCGCTACAGGCCTCACTCCCTTTCGGATGGCTTGTTATTGGCGTTGCATTTCTTGCTGTTTTTCAGAGCGCTACCAAAATAATTGCGCTCAATAAAAAATGGCAGCTAGCCCTTTATAAGGGCTTCCAGTTCATTTGCAATTTACTGCTGCTATTTATTACCATCTATTCACATCTTTTGCTTGTCGCTGCGGGTATGGAGGCGCAATTTTTGTACCTCTATGCCTTGATATATTTTCTACAATGCATCAACGCATGTAGAATTATCATGAGATGTTGGCTTTGTTGGAAGTGTAAATCCAAGAACCCATTACTTTATGATGCCAACTACTTTGTTTGCTGGCACACACATAACTATGACTACTGTATACCATATAACAGTGTCACAGATACAATTGTCGTTACTGCAGGTGACGGCATTTCAACACCAAAACTCAAAGAAGACTACCAAATTGGTGGTTATTCTGAGAATTGGCACTCAGGTGTTAAAGACTATGTCGTCGTACATGGCTATTTCACTGAAGTTTACTACCAGCTTGAGTCTACACAAATTACTACAGACACTGGTATTGAAAATGCTACATTCTTCATCTTTAACAAGCTTGTTAAAGATCCGCCGAATGTGCAAATACACACAATCGACGGCTCTTCAGGAGTTGTAAATCCAGCAATGGATCCAATTTATGATGAGCCGACGACGACTACTAGCGTGCCTTTGTAAGCACAAGAAAGTGAGTACGAACTTATGTACTCATTCGTTTCGGAAGAAACAGGTACGTTAATAGTTAATAGCGTACTTCTTTTTCTTGCTTTCGTGGTATTCTTGCTAGTCACACTAGCCATCCTTACTGCGCTTCGATTGTGTGCGTACTGCTGCAATATTGTTAACGTGAGTTTAGTAAAACCAACGGTTTACGTCTACTCGCGTGTCAAAAATCTGAACTCTTCTGAAGGAGTTCCTGATCTTCTGGTCTAAACGAACTAACTATTATTATTATTCTGTTTGGAACTTTAACATTGCTTATCATGGCTGAGAACGGGACTATTTCCGTTGAGGAGCTCAAAAGACTCCTTGAACAATGGAACCTAGTAATAGGTTTCCTATTCCTAGCCTGGATTATGTTACTACAATTTGCCTATTCTAATCGGAACAGGTTTTTGTACATAATAAAGCTTGTTTTCCTGTGGCTCTTGTGGCCAGTAACACTTGCTTGCTTTGTGCTTGCTGCTGTTTACAGAATTAATTGGGTGACTGGCGGGATTGCGATTGCAATGGCTTGTATTGTAGGCTTGATGTGGCTTAGCTACTTCATTGCTTCCTTCAGGCTATTTGCTCGTACCCGCTCAATGTGGTCATTCAACCCAGAAACAAACATTCTTCTCAATGTGCCTCTTCGAGGGACAATTGTGACCAGACCGCTCATGGAAAGTGAACTTGTCATTGGCGCTGTGATCATTCGTGGTCACTTGCGCATGGCTGGACACTCCCTAGGGCGCTGTGACATCAAGGACCTGCCAAAAGAGATCACTGTGGCTACATCACGAACGCTTTCTTATTACAAATTAGGAGCGTCGCAGGTGTAGGCACTGATTCAGGTTTTGCTGCATACAACCGCTACCGTATTGGAAACTACAAATTAAATACAGACCACGCCGGTAGCAACGACAATATTGCTTTGCTAGTACAGTAAGTGACAACAGATGTTTCATCTTGTTGACTTCCAGGTTACAATAGCAGAGATATTGATTATCATTATGAGGACTTTCAGGATTGCTATTTGGAATCTTGACATGATAATAAGTTCAATAGTGAGACAGTTATTTAAGCCTCTAACTAAGAATAAATATTCAGAGTTAGATGATGAAGAACCTATGGAGATAGATTATCCTTGATAAACGAACCACTATGTTACTTTTAGTAACATTGTTTGGTTTAGCACAAGGGTGCAGCTTACCACTTACGGTTAGCTGCCCTAGAGGCCTACCTTTCACTCTACAGATTAACACTACTAGTGTTACTGTGGAGTGGTATCGGGTATCTCCTGCATCAATGCAAGGTCTTACAAAGATAAATACTGGCAGCACTATTTTTGATAACAACTTTAGTGTAGTCAATAATAATTTGTACTTCAAACAGTGTTTTGGAGGCTTTTTTACAGCACGCTGTTACCGCCAGGGTAAGCATGACGGTGCTATAGTAGATAATTCTCAACCTGTCTTTGTGGATGCTAGGAATTATGTACCAACTACTGCACCATTAGTCTCATCGCAGGGCATTGTGCAGCCAAAAAGTTCCAATGTGTTAGCTATAGTGTTACCTATAGCCCTTGTTGGTATTTGTCTTTTTATTCTTTTACTTTGGTATCTGTTTTCTAAGCAAAACAAAATTTACCAACAGGCCACGCAATCAGTCTAAACGAACATGAAAATTATTCTCTTCCTGACATTGATTGCACTTGCATCTTGCGAGCTATATCACTATCAGGAGTGTGTTAGAGGTACAACTATACTACTAAAAGAACCTTGCCTATCTGGAACTTACGAGGGCAATTCACCATTTCATCCTCTTGCTGATAACAAATTTGCACTAACTTGCACTAGCACCCACTTTGCTTTTGCTTGTGCTGACGGTACTAGACATACCTATCAGCTTCGTGCAAGATCAGTTTCACCAAAACTTTTCATCAGACAAGAGGAAGTTCACCAAGAGCTCTACTCACCGCTTTTTCTCATTGTTGCTGCTCTAGTATTTATAATACTTTGCTTCACCATTAAGAGAAAGACAGAATGAATGAGCTCACTTTAATTGACTTCTATTTGTGCTTTTTAGCCTTTCTGCTATTCCTTGTTCTAATAATGCTTATTATATTTTGGTTTTCACTTGAACTCCAGGATATAGAAGAACCTTGTAACAAAGTCTAAACGAACATGAAACTTCTCATTGTTTTAGGACTCTTAACATCAGTGTATTGCATGCATAAAGAATGCAGTATACAAGAATGTTGTGAAAATCAACCATTCCAACCTGAAGACCCATGTCCAATACATTACTATTCGGACTGGTTTGTAAAAATTGGACCTCGCAAGTCTGCTCGCCTAGTACAACTTTGTGCTGGTGAATATGGACATAGAGTTCCAATACATTATGAAATGTTTGGCAATTATACTATTTCATGTGAACCACTTGAAATAAATTGTCAAAACCCACCAGTTGGAAGTCTCATTGTACGTTGTTCATATGATGTTGACTTTATGGAGTATCACGACGTTCGTGTTGTTCTAGATTTCATCTAAACGAACAAACTAAAATGTCTGATAATGGACCCCAACCAAACCAGCGTAGTGCCCCCCGCATTACATTTGGTGGACCCACAGATTCAACTGACAATAACCAGAATGGAGGACGCAATGGGGCAAGGCCAAAACAACGCCGACCCCAAGGTTTACCCAATAATACTGCGTCTTGGTTCACAGCTCTCACTCAGCATGGCAAGGAGGAACTTAGATTCCCTCGAGGCCAGGGCGTTCCAATCAACACCAATAGTGGTCCAGATGACCAAATTGGCTACTACCGAAGAGCTACCCGACGAGTTCGTGGTGGTGACGGCAAAATGAAAGAGCTCAGCCCCAGATGGTACTTCTATTACCTAGGAACTGGCCCAGAAGCTTCACTTCCCTACGGCGCTAACAAAGAAGGCATCGTATGGGTCGCAACTGAGGGAGCCTTGAATACACCGAAAGATCACATTGGCACCCGCAATCCTAATAACAATGCTGCCACCGTGCTACAACTTCCTCAAGGAACAACATTGCCAAAAGGCTTCTACGCAGAGGGGAGCAGAGGCGGCAGTCAAGCCTCTTCTCGCTCTTCATCACGTAGTCGCGGTAATTCAAGAAATTCAACTCCTGGCAGCAGTAGGGGAAATTCTCCTGCTCGAATGGCTAGCGGAGGTGGTGAAACTGCCCTCGCGCTATTGCTGCTAGACAGACTGAACCAGCTTGAGAGCAAAGTTTCTGGTAAAGGCCAACAACAACAAGGCCAAACTGTCACTAAGAAATCTGCTGCTGAGGCATCTAAAAAGCCTCGCCAAAAACGTACTGCTACAAAACAGTACAACGTCACTCAAGCTTTTGGGAGACGTGGTCCAGAACAAACCCAAGGAAACTTCGGGGACCAAGATCTAATCAGACAAGGAACTGATTACAAACATTGGCCGCAAATTGCACAATTTGCTCCAAGTGCCTCTGCATTCTTCGGAATGTCACGCATTGGCATGGAAGTCACACCTTCGGGAACATGGCTGACTTATCATGGAGCCATTAAACTGGATGACAAAGATCCACAATTCAAAGACAACGTCATACTGCTGAATAAGCACATTGACGCATACAAAACATTCCCACCAACAGAGCCTAAAAAGGACAAAAAGAAAAAGACTGATGAAGCTCAGCCTTTACCGCAGAGACAAAAGAAGCAGCCCACTGTGACTCTTCTTCCTGCGGCTGACATGGATGATTTCTCCAGACAACTTCAAAATTCCATGAGTGGAGCTTCTGCTGATTCAACTCAGGCATAAACACTCATGATGACCACACAAGGCAGATGGGCTATGTAAACGTTTTCGCAATTCCGTTTACGATACATAGTCTACTCTTGTGCAGAATGAATTCTCGTAGCTAAACAGCACAAGTAGGTTTAGTTAACTTTAATCTCACATAGCAATCTTTAATCAATGTGTAACATTAGGGAGGACTTGAAAGAGCCACCACATTTTCACCGAGGCCACGCGGAGTACGATCGAGGGTACAGTGAATAATGCTAGGGAGAGCTGCCTATATGGAAGAGCCCTAATGTGTAAAATTAATTTTAGTAGTGCTATCCC\n",
      "\n",
      "Definition Line for sequence 2:\n",
      ">11128:ncbi:2\t2\tLC494191\t11128\tncbi\tBovine coronavirus\n",
      "30,942 bases:\n",
      "CATCCCGCTTCACTGATCTCTTGTTAGATCTTTTCATAATCTAAACTTTATAAAAACATCCACTCCCTGTAGTCTATGCCTATGGGCGTAGATTTTTCATAGTGGTGTCTATATTCATTTCTGCTGTTAACAGCTTTCAGCCAGGGACGTGTTGTATCCTAGGCAGTGGCCCACTCATAGGTCACAATGTCGAAGATCAACAAATACGGTCTCGAACTACATTGGGCTCCAGAATTTCCATGGATGTTTGAGGACGCAGAGGAGAAGTTGGACAACCCTAGTAGTTCAGAGGTGGATATATTTTGCTCCACCACTGCGCAAAAGCTGGAAACAGGCGGAATTTGTCCTGAAAATCATGTGATGGTGGATTGTCGCCGACTTCTTAAACAAGAATGTTGTGTGCAGTCTAGCCTAATACGTGAAATTGTTATGAATACACGTCCATATGATTTGGAGGTGCTACTTCAAGATGCTTTGCAGTCCCGCGAAGCAGTTTTGGTTACACCCCCTCTAGGTATGTCTCTGGAGGCATGCTATGTGAGAGGTTGTAATCCTAAAGGATGGACCATGGGTTTGTTTCGGCGTAGAAGTGTGTGTAACACTGGTCGCTGCGCTGTTAACAAGCATGTGGCCTATCAGCTATATATGATTGATCCTGCGGGTGTCTGTTTTGGTGCAGGTCAATTTGTGGGTTGGGTTATACCCTTAGCCTTTATGCCTGTTCAGTCCCGGAAATTTATTGTTCCTTGGGTTATGTACTTGCGTAAGTGTGGCGAAAAGGGTGCCTACAACAAAGATCATAAACGTGGCGGTTTTGAACACGTTTATAATTTTAAAGTTGAGGATGCTTACGACTTGGTTCATGATGAGCCTAAGGGTAAGTTTTCTAAGAAGGCTTATGCTTTAATTAGAGGATACCGTGGTGTTAAACCGCTTCTTTATGTAGACCAGTATGGTTGTGATTATACTGGTGGTCTTGCAGATGGCTTAGAGGCTTATGCTGATAAGACATTGCAAGAAATGAAGGCATTATTTCCTATTTGGAGCCAGGAACTCCATTTTGATGTAATTGTGGCATGGCACGTTGTGCGTGATCCACGTTATGTTATGAGACTGCAGAGTGCTTCTACTATACGTAGTGTTGCATATGTTGCTAACCCTACTGAAGATTTGTGTGATGGTTCTGTTGTTATAAAGGAACCTGTGCATGTTTATGCGGATGATTCCATTATTTTACGTCAACATAATTTAGTTGACATTATGAGTTGTTTTTATATGGAGGCAGATGCAGTTGTAAATGCTTTTTATGGTGTTGATTTGAAAAATTGTGGTTTTGTTATGCAGTTTGGTTATATTGACTGCGAACAAGACTCGTGTGATTTTAAAGGTTGGGTTCCTGGTAATATGATAGATGGTTTTGCTTGCACTACTTGTGGTCATGTTTATGAGACAGGTGATTTGCTAGCACAATCTTCAGGTGTTCTGCCTGTTAATCCTGTATTGCACACTAAGAGTGCAGCAGGTTATGGTGGTTTTGGTTGTAAGGATTCTTTTACCCTGTATGGCCAAACTGTGGTTTATTTTGGAGGTTGTGTGTATTGGAGTCCAGCACGTAATATATGGATTCCTATATTAAAATCTTCTGTTAAGTCTTATGACGGTTTGGTTTATACTGGAGTTGTAGGTTGCAAGGCTATTGTAAAGGAAACAAATCTCATTTGCAAAGCGTTGTACCTTGATTATGTTCAACACAAGTGTGGCAATTTACACCAGCGGGAGTTGCTAGGTGTGTCAGATGTGTGGCATAAACAATTGTTATTAAATAGAGGTGTGTATAAACCTCTTTTAGAGAATATTGATTATTTTAATATGCAGCGCGCTAAATTTAGTTTAGAAACTTTTACTGTTTGTGCAGATGGTTTTATGCCTTTTCTTTTAGATGATTTGGTTCCGCGCGCATATTATTTGGCAGTAAGTGGTCAAGCATTTTGTGACTACGCAGATAAAATCTGCCATGCTGTTGTGTCTAAGAGTAAAGAGTTACTTGATGTGTCTCTGGATTCTTTAAGTGCAGCTATACATTATTTGAATTCTAAAATTGTTGATTTGGCTCAACATTTTAGTGGTTTTGGAACAAGTTTTGTTTCTAAAATTGTTCATTTCTTTAAGACTTTTACTACTGGCACTGCTCTTGCATTTGCATGGGTTTTATTTCATGTTTTGCATGGTGCTTATATAGTAGTAGAGAGTGATATATATTTTGTTAAAAACATTCCTCGTTATGCTAGTGCTGTTGCACAAGCATTTCGGAGTGTTGCTAAAGTTGTACTGGACTCTTTAAGAGTTACTTTTATTGATGGCCTTTCTTGTTTTAAGATTGGACGTAGAAGAATCTGTCTTTCAGGCAGTAAAATTTATGAAGTTGAGCGTGGCTTGTTACATTCATCTCAATTGCCATTAGATGTTTATGATTTAACCATGCCTAGTCAAGTTCAGAAAGCCAAGCAAAAACCTATTTATTTAAAAGGTTCTGGTTCTGATTTTTCATTAGCAGATAGTGTGGTTGAAGTTGTTACAACTTCACTTACACCATGTGGTTATTCTGAACCACCTAAAGTTGCAGATAAAATTTGCATTGTGGATAATGTTTATATGGCCAAGGCTGGTGACAAATATTACCCTGTTGTGGTTGATGGTCATGTAGGACTCTTGGATCAAGCATGGAGGGTTCCTTGTGCTGGAAGGCGTGTTACATTTAAGGAACAGCCTACAGTAAATGAGATTGCAAGCACACCTAAGACTATTAAAGTTTTTTATGAGCTTGATAAAGATTTTAATACTATTTTAAACACTGCATGTGGAGTGTTTGAAGTAGATGATACCGTGGATATGGAGGAATTTTATGCTGTGGTGGTTGATGCCATAGAAGAGAAACTTTCTCCATGTAAGGAGCTTGAAGGTGTAGGTGCTAAAGTTAGTGCCTTTTTACAGAAATTAGAGGATAATTCCCTATTTTTATTTGATGAGGCTGGAGAGGAAGTTCTTGCTTCTAAATTGTATTGTGCTTTTACAGCTCCTGAAGACGATGACTTTCTTGAAGAAAGTGTTGTTGAAGAAGATGATGTAGAAGGTGAGGAAACTGATTTAACTGTCACAAGTGCTGGAGAGCCTTGTGTTGCCAGTGAACAGGAGGAGTCTTCTGAAATCTTAGAGGACACTTTGGATGATGGTCCATGTGTGGAGACATCTGATTCACAAGTTGAAGAAGATGTAGAAATGTCAGATTTTGCTGACCTTGAATCTGTGATTCAGGATTATGAAAATGTTTGTTTTGAGTTTTATACTACAGAGCCAGAATTTGTTAAAGTTTTGGATCTGTATGTGCCTAAAGCAACTCGCAATAATTGCTGGTTGCGATCAGTTTTGGCAGTGATGCAGAAACTGCCTTGTCAATTTAAAGATAAAAATTTGCAGGATCTTTGGGTGTTATATAAGCAACAGTATAGTCAGTTGTTTGTTGATACATTGGTTAATAAGATACCTGCTAATATTGTAGTTCCACAAGGTGGTTATGTTGCCGATTTTGCATATTGGTTCTTAACCTTATGTGATTGGCAGTGTGTTGCATACTGGAAATGCATTAAATGTGATTTAGCTCTTAAGCTTAAAGGCTTGGATGCTATGTTCTTTTATGGTGATGTTGTCTCACATGTGTGCAAGTGTGGTGAGTCTATGGTACTTATTGATGTTGATGTGCCATTTACAGCCCACTTTGCTCTTAAAGATAAGTTGTTTTGTGCATTTATTACTAAGCGTAGTGTGTATAAAGCAGCTTGTGTTGTGGATGTTAATGATAGTCATTCTATGGCTGTTGTTGATGGTAAACAAATTGATGATCGTCGTGTCACTAGTATTACTAGTGATAAGTTTGATTTTATTATTGGGCATGGTATGTCGTTTTCAATGACTACTTTTGAAATTGCCCAATTGTATGGTTCTTGTATAACACCTAATGTATGTTTTGTTAAAGGTGATATAATTAAAGTTTCTAAGTGTGTTAAAGCAGAAGTTGTTGTAAATCCTGCTAATGGCAATATGGCACATGGTGGTGGTGTTGCAAAGGCTATTGCAGTAGCAGCTGGACAGCAGTTTGTTAAAGAGACTACCGATATGGTTAAGTCTAAAGGAGTTTGTGCTACTGGAGACTGTTATGTCTCTACAGGGGGTAAATTATGTAAAACTGTGCTTAATGTTGTTGGACCTGATGCGAGAACACAGGGTAAACAAAGTTATGCATTGTTAGAGCGTGTTTATAAACATCTTAACAAATATGATTGTGTTGTTACAACTTTGATATCAGCTGGTATATTTAGTGTGCCTTCTGATGTGTCTTTAACATATCTACTTGGTACTGCCGAGAAACAAGTTGTTCTTGTTAGCAATAATCAAGAGGATTTTGATCTTATTTCTAAGTGTCAGATAACTGCTGTTGAGGGCACTAAGAAATTGGCAGAGCGTCTTTCTTTTAATGTAGGGCGTTCTATCGTTTACGAAACAGATGCTAATAAGTTGATTAGCAATGACGTTGCATTTGTTTCGACATTTAATGTCTTACAGGATGTTTTATCCTTAAGACATGATATAGCACTTGATGATGATGCACGAACCTTTGTTCAGAGCAATGTTGATGTTGTACCTGAGGGTTGGCGTGTTGTCAATAAGTTTTGTCAAATTAATGGTGTTAGAACCGTTAAGTATTTTGAGTGTCCCGGTGGCATAGATATATGCAGCCAGGATAAAGTTTTTGGTTATGTACAGCAGGGTAGTTTTAATAAGGCTACTGTTGCTCAAATTAAAGCCTTGTTTTTGGATAAAGTGGACATCTTGCTAACTGTTGATGGTGTTAATTTCACGAACAGGTTTGTGCCTGTAGGTGAAAGTTTTGGTAAGAGTCTAGGAAATGTGTTCTGTGATGGAGTTAATGTCACGAAACATAAGTGTGATATAAATTATAAAGGTAAAGTCTTTTTCCAGTTTGATAATCTTTCTAGTGAAGATTTAAAGGCTGTAAGAAGTTCTTTTAATTTTGACCAGAAGGAATTGCTTGCCTATTACAACATGCTTGTTAATTGTTCTAAATGGCAGGTTGTTTTTAATGGTAAGTATTTCACTTTTAAGCAAGCTAATAACAATTGTTTTGTTAATGTTTCTTGCTTAATGCTCCAGAGTTTGAATTTGAAATTTAAAATTGTTCAATGGCAGGAGGCGTGGCTTGAATTTCGTTCTGGCCGCCCTGCTAGATTTGTATCTTTGGTTTTAGCCAAAGGTGGGTTTAAATTTGGTGATCCTGCTGATTCTAGAGATTTTTTGCGTGTTGTGTTTAGTCAAGTTGATTTGACAGGGGCAATATGTGATTTTGAAATTGCATGTAAATGTGGTGTAAAGCAGGAACAGCGTACTGGTGTGGACGCTGTTATGCATTTTGGTACATTGAGTCGTGAAGATCTTGAGATTGGTTATACCGTGGATTGTTCTTGCGGTAGAAAGCTAATCCATTGTGTACGATTTGATATACCATTTTTAATTTGTAGTAATACACCTTCTAGTGTAAAATTACCTAAGGGTGTAGGAAGTGCAAATATTTTTAAAGGTGATAAGGTTGGTCACTATGTTCATGTTAAGTGTGAGCAGTCTTATCAGCTTTATGATGCTTCTAATGTTAAGAAGGTTACAGACGTTACTGGCAATTTGTCAGATTGTTTGTATCTTAAAAATTTGAAACAAACTTTTAAATCGGTGTTAACCACCTATTATTTGGATGATGTTAAGAAAATTGAGTATAAACCTGACTTGTCACAATATTATTGTGACGGAGGTAAGTATTATACTCAGCGTATTATTAAAGCCCAATTTAAAACATTTGAGAAAGTAGATGGTGTGTATACTAATTTTAAATTGATAGGACACACCATCTGTGATATTCTTAATGCTAAGTTGGGTTTTGATAGCTCTAAAGAGTTTGTTGAATATAAAGTTACTGAGTGGCCAACAGCTACAGGTGATGTGGTGTTGGCTACTGATGATTTGTATGTTAAGAGATATGAAAGGGGTTGTATTACTTTTGGTAAACCTGTTATATGGTTAAGCCATGAGCAAGCTTCCCTCAATTCTTTAACATATTTTAACAGACCTTTATTGGTTGATGAGAATAAATTTGATGTTTTAAAAGTGGATGATGTTGACGATGGTGGTGATATCTTAGATAGTGATGCCAAAGAATCTAAAGAAATCAACATTATTAAGTTAAGTGGTGTTAAAAAACCATTTAAGGTTGAAGATAGTGTCATTGTTAATGATGATACTAGCGAAATCAAATATGTTAAGAGTTTGTCTATAGTTGATGTGTATGATATGTGGCTTACAGGTTGTAGGTATGTTGTTAGAACTGCTAATGCTTTGAGCATGGCAGTTAACGTACCTACAATACGTAAGTTTATAAAATTTGGTATGACTCTTGTTAGTATACCAATTGATTTGTTAAATTTAACAGAGATTAAGCCTGTTTTTAATGTGGTTAAAGCTTTGCGAAATAAAATTTCTGCATGCTTTAATTTTATTAAATGGCTTTTTGTCTTATTATTTGGCTGGATTAAAACATCCGCTGATAATAAAGTAATTTACACCACAGAAGTTGCATCAAAGCTTACATGTAAGCTTGTAGCTTTAGCTTTTAAAAATGCGTTTTTGACATTTAATTGGAGTGTGGTTGCTAGAGGTGCTTGCATTATAGCGACTATATTTCTATTGTGGTTTAATTTTATATATGCCAATGTAATTTTTAGTGATTTTTATTTGCCTAAAATTGGTTTCTTGCCTACTTTTGTTGGTAAGATCGCACAGTGGATTAAGAGCACTTTTAGTCTTGTAACTATTTGTGATCTATATTCCATTCAGGATGTGGGTTTTAAGAATCAGTATTGTAATGGAAGTATCGCATGTCAGTTCTGCTTGGCAGGATTTGATATGTTAGATAATTATAAAGCCATTGATGTAGTACAGTATGAAGCTGATAGGAGAGCATTTGTTGATTATACAGGTGTGTTAAAGATTGTCATTGAATTGATAGTTAGTTACGCCCTGTATACGGCATGGTTCTACCCATTGTTTGCTCTTATTAGTATTCAGATCTTGACCACTTGGCTGCCTGAGCTTTTTATGCTTAGTACATTGCATTGGAGTGTTAGGTTGCTGGTGTCTTTAGCTAATATGTTACCAGCACATGTGTTTATGAGGTTTTATATTATTATTGCCTCTTTTATTAAGCTGTTTAGCTTGTTTAGGCATGTTGCCTATGGTTGTAGTAAACCTGGTTGTTTGTTTTGTTACAAGAGGAATCGTAGTCTACGTGTTAAATGTAGTACTATTGTTGGTGGCATGATACGCTATTACGATGTTATGGCTAATGGTGGCACTGGCTTTTGTTCCAAACATCAATGGAATTGCATTGATTGTGAGTCTTATAAACCAGGTAATACTTTTATTACTGTTGAGGCCGCTCTTGATTTATCTAAGGAATTGAAACGGCCTATTCAGCCTACAGATGTTGCTTATCATACTGTTACGGATGTTAAGCAAGTTGGTTGTTATATGCGCTTGTTTTATGAGCGTGATGGACAGCGCACATATGATGATGTTAATGCTAGTTTGTTTGTGGATTATAGTAATTTGCTACATTCTAAGGTTAAAGGTGTGCCTAATATGCATGTTGTGGTAGTGGAAAATGATGCCGATAAAGCTAATTTTCTTAATGCTGCTGTATTTTATGCACAATCTTTGTTTAGACCTATTTTAATGGTTGATAAAAATCTGATAACTACTGCTAATACTGGTACGTCTGTTACAGAAACTATGTTTGATGTTTATGTTGACACATTTTTGTCTATGTTTGATGTGGATAAAAAGAGTCTTAATGCTTTAATAGCAACTGCGCATTCTTCTATAAAACAGGGTACGCAGATTTGTAAAGTTTTGGATACCTTTTTAAGCTGTGCTCGTAAAAGTTGTTCTATTGATTCAGATGTTGATACTAAGTGTTTAGCTGATTCTGTCATGTCTGCTGTATCGGCAGGCCTTGAATTGACGGATGAAAGTTGTAATAACTTGGTGCCAACATATTTGAAGGGTGATAACATTGTGGCAGCTGATTTAGGTGTTCTGATTCAAAATTCTGCTAAGCATGTGCAGGGTAATGTTGCTAAGATAGCCGGTGTTTCCTGTATATGGTCTGTGGATGCTTTTAATCAGCTAAGTTCTGATTTCCAGCATAAATTGAAGAAAGCATGTTGTAAAACTGGTTTGAAATTGAAGCTTACTTATAATAAGCAGATGGCTAATGTCTCTGTTTTAACTACACCCTTTAGTCTTAAAGGGGGTGCAGTTTTTAGTTATTTTGTTTATGTATGTTTTCTGTTGAGTTTGGTTTGTTTTATTGGATTGTGGTGCTTAATGCCCACTTACACAGTACACAAATCAGATTTTCAGCTTCCAGTTTATGCCAGTTATAAAGTTTTAGATAACGGTGTTATTAGAGATGTTAGCGTTGAAGATGTTTGTTTCGCTAACAAATTTGAACAATTTGATCAATGGTATGAGTCTACATTTGGTCTAAGTTATTATAGTAACAGTATGGCTTGTCCCATTGTTGTTGCTGTAGTAGACCAGGATTTTGGCTCTACTGTGTTTAATGTTCCTACCAAAGTGTTACGATATGGTTACCATGTGTTGCACTTTATTACACATGCACTTTCTGCTGATGGAGTGCAGTGTTATACGCCACATAGTCAAATATCGTATTTTAATTTTTATGCTAGTGGCTGTGTGCTTTCCTCCGCTTGTACTATGTTTGCAATGGCCGATGGTAGTCCACAACCTTATTGTTATACAGAGGGGCTTATGCAGAACGCTTCTCTGTATAGTTCATTGGTACCTCATGTGCGGTATAATCTTGCTAATGCTAAAGGTTTTATCCGTTTTCCAGAAGTGTTGCGAGAAGGACTTGTGCGTGTTGTGCGTACTCGTTCTATGTCGTATTGCAGAGTTGGATTATGTGAGGAAGCTGATGAGGGTATATGCTTTAATTTTAATGGTTCTTGGGTGCTTAATAATGATTATTATAGATCATTGCCTGGGACCTTTTGTGGTAGAGATGTTTTTGATTTAATTTATCAGCTTTTTAAAGGTTTAGCACAGCCTGTGGATTTTTTGGCATTGACTGCTAGTTCTATTGCTGGTGCTATACTTGCTGTAATTGTTGTTTTGGTGTTTTATTACTTAATAAAGCTTAAACGTGCTTTTGGTGATTACACCAGTATTGTTTTTGTTAATGTGATTGTGTGGTGTGTAAATTTTATGATGCTTTTTGTGTTTCAAGTTTACCCTACACTTTCTTGTGTATATGCTATTTGTTATTTTTATGCCACGCTTTATTTCCCTTCGGAGATAAGTGTGATAATGCATTTACAATGGCTAGTTATGTATGGCACTATTATGCCTTTATGGTTTTGTTTGCTATATATATCTGTTGTTGTTTCAAATCATGCTTTTTGGGTATTTGCTTACTGCAGACGGCTTGGTACTTCTGTTCGTAGTGATGGTACATTTGAAGAAATGGCTCTTACTACTTTTATGATTACAAAAGATTCTTATTGTAAGCTTAAGAATTCCTTGTCTGATGTTGCTTTTAATAGATATTTGAGTTTGTATAATAAATATAGGTATTACAGCGGTAAAATGGATACTGCTGCATATAGGGAGGCTGCTTGTTCTCAGTTGGCTAAAGCAATGGATACATTTACCAATAATAATGGTAGTGATGTGCTTTACCAACCACCTACTGCTTCTGTTTCAACTTCATTCTTGCAATCTGGTATTGTGAAAATGGTTAATCCTACCTCTAAGGTAGAACCATGTATTGTCAGTGTTACCTATGGTAATATGACATTGAATGGTTTATGGTTGGATGATAAGGTCTACTGTCCCAGACATGTGATATGTTCTGTTTCAGATATGACTAATCCAGATTATACAAATTTGTTGTGTAGAGTAACATCAAGTGATTTTACTGTATTGTTTGATCGTTTGAGCCTTACAGTGATGTCTTATCAAATGCAGGGTTGTATGCTTGTTCTTACAGTGACCCTGCAAAATTCTCGTACGCCAAAATATACATTTGGTGTGGTTAAACCTGGTGAGACTTTTACTGTTTTAGCTGCTTATAACGGCAAACCACAAGGAGCCTTTCATGTGACTATGCGTAGTAGTTATACCATTAAGGGTTCCTTTTTATGCGGATCTTGTGGATCTGTTGGTTATGTGCTAATGGGTGATTGTGTTAAATTTGTTTATATGCATCAATTGGAGCTTAGTACTGGTTGTCATACTGGTACTGATTTCAATGGGGATTTTTATGGTCCTTATAAGGATGCTCAGGTTGTCCAATTGCCCGTTCAGGATTATATACAATCTGTTAATTTTGTAGCATGGCTTTATGCTGCTATACTTAATAATTGTAATTGGTTTGTACAAAGTGATAAGTGTTCTGTTGAAGATTTTAATGTGTGGGCTTTGTCTAATGGGTTTAGCCAAGTTAAGTCTGATCTTGTTATAGATGCTTTAGCTTCTATGACTGGTGTGTCTTTGGAAACATTATTGGCTGCCATTAAGCGTCTCAAGAATGGTTTTCAAGGACGTCAGATTATGGGTAGTTGCTCTTTTGAGGATGAATTGACACCTAGCGATGTTTATCAACAACTCGCTGGTATCAAGTTACAATCAAAGCGCACTAGATTGGTTAAAGGCATTGTTTGTTGGATTATGGCTTCTACATTTTTGTTTAGTTGTATAATTACAGCATTTGTGAAATGGACTATGTTTATGTATGTAACTACTAATATGCTTAGTATTACGTTTTGTGCACTTTGTGTTATAAGTTTGGCCATGTTGTTGGTTAAACATAAGCATCTTTATTTGACTATGTATATAATTCCTGTGCTTTTTACACTGCTGTATAACAATTATTTGGTTGTGTACAAGCAGACATTTAGAGGCTATGTTTATGCATGGCTATCATATTATGTTCCATCAGTTGAGTATACTTATACTGATGAAGTTATTTATGGCATGTTATTGCTTATAGGAATGGTCTTTGTTACATTACGTAGCATTAACCATGATTTGTTCTCTTTTATAATGTTTGTTGGCCGTGTGATTTCTGTTGTCTCTTTGTGGTACATGGGTTCTAACTTAGAGGAAGAAATTCTTCTTATGTTGGCTTCTCTTTTTGGTACTTACACATGGACAACAGCTTTATCTATGGCTGCAGCAAAGGTTATTGCTAAGTGGGTTGCTGTGAATGTTTTGTATTTCACAGATATACCTCAAATTAAGATAGTGCTTGTATGCTATTTGTTTATAGGTTATATTATTAGCTGTTATTGGGGTTTGTTCTCCTTGATGAACAGTTTGTTTAGAATGCCTTTGGGTGTTTACAATTATAAAATTTCAGTACAGGAATTAAGATATATGAATGCTAATGGATTGCGCCCTCCTAAGAATAGTTTTGAAGCCCTTATGCTTAATTTTAAGCTTTTGGGTATTGGAGGTGTGCCAATTATTGAAGTATCTCAATTTCAATCAAAATTGACTGATGTTAAATGTGCTAATGTTGTCTTGCTTAATTGCTTGCAACATTTGCATGTTGCTTCTAATTCTAAGTTGTGGCAGTATTGTAGCACTTTGCACAATGAAATACTTGCCACTTCTGATCTGGGTGTTGCTTTTGAAAAGCTTGCTCAGTTGTTAATTGTTTTGTTTGCTAATCCAGCTGCTGTGGATAGCAAGTGCCTGACTAGTATTGAAGAAGTTTGCGACGATTACGCAAAGGACAATACTGTTTTGCAGGCTTTACAGAGTGAATTTGTTAATATGGCTAGCTTCGTTGAATATGAAGTTGCTAAGAAAAATCTTGATGAGGCGCGTTCTAGTGGTTCTGCTAATCAACAGCAGTTAAAACAGCTAGAGAAAGCCTGTAATATTGCTAAATCTGCTTATGAACGCGACCGTGCTGTAGCAAGAAAGTTGGAGCGTATGGCAGATTTGGCTCTCACTAATATGTATAAAGAAGCTAGAATTAATGATAAGAAGAGTAAGGTTGTTTCTGCCTTGCAAACTATGCTTTTTAGTATGGTGCGTAAGTTAGATAATCAAGCTCTGAATTCAATATTAGATAATGCTGTGAAGGGTTGTGTACCATTGAATGCAATCCCTTCATTGGCTGCAAATACTCTGACTATAATTGTACCAGATAAAAGTGTTTACGATCAGGTAGTTGACAATGTCTATGTTACCTATGCGGGTAATGTATGGCAGATTCAAACTATCCAAGATTCAGATGGTACAAATAAGCAGTTGAATGAGATATCTGATGATTGTAACTGGCCACTAGTTATTATTGCAAATCGGCATAATGAGGTATCTGCAACCGTTTTGCAAAATAATGAATTAATGCCTGCTAAGTTGAAAACTCAGGTCGTTAATAGTGGTCCAGATCAGACTTGTAATACACCTACTCAATGTTACTATAATAATAGTAACAATGGGAAGATTGTTTATGCTATACTTAGTGATGTTGATGGTCTTAAGTATACAAAGATTCTTAAAGATGATGGCAATTTTGTTGTTTTGGAGTTAGATCCTCCTTGTAAATTTACTGTTCAAGATGTTAAAGGTCTTAAAATTAAGTACCTTTATTTTGTAAAAGGTTGCAACACACTAGCAAGGGGCTGGGTTGTTGGTACAATTTCTTCTACAGTTAGATTGCAAGCTGGAACTGCTACTGAGTATGCTTCCAACTCATCTATATTATCTTTATGTGCGTTTTCTGTAGATCCTAAGAAAACGTATTTAGATTTTATACAGCAGGGAGGAACACCTATTGCTAATTGTGTTAAAATGTTGTGTGACCATGCTGGTACCGGTATGGCCATTACTGTTAAACCCGATGCTACCACTAATCAGGATTCATATGGTGGTGCGTCTGTTTGTATATATTGCCGCGCACGAGTTGAACACCCAGATGTTGATGGGTTGTGCAAATTACGCGGCAAGTTTGTACAAGTGCCTGTAGGTATAAAAGATCCTGTGTCTTATGTTTTGACACATGATGTTTGTCAAGTTTGTGGATTTTGGCGGGATGGAAGTTGTTCATGTGTTAGCACTGACACTACTGTTCAGTCAAAAGATACTAATTTTTTAAACGGGTTCGGGGTACGAGTGTAGATGCCCGTCTCGTACCCTGTGCCAGTGGTTTATCTACTGATGTACAATTAAGGGCATTTGATATTTGCAATGCTAGTGTTGCTGGCATTGGTTTACATTTAAAAGTTAATTGCTGCCGTTTTCAGCGTGTTGACGAGAACGGTGATAAATTAGATCGGTTCTTTGTTGTTAAGAGGACAGATCTGACTATATATAATAGAGAGATGGAATGCTATGAGCGTGTAAAAGATTGTAAGTTTGTGGCTGAACACGATTTCTTTACATTTGATGTAGAAGGTAGTCGTGTGCCACATATTGTACGCAAGGATTTAACAAAGTATACTATGTTGGATCTTTGCTATGCGTTGCGACATTTTGATCGCAATGATTGCATGCTGCTTTGTGACATTCTCTCTATATATGCTGGTTGTGAACAATCCTACTTTACTAAGAAGGATTGGTATGATTTTGTTGAAAATCCTGATATTATTAATGTTTATAAAAAGCTAGGACCTATTTTTAATAGAGCCCTAGTTAGCGCTACTGAGTTTGCAGACAAATTAGTGGAGGTAGGCTTAGTAGGCATTTTAACACTTGATAACCAAGATTTAAATGGTAAATGGTATGATTTTGGTGACTATGTTATTGCAGCCCCAGGTTGTGGTGTTGCTATAGCAGACTCTTATTATTCTTATATGATGCCTATGCTGACCATGTGTCATGCATTGGATTGTGAATTGTATGTGAATAATGCTTATAGACTATTTGATCTTGTACAGTATGATTTTACTGATTACAAGCTCGAATTGTTTAATAAGTATTTTAAGCACTGGAGTATGCCATACCATCCTAACACGGTTGATTGTCAGGATGATCGGTGTATCATACATTGTGCTAATTTTAACATACTTTTTAGTATGGTTTTACCTAATACATGTTTTGGGCCTCTTGTTAGGCAAATTTTTGTGGATGGTGTTCCTTTTGTTGTTTCAATTGGATACCATTATAAAGAACTTGGTATTGTTATGAATATGGATGTGGATACACATCGTTATCGCTTGTCTTTAAAAGACTTGCTTTTATATGCTGCTGATCCAGCTTTGCATGTAGCTTCTGCTAGTGCATTGTATGATTTACGCACTTGCTGTTTTAGTGTTGCGGCTATAACAAGCGGTGTGAAATTTCAAACAGTTAAACCTGGTAATTTTAATCAGGATTTTTATGATTTTATTTTAAGTAAGGGCCTGCTTAAAGAGGGTAGTTCAGTTGATCTGAAGCACTTTTTCTTTACGCAGGATGGTAATGCTGCTATTACTGATTATAATTATTATAAGTATAATTTGCCCACCATGGTGGACATTAAGCAGTTGTTGTTTGTTTTGGAAGTTGTTTATAAGTATTTTGAGATTTATGATGGTGGGTGTATACCGGCATCACAAGTCATTGTTAATAATTATGATAAGAGTGCTGGCTATCCATTTAATAAATTTGGAAAAGCCAGGCTCTATTATGAAGCATTATCATTTGAGGAGCAGGATGAAATTTACGCCTATACTAAGCGCAATGTCCTGCCAACACTTACTCAAATGAATTTGAAATATGCTATTAGTGCTAAGAATAGAGCCCGCACTGTTGCTGGTGTTTCCATACTTAGTACTATGACTGGCAGAATGTTTCATCAAAAGTGTTTGAAAAGTATAGCAGCTACACGTGGTGTTCCTGTTGTTATAGGCACCACTAAATTTTATGGCGGCTGGGATGATATGTTACGTCGCCTTATTAAAGATGTTGATAATCCTGTACTTATGGGTTGGGATTATCCTAAATGTGATCGTGCTATGCCAAACATACTACGTATTGTTAGTAGTCTGGTTTTGGCTCGAAAACATGAGGCATGTTGTTCGCAAAGCGATAGGTTTTATCGACTTGCGAATGAATGCGCACAAGTTTTGAGTGAAATTGTTATGTGTGGTGGCTGTTATTATGTTAAGCCTGGGGGCACTAGTAGTGGTGATGCAACTACTGCTTTTGCTAATTCAGTCTTTAACATATGTCAAGCTGTTTCAGCCAATGTATGTGCTTTAATGTCATGCAATGGTAATAAGATTGAAGATTTGAGTATACGTGCTCTTCAGAAGCGCTTATACTCACATGTCTATAGAAGTGATGTGGTTGATACAACCTTTGTCACAGAATATTATGAATTTTTAAATAAGCATTTTAGTATGATGATTTTGAGTGATGATGGCGTTGTGTGTTATAATTCTGATTATGCGTCCAAAGGGTATATTGCTAATATAAGTGCTTTTCAACAGGTATTGTATTATCAAAATAACGTCTTTATGTCAGAATCCAAATGTTGGGTTGAAAATGACATAAACAATGGACCTCATGAATTCTGTTCACAACACACAATGCTTGTAAAGATGGATGGGGACGATGTCTATCTTCCATACCCTGATCCTAGTCGTATATTAGGAGCTGGATGTTTTGTAGATGATTTGTTAAAGACTGATAGTGTTCTTTTAATAGAACGATTTGTAAGTCTTGCAATAGATGCTTATCCACTTGTGTACCACGAAAATGAAGAATACCAAAAGGTTTTTCGTGTTTATTTGGAGTATATAAAGAAGTTGTACAATGACCTGGGTAATCAGATCTTGGATAGCTACAGTGTTATTTTAAGTACTTGTGATGGACAAAAGTTTACTGATGAGTCCTTTTACAAGAACATGTATTTAAGAAGTGCAGTTATGCAGAGTGTTGGAGCTTGCGTGGTCTGCTCTTCTCAAACATCATTACGTTGTGGCAGTTGCATCAGAAAGCCTCTTCTTTGCTGCAAGTGTTGTTACGATCATGTTATGGCAACTGATCATAAATATGTTTTGAGTGTTTCACCATATGTGTGTAACGCACCAGGATGTGATGTAAATGATGTTACCAAATTGTATCTAGGTGGTATGTCATATTATTGTGAAGATCATAAGCCACAATATTCGTTTAAGTTGGTAATGAATGGTATGGTTTTTGGTCTATATAAACAATCTTGTACAGGATCTCCGTACATAGATGATTTTAATCGTATAGCTAGTTGTAAATGGACTGATGTTGATGATTACATACTGGCTAATGAATGTACAGAGCGCTTGAAATTGTTTGCTGCAGAAACTCAAAAGGCGACTGAGGAAGCCTTTAAGCAGAGTTATGCATCAGCCACAATACAAGAGATTGTTAGCGAGCGCGAATTGATCCTTTCTTGGGAGATTGGAAAAGTGAAGCCACCACTTAATAAAAATTATGTTTTTACTGGCTACCATTTTACTAAAAATGGCAAGACAGTTTTAGGTGAGTATGTTTTTGATAAGAGTGAGTTGACTAATGGTGTGTATTATCGCGCCACAACCACTTATAAGCTATCTGTAGGAGATGTTTTTGTTTTAACCTCTCATTCAGTAGCTAATTTAAGTGCTCCCACGCTTGTGCCGCAGGAGAATTATAGTAGTATTAGATTTGCTAGTGTTTATAGTGTGCTTGAGACGTTTCAGAACAATGTCGTTAATTATCAACACATTGGTATGAAACGTTATTGTACCGTGCAAGGACCTCCTGGCACAGGAAAGTCACATCTTGCTATTGGTCTTGCTGTTTATTATTGTACAGCACGTGTAGTATACACTGCGGCCAGCCATGCAGCTGTTGACGCATTGTGTGAAAAAGCATACAAATTTTTGAATATAAATGACTGCACTCGTATTGTTCCTGCCAAGGTCAGGGTGGAGTGCTATGATAAGTTTAAAATTAATGACACCACTCGTAAGTATGTGTTTACTACTATAAATGCATTACCTGAGATGGTGACTGATATTGTTGTTGTAGATGAAGTTAGTATGCTTACCAATTATGAGCTTTCTGTTATTAATGCTCGTATTCGTGCTAAGCATTATGTTTACATTGGTGATCCTGCCCAATTGCCAGCACCACGTGTGTTATTGAGCAAGGGTACACTTGAACCTAAATATTTTAACACTGTTACTAAGCTTATGTGTTGCTTAGGGCCAGACATTTTTCTTGGTACATGTTATAGATGTCCTAAGGAAATTGTTGATACAGTGTCTGCCTTGGTTTATGAAAATAAGCTTAAGGCTAAGAATGAAAGTAGTTCATTGTGTTTTAAGGTCTATTATAAAGGCGTTACAACACATGAAAGTTCTAGTGCTGTAAATATGCAGCAGATTTATTTGATTAATAAGTTTTTGAAGGCTAACCCTTTGTGGCATAAAGCCGTTTTTATTAGCCCATATAATAGCCAGAACTTTGCAGCTAAGCGTGTTTTGGGTTTGCAAACCCAGACCGTGGATTCTGCTCAAGGTTCTGAATATGATTATGTTATATATTCACAGACTGCAGAAACAGCGCATTCTGTAAATGTTAATCGTTTCAATGTTGCTATTACTCGAGCCAAGAAAGGTATTCTTTGTGTTATGAGTAATATGCAGTTGTTCGAAGCATTACAGTTTACTACATTGACCTTAGATAAAGTGCCACAGGCCGTTGAAACGAGAGTTCAATGTAGTACCAATTTATTTAAAGATTGTAGCAAGAGTTATAGTGGTTACCACCCAGCTCACGCTCCTTCATTTTTGGCAGTAGATGACAAATATAAGGCAACTGGCGATTTAGCCGTGTGTCTTGGTATTGGAGATTCTGCTGTTACATATTCAAGATTAATATCACTCATGGGTTTTAAACTTGACGTCACCCTTGATGGGTATTGTAAGCTTTTTATAACTAAAGAAGAAGCTGTTAAACGCGTGCGTGCTTGGGTTGGCTTTGATGCTGAAGGCGCTCATGCCACGCGTGATAGCATTGGGACAAATTTCCCACTTCAATTAGGGTTTTCTACAGGAATTGATTTTGTTGTGGAAGCCACTGGTTTGTTTGCTGATAGAGATGGTTACAGCTTTAAAAAGGCTGTGGCTAAAGCTCCTCCTGGTGAACAATTTAAGCATCTCATCCCTTTGATGACGAGAGGTCAGCGCTGGGATGTTGTTAGACCTAGAATAGTACAAATGTTTGCAGATCATTTAATTGATCTGTCTGATTGTGTTGTGTTAGTTACATGGGCAGCCAACTTTGAGCTCACTTGTCTCCGATACTTTGCAAAAGTAGGTCGTGAGATCTCTTGTAATGTGTGCACTAAACGTGCCACAGCTTACAATTCTAGAACTGGTTACTATGGTTGTTGGCGCCATAGTGTTACATGTGATTACTTGTATAATCCACTTATTGTTGATATTCAACAGTGGGGATATACTGGATCTTTATCAAGTAATCATGATTTATATTGTAGTGTCCACAAAGGAGCACATGTTGCTTCATCTGATGCTATAATGACACGGTGTTTAGCCGTTTATGATTGTTTTTGCAATAATATTAATTGGAATGTGGAGTATCCCATTATTTCAAATGAGTTAAGTATTAATACCTCTTGTAGGGTCTTGCAGCGTGTTATGCTTAAAGCTGCAATGCTCTGCAACAGATATACTTTGTGTTATGATATTGGCAACCCAAAAGCGATTGCCTGTGTCAAAGATTTTGATTTTAAGTTCTATGATGCCCAACCTATTGTTAAGTCTGTCAAGACTCTTTTGTATTCTTTTGAGGCACATAAGGACTCTTTTAAAGATGGTTTGTGTATGTTTTGGAACTGTAATGTGGATAAGTATCCACCGAATGCAGTTGTATGTAGATTTGACACGAGAGTGTTGAATAATTTAAATCTTCCTGGCTGTAATGGAGGTAGTTTGTATGTTAATAAACATGCATTCCACACTAAACCCTTTTCTAGGGCAGCCTTTGAGCATTTGAAGCCTATGCCATTTTTCTATTATTCAGATACGCCTTGTGTGTATATGGATGGCATGGATGCTAAGCAGGTTGATTATGTACCTTTGAAATCCGCCACTTGCATCACAAGATGCAATTTAGGTGGTGCAGTTTGTTTAAAACATGCTGAAGAGTATCGTGAGTACCTAGAGTCTTACAATACAGCTACTACAGCAGGTTTTACTTTTTGGGTCTATAAGACATTTGATTTTTATAATTTGTGGAATACGTTCACCAAGCTACAAAGCTTGGAGAACGTTGTATATAATTTAGTCAAAACTGGTCATTATACGGGACAGGCTGGTGAAATGCCTTGTGCCATTATAAATGATAAAGTCGTGGCTAAGATCGATAAGGAAGATGTTGTCATTTTTATTAATAATACAACATACCCTACTAATGTGGCTGTTGAATTATTTGCCAAGCGCAGTATTCGACACCATCCAGAGCTTAAGCTCTTTAGAAATTTGAATATAGACGTGTGTTGGAAGCACGTCATTTGGGATTATGCTAGAGAAAGTATATTTTGCAGTAATACCTATGGTGTCTGCATGTATACAGATTTAAAGTTCATTGATAAATTGAATGTCCTTTTTGATGGTCGTGATAATGGTGCTCTTGAAGCTTTTAAACGCTCTAATAATGGCGTTTACATTTCCACGACAAAAGTTAAGAGTCTTTCGATGATAAAAGGTCCACCGCGTGCTGAATTAAATGGCGTAGTGGTGGACAAGGTTGGAGACACTGATTGTGTGTTTTATTTTGCTGTGCGTAAAGAGGGTCAGGATGTCATCTTCAGCCAATTCGACAGCCTGAGAGTCAGCTCTAACCAGAGCCCACAAGGTAATCTGGGGAGTAATGAACCCGGTAATGTCGGTGGTAATGATGCTCTGGCAACCTCCACTATATTTACACAAAGCCGTGTTATTAGCTCTTTTACATGTCGTACTGATATGGAAAAAGATTTTATAGCTTTAGATCAACACGTGTTTATTCAGAAGTATGGTTTGGAGGACTATGCCTTTGAACACATTGTTTATGGTAATTTCAACCAGAAGATTATTGGTGGTTTGCATTTGTTAATAGGCTTGTACCGAAGACATCAAACTTCCAATCTGGTTATTCAGGAGTTTGTTTCATACGACTCCAGCATACACTCTTATTTTATCACTGATGGGAAGAGTGGTGGTAGTAAGAGTGTTTGCACTGTTATAGATATCTTGTTGGATGATTTTGTGGCTCTTGTTAAGTCACTTAATCTCAGCTGTGTGAGTAAGGTTGTTAACGTTAATGTTGATTTTAAAGACTTTCAGTTCATGCTTTGGTGTAACGATGAGAAAGTTATGACTTTCTATCCTCGTTTGCAAGCTGCATCTGACTGGAAGCCTGGTTATTCTATGCCTGTATTATATAAGTATTTGAATTCCCCTATGGAAAGAGTTAGTCTCTGGAATTATGGGAAGCCGGTTACTTTGCCTACTGGCTGTATGATGAATGTTGCTAAGTATACTCAGTTATGTCAATATCTGAATACTACAACATTAGCTGTACCTGTTAATATGCGAGTTTTGCATTTAGGTGCAGGTTCAGAAAAAGGAGTAGCACCGGGTTCTGCAGTTCTTAGGCAGTGGTTGCCTGCTGGTACTATTCTTGTAGATAATGATTTATACCCATTTGTGAGTGACAGTGTCGCTACATATTTTGGGGATTGTATAACCTTACCCTTTGATTGTCAATGGGATTTGATAATTTCTGATATGTATGACCCTATTACTAAGAACATAGGGGAGTACAATGTAAGTAAAGATGGTTTCTTTACATACATTTCTCATATGATTCGCGACAAGTTAGCTCTGGGTGGCAGTGTTGCTATAAAAATAACAGAGTTTTCTTGGAATGCAGAATTATATAAGTTAATGGGGTATTTTGCATTTTGGACGGTTTTCTGCACAAATGCAAACGCTTCTTCTAGTGAAGGGTTTTTAATTGGCATAAATTATTTGGGTAAGCCCAAAGTTGAGATAGATGGAAGTGTTATGCATGCCAATTATTTGTTTTGGAGAAATTCCACAGTTTGGAACGGGGGTGCTTATAGCCTGTTTGACATGGCTAAATTCCCGCTTAAGTTGGCTGGTACTGCCGTAATAAATTTAAGAGCAGATCAGATTAATGATATGGTTTATTCCCTTCTTGAAAAGGGTAAACTACTTGTTAGAGATACAAATAAAGAAGTTTTTGTTGGTGATAGTTTGGTTAATGTAATCTAAACTTTAAGAATGGCAGTCGCTTATGCAGACAAGCCTAATCACTTTATCAATTTTCCACTTACCCAGTTTCAGGGTTTTGTGTTAAATTATAAAGGTTTACAATTTCAACTTCTCGATGAAGGAGTGGATTGTAAAATACAAACAGCGCCTCACATTAGTCTTGCTATGCTGGATATTCAGCCTGAAGACTACAGAAGTGTTGATGTTGCTATTCAAGAAGTTATTGATGATATGCATTGGGGTGAGGGCTTTCAGATTAAATTTGAAAACCCCCATATCCTAGGAAGATGCATAGTTTTAGATGTTAAAGGTGTAGAAGAATTGCATGATGATTTAGTCAATTACATTCGTGATAAAGGTTGTGTTGCTGACCAATCCAGGAAGTGGATTGGACATTGCACCATAGCCCAACTCACTGATGCTGCACTTTCCATTAAGGAAAATGTTGATTTTATAAACAGCATGCAATTCAACTATAAAATCACTATCAATCCCTCATCACCGGCTAGACTTGAAATAGTTAAGCTTGGTGCTGAAAAGAAAGATGGTTTTTATGAAACCATAGCTAGCCACTGGATGGGAATTCGTTTTGAATATAATCCACCCACTGATAAGCTAGCTATGATTATGGGTTATTGTTGTTTAGAAGTGGTGCGTAAAGAGCTAGAAGAAGGTGACCTTCCCGAGAATGATGATGATGCTTGGTTTAAGCTCTCGTACCATTATGAAAACAATTCTTGGTTCTTTCGACATGTCTACAGGAAAAGTTCTTACTTCCGTAAGTCTTGTCAAAATTTAGATTGTAATTGTTTGGGGTTTTATGAATCTTCAGTTGAAGAAGACTAAACTCAGTGAAAATGTTTTTGCTTCCTAGATTTGTTCTAGTTAGCTGCATAATTGGTAGCCTAGGTTTTGACAACCCTCCTACCAATGTTGTTTCTCATTTAAATGGAGATTGGTTTTTATTTGGTGACAGTCGTTCAGATTGTAATCATGTTGTTACTACCAATCCCCGTAATTATTCTTATATGGACCTTAATCCTGCCTTGTGTGGTTCTGGCAAAATATCATCTAAAGCTGGCAACTCCATCTTTAGGAGTTTTCACTTTACTGATTTTTATAATTACACAGGCGAAGGTCAACAAATTATTTTCTATGAGGGTGTTAATTTTACGCCTTATCATGCCTTTAAATGCACCACTTCTGGTAGTAATGATATTTGGATGCAGAATAAAGGCTTGTTTTACACTCAGGTTTATAAGAATATGGCTGTGTATCGCAGCCTTACTTTTGTTAATGTACCATATGTTTATAATGGCTCTGCACAATCTACAGCCCTTTGTAAATCTGGTAGTTTAGTTCTTAATAACCCTGCATACATAGCTCGTGAAGCTAATTTTGGGGATTATTATTATAAGGTTGAAGCTGATTTTTATTTGTCAGGTTGTGACGAGTATATCGTACCACTTTGTATTTTCAACGGCAAGTTTTTGTCGAATACAAAGTATTATGATGATAGTCAATATTATTTTAATAAAGACACTGGTGTTATTTATGGTCTCAATTCTACTGAAACCATTACCACTGGTTTTGACTTTAATTGTCATTATTTAGTTCTACCCTCTGGTAATTATTTAGCCATTTCAAATGAGCTATTGTTAACTGTTCCTACTAAAGCAATCTGTCTTAATAAGCGTAAGGATTTTACGCCTGTACAGGTTGTTGATTCGCGGTGGAACAATGCCACGCTGTCTGATAACATGACGGCAGTTGCTTGTCAACCCCCGTACTGTTATTTTCGTAATTCTACTACCAATTATGTTGGTGTTTATGATATCAATCATGGGGATGCTGGTTTTACTAGCATACTCAGTGGTTTGTTATATGACTCACCTTGTTTTTCGCAGCAAGGTGTTTTTAGGTATGATAATGTTAGCAGTGTCTGGCCTCTCTACCCTTATGGCAGATGCCCTACTGCTGCTAATATTAATACCCCTGATGTACCTATTTGTGTGTATGATCCGCTACCAATTATTTTGCTTGGCATTCTTTTGGTTGTTGCGGTCATAATTATTGTAGTTTTGTTGTTATATTTTATGGTGGATAATGGTACTAGGCTGCATGATGCTTAGACCATAATCTAAACATGTTTTTGATACTTTTAATTTCCTTACCAACGGCTTTTGCTGTTATAGGAGATTTAAAGTGTACTACAGTTTCCATTAATGATGTTGACACAGGTGTTCCTTCTATTAGCACTGATACTGTCGATGTTACTAATGGTTTAGGTACTTATTATGTTTTAGATCGTGTGTATTTAAATACTACGTTGTTGCTTAATGGTTATTACCCTACTTCAGGTTCTACATATCGTAATATGGCACTGAAGGGAACTTTACTATTGAGCACACTGTGGTTTAAACCACCTTTTCTTTCTGATTTTACTAATGGTATTTTTGCTAAGGTCAAAAATACCAAGGTTATTAAAGATGGTGTAATGTATAGTGAGTTTCCTGCTATAACTATAGGTAGTACTTTTGTAAATACATCCTATAGTGTGGTAGTACAACCACATACTACCATTTTGGGTAATAAATTACAAGGTTTCTTAGAGATCTCTGTTTGCCAGTATACTATGTGCGAGTACCCAAATACGATTTGTAATCCTAATCTGGGTAATCAACGCGTAGAACTATGGCATTGGGATACAGGTGTTGTTTCCTGTTTATATAAGCGTAATTTCACATATGATGTGAATGCTGATTATTTGTATTTCCATTTTTATCAAGAAGGTGGTACTTTTTATGCATATTTTACAGACACTGGTGTGGTTACTAAGTTTCTGTTTAATGTTTATTTAGGCACGGTGCTTTCACATTATTATGTCATGCCTTTGACTTGTAATAGTGCTCTGACTTTAGAATATTGGGTTACACCCCTCACTTCTAAACAATATCTACTAGCTTTCAATCAAGATGGTGTTATTTTTAATGCTGTTGATTGTAAGAGTGATTTTATGAGTGAGATTAAGTGTAAAACACTATCTATAGCACCATCTACTGGTGTTTATGAAGTAAACGGTTACACTGTTCAGCCAATTGCAGATGTTTACCGACGTATACCTAACCTTCCCGATTGCAATATTGAGGCTTGGCTTAATGATAAGTCGGTGCCCTCTCCATTAAATTGGGAACGTAAGACCTTTTCAAATTGTAATTTTAATATGAGCAGCCTGATGTCTTTTATTCAGGCAGACTCATTTACTTGTAATAATATTGATGCTGCTAAGATATATGGTATGTGTTTTTCCAGCATAACTATAGATAAGTTTGCTATTCCCAATGGTAGGAAGGTTGACCTACAATTGGGTAATTTGGGCTATTTGCAATCTTTTAATTATAGAATTGATACTACTGCTACAAGTTGTCAGTTGTATTATAATTTACCTGCTGCTAATGTTTCTGTTAGCAGGTTTAATCCTTCTACTTGGAATAGGAGATTTGGTTTTACAGAACAATCTGTTTTTAAGCCTCAACCTGCAGGTGTTTTTACTGATCATGATGTTGTTTATGCACAACATTGTTTTAAAGCTCCCACAAATTTCTGTCCTTGTAAATTGGATGGGTCTTTGTGTGTAGGTAGTGGTTCTGGTATAGATGCTGGTTATAAAAATACTGGCATAGGCACTTGTCCTGCAGGTACTAATTATTTAACTTGCCATAATGCTGCCCAATGTGATTGTTTGTGCACTCCAGATCCCATTACATCTAAAGCTACAGGGCCTCACAAATGCCCTCAAACTAAATATTTAGTTGGCATAGGTGAGCACTGTTCGGGTCTTGCTATTAAAAGTGATCATTGTGGAGGTAACCCTTGTAGTTGCCAACCACAAGCATTTTTGGGTTGGTCTGTTGACTCTTGTTTACAAGGGGATAGGTGTAATATTTTTGCTAATTTTATTTTGCATGATGTTAATAGTGGTACTACTTGTTCTACTGATTTACAAAAATCAAACACAGACATAATTCTTGGTGTTTGTGTTAATTATGATCTTTATGGTATTACTGGCCAAGGGATTTTTGTTGAGGTTAATGCGACTTATTATAATAGTTGGCAGAACCTTTTATATGATTCTAATGGTAATCTCTACGGTTTCAGAGATTACTTAACAAATAGAACTTTTATGATTCGTAGTTGCTATAGTGGTCGTGTTTCAGCGGCTTTTCATGCTAACTCTTCCGAACCAGCATTGCTATTTCGGAATATCAAATGCAATTACGTTTTTAATAACACTCTTTCACGACAGCTTCAACCTATTAACTATTTTGATAGCTATCTTGGTTGTGTTGTCAATGCTGATAATAGTACTTCTAGTGTAGTTCAAACATGTGACCTCACAGTAGGTAGTGGTTACTGTGTGGATTACTCTACAAAAAGACGAAGTCGTAGATCGATTACCACTGGTTATCGGTTTACTAATTTTGAGCCATTTACTGTTAATTCAGTAAATGATAGCTTAGAACCTGTAGGTGGTTTGTATGAAATTCAAATACCTTCAGAGTTTACTATAGGTAATATGGAGGAGTTTATTCAAACAAGCTCTCCTAAAGTTACTATTGATTGTTCTGCTTTTGTCTGTGGTGATTATGCAGCATGTAAATCACAGTTGGTTGAATATGGTAGCTTCTGTGACAATATTAATGCTATACTCACAGAAGTAAATGAACTACTTGACACTACACAGTTGCAAGTAGCTAATAGTTTAATGAATGGTGTCACTCTTAGCACCAAGCTTAAAGATGGCGTTAATTTTAATGTAGACGACATCAATTTTTCCCCTGTATTAGGTTGTTTAGGAAGCGATTGTAATAAAGTTTCCAGTAGATCTGCTATAGAGGACTTACTTTTCTCTAAAGTAAAGTTATCTGATGTCGGTTTCGTTGAGGCTTATAATAATTGTACTGGAGGTGCCGAAATTAGGGACCTCATTTGTGTGCAAAGTTATAATGGTATCAAGGTGTTGCCCCCACTGCTATCAGAAAATCAGATCAGTGGTTACACTTTGGCTGCCACCTCTGCTAGCCTGTTTCCTCCATGGTCAGCAGCAGCAGGTGTACCATTCTATTTAAATGTTCAGTATCGTATTAATGGTATTGGTGTTACCATGGATGTGCTAAGTCAAAATCAAAAGCTTATTGCTAATGCATTTAACAATGCTCTTGGTGCTATTCAGGAAGGGTTTGATGCTACCAATTCTGCTTTAGTTAAAATTCAAGCTGTTGTTAATGCAAATGCTGAAGCTCTTAATAACTTATTGCAACAACTCTCTAATAGATTTGGTGCTATAAGTTCTTCTTTACAAGAAATTCTATCTAGACTGGATGCTCTTGAAGCGCAAGCTCAGATAGACAGGCTTATTAATGGGCGTCTTACCGCTCTTAATGCTTATGTTTCTCAACAGCTTAGTGACTCTACACTAGTAAAGTTTAGTGCAGCACAAGCTATGGAGAAGGTTAATGAATGTGTCAAAAGCCAATCATCTAGGATAAATTTTTGTGGTAATGGTAATCATATTATATCATTAGTGCAGAATGCTCCATATGGTTTGTATTTCATTCATTTTAGCTATGTCCCTACTAAGTATGTCACTGCGAAGGTTAGTCCCGGCCTGTGCATTGCTGGTGATAGGGGTATAGCCCCTAAGAGTGGTTATTTTGTTAATGTAAATAATACTTGGATGTTCACTGGTAGTGGTTATTACTACCCTGAACCTATAACTGGAAATAATGTTGTTGTTATGAGTACCTGTGCTGTTAATTATACTAAAGCGCCAGATGTAATGCTGAACATTTCAACACCCAACCTCCCTGATTTTAAGGAAGAGTTGGATCAATGGTTTAAAAACCAAACATCAGTGGCACCAGATTTGTCACTTGATTATATAAATGTTACATTCTTGGACCTACAAGATGAAATGAATAGGTTACAGGAGGCAATAAAAGTTTTAAATCAGAGCTACATCAATCTCAAGGACATTGGTACATATGAGTATTATGTAAAATGGCCTTGGTATGTATGGCTTTTAATTGGCTTTGCTGGTGTAGCTATGCTTGTTTTACTATTCTTCATATGCTGTTGTACAGGATGTGGGACTAGTTGTTTTAAGAAATGTGGTGGTTGTTGTGATGATTATACTGGACACCAGGAGTTAGTAATTAAAACATCACATGAAGACTAAGTTCGTCTTTGATTTATTGACTCCTGACGATATATTACATCCCTCCAATCATGTGAATCTTATTATAAGACCCATTTAGGTCGAGCATATTATAATAGCTACCACAATGCCTGCTGTCTAGTGGGTACTGTGTCTTATATAACTAGTAAACCTGCAATGCCAATGGCTACAATCATTGAAGTTGCAGATTATACTAACATTATTCCTATTACTGTTCTTACAACAGTTCATTTAGGTGTTTCTATAGGTATTGACACTAGCACCACTGGTTTTTCATGGTACTAGTTCCAAACCATATTATAATTCAGGTAGACCTTATAACTTTAAGCATTATTGCCAAAGGTTTTAAGGTCACGCCTTAGTAATGGACATCTGGAAACCTGAGATTAAATATCTCCGTTATACTAACGGTTTTAATGTCTCAGAATTAGAAGATGCTTGTTTTAAATTTAACTATAAATTTCCTAAAGTAGGATATTGTAGAGTTCCTAGTCATGCTTGGTGCCGTAATCAAGGTAGCTTTTGTGCTACACTCACTCTTTATGGCAAATCCAAACATTATGATAAATATTTTGGAGTAATAACTGGTTTTACAGCATTCGCTAATACTGTAGAGGAGGCTGTTAATAAACTGGTTTTCTTAGCTGTTGACTTTATTACCTGGCGTAGACAGGAGTTAAATGTTTATGGCTGATGCTTATTTTGCAGACACTGTGTGGTATGTGGGGCAAATAATTTTTATAGTTGCCATTTGTTTATTGGTTATAATAGTTGTAGTGGCATTTTTGGCAACTTTTAAATTGTGTATTCAACTTTGCGGTATGTGTAATACCTTAGTACTGTCCCCTTCTATTTATGTGTTTAATAGAGGTAGGCAGTTTTATGAGTTTTACAATGATGTAAAACCACCAGTTCTTGATGTGGATGACGTTTAGTTAATCCAAACATTATGAGTAGTGTAACTACACCAGCACCAGTTTACACCTGGACTGCTGATGAAGCTATTAAATTCCTAAAGGAATGGAACTTTTCTTTGGGTATTATACTACTTTTTATTACAGTCATATTGCAATTTGGATATACAAGTCGCAGTATGTTTGTTTATGTTATTAAGATGATTATTTTGTGGCTTATGTGGCCCCTTACTATCATCTTAACTATTTTCAATTGCGTGTATGCGTTGAATAATGTGTACCTTGGCTTCTCTATAGTTTTTACCATAGTGGCCATTATCATGTGGATTGTGTATTTTGTGAATAGTATCAGGTTGTTTATTAGAACTGGAAGTTGGTGGAGTTTCAACCCAGAAACAAACAACTTGATGTCTATAGATATGAAGGGAAGGATGTATGTTAGGCCGATAATTGAGGACTACCATACCCTTACGGTCACAATAATACGTGGTCATCTTTACATGCAAGGTATAAAACTAGGTACTGGCTATTCTTTGTCAGATTTGCCAGCTTATGTGTCTGTTGCTAAGGTCTCGCACCTGCTCACGTATAAGCGTGGTTTTCTTGACAAGATAGGCGATACTAGTGGTTTTGCTGTTTATGTTAAGTCCAAAGTCGGTAATTACCGACTGCCATCAACTCAAAAGGGTTCTGGCTTGGACACCGCATTGTTGAGAAATAATATCTAAACTTTAAGGATGTCTTTTACTCCTGGTAAGCAATCCAGTAGTAGAGCGTCCTCTGGAAATCGTTCTGGTAATGGCATCCTTAAGTGGGCCGATCAGTCCGACCAATCTAGAAATGTTCAAACCAGGGGTAGAAGAGCTCAACCCAAGCAAACTGCTACTTCTCAGCAACCATCAGGAGGGAATGTTGTACCCTACTATTCTTGGTTCTCTGGAATTACTCAGTTTCAAAAGGGAAAGGAGTTTGAATTTGCAGAGGGACAAGGTGTGCCTATTGCACCAGGAGTCCCAGCTACTGAAGCTAAAGGGTACTGGTACAGACACAACAGACGTTCCTTTAAAACAGCCGATGGCAACCAGCGTCAATTGCTTCCACGATGGTATTTTTACTATCTTGGAACAGGACCGCATGCCAAAGACCAGTATGGCACCGACATTGACGGAGTCTTCTGGGTCGCTAGTAATCAGGCTGATGTCAATACCCCGGCTGACATTCTCGATCGGGACCCAAGTAGCGATGAGGCTATTCCGACTAGGTTTCCGCCTGGCACGGTACTCCCTCAGGGTTACTATATTGAAGGCTCAGGAAGGTCTGCTCCTAATTCCAGATCTACTTCACGCGCATCCAGTAGAGCCTCTAGTGCAGGATCGCGCAGTAGAGCCAATTCTGGCAATAGAACCCCTACCTCTGGTGTAACACCTGATATGGCTGATCAAATTGCTAGTCTTGTTCTGGCAAAACTTGGCAAGGACGCCACTAAGCCACAGCAAGTAACTAAGCAGACTGCCAAGGAAATCAGACAGAAAATTTTGAATAAGCCCCGCCAAAAGAGGAGCCCCAATAAACAATGCACTGTTCAGCAGTGTTTTGGGAAGAGAGGCCCCAATCAGAATTTTGGTGGTGGAGAAATGTTAAAACTTGGAACTAGTGATCCACAGTTTCCGATTCTTGCAGAACTCGCACCCACAGCTGGTGCGTTTTTCTTTGGATCTAGATTAGAGTTGGCCAAAGTGCAGAATTTGTCTGGGAATCTTGACGAGCCCCAGAAGGATGTTTATGAATTGCGCTATAATGGCGCAATTAGATTTGATAGTACACTTTCAGGTTTTGAGACCATAATGAAGGTGTTGAATGAGAATTTGAATGCATACCAACAACAGGATGGTACGATGAATATGAGTCCAAAACCACAGCGTCAGCGTGGTCAGAAGAACGGACAAGGAGAAAATGATAATATAAGTGTTGCAGCGCCCAAAAGCCGTGTGCAGCAAAATAAGATTAGAGAGTTGACTGCAGAGGACATCAGCCTTCTTAAGAAGATGGATGAGCCCTTTACTGAAGACACCTCAGAAATATAAGAGAATGAACCTTATGTCGGCACCTGGTGGTAACCCCTCGCAGGAAAGTCGGGATAAGGCACTCTCTATCAGAATGGATGTCTTGCTGCTATAATAGATAGTGAAGGTTATAGCAGACTATAGATTAATTAGTTGAAAGTTTTGTGTGGTAATGTATAGTGTTGGAGAAAGTGAAAGACTTGCGGAAGTAATTGCCGACAAGTGCCCAAGGGGAAGAGCCAGCATGTTAAGTTACCACC\n",
      "\n",
      "Definition Line for sequence 3:\n",
      ">31631:ncbi:3\t3\tKY967361\t31631\tncbi\tHuman coronavirus OC43\n",
      "30,661 bases:\n",
      "ATCTCTTGTTAGATCTTTTTGTAATCTAAACTTTATAAAAACATCCACTCCCTGTAATCTATGCTTGTGGGCGTAGATTTTTCATAGTGGTGTTTATATTCATTTCTGCTGTTAACAGCTTTCAGCCAGGGACGTGTTGTATCCTAGGCAGTGGCCCTCCCATAGGTCACAATGTCGAAGATCAACAAATACGGTCTCGAACTACACTGGGCTCCAGAATTTCCATGGATGTTTGAGGACGCAGAGGAGAAGTTGGACAACCCTAGTAGTTCAGAGGTGGATATGATTTGCTCCACCACTGCGCAAAAGCTGGAAACAGACGGAATTTGTCCTGAAAATCATGTGATGGTGGATTGTCGCCGACTTCTTAAACAAGAGTGTTGTGTGCAGTCTAGCCTAATACGTGAAATTGTTATGAATGCAAGTCCATATCATTTGGAGGTGCTACTTCAAGATGCTTTGCAGTCCCGTGAAGCAGTTTTGGTTACAACCCCCTTAGGTATGTCCTTAGAGGCATGCTATGTGAGAGGTTGTAATCCTAAAGGATGGACCATGGGTTTGTTTCGGCGTAGAAGTGTGTGTAACACTGGTCGTTGCACTGTTAATAAGCATGTGGCCTATCAGTTATATATGATTGATCCTACGGGTGTCTGTCTTGGTGCAGGTCAATTCGTGGGTTGGGTCATACCCTTAGCCTTTATGCCTGTGCAATCCCGGAAATTTATTGTTCCATGGGTTATGTACTTGCGTAAGCGTGGCGAAAAGGGTGCTTATAATAAAGATCATGGATGTGGCGGTTTTGGACATGTTTATGATTTTAAAGTTGAAGATGCTTATGACCAGGTGCATGATGAGCCTAAGGGTAAGTTTTCTAAGAAGGCTTATGCTTTAATTAGAGGGTATCGTGGTGTTAAACCACTTCTCTATGTAGACCAGTATGGTTGTGATTATACTGGTAGTCTTGCAGATGGCTTAGAGGCTTATGCTGATAAGACATTGCAAGAAATGAAGGCATTATTTCCTACTTGGAGTCAGGAACTCCCTTTTGATGTAATTGTGGCATGGCATGTTGTGCGTGATCCACGTTATGTTATGAGATTGCAGAGTGCTGCTACTATATGTAGTGTTGCATATGTTGCTAATCCTACTGAAGACTTGTGTGATGGTTCTGTTGTTATAAAAGAACCTGTGCATGTTTATGCAGATGACTCTATTATTTTACGTCAATATAATTTATTTGACATTATGAGTCATTTTTATATGGAGGCAGATACAGTTGTAAATGCTTTTTATGGTGTTGCTTTGAAAGATTGTGGTTTTGTTATGCAGTTTGGTTACATTGATTGCGAACAAGACTCGTGTGATTTTAAAGGTTGGATTCCTGGTAACATGATAGATGGTTTTGCTTGCACCACTTGTGGTCATGTTTATGAAGTAGGTGATTTGATAGCACAATCTTCAGGTGTTTTGCCTGTTAACCCTGTATTGCATACTAAGAGTGCAGCAGGTTATGGTGGTTTTGGTTGTAAAGATTCTTTTACTCTGTATGGCCAAACTGTAGTTTATTTTGGAGGTTGTGTGTATTGGAGTCCAGCACGTAATATATGGATTCCTATATTAAAATCCTCTGTTAAGTCATATGACAGTTTGGTTTATACTGGAGTTTTAGGTTGCAAGGCTATTGTAAAGGAAACAAATCTCATTTGCAAAGCTCTGTACCTTGATTATGTTCAACACAAGTGTGGCAATTTACACCAACGGGAGTTGCTAGGTGTTTCAGATGTGTGGCATAAACAATTGCTAATAAATAGAGGTGTTTATAAACCTCTGTTAGAGAATATTGATTATTTTAATATGCGACGCGCTAAATTTAGTTTAGAAACTTTTACTGTTTGTGCAGATGGCTTTATGCCTTTTCTTTTAGATGATTTAGTTCCACGCGCATATTATTTGGCAGTAAGTGGTCAAGCATTTTGTGATTATGCAGATAAACTTTGCCATGCTGTTGTGTCTAAGAGTAAAGAGTTACTTGATGTGTCTCTGGATTCTTTAGGTGCAGCTATACATTATTTGAATTCTAAGATTGTTGATTTGGCTCAACATTTTAGTGATTTTGGAACAAGTTTTGTTTCTAAAATTGTTCATTTCTTTAAGACTTTTACTACTAGCACTGCTCTTGCATTTGCATGGGTTTTATTTCATGTTTTGCATGGTGCTTATATAGTAGTGGAGAGTGATATATATTTTGTTAAAAACATTCCTCGTTATGCTAGTGCTGTTGCACAAGCATTTCAGAGTGTTGCTAAAGTTGTACTGGACTCTTTAAGAGTTACTTTTATTGATGGCCTTTCTTGTTTTAAGATTGGACGTAGAAGAATTTGTCTTTCAGGCAGAAAAATTTATGAAGTTGCGCGTGGCTTGTTACATTCATCCCAATTGCCATTAGATGTTTATGATTTAACCATGCCTAGTCAAGTTCAGAAAGCCAAGCAAAAACCTATTTATTTAAAAGGTTCTGGTTCTGATTTTTCATTAGCGGATAGTGTAGTTGAAGTTGTTACAACTTCACTTACACCATGTGGCTATTCTGAACCACCTAAAGTTGCAGATAAAATTTGCATTGTAGATAATGTTTATATGGCCAAGGCTGGTGATAAATATTACCCTGTTGTGGTTGATGATCATGTTGGACTCTTGGATCAAGCATGGAGAGTTCCTTGTGCTGGACGGCGTGTTACATTTAAGGAACAGCCTACAGTAAAGGAGATTATAAGCATGCCTAAGATTATTAAGGTTTTTTATGAGCTTGACAATGATTTTAATACTATTTTAAATACTGCGTGTGGAGTGTTTGAAGTGGATGATACTGTCGATATGGAGGAATTTTATGCTGTGGTGATTGATGCCATAGAAGAGAAACTTTCTCCATGTAAGGAGCTTGAAGGTGTAGGTGCTAAAGTTAGTGCCTTTTTACAGAAATTAGAGGATAATCCCCTATTTTTATTTGATGAGGCTGGCGAAGAAGTTTTTGCTCCTAAATTGTATTGTGCCTTTACAGCTCCTGAAGATGATGACTTTCTTGAGGAAAGTGATGTTGAAGAAGATGATGTAGAAGGTGAGGAAACTGATTTAACTATCACAAGTGCTGGACAGCCTTGTGTTGCTAGTGAACAGGAGGAATCTTCTGAAGTCTTAGAGGACACTTTGGATGATGGTCCAAGTGTGGAGACATCTGATTCACAAGTTGAAGAAGATGTAGAAATGTCGGATTTTGTTGATCTTGAATCTGTGATTCAGGATTATGAAAATGTTTGTTTTGAGTTTTATACTACAGAGCCAGAATTTGTTAAAGTTTTGGGTCTGTATGTGCCTAAAGCAACTCGCAACAATTGCTGGTTGCGATCAGTTTTGGCAGTGATGCAGAAATTGCCCTGTCAATTTAAAGATAAAAATTTGCAGGATCTTTGGGTGTTATACAAGCAACAGTATAGTCAGTTGTTTGTTGATACCTTGGTTAATAAGATACCTGCTAATATTGTACTTCCACAAGGTGGTTATGTTGCTGATTTTGCATATTGGTTTTTAACCTTATGTGATTGGCAGTGTGTTGCATACTGGAAATGCATTAAATGTGATTTAGCTCTTAAGCTTAAAGGCTTGGATGCTATGTTCTTTTATGGTGATGTTGTCTCACATATATGCAAGTGTGGTGAGTCTATGGTACTTATTGATGTTGATGTGCCATTTACAGCCCACTTTGCTCTTAAAGATAAGTTGTTTTGTGCATTTATTACTAAGCGTATTGTGTATAAAGCAGCTTGTGTTGTGGATGTTAATGATAGTCATTCTATGGCTGTTGTTGATGGCAAACAAATTGATGATCATCGTATCACTAGTATTACTAGTGATAAGTTTGATTTTATTATTGGGCATGGTATGTCATTTTCAATGACTACTTTTGAAATTGCCCAATTGTATGGTTCTTGTATAACACCTAATGTGTGTTTTGTTAAAGGTGATATAATTAAAGTGTCTAAGCTTGTTAAAGCAGAAGTTGTTGTAAACCCTGCTAATGGCCATATGGTACATGGTGGTGGTGTTGCAAAAGCTATTGCAGTAGCAGCTGGACAGCAGTTTGTTAAAGAGACTACCAATATGGTTAAGTCTAAAGGAGTTTGTGCTACTGGAGATTGTTATGTCTCTACAGGGGGCAAATTATGTAAAACTGTGCTTAATGTTGTTGGACCTGATGCGAGAACACAGGGTAAACAAAGTTATGTATTGTTAGAGCGTGTTTATAAACATTTTAACAACTATGACTGTGTTGTTACAACTTTGATCTCAGCTGGTATATTTAGTGTGCCTTCTGATGTGTCTTTAACATATCTACTTGGTACTGCTAAGAAACAAGTTGTTCTTGTTAGCAATAATCAAGAGGATTTTGATCTTATTTCTAAGTGTCAGATAACTGCTGTTGAGGGCACTAAGAAATTGGCAGCGCGTCTTTCCTTTAATGTTGGACGTTCCATTGTTTACGAAACAGATGCTAATAAGTTGATTTTAATCAATGATGTTGCATTTGTTTCGACATTTAATGTTTTACAGGATGTTTTATCCTTAAGACATGATATAGCACTTGATGATGATGCACGAACCTTCGTTCAGAGCAATGTTGATGTTCTACCTGAGGGTTGGCGTGTTGTCAATAAGTTTTATCAAATTAATGGTGTTAGAACCGTTAAGTATTTTGAGTGTACTGGAGGCATAGATATATGCAGCCAGGATAAAGTTTTTGGTTATGTACAGCAGGGTATTTTTAATAAGGCTACTGTTGCTCAAATTAAAGCCTTGTTTTTGGATAAAGTGGACATCTTGCTAACTGTTGATGGTGTTAATTTCACTAATAGGTTTGTGCCTGTTGGTGATAGTTTTGGTAAGAGTCTAGGAAATGTGTTTTGTGATGGAGTTAATGTCACGAAGCATAAGTGTGATATAAATTATAAAGGTAAAGTCTTTTTCCAGTTTGATAATCTTTCTAGTGAAGATTTAAAGGCTGTAAGAAGTTCCTTTAATTTTGATCAGAAGGAATTGCTTGCCTATTACAACATGCTTGTTAATTGTTTTAAGTGGCAGGTTGTTGTTAATGGTACGTATTTCACTTTTAAGCAAGCTAATAACAATTGTTTTGTTAATGTTTCTTGCTTAATGCTCCAGAGCTTGCATCTGACATTTAAAATTGTTCAATGGCAAGAGGCATGGCTTGAATTTCGTTCTGGCCGCCCTGCTAGATTTGTAGCTTTGGTTTTGGCCAAAGGTGGGTTTAAATTTGGAGATCCTGCTGATTCTAGAGATTTCTTGCGTGTTGTGTTTAGTCAAGTTGATTTGACTGGGGCAATATGTGATTTTGAAATTGCATGTAAATGTGGTGTAAAGCAGGAACAGCGTACTGGTCTAGATGCTGTTATGCATTTTGGTACATTGAGTCGTGAAGATCTTGAGATTGGTTATACCGTGGACTGTTCTTGCGGTAAAAAGCTAATTCATTGTGTACGATTTGATGTACCATTTTTAATTTGCAGTAATACACCTGCTAGTGTAAAATTACCTAAGGGTGTAGGAAGTGCAAATATTTTTATAGGAGATAATGTTGGTCATTATGTTCATGTTAAGTGTGAACAATCTTATCAGCTTTATGATGCTTCTAATGTTAAGAAGGTTACAGATGTTACTGGCAAATTGTCAGATTGTCTGTATCTTAAAAATTTGAAACAAACTTTTAAATCTGTGTTAACCACCTATTATTTGGATGATGTTAAGAAAATTGAGTATAAACCTGACTTGTCACAATACTATTGTGACGGAGGTAAGTATTATACTCAGCGTATTATTAAAGCCCAATTTAAAACATTCGAGAAAGTAGATGGTGTGTATACTAATTTTAAATTGATAGGACACACCGTCTGTGACAGTCTTAATTCTAAGTTGGGTTTTGATAGCTCTAAAGAGTTTGTTGAATATAAGATTACTGAGTGGCCAACAGCTACAGGTGATGTGGTGTTGGCTAATGATGATTTGTATGTTAAGAGATATGAGAGGGGTTGTATTACTTTTGGTAAACCTGTTATATGGTTAAGCCATGAGAAAGCTTCTCTCAATTCTTTAACATATTTTAATAGACCTTTATTGGTTGATGATAATAAATTTGATGTTTTAAAAGTGGATGATGTTGATGATAGTGGTGACAGCTCAGAGAGTGGTGTCAAAGAAACCAAAGAAATCAACATTATTAAGTTAAGTGGTGTTAAAAAACCATTTAAGGTTGAAGATAGTGTCATTGTTAACGATGATACTAGTGAAACCAAATACGTTAAGAGTTTGTCTATTGTTGATGTGTATGATATGTGGCTTACAGGTTGTAAGTATGTTGTTAGAACTGCTAATGCTTTGAGCAGAGCAGTTAACGTACCTACAATACGTAAGTTTATAAAATTTGGTATGACTCTTGTTAGTATACCAATTGATTTGTTAAATTTAAGAGAGATTAAGCCTGCTGTTAATGTGGTTAAAGCTGTGCGAAATAAAACTTCTGCATGCTTTAATTTTATTAAATGGCTTTTTGTCTTATTATTTGGCTGGATTAAAATATCCGCTGATAATAAAGTAATCTATACCACAGAAATTGCATCAAAGCTTACGTGTAAGCTTGTAGCTTTAGCTTTTAAAAATGCATTTTTGACATTTAAGTGGAGTATGGTTGCTAGAGGTGCTTGCATTATAGCGACTATATTTCTATTGTGGTTTAATTTTATATATGCCAATGTAATTTTTAGTGATTTTTATTTGCCTAAAATCGGTTTCTTGCCGACTTTTGTTGGTAAGATTGCACAGTGGATTAAGAACACTTTTAGTCTTGTAACTATTTGTGATCTATATTCCATTCAGGATGTGGGTTTTAAGAATCAGTATTGTAATGGAAGTATTGCATGTCAGTTCTGCTTGGCAGGATTTGATATGTTAGATAATTATAAAGCCATTGATGTAGTACAGTATGAAGCTGATAGGAGAGCATTTGTTGATTATACAGGTGTGTTAAAGATTGTCATTGAATTGATAGTAAGTTATGCCCTGTATACGGCATGGTTTTATCCATTGTTTGCCCTTATCAGTATTCAGATTTTGACCACTTGGCTGCCTGAGCTTTTTATGCTTAGTACATTACATTGGAGTTTTAGGTTGTTGGTGGCTTTAGCTAATATGTTACCAGCACATGTGTTTATGAGGTTTTATATTATTATTGCCTCTTTTATTAAGCTCTTTAGCTTGTTTAAGCATGTTGCCTATGGTTGTAGTAAATCTGGTTGTTTGTTTTGTTACAAGAGGAATCGTAGTCTACGTGTTAAATGTAGTACTATCGTTGGTGGCATGATACGCTATTACGATGTTATGGCTAATGGTGGCACCGGCTTTTGTTCAAAACATCAATGGAATTGCATTGATTGTGATTCTTATAAACCAGGTAATACTTTTATTACTGTTGAGGCCGCTCTTGATCTATCTAAGGAATTGAAACGGCCCATTCAGCCTACAGATGTTGCTTATCATACGGTTACTGATGTTAAGCAAGTTGGTTGTTCTATGCGCTTGTTCTATGATCGTGATGGACAGCGCATATATGATGATGTTAATGCTAGTTTGTTTGTGGATTATAGTAATTTGCTACATTCTAAGGTTAAGAGTGTGCCTAATATGCATGTTGTGGTAGTGGAAAATGATGCTGATAAAGCCAATTTTCTGAATGCTGCTGTATTTTATGCACAGTCTTTGTTTAGACCTATTTTAATGGTTGATAAAAATCTGATAACTACTGCTAACACTGGTACGTCTGTTACAGAAACTATGTTTGATGTTTATGTGGATACATTTTTGTCTATGTTTGATGTGGATAAAAAGAGTCTTAATGCTTTAATAGCAACTGCGCATTCTTCTATAAAACAGGGTACGCAGATTTATAAAGTTTTGGATACCTTTTTAAGCTGTGCTCGTAAAAGTTGTTCTATTGATTCAGATGTTGATACTAAGTGTTTAGCTGATTCTGTCATGTCTGCTGTATCGGCAGGTCTCGAATTGACGGATGAAAGTTGTAATAACTTGGTGCCAACATATTTGAAGAGTGACAACATTGTAGCAGCTGATTTAGGTGTTCTGATTCAAAATTCTGCAAAGCATGTGCAGGGTAATGTTGCTAAAATAGCTGGTGTTTCCTGTATATGGTCTGTGGATGCTTTTAATCAGTTTAGTTCTGATTTCCAGCATAAATTGAAGAAAGCATGTTGTAAAACTGGTTTGAAACTGAAGCTTACTTATAATAAGCAGATGGCTAATGTCTCTGTTTTAACTACACCCTTTAGTCTTAAAGGGGGTGCAGTTTTTAGTTATTTTGTTTATGTGTGTTTTGTGTTGAGTTTGGTCTGTTTTATTGGACTGTGGTGCGTAATGCCCACTTACACAGTACACAAATCAGATTTTCAGCTTCCTGTTTATGCCAGTTATAAAGTTTTAGATAACGGTGTTATTAGAGATGTTAGCGTTGAAGATGTTTGTTTCGCTAACAAATTTGAGCAATTTGATCAATGGTATGAGTCTACATTTGGTCTAAGTTATTATAGTAACAGTATGGCTTGTCCCATTGTTGTTGCTGTAATAGATCAGGATTTTGGCTCTACAGTGTTTAATGTCCCTACCAAAGTGTTACGATATGGTTATCATGTGTTGCACTTTATTACACATGCACTTTCTGCTGATGGAGTGCAGTGTTATACTCCACATAGTCAAATATCGTATTCTAATTTTTATGCTAGTGGCTGTGTGCTTTCCTCTGCTTGCACTATGTTTACAATGGCCGATGGTAGTCCACAACCTTATTGTTATACAGATGGGCTTATGCAAAATGCTTCTCTGTATAGTTCATTGGTACCTCACGTGCGGTATAATCTTGCTAATGCTAAAGGTTTTATCCGTTTTCCAGAAGTGTTGCGAGAAGGGCTTGTACGTGTCGTGCGTACTCGTTCTATGTCGTATTGCAGAGTTGGATTATGTGAGGAAGCTGATGAGGGTATATGCTTTAATTTTAATGGTTCTTGGGTGCTTAATAATGATTATTATAGATCATTGCCTGGGACCTTTTGTGGTAGAGATGTTTTTGATTTAATTTATCAGCTATTTAAAGGTTTAGCACAGCCTGTGGATTTTTTGGCATTGACTGCTAGTTCCATTGCTGGTGCTATACTCGCTGTAATTGTTGTTTTGGTGTTTTATTACCTAATAAAGCTTAAACGTGCTTTTGGTGATTACACCAGTGTTGTTTTTGTTAATGTGATTGTGTGGTGTGTAAATTTTATGATGCTTTTTGTGTTTCAAGTTTACCCCACACTTTCTTGTGTATATGCTATTTGTTATTTTTATGCCACGCTTTATTTCCCTTCGGAGATAAGTGTGATAATGCACTTACAATGGCTAGTTATGTATGGCACTATTATGCCTTTATGGTTTTGTTTGCTATATATAGCTGTTGTTGTTTCAAATCATGCTTTTTGGGTATTTTCTTACTGCAGAAAGCTTGGTACTACTGTTCGTAGTGATGGTACATTTGAAGAAATGGCTCTCACTACTTTTATGATTACAAAAGATTCTTATTGTAAGCTTAAGAATTCTTTGTCTGATGTTGCTTTTAATAGATATTTGAGTTTGTATAATAAATATAGGTATTACAGCGGTAAAATGGACACTGCTGCATATAGGGAGGCTGCTTGCTCTCAGTTGGCTAAAGCAATGGACACATTTACCAATAATAATGGTAGTGATGTGCTTTACCAACCGCCTACTGCTTCCGTTTCAACTTCATTCTTGCAATCCGGTATTGTGAAAATGGTAAATCCTACTTCTAAGGTAGAACCATGTGTTGTCAGTGTTACCTATGGTAATATGACATTGAATGGTTTATGGTTGGATGACAAGGTCTACTGTCCCAGACATGTAATATGTTCTGCTTCAGATATGACTAATCCAGATTATACAAATTTGTTGTGTAGAGTAACATCAAGTGATTTTACTGTATTGTTTGATCGTCTAAGCCTTACAGTGATGTCTTATCAAATGCGGGGTTGTATGCTTGTTCTTACAGTGACCCTGCAAAATTCTCGTACGCCAAAATATACATTTGGTGTGGTTAAACCTGGTGATACTTTTACTGTTTTAGCTGCTTATAACGGCAAACCACAAGGAGCCTTTCATGTAACTATGCGTAGTAGTTATACCATTAAGGGTTCCTTTTTATGCGGATCTTGTGGATCTGTTGGTTATGTAATAATGGGTGATTGTGTTAAATTTGTTTATATGCATCAATTGGAGCTTAGTACTGGTTGTCATACTGGTACTGACTTCAATGGGGATTTTTATGGTCCTTATAAGGATGCTCAGGTTGTTCAGTTGCCCATTCAGGATTATATACAATCTGTTAATTTTTTAGCATGGCTTTATGCTGCTATACTTAACAATTGTAATTGGTTTATACAAAGTGATAAGTGTTCTGTAGAAGATTTTAATGTGTGGGCTCTGTCCAATGGATTTAGCCAAGTTAAATCTGACCTTGTTATAGATGCTTTAGCTTCTATGACTGGTGTGTCTTTGGAAACACTGTTGGCTGCTATTAAGCGTCTTAAGAATGGTTTCCAAGGACGTCAGATTATGGGTAGTTGCTCTTTTGAGGATGAATTGACACCTAGCGACGTTTATCAACAACTCGCTGGTATCAAGTTACAATCAAAACGCACTAGATTGTTTAAAGGTACTGTTTGTTGGATTATGGCTTCTACATTTTTGTTTAGTTGCATAATTACAGCATTTGTGAAATGGACTATGTTCATGTATGTAACTACTAATATGTTTAGTATTACGTTTTGTGCACTTTGTGTTATAAGTTTGGCCATGTTGTTGGTTAAGCATAAGCATCTTTATTTGACTATGTATATAACACCTGTGCTTTTTACATTGTTGTATAACAACTATTTGGTTGTGTACAAGCATACATTTAGAGGCTATGTTTATGCATGGCTATCGTATTATGTTCCATCAGTTGAGTACACTTATACTGATGAAGTTATTTATGGCATGTTATTGCTTGTAGGAATGGTCTTTGTTACATTACGTAGCATTAACCATGATTTGTTTTCTTTTATAATGTTTGTTGGTCGTTTGATTTCTGTTTTCTCTTTGTGGTACAAGGGTTCTAACTTAGAGGAAGAAATTCTTCTTATGTTGGCTTCCCTTTTTGGTACTTACACATGGACAACAGTTTTATCTATGGCTGTAGCAAAGGTTATTGCTAAGTGGGTTGCTGTGAATGTCTTGTATTTCACAGATATACCTCAAATTAAGATAGTGCTTTTGTGCTATTTGTTTATTGGTTATATTATTAGCTGTTATTGGGGTTTGTTTTCCTTGATGAACAGTTTGTTTAGAATGCCTTTGGGNNNNNNNNNNNNNNNNNNNNNNNNNNNNNNNNNNNNNNNNNNNNNTGCTAATGGATTGCGCCCTCCTAAGAATAGTTTTGAAGCCCTTATGCTTAATTTTAAGCTGTTGGGTATTGGAGGTGTTCCAATCATTGAAGTATCTCAATTTCAATCAAAATTGACTGATGTCAAATGTGCTAATGTCGTCTTGCTTAATTGCTTGCAACATTTGCATGTTGCTTCTAATTCTAAGTTGTGGCATTATTGTAGCACTTTGCACAATGAAATACTTGCCACTTCGGATCTGAGTGTTGCTTTTGAAAAGCTTGCTCAGTTATTAATTGTTTTGTTTGCTAATCCAGCTGCTGTGGATAGCAAGTGCCTGACTAGTATTGAAGAAGTTTGCGATGATTACGCAAAGGACAATACTGTTTTGCAGGCTTTACAGAGTGAATTTGTTAATATGGCTAGCTTCGTTGAATATGAAGTTGCTAAGAAAAATCTTGATGAGGCGCGTTTTAGTGGTTCTGCTAATCAACAGCAGTTAAAACAGCTAGAGAAAGCCTGTAATATTGCTAAATCTGCTTATGAACGCGACCGTGCTGTAGCAAAAAAGTTGGAGCGTATGGCTGATTTAGCTCTTACTAATATGTATAAAGAAGCTAGAATTAATGATAAGAAGAGTAAGGTTGTTTCTGCCTTGCAAACTATGCTTTTTAGTATGGTGCGTAAGTTAGATAATCAAGCTCTGAATTCAATATTAGATAACGCTGTGAAGGGTTGTGTACCATTGAATGCAATACCTTCATTGGCAGCAAATACTCTGAATATAATTGTACCAGATAAAAGTGTTTATGACCAGATAGTTGATAATATCTATGTTACCTATGCTGGTAATGTATGGCAGATTCAAACTATCCAGGATTCAGATGGTACAAATAAGCAGTTGAATGAGATATCTGATGATTGTAACTGGCCACTAGTTATTATTGCAAATCGGTATAATGAGGTACCTGCTACTGTTTTGCAAAATAATGAATTAATGCCTGCTAAGTTGAAAATTCAGGTTGTTAATAGTGGTCCAGATCAGACTTGTAATACACCTACTCAATGTTACTATAATAATAGTAACAATGGTAAGATTGTTTATGCTATACTTAGTGATGTTGATGGTCTTAAGTATACAAAAATTCTTAAAGATGATGGCAATTTTGTTGTTTTGGAGTTAGATCCTCCTTGTAAATTTACTGTTCAAGATGCTAAAGGTCTTAAAATTAAGTACCTTTATTTTGTAAAAGGTTGTAACACACTAGCAAGAGGCTGGGTTGTTGGTACAATTTCTTCTACAGTTAGATTGCAAGCTGGAACTGCTACTGAATATGCTTCCAACTCATCTATATTGTCTTTATGTGCGTTTTCTGTAGATCCTAAGAAAACGTATTTAGATTTTATACAACAAGGAGGTACACCTATTGCCAATTGTGTTAAAATGTTGTGTGACCATGCTGGTACCGGTATGGCCATTACTGTTAAACCCGATGCTACCACTAGTCAGGATTCATATGGTGGTGCGTCTGTTTGTATATATTGCCGCGCACGAGTTGAACACCCAGATGTTGATGGGTTGTGCAAATTACGCGGCAAGTTTGTACAAGTGCCTGTAGGTATAAAAGATCCTGTGTCTTATGTTTTGACACATGATGTTTGTCGAGTTTGTGGATTTTGGCGGGATGGAAGTTGTTCATGTGTTAGCACTGACACTACTGTTCAATCAAAAGATACTAATTTTTTAAACGCGTTCGGGGTGCGAGTGTAGATGCCCGTCTCGTACCCTGCGCCAGTGGTTTATCTACTGATGTACAATTAAGGGCATTTGATATTTACAATGCTAGTGTTGCTGGCATTGGTTTACATTTAAAAGTTAATTGTTGCCGTTTTCAGCGTGTTGATGAGAACGGTGATAAATTAGATCAGTTCTTTGTTGTTAAGAGGACAGATCTGACTATATATAATAGAGAGATGAAATGCTATGAGCGTGTAAAAGATTGTAAGTTTGTGGCTGAACACGATTTCTTTACATTTGATGTAGAAGGTAGTCGTGTGCCACACATTGTACGCAAGGATTTAACAAAGTATACTATGTTGGATCTTTGCTATGCATTGCGACATTTTGATCGCAATGATTGCATGCTGCTTTGTGACATTCTCTCTATATATGCTGGTTGTGAACAATCCTATTTTACTAAGAAGGATTGGTATGATTTTGTTGAAAATCCTGATATTATTAATGTGTATAAAAAGCTAGGACCTATTTTTAATAGAGCCCTAGTTAGCGCTACTGAGTTTGCGGACAAATTGGTGGAGGTAGGCTTAGTAGGCGTTTTAACACTTGATAATCAAGATTTAAATGGTAAATGGTATGATTTTGGTGACTATGTTATTGCAGCCCCAGGATGTGGTGTTGCTATAGCAGATTCTTATTATTCTTATATCATGCCTATGCTGACCATGTGTCATGCATTGGATTGTGAATTGTATGTGAATAATGCTTATAGACTATTTGATCTTGTACAGTATGATTTTACTGATTACAAGCTTGAATTGTTTAATAAGTATTTTAAGCACTGGAGTATGCCATATCATCCTAACACGGTTGATTGTCAGGATGATCGGTGTATTATACATTGTGCTAATTTTAACATACTTTTTAGTATGGTTTTACCTAATACATGTTTTGGGCCTCTTGTTAGGCAAATTTTTGTGGATGGTGTGCCTTTTGTTGTTTCAATTGGCTACCATTATAAAGAACTTGGTATTGTGATGAATATGGATGTGGATACACATCGTTATCGCTTGTCTTTAAAAGACTTGCTTTTATATGCTGCTGATCCAGCTTTGCATGTAGCTTCTGCTAGTGCATTGTATGATTTACGCACTTGCTGTTTTAGTGTTGCCGCTATAACAAGCGGTGTAAAATTTCAAACAGTTAAACCTGGTAATTTTAATCAGGATTTTTATGATTTTGTTTTAAGTAAAGGCCTGCTTAAAGAGGGTAGCTCAGTTGATCTGAAGCACTTTTTCTTTACACAGGATGGTAATGCTGCTATTACTGATTATAATTATTATAAGTATAATTTGCCCACCATGGTGGACATTAAGCAGTTGTTGTTTGTTTTGGAAGTTGTTTATAAGTATTTTGAGATTTATGATGGTGGTTGTATACCGGCATCACAAGTCATTGTTAATAATTATGATAAGAGTGCTGGCTATCCATTTAACAAATTTGGAAAAGCCAGGCTCTATTATGAAGCATTATCATTTGAGGAACAGGATGAAATTTACGCTTATACTAAGCGTAATGTCCTGCCAACACTTACTCAAATGAATTTGAAATATGCTATTAGTGCTAAGAATAGAGCCCGCACTGTTGCTGGTGTTTCCATACTTAGTACTATGACTGGCAGAATGTTTCATCAAAAATGTTTGAAAAGTATAGCAGCTACACGTGGTGTTCCTGTAGTTATAGGCACCACTAAATTTTATGGTGGCTGGGATGATATGTTACGCCGCCTTATTAAAGATGTCGACAATCCTGTACTTATGGGTTGGGATTATCCTAAGTGTGATCGTGCTATGCCAAACATACTACGTATTGTTAGTAGTTTGGTATTAGCCCGAAAACATGAGACATGTTGTTCGCAAAGCGATAGGTTTTATCGACTTGCGAATGAATGCGCACAAGTTTTGAGTGAAATTGTTATGTGTGGTGGCTGTTATTATGTTAAGCCTGGTGGCACTAGTAGTGGTGATGCAACTACTGCTTTTGCTAATTCAGTCTTTAACATATGTCAAGCTGTTTCAGCCAATGTATGTGCCTTAATGTCATGCAATGGCAATAAGATTGAAGATCTTAGTATACGTGCTCTTCAGAAGCGCTTATACTCACATGTGTATAGAAGTGATAAGGTTGATTCAACCTTTGTCACAGAATATTATGAATTTTTAAATAAGCATTTTAGTATGATGATTTTGAGTGATGATGGGGTTGTGTGTTATAATTCTGATTATGCGTCCAAAGGGTATATTGCTAATATAAGTGCCTTTCAACAGGTATTATATTATCAAAATAACGTTTTTATGTCAGAATCCAAATGTTGGGTTGAGCATGACATAAATAATGGACCTCATGAATTTTGTTCACAACACACAATGCTTGTAAAGATGGATGGTGACGATGTCTACCTTCCATATCCTAATCCTAGTCGTATATTAGGAGCTGGATGTTTTGTAGATGATTTGTTAAAGACTGATAGTGTTCTTTTAATAGAACGATTTGTAAGTCTTGCAATAGATGCTTATCCACTTGTGTATCATGAAAATGAAGAATACCAAAAGGTTTTTCGTGTTTATTTGGCGTATATAAAGAAGTTGTACAATGACCTGGGTAATCAGATCTTGGATAGCTACAGTGTTATTTTAAGTACTTGTGATGGACAAAAGTTCACTGATGAGTCCTTTTACAAGAACATGTATTTAAGAAGTGCAGTCATGCAGAGTGTTGGAGCTTGCGTGGTCTGCTCTTCTCAAACATCATTACGTTGTGGCAGTTGCATCAGAAAGCCTCTTCTTTGCTGCAAGTGTTGTTATGATCACGTTATGGCGACTGATCATAAATATGTCTTGAGTGTTTCACCATATGTGTGTAATGCACCAGGATGTGATGTAAATGATGTTACCAAATTGTATCTAGGTGGTATGTCATATTATTGTGAAGACCATAAGCCACAATATTCATTCAAGTTGGTAATGAATGGTCTGGTTTTTGGTCTATATAAACAATCTTGTACAGGATCTCCGTACATAGACGATTTTAATCGTATAGCTAGTTGTAAATGGACCGATGTGGATGATTACATACTAGCTAATGAATGTACAGAGCGCTTGAAATTGTTTGCTGCAGAAACGCAAAAGGCAACCGAGGAAGCCTTTAAGCAGAGTTATGCATCAGCAACAATACAAGAGATTGTTAGTGAGCGCGAATTGATTCTCTCTTGGGAGATTGGAAAAGTTAAGCCACCACTTAATAAAAATTATGTTTTTACTGGCTACCATTTTACTAAAAATGGTAAGACAGTTTTAGGTGAGTATGTTTTTGATAAGAGTGAGTTGACTAATGGTGTGTACTATCGCGCCACAACCACTTATAAGCTATCTGTAGGAGATGTTTTTGTTTTAACCTCTCATTCAGTAGCTAATTTAAGTGCTCCTACGCTTGTTCCGCAGGAGAATTATAGTAGTATTAGATTTGCTAGTGTTTATAGTGTGCTTGAGACGTTTCAGAACAATGTTGTTAATTATCAACACATTGGTATGAAACGTTACTGTACCGTGCAAGGACCTCCTGGTACAGGGAAGTCACATCTTGCTATTGGTCTTGCTGTATTTTATTGTACAGCACGTGTTGTATACACAGCGGCCAGCCATGCAGCTGTTGACGCATTGTGTGAAAAAGCATATAAATTTTTGAATATAAATGATTGCACTCGTATTGTTCCGGCCAAGGTCAGGGTAGAGTGCTATGATAAGTTTAAAATTAATGACACCACTCGTAAGTATGTGTTTACTACCATAAATGCATTACCTGAGATGGTGACTGATATTGTTGTTGTAGATGAAGTTAGCATGCTTACCAATTATGAGCTTTCTGTTATTAATGCTCGTATTCGTGCTAAGCATTATGTTTATATTGGTGATCCTGCTCAATTGCCAGCACCACGTGTGTTATTGAGCAAGGGTACACTTGAACCTAAATATTTTAACACTGTTACTAAGCTCATGTGTTGCTTAGGGCCAGACATTTTTCTTGGTACATGTTATAGATGTCCTAAGGAAATTGTTGATACAGTGTCCGCCTTGGTTTATGAAAATAAGCTTAAGGCTAAGAATGAGAGTAGTTCATTGTGTTTTAAGGTCTATTATAAGGGCGTTACAACACATGAAAGTTCTAGTGCTGTAAATATGCAGCAGATTTATTTGATTAATAAGTTTTTGAAGGCTAACCCTTTGTGGCATAAAGCTGTTTTTATTAGCCCATATAATAGTCAGAACTTTGCAGCTAAGCGTGTTTTGGGTTTACAAACCCAAACCGTGGATTCTGCTCAAGGTTCTGAATACGATTATGTTATATATTCACAGACTGCAGAAACAGCGCATTCTGTAAATGTTAATCGCTTCAATGTTGCCATTACTCGAGCCAAGAAAGGTATTCTTTGTGTTATGAGTAATATGCAGTTGTTTGAAGCATTACAGTTTACTACATTGACCTTAGATAAAGTGCCACAGGCCGTTGAAACTAAAGTTCAATGTAGTACTAATTTATTTAAAGATTGTAGCAAGAGTTATAGCGGTTACCACCCAGCTCATGCTCCTTCATTTTTGGCAGTAGATGACAAATATAAGGCAACTGGCGATTTAGCCGTGTGTCTTGGCATTGGTGATTCTGCTGTTACATATTCAAGATTAATATCACTCATGGGTTTTAAATTGGATGTTACCCTTGATGGGTATTGTAAGCTTTTTATAACTAAAGAAGAAGCTGTTAAACGCGTGCGTGCCTGGGTTGGCTTTGATGCTGAAGGTGCTCATGCCACGCTTGATAGCATTGGGACAAATTTCCCACTCCAATTAGGATTTTCCACAGGAATTGATTTTGTTGTGGAAGCCACTGGTTTGTTTGCTGATAGAGATGGTTACAGCTTTAAAAAGGCTGTGGCGAAAGCTCCTCCTGGTGAACAATTTAAGCACCTCATCCCTTTGATGACGAGAGGTCATCGCTGGGATGTTGTTAGACCTAGAATAGTACAAATGTTTGCAGATCATTTAATTGATCTGTCTGATTGTGTTGTGCTAGTTACATGGGCAGCCAACTTTGAGCTCACTTGTCTCCGCTACTTTGCAAAAGTAGGTCGTGAGATTTCTTGTAATGTATGCACTAAACGTGCTACAGTTTACAATTCTAGAACTGGTTACTATGGTTGTTGGCGCCATAGTGTTACATGTGATTACTTGTATAATCCACTTATTGTTGATATTCAACAGTGGGGATATATTGGTTCTTTATCAAGTAATCATGATTTATATTGTAGTGTCCATAAAGGAGCACATGTTGCTTCCTCTGATGCTATAATGACACGGTGTTTGGCCGTTTATGATTGCTTTTGCAATAATATTAATTGGAATGTGGAGTATCCCATCATTTCAAATGAGTTAAGTATTAATACCTCTTGTAGAGTCTTGCAGCGTGTGATTCTTAAAGCTGCCATGCTCTGCAACAGATATACTTTGTGTTATGATATTGGCAACCCAAAAGGGATTGCCTGTGTCAAAGATTTTGATTTTAAGTTCTATGATGCCCAACCAATTGTTAAGTCTGTTAAGACTCTTTTGTATTCTTTTGAGGCACATAAGGACTCTTTTAAAGACGGTTTGTGTATGTTTTGGAACTGTAATGTGGATAAGTATCCACCGAATGCAGTTGTATGTAGATTTGACACTAGAGTGTTGAATAATTTAAATCTTCCTGGCTGTAATGGAGGTAGTTTGTATGTTAATAAACATGCATTCCACACTAAACCCTTTGCTAGGGCAGCCTTTGAGCATTTGAAGCCTATGCCATTCTTCTATTATTCAGATACGCCTTGTGTGTATATGGATGGTATGGATGCTAAGCAGGTTGATTATGTACCTTTGAAATCTGCCACGTGCATCACAAGATGCAATTTAGGTGGTGCAGTTTGTTTAAAACATGCTGAAGAGTATCGTGAGTACTTAGAGTCTTACAATACAGCTACTACAGCAGGTTTTACTTTTTGGGTCTATAAGACATTTGATTTTTATAATTTGTGGAATACGTTCACCAAGCTACAAAGCTTGGAGAATGTTGTATATAATTTAGTCAAGACTGGTCATTATACAGGACAGGCTGGTGAAATGCCTTGTGCCATTATAAATGATAAAGTTGTGACTAAGATCGATAAGGAGGATGTTGTCATTTTTATTAATAATACAACATACCCTACTAATGTGGCTGTTGAATTATTTGCCAAGCGCAGTGTTCGACACCACCCAGAGCTTAAGCTCTTTAGAAATTTAAATATAGACGTGTGTTGGAAGCACGTCATTTGGGATTATGCTAGAGAAAGTATATTTTGCAGTAATACCTATGGTGTCTGCATGTATACAGATTTAAAGTTCATTGATAAATTGAATGTCCTTTTTGATGGTCGTGATAATGGTGCTTTTGAAGCTTTTAAACGCTCTAATAATGGCGTTTACATTTCCACGACAAAAGTTAAGAGTCTTTCGATGATAAGAGGTCCACCGCGTGCTGAATTAAATGGCGTGGTGGTGGACAAGGTTGGAGACACTGATTGTGTGTTTTATTTTGCTGTGCGTAAAGAAGGTCAGGATGTCATCTTCAGCCAATTCGACAGCCTGGGAGTCAGCTCTAACCAGAGCCCACAAGGTAATCTGGGGAGTAATGGTAAACCCGGTAATGTCGGTGGTAATGATGCTCTGTCAACCTCAACTATCTTTACACAAAGCCGTGTTATTAGCTCTTTTACATGTCGTACTGATATGGAAAAAGATTTTATAGCTTTAGATCAAGATGTGTTTATTCAGAAGTATGGTTTGGAGGACTATGCCTTTGAACACATTGTTTATGGTAATTTCAACCAGAAGATTATTGGTGGTTTGCACTTGTTAATAGGCTTGTACCGAAGACAGCAAACTTCCAATCTGGTTGTTCAGGAGTTTGTCTCATATGACTCCAGCATACACTCTTATTTTATCACTGACGAGAAGAGTGGTGGTAGTAAGAGTGTTTGCACTGTTATAGACATTTTATTGGATGATTTTGTGACTCTTGTTAAGTCACTTAATCTTAATTGTGTGAGTAAAGTTGTTAATGTTAACGTTGATTTTAAAGATTTTCAGTTTATGCTTTGGTGTAACGATGAGAAAGTTATGACTTTCTATCCTCGTTTGCAAGCTGCATCTGACTGGAAGCCTGGTTATTCTATGCCTGTATTATATAAGTATTTGAATTCTCCAATGGAAAGAGTTAGTCTCTGGAATTATGGGAAGCCAGTTACTTTGCCTACAGGCTGTATGATGAATGTTGCTAAGTATACTCAGTTATGTCAATATCTGAATACTACAACATTAGCTGTACCTGTTAATATGCGAGTTTTGCATTTAGGTGCAGGTTCAGAAAAAGGAGTAGCACCGGGTTCTGCAGTTCTTAGGCAGTGGTTGCCTGCTGGTACTATTCTTGTAGATAATGATTTATACCCATTTGTTAGTGACAGTGTCGCTACATATTTTGGGGATTGTATAACTTTACCCTTTGATTGTCAATGGGATTTGATAATTTCTGATATGTATGACCCTATTACTAAGAACATAGGTGAGTACAATGTGAGTAAAGATGGTTTCTTTACATACATTTGTCATATGATTCGAGACAAGTTAGCTCTTGGTGGCAGTGTTGCTATAAAAATAACAGAGTTTTCTTGGAATGCAGAATTATATAATTTAATGGGGTATTTTGCATTTTGGACTGTGTTTTGCACAAATGCAAATGCTTCTTCTAGTGAAGGATTTTTAATTGGCATAAATTATTTGTGTAAGCCCAAGGTTGAGATAGATGGAAATGTTATGCATGCCAATTATTTGTTTTGGAGAAATTCCACAGTTTGGAACGGGGGTGCTTATAGCCTGTTTGACATGGCTAAATTCCCGCTTAAGTTGGCTGGTACTGCCGTAATAAATTTAAGAGCAGACCAGATTAATGATATGGTTTATTCCCTTCTTGAAAAGGGTAAACTACTTATTAGAGATACAAATAAAGAAGTTTTCGTTGGTGACAGTTTGGTTAATGTAATCTAAACTTTAAAAATGGCTGTCGCTTATGCAGACAAGCCTAATCATTTTATCAATTTTCCACTTACCCATTTTCAGGGTTTTGTGTTAAATTATAAAGGTTTACAATTTCAAATTCTCGATGAAGGAGTGGATTGTAAAATACAAACAGCGCCACACATTAGTCTTACTATGCTGGATATACAGCCTGAAGACTATAAAAGTGTTGATGTCGCTATTCAAGAAGTTATTGATGATATGCATTGGGGTGATGGTTTTCAGATTAAATTTGAGAATCCTCACATCCTAGGAACATGCATAGTTTTAGATGTTAAAGGTGTAGAAGAATTGCATGACGATTTAGTTAATTACATTCGTGATAAAGGTTGTGTTGCTGACCAATCCAGGAAATGGATTGGCCATTGTACCATAGCTCAACTCACGGATGCAGCACTGTCCATTAAGGAAAATGTTGATTTTATAAACAGCATGCAATTCAATTATAAAATCACCATCAACCCCTCATCACCAGCTAGACTTGAAATAGTTAAGCTCGGTGCTGAAAAGAAAGATGGTTTTTATGAAACCATAGTTAGTCACTGGATGGGAATTCGTTTTGAATACACATCGCCCACTGATAAGCTAGCTATGATTATGGGTTATTGTTGTTTAGATGTGGTACGTAAAGAGCTAGAAGAAGGCGATCTTCCCGAGAATGATGATGATGCTTGGTTTAAGCTATCGTACCATTATGAAAACAATTCTTGGTTCTTCCGACATGTCTACAGGAAAAGTTTTCATTTCCGTAAGGCTTGTCAAAATTTAGATTGTAATTGTTTGGGGTTTTATGAATCTTCAGTTGAAGAATATTAAACTCAGTGAAAATGTTTTTGCTTCCTAGATTTATTCTAGTTAGCTGCGTAATTGGTAGCTTAGGTTTTTATAACCCTCCTACCAATGTTGTTTCGCATGTAAATGGAGATTGGTTTTTATTTGGTGACAGTCGTTCAGATTGTAATCATATTGTTAATATCAACCCCCATAATTATTCTTATATGGACCTTAATCCTGCTTTATGTGATTCTGGTAAAATATCATCTAAAGCTGGCAACTCCATTTTCAGGAGTTTTCACTTTACCGATTTTTATAATTATACAGGCGAAGGTCAACAAATTATTTTTTATGAGGGTGTTAATTTTACGCCTTATCATGCCTTTAAATGCAACCGTTCTGGTAGTAATGATATTTGGATGCAGAATAAAGGCTTGTTTTATACTCAGGTTTATAAGAATATGGCTGTGTATCGCAGCCTTACTTTTGTTAATGTATCATATGTTTATAATGGCTCCGCACAAGCTACATCTTTTTGTAAATCTGGTAGTAAGCTTAAGAATTTAGTCCTTAATAACCCTGCTTATATAGCTCCTCAAGCTAAATCTGGGATTATTACGAAGGTTGAAGCTGATTTTTATTTGTCAGGTTGTGACGAGTATATCGTACCACTTTGTATTTTTAACGGCAAGTCTTTGTCGAATACAAAGTATTATGATCATAGTCAATATTATTTTAATAAAGACACTGGTGTTATTTATGGTCTCAATTCAACAGAAACCATTACCACTGGTTTTGATCTTAATTGTCATTATTTAGTTTTACCCTCTGGTAATTATTTAGCCATTTCAAATGAGCTATTGTTAACTGTTCCTACGAAAGCAATCTGTTTTAATAAGCGTAAGGATTTTACGCCTGTACAGGTTGTTGATTCGCGGTGGAACAATGCCAGGCAGTCTGATAACATGACGGCGGTTGCTTGTCAACCTCCGTACTGTTATTTTCGTAATTCTACCACCAACTATGTTGGTGTTTATGATATTAATCATGGAGATGCTGGTTTCACTAGCATACTCAGTGGTTTGTTATATAATTCATCTTGTTTTTCGCAGCAAGGTGTTTTTAGGTATGATAATATTAGCAGTGTTTGGCCTCTCTACCCCTATGGCAGATGTCCTACTGCTGCTTATATTAATATCCCTGATTTACCCATTTGTGTGTATGATCCGCTACCAGTTATTTTGCTTGGCATTCTTTTGGGCGTTGCCATTGTAATTATTGTAGTTTTGTTGTTACATTTTATGGTGGATAATGTTACTAGGCTGCATGATGCTTAGACCATAATCTAAACATGTTTTTGATACTTTTAATTTCCTTACCAACGGCTTTTGCTGTTATAGGAGATTTAAATTGTACTTTAGATCCTAGGCTTAAAGGTAGCTTTAATAATAGAGACACCGGTCCTCCTTCTATAAGTATTGATACTGTTGATGTTACTAATGGTTTGGGTACTTATTATGTTTTAGATCGTGTGTATTTAAATACCACGTTGTTTCTTAATGGTTATTACCCCACTTCAGGTTCCACATATCGTAATATGGCACTGAAGGGAACTGACTTATTGAGCACATTATGGTTTAAACCACCATTTCTTTCTGATTTTATTAATGGTATTTTTGCTAAGGTCAAAAATACCAAGGTTTTTAAAGATGGTGTAATGTATAGTGAGTTCCCTGCTATAACTATAGGTAGTACTTTTGTAAATACATCCTATAGTGTGGTAGTACAACCACGTACAATTAATTCAACACAGGATGGTGTTAATAAATTACAAGGTCTTTTAGAGGTCTCTGTTTGCCAGTATAATATGTGTGAGTACCCACATACGATTTGTCATCCTAACTTGGGTAACCATTTCAAAGAACTATGGCATTATGATACAGGTGTTGTTTCCTGTTTGTATAAGCGTAATTTCACATATGATGTGAATGCTACTTATTTGTATTTTCATTTTTATCAAGAAGGTGGTACTTTTTATGCATATTTTACAGACACTGGTTTTGTTACTAAGTTTTTGTTTAATGTTTATTTAGGCATGGCACTTTCACACTATTATGTCATGCCTCTGACTTGTATTCGTAGGCCTAAAGACGGTTTTAGTTTAGAATATTGGGTTACACCCCTCACTCCTAGACAATATTTACTCGCTTTCAATCAAGATGGTATTATTTTTAATGCTGTTGATTGTATGAGTGATTTTATGAGTGAGATTAAGTGTAAAACACAATCTATAGCACCACCCACTGGTGTTTATGAATTAAACGGTTACACTGTTCAGCCAGTTGCAGATGTTTACCGACGCAAACCTGATCTTCCCAATTGTAATATAGAAGCTTGGCTTAATGATAAGTCGGTGCCCTCCCCATTAAATTGGGAACGTAAGACATTTTCAAATTGTAATTTTAATATGAGCAGCCTGATGTCTTTTATTCAGGCAGACTCATTTACTTGTAATAATATTGATGCTGCTAAGATATATGGTATGTGTTTTTCCAGCATAACTATAGATAAGTTTGCTATACCCAATCGCAGGAAGGTTGACCTACAATTGGGTAATTTGGGCTATTTGCAGTCATCCAACTATAGAATTGATACTACTGCAACAAGTTGTCAGTTGTATTATAATTTACCTGCTGCTAATGTCTCTGTTAGCAGGTTTAATCCTTCTACTTGGAATAAGAGATTTGGTTTTATAGAAGATTCTGTTTTTGTGCCTCAACCTACAGGTGTTTTTACTAATCACAGTGTAGTTTATGCACAACACTGTTTTAAAGCCCCTAAAAATTTCTGTCCGTGTAGTTCCTGTCCTGGTAAAAATAATGGTATAGGCACTTGTCCTGCAGGTACTAATTCTTTAACTTGTGATAATTTATGTACTCTTGATCCTATTACACTTAAAGCTCCAGATACTTATAAGTGCCCCCAATCTAAATCTTTAGTTGGTATAGGTGAGCACTGTTCGGGTCTTGCTGTTAAAAGTGATTATTGTGGAAACAATTCTTGTACTTGCCAACCACAAGCATTTTTGGGTTGGTCTGCAGACTCTTGTTTACAAGGAGACAAGTGTAATATTTTTGCTAATTTCATTTTGCATGATGTTAATAATGGTCTTACTTGTTCTACTGATTTACAAAAAGCTAACACAGAAATAGAACTTGGTGTTTGTGTTAATTATGACCTCTATGGTATTTCTGGCCAAGGCATTTTTGTTGAGGTTAATGCGACTTATTATAATAGTTGGCAGAACCTTTTATATGATTCTAATGGTAACCTCTACGGTTTTAGAGACTACATAACAAACAGAACTTTTATGATTCATAGTTGCTATAGCGGTCGTGTTTCTGCGGCCTATCATGCCAACTCTTCCGAACCAGCATTGCTATTTCGGAATATTAAATGCAACTACGTTTTTAATAATAGTCTTACACGACAGCTGCAACCTATTAACTATTCGTTTGATAGTTATCTTGGTTGTGTTGTCAATGCTTATAATAGTACTTCTATTTCTGTCCAAACATGTGATCTCACAGTAGGTAGTGGTTACTGTGTGGATTACTCTAAAAACAGACGAAGTCGTAGAGCGATCACCACTGGTTATCGGTTTACTAATTTTGAGCCATTTACTGTTAATTCAGTAAATGATAGTTTGGAACCTGTAGGTGGTTTGTATGAAATTCAAATACCTTCAGAGTTTACTATAGGTAATATGGAGGAGTTTATTCAAACAAGCTCTCCCAAAGTTACTATTGATTGTGCTGCATTTGTCTGTGGTGATTATGCAGCATGTAAATTACAGTTGGTTGAATATGGTAGTTTCTGTGATAACATTAATGCCATACTCACAGAAGTAAATGAACTACTTGATACTACACAGTTGCAAGTAGCTAATAGTTTAATGAATGGTGTTACTCTTAGCACTAAGCTTAAAGATGGTGTTAATTTCAATGTAGACGACATCAATTTTTCCCCTGTATTAGGTTGTCTAGGCAGCGAATGTAGTAAAGCTTCCAGTAGATCTGCTATAGAGGATTTACTTTTTGATAAAGTAAAGTTATCTGATGTCGGTTTCGTTGAGGCTTATAATAATTGTACAGGAGGTGCCGAAATTAGGGACCTCATTTGTGTGCAAAGTTATAAAGGCATCAAAGTGTTGCCTCCACTGCTCTCAGAAAATCAGATCAGTGGATATACTTTGGCTGCCACCTCTGCTAGTCTATTTCCTCCTTGGACAGCAGCAGCAGGTGTACCATTTTATTTAAATGTTCAGTATCGCATTAATGGGCTTGGTGTCACCATGGATGTGCTAAGTCAAAATCAAAAGCTTATTGCTAATGCATTTAACAATGCCCTTCATGCTATTCAGCAAGGGTTCGATGCAACTAATTCTGCTTTAGTTAAAATTCAAGCTGTTGTTAATGCAAATGCTGAAGCTCTTAATAACTTATTGCAACAACTCTCTAATAGATTTGGTGCTATAAGTGCTTCTTTACAAGAAATTCTATCTAGACTTGATGCTCTTGAAGCGGAAGCTCAGATAGATAGACTTATTAATGGTCGTCTCACCGCTCTTAATGCTTATGTTTCTCAACAGCTTAGTGATTCTACACTGGTAAAATTTAGTGCAGCACAAGCTATGGAGAAGGTTAATGAATGTGTCAAAAGCCAATCATCTAGGATAAATTTCTGTGGTAATGGTAATCATATTATATCATTAGTGCAGAATGCTCCATATGGTTTGTATTTTATCCACTTTAATTATGTCCCTACTAAGTATGTCACAGCGAAGGTTAGTCCTGGTCTGTGCATTGCTGGTAATAGAGGTATAGCTCCTAAGAGTGGTTATTTTGTTAATGTAAATAATACTTGGATGTACACTGGTAGTGGTTACTACTACCCTGAACCTATAACTGAAAATAATGTTGTTGTTATGAGTACCTGCGCTGTTAATTATACTAAAGCGCCGTATGTAATGCTGAACACCTCAATACCCAACCTTCCTGATTTTAAGGAAGAGTTGGACCAATGGTTCAAAAATCAAACATCAGTGGCACCAGATTTGTCACTTGATTATATAAATGTTACATTCTTGGACCTACAAGTTGAAATGAATAGGTTACAGGAGGCAATAAAAGTTTTAAATCATAGCTACATCAATCTCAAGGACATTGGTACATATGAATATTATGTAAAATGGCCTTGGTATGTATGGCTTTTAATCTGCCTTGCTGGTGTAGCTATGCTTGTTTTACTATTCTTCATATGCTGTTGTACAGGATGTGGGACTAGTTGTTTTAAGAAATGTGGTGGTTGTTGTGATGATTATACTGGATACCAGGAGTTAGTAATCAAAACTTCACATGACGACTAAGTTCGTCTTTGATTCATTGCATTGATCTTTTGTTAGATCTTTTTCCAATCTAGCATTCTTTACCACGCCCTTTTAATGGACATTTGGAGACCTGAGAAGAAATTTCTCCGTTATATTAACGGTTTTAATGTCTCAGAATTAGAAGATGCTTGTTTTAAATTTAACTATCAATTTCCTAAAGTAGGATATTGTAGAGTTCCTAGTCATGCTTGGTGCCGTAATCAAGGTAGATTTTGTGCTACATTCACTCTTTATGGTAAATCCAAACATTATGATAAATATTTTGGAGTAATAAATGGTTTCACAGCATTCGCTAATACTGTAGAGGATGCTGTTAATAAACTGGTTTTCTTAGCTGTTGACTTTATTACCTGGCGTAGACAGGAGTTAAATGTTTATGGCTGATGCTTATCTTGCAGACACTGTGTGGTATGTGGGGCAAATAATTTTTATAGTTGCCATTTGTTTATTGGTTACAATAGTTGTAGTGGCATTTTTGGCAACTTTTAAATTGTGTATTCAACTTTGCGGTATGTGTAATACCTTAGTACTGTCCCCTTCTATTTATGTGTTTAATAGAGGTAGGCAGTTTTATGAGTTTTACAATGATATAAAACCACCAGTCCTTGATGTGGATGACGTTTAGGTAATCCAAACATTATGAGTAGTAAACCTACACCAGCACCAGTTTATATCTGGACTGCTGATGAAGCTATTAAATTCCTAAAGGAATGGAATTTTTCTTTGGGTATTATACTACTTTTTATTACAATCATATTGCAATATGGATATACAAGTCGCAGTATGTTTGTTTATGTTATTAAGATGATTATTTTGTGGCTTATGTGGCCCATTACTATAATCTTAACTACTTTCAATTGCGTATACGCATTGAATAACGTGTATCTTGGCCTTTCTATAGTTTTTACCATAGTGGCCATTATTATGTGGATTGTGTATTTTGTGAATAGTATCAGGTTGTTTATTAGAACTGGAAGTTTTTGGAGTTTTAACCCAGAAACAAACAACTTGATGTGTATAGATATGAAAGGAACAATGTATGTTAGGCCGATAATTGAGGACTATCATACCCTGACGGTCACAATAATACGCGGTCATCTTTATATTCAAGGTATAAAACTAGGTATTGGCTATTCTTTGGCAGATTTGCCAGCTTATATGTCTGTTGCTAAGGTTACACACCTGTGCACATATAAGCGTGGTTTTCTTGACAGGATAAGCGATACTAGTGGTTTTGCTGTTTATGTTAAGTTCAAAGTCGGTAATTACCGACTGCCATCAACCCAAAAGGGTTCTGGCATGGACACCGCATTGTTGAGAAATAATATCTAAATTTTAAGGATGTCTTTTACTCCTGGTAAGCAATCCAGTAGTAGAGCGTCCTCTGGAAATCGGTCTGGTAATGGCATCCTCAAGTGGGCCGATCAGTCCGACCAGTTTAGAAATTTTCAAACCAGGGGTAGAAGAGCTCAACCCAAGCAAACTGCTACTTCTCAGCAACCATCAGGAGGGAATGTTGTACCCCACTATTCTTGGTTCTCTGGAATTACTCAGTTTCAAAAGGGAAAGGAGTTTGAGTTTGCAGAAGGACAAGGTGTGCCTATTGCACCAGGAGTCCCAGCTACTGAAGCTAAGGGGTACTGGTACAGACACAACAGACGTTCTTTTAAAACAGCCGATGGCAACCAGCGTCAACTGCTGCCACGATGGTATTTTTACTATCTGGGAACCGGACCGCATGCTAAAGACCAGTATGGCACCGATATTAACGGAGTCTACTGGGTCGCTAGCAACCAGGCTGATGTCAATACCCCGGCTGACATTGTCGATCGGGACCCAAGTAGCGATGAGGCTATTCCGACTAGGTTTCCGCCTGGCACGGTACTCCCTCAGGGTTACTATATTGAAGGCTCAGGAAGGTCTGCTCCTAATTCCAGATCTACTTCGCGCACATCCAGCAGAGCCTCTAGTGCAGGATCGCGTAGTAGAGCCAATTCTGGCAATAGAACCCCTACCTCTGGTGTAACACCTGACATGGCTGATCAAATTGCTAGTCTTGTTCTGGCAAAACTTGGCAAGGATGCCACCAAACCTCAGCAAGTAACTAAGCATACTGCCAAAGAAGTCAGACAGAAAATTTTGAATAAACCCCGCCAGAAGAGGAGCCCCAATAAACAATGCACTGTTCAGCAGTGTTTTGGTAAGAGAGGCCCTAATCAGAATTTTGGTGGTGGAGAAATGTTAAAACTTGGAACTAGTGACCCACAGTTCCCCATTCTTGCAGAACTCGCACCCACAGCTGGTGCGTTTTTCTTTGGATCAAAATTAGAGTTGGCCAAAGTGCAGAATTTATCTGGGAATCCTGATGAGCCTCAGAAGGATGTTTATGAATTGCGCTATAACGGCGCAATTAGGTTTGACAGTACACTTTCAGGCTTTGAGACCATAATGAAGGTGCTGAGTGAGAATTTGAATGCCTATCAACAACAAGATGGTATGATGAATATGAGTCCAAAACCACAGCGTCAGCGTGGTCATAAGAATGGACAAGGAGAAAATGATAATATAAGTGTTGCAGTGCCCAAAAGCCGCGTGCAGCAAAATAAGAGTATAGAGTTGACTGCAGAGGACATCAGCCTTCTTAAGAAGATGGATGAGCCCTTTACTGAAGACACCTCAGAAATATAAGAGAATGAACCTTATGTCGGCATCTGGTGGTAACCCCTCGCAGAAAAGTCGAGATAAGGCACTCTCTATCAGAATGGATGTCTTGCTGCTATAATAGATAGAGAAGGTTATAGCAGACTATATATTAATTAGTTGAAAGTTTTGTGTTGTAATGTATAGTGTTGGAGAAAGTGAAAGACTTGCGGAAGTAATTGCCGACAAGTGCCAAAGGGAAGAGCCAGCATGTTAAGTTACTACCCAGTAATTAGTAAATGAATGAAGT\n",
      "\n"
     ]
    }
   ],
   "source": [
    "fasta.reset_iterator()\n",
    "\n",
    "for i, seq in enumerate(fasta):\n",
    "    print(f\"Definition Line for sequence {i+1}:\")\n",
    "    print(seq['definition line'])\n",
    "    print(f\"{len(seq['sequence']):,d} bases:\")\n",
    "    print(seq['sequence'])\n",
    "    print()\n",
    "    if i >= 2: break"
   ]
  },
  {
   "cell_type": "code",
   "execution_count": null,
   "metadata": {},
   "outputs": [
    {
     "name": "stdout",
     "output_type": "stream",
     "text": [
      "Definition Line for sequence 1:\n",
      ">2591237:ncbi:1\t1\tMK211378\t2591237\tncbi\tCoronavirus BtRs-BetaCoV/YN2018D\n",
      "Parsed data:\n",
      "key: 2591237:ncbi:1\n",
      "metadata:\n",
      "{'accession': 'MK211378',\n",
      " 'organism': 'Coronavirus BtRs-BetaCoV/YN2018D',\n",
      " 'seqid': '2591237:ncbi:1',\n",
      " 'seqnb': '1',\n",
      " 'source': 'ncbi',\n",
      " 'taxonomyid': '2591237'}\n",
      "====================================================================================================\n",
      "Definition Line for sequence 2:\n",
      ">11128:ncbi:2\t2\tLC494191\t11128\tncbi\tBovine coronavirus\n",
      "Parsed data:\n",
      "key: 11128:ncbi:2\n",
      "metadata:\n",
      "{'accession': 'LC494191',\n",
      " 'organism': 'Bovine coronavirus',\n",
      " 'seqid': '11128:ncbi:2',\n",
      " 'seqnb': '2',\n",
      " 'source': 'ncbi',\n",
      " 'taxonomyid': '11128'}\n",
      "====================================================================================================\n",
      "Definition Line for sequence 3:\n",
      ">31631:ncbi:3\t3\tKY967361\t31631\tncbi\tHuman coronavirus OC43\n",
      "Parsed data:\n",
      "key: 31631:ncbi:3\n",
      "metadata:\n",
      "{'accession': 'KY967361',\n",
      " 'organism': 'Human coronavirus OC43',\n",
      " 'seqid': '31631:ncbi:3',\n",
      " 'seqnb': '3',\n",
      " 'source': 'ncbi',\n",
      " 'taxonomyid': '31631'}\n",
      "====================================================================================================\n"
     ]
    }
   ],
   "source": [
    "definition_lines = fasta.parse_file()\n",
    "fasta.reset_iterator()\n",
    "\n",
    "for i, (k, v) in enumerate(definition_lines.items()):\n",
    "    print(f\"Definition Line for sequence {i+1}:\")\n",
    "    print(next(fasta)['definition line'])\n",
    "    print('Parsed data:')\n",
    "    print(f\"key: {k}\\nmetadata:\")\n",
    "    pprint(v)\n",
    "    print(f\"{'='*100}\")\n",
    "    if i >= 2: break"
   ]
  },
  {
   "cell_type": "markdown",
   "metadata": {},
   "source": [
    "## Explore simulated read output files (FASTQ and ALN)"
   ]
  },
  {
   "cell_type": "markdown",
   "metadata": {},
   "source": [
    "When simulating with ART Illumina,:\n",
    "- We simulated reads from referenmce sequences in a fasta file (`fasta` reader)\n",
    "- ART returns two files:\n",
    "    - a fastq file (`fastq` reader) with the reads sequences, their quality and some read metadata\n",
    "    - a aln file (`aln` reader), including:\n",
    "        - a header with the summulation command and the list of reference sequences\n",
    "        - additional metadata on each reads, including: \n",
    "            - the readid and its number (rank in the list)\n",
    "            - the read sequence itself (may include errors)\n",
    "            - the same sequence as in the reference sequence\n",
    "            - the read alignment starting position in the reference sequence\n",
    "            - the reference sequence strand\n",
    "            - the reference sequence id and its number in the sequence file            "
   ]
  },
  {
   "cell_type": "markdown",
   "metadata": {},
   "source": [
    "Like for FASTA file, `FastqFileReader` and `AlnFileReader` makes it easier to load and work with fastq and aln file"
   ]
  },
  {
   "cell_type": "code",
   "execution_count": null,
   "metadata": {},
   "outputs": [
    {
     "name": "stdout",
     "output_type": "stream",
     "text": [
      " fq reads file:  single_1seq_50bp.fq\n",
      " aln reads file: single_1seq_50bp.aln\n"
     ]
    }
   ],
   "source": [
    "p2fastq = p2simreads / f\"{p2simreads.stem}.fq\"\n",
    "assert p2fastq.is_file()\n",
    "p2aln = p2simreads / f\"{p2simreads.stem}.aln\"\n",
    "assert p2aln.is_file()\n",
    "\n",
    "print(f\" fq reads file:  {p2fastq.name}\\n aln reads file: {p2aln.name}\")\n",
    "\n",
    "fastq = FastqFileReader(p2fastq)\n",
    "aln = AlnFileReader(p2aln)"
   ]
  },
  {
   "cell_type": "markdown",
   "metadata": {},
   "source": [
    "### Exploring information about the simreads in fastaq"
   ]
  },
  {
   "cell_type": "code",
   "execution_count": null,
   "metadata": {},
   "outputs": [
    {
     "name": "stdout",
     "output_type": "stream",
     "text": [
      "Read 0:\n",
      "{'readid': '2591237:ncbi:1-120800',\n",
      " 'readnb': '120800',\n",
      " 'readseq': 'GCTCTCCAAAGTGTGGTACACAATTTTGTCACCACGCTTAAGAAACTCAA',\n",
      " 'refseqnb': '1',\n",
      " 'refsource': 'ncbi',\n",
      " 'reftaxonomyid': '2591237'}\n",
      "\n",
      "Read 1:\n",
      "{'readid': '2591237:ncbi:1-120799',\n",
      " 'readnb': '120799',\n",
      " 'readseq': 'GACATCTGAGGAGCACTTTGTGGAAACAGTTTCTTTGGCTGGCTCTTACA',\n",
      " 'refseqnb': '1',\n",
      " 'refsource': 'ncbi',\n",
      " 'reftaxonomyid': '2591237'}\n",
      "\n",
      "Read 2:\n",
      "{'readid': '2591237:ncbi:1-120798',\n",
      " 'readnb': '120798',\n",
      " 'readseq': 'TCCTTTCTACATTTGTGTCAGCAGCCCGTCAAGGTGTTGTTGATACTGAT',\n",
      " 'refseqnb': '1',\n",
      " 'refsource': 'ncbi',\n",
      " 'reftaxonomyid': '2591237'}\n",
      "\n"
     ]
    }
   ],
   "source": [
    "for i, (k,v) in enumerate(fastq.parse_file(add_readseq=True).items()):\n",
    "    print(f\"Read {i}:\")\n",
    "    pprint(v)\n",
    "    print()\n",
    "\n",
    "    if i+1 >= 3: break"
   ]
  },
  {
   "cell_type": "markdown",
   "metadata": {},
   "source": [
    "### Exploring information in ALN header"
   ]
  },
  {
   "cell_type": "markdown",
   "metadata": {},
   "source": [
    "The header of ALN file includes:\n",
    "- the ART command used to simulate the reads\n",
    "- the list of reference sequences used to create the reads, with metadata"
   ]
  },
  {
   "cell_type": "markdown",
   "metadata": {},
   "source": [
    "First we can see from which reference fasta file the simulated sequences were imported, by checking the ART command in the alignment file's header. Then we can open a fasta reader for the reference fasta file as well:"
   ]
  },
  {
   "cell_type": "code",
   "execution_count": null,
   "metadata": {},
   "outputs": [
    {
     "data": {
      "text/plain": [
       "'/usr/bin/art_illumina -i /home/vtec/projects/bio/metagentorch/data/ncbi/refsequences/cov/cov_refseq_001-seq1.fa -ss HS25 -l 50 -f 200 -o /home/vtec/projects/bio/metagentorch/data/ncbi/simreads/cov/single_1seq_50bp/single_1seq_50bp -rs 1738485338'"
      ]
     },
     "execution_count": null,
     "metadata": {},
     "output_type": "execute_result"
    }
   ],
   "source": [
    "aln.header['command']"
   ]
  },
  {
   "cell_type": "markdown",
   "metadata": {},
   "source": [
    "We see that the simulated reads were generated from the reference sequences in `data/cov_data/cov_virus_sequences_ten.fa`, that is the same as the file in our `fasta`"
   ]
  },
  {
   "cell_type": "code",
   "execution_count": null,
   "metadata": {},
   "outputs": [
    {
     "data": {
      "text/plain": [
       "Path('/home/vtec/projects/bio/metagentorch/data/ncbi/refsequences/cov/cov_refseq_010-seqs.fa')"
      ]
     },
     "execution_count": null,
     "metadata": {},
     "output_type": "execute_result"
    }
   ],
   "source": [
    "fasta.path"
   ]
  },
  {
   "cell_type": "markdown",
   "metadata": {},
   "source": [
    "Then we can review the metadata available for each reference sequence, as listed in `aln`'s header.\n",
    "\n",
    "This information can be seen in `aln.header` or with the method `parse_header_reference_sequences()`"
   ]
  },
  {
   "cell_type": "code",
   "execution_count": null,
   "metadata": {},
   "outputs": [
    {
     "name": "stdout",
     "output_type": "stream",
     "text": [
      "@SQ\t2591237:ncbi:1\t1\tMK211378\t2591237\tncbi\tCoronavirus BtRs-BetaCoV/YN2018D\t30213\n"
     ]
    }
   ],
   "source": [
    "print('\\n'.join(aln.header['reference sequences']))"
   ]
  },
  {
   "cell_type": "markdown",
   "metadata": {},
   "source": [
    "With `AlnFileReader.parse_header_reference_sequences`, we can extract information on all the sequences used to generate the reads:"
   ]
  },
  {
   "cell_type": "code",
   "execution_count": null,
   "metadata": {},
   "outputs": [
    {
     "name": "stdout",
     "output_type": "stream",
     "text": [
      "Reads simulated from 1 reference sequences.\n",
      "\n",
      "Reference Sequence 0:\n",
      "{'organism': 'Coronavirus BtRs-BetaCoV/YN2018D',\n",
      " 'refseq_accession': 'MK211378',\n",
      " 'refseq_length': '30213',\n",
      " 'refseqid': '2591237:ncbi:1',\n",
      " 'refseqnb': '1',\n",
      " 'refsource': 'ncbi',\n",
      " 'reftaxonomyid': '2591237'}\n",
      "\n"
     ]
    }
   ],
   "source": [
    "header_refseq_meta = aln.parse_header_reference_sequences()\n",
    "\n",
    "print(f\"Reads simulated from {len(header_refseq_meta)} reference sequences.\\n\")\n",
    "\n",
    "for i, (k,v) in enumerate(header_refseq_meta.items()):\n",
    "    print(f\"Reference Sequence {i}:\")\n",
    "    pprint(v)\n",
    "    print()\n",
    "\n",
    "    if i+1 >= 3: break"
   ]
  },
  {
   "cell_type": "markdown",
   "metadata": {},
   "source": [
    "We see that the first reference sequence is a **Coronavirus BtRs-BetaCoV/YN2018D**"
   ]
  },
  {
   "cell_type": "markdown",
   "metadata": {},
   "source": [
    "### Exploring metadata available for simulated read's"
   ]
  },
  {
   "cell_type": "code",
   "execution_count": null,
   "metadata": {},
   "outputs": [
    {
     "name": "stdout",
     "output_type": "stream",
     "text": [
      "120,800 reads were simulated.\n",
      "\n",
      "Read 0\n",
      "2591237:ncbi:1-120800\n",
      "{'aln_start_pos': '25398',\n",
      " 'read_seq_aligned': 'GCTCTCCAAAGTGTGGTACACAATTTTGTCACCACGCTTAAGAAACTCAA',\n",
      " 'readid': '2591237:ncbi:1-120800',\n",
      " 'readnb': '120800',\n",
      " 'ref_seq_aligned': 'GCTCTCCAAAGTGTGGTACACAATTTTGTCACCACGCTTAAGAAACTCAA',\n",
      " 'refseq_strand': '-',\n",
      " 'refseqid': '2591237:ncbi:1',\n",
      " 'refseqnb': '1',\n",
      " 'refsource': 'ncbi',\n",
      " 'reftaxonomyid': '2591237'}\n",
      "\n",
      "Read 1\n",
      "2591237:ncbi:1-120799\n",
      "{'aln_start_pos': '4676',\n",
      " 'read_seq_aligned': 'GACATCTGAGGAGCACTTTGTGGAAACAGTTTCTTTGGCTGGCTCTTACA',\n",
      " 'readid': '2591237:ncbi:1-120799',\n",
      " 'readnb': '120799',\n",
      " 'ref_seq_aligned': 'GACATCTGAGGAGCACTTTGTGGAAACAGTTTCTTTGGCTGGCTCTTACA',\n",
      " 'refseq_strand': '+',\n",
      " 'refseqid': '2591237:ncbi:1',\n",
      " 'refseqnb': '1',\n",
      " 'refsource': 'ncbi',\n",
      " 'reftaxonomyid': '2591237'}\n",
      "\n",
      "Read 2\n",
      "2591237:ncbi:1-120798\n",
      "{'aln_start_pos': '8080',\n",
      " 'read_seq_aligned': 'TCCTTTCTACATTTGTGTCAGCAGCCCGTCAAGGTGTTGTTGATACTGAT',\n",
      " 'readid': '2591237:ncbi:1-120798',\n",
      " 'readnb': '120798',\n",
      " 'ref_seq_aligned': 'TCCTTTCTACATTTGTGTCAGCAGCCCGTCAAGGTGTTGTTGATACTGAT',\n",
      " 'refseq_strand': '+',\n",
      " 'refseqid': '2591237:ncbi:1',\n",
      " 'refseqnb': '1',\n",
      " 'refsource': 'ncbi',\n",
      " 'reftaxonomyid': '2591237'}\n",
      "\n"
     ]
    }
   ],
   "source": [
    "reads_meta = aln.parse_file(add_ref_seq_aligned=True, add_read_seq_aligned=True)\n",
    "\n",
    "print(f\"{len(reads_meta):,d} reads were simulated.\\n\")\n",
    "\n",
    "for i, (k,v) in enumerate(reads_meta.items()):\n",
    "    print(f\"Read {i}\")\n",
    "    print(k)\n",
    "    pprint(v)\n",
    "    print()\n",
    "    if i+1>=3: break"
   ]
  },
  {
   "cell_type": "markdown",
   "metadata": {},
   "source": [
    "### Comparison metadata in fasta, fastq and aln"
   ]
  },
  {
   "cell_type": "markdown",
   "metadata": {},
   "source": [
    "There is redendancy in metadata across the three sets of files (`.fa`, `.fq`, `.aln`). Let's compare them to confirm this is consistent"
   ]
  },
  {
   "cell_type": "markdown",
   "metadata": {},
   "source": [
    "Create the following list and dictionaries parsing metadata from fasta, fastq and aln:\n",
    "- `refseqs_fasta`: metadata in fasta sequence file used as reference sequences to create reads\n",
    "- `simreads`: metadata on reads, as available in the fastq read file\n",
    "- `refseqs_aln`: reference sequences with metadata as available in the aln header\n",
    "- `simread_align`: read sequence and alignment info"
   ]
  },
  {
   "cell_type": "code",
   "execution_count": null,
   "metadata": {},
   "outputs": [],
   "source": [
    "refseqs_fasta = fasta.parse_file(add_seq=True)\n",
    "simreads = fastq.parse_file(add_readseq=True)\n",
    "refseqs_aln = aln.ref_sequences\n",
    "simread_align = aln.parse_file(add_ref_seq_aligned=True, add_read_seq_aligned=True)"
   ]
  },
  {
   "cell_type": "code",
   "execution_count": null,
   "metadata": {},
   "outputs": [
    {
     "data": {
      "text/plain": [
       "('^@SQ[\\\\t\\\\s]*(?P<refseqid>(?P<reftaxonomyid>\\\\d*):(?P<refsource>\\\\w*):(?P<refseqnb>\\\\d*))[\\\\t\\\\s]*(?P=refseqnb)[\\\\t\\\\s]*(?P<refseq_accession>[\\\\w\\\\d]*)[\\\\t\\\\s]*(?P=reftaxonomyid)[\\\\t\\\\s]*(?P=refsource)[\\\\t\\\\s](?P<organism>.*)[\\\\t\\\\s](?P<refseq_length>\\\\d*)$',\n",
       " 'aln_art_illumina-refseq-ncbi-std')"
      ]
     },
     "execution_count": null,
     "metadata": {},
     "output_type": "execute_result"
    }
   ],
   "source": [
    "aln.re_header_pattern, aln.re_header_rule_name"
   ]
  },
  {
   "cell_type": "code",
   "execution_count": null,
   "metadata": {},
   "outputs": [
    {
     "name": "stdout",
     "output_type": "stream",
     "text": [
      "reads simulated from the following 10 full sequences from `cov_refseq_010-seqs.fa`:\n",
      "\n",
      " 00: Coronavirus BtRs-BetaCoV/YN2018D\n",
      " 01: Bovine coronavirus\n",
      " 02: Human coronavirus OC43\n",
      " 03: Human coronavirus NL63\n",
      " 04: Infectious bronchitis virus\n",
      " 05: Porcine epidemic diarrhea virus\n",
      " 06: Porcine epidemic diarrhea virus\n",
      " 07: Porcine epidemic diarrhea virus\n",
      " 08: Porcine epidemic diarrhea virus\n",
      " 09: Camel alphacoronavirus\n"
     ]
    }
   ],
   "source": [
    "print(f\"reads simulated from the following {len(refseqs_fasta)} full sequences from `{fasta.path.name}`:\\n\")\n",
    "print('\\n'.join([f\" {i:02d}: {refseq['organism']}\" for i, refseq in enumerate(refseqs_fasta.values())]))"
   ]
  },
  {
   "cell_type": "code",
   "execution_count": null,
   "metadata": {},
   "outputs": [
    {
     "name": "stdout",
     "output_type": "stream",
     "text": [
      "120,800 reads generated and available in fastq file.\n",
      "For each read, following metadata is available in the fastq file:\n",
      " - readid\n",
      " - readnb\n",
      " - refseqnb\n",
      " - refsource\n",
      " - reftaxonomyid\n",
      " - readseq\n"
     ]
    }
   ],
   "source": [
    "print(f\"{len(simreads):,d} reads generated and available in fastq file.\")\n",
    "print('For each read, following metadata is available in the fastq file:')\n",
    "for s in ['readid', 'readnb', 'refseqnb', 'refsource', 'reftaxonomyid', 'readseq']:\n",
    "    print(f\" - {s}\")"
   ]
  },
  {
   "cell_type": "code",
   "execution_count": null,
   "metadata": {},
   "outputs": [
    {
     "name": "stdout",
     "output_type": "stream",
     "text": [
      "120,800 reads generated and available in aln file.\n",
      "For each read, following metadata is available in the aln file:\n",
      " - aln_start_pos\n",
      " - readid\n",
      " - readnb\n",
      " - refseq_strand\n",
      " - refseqid\n",
      " - refseqnb\n",
      " - refsource\n",
      " - reftaxonomyid\n",
      " - ref_seq_aligned\n",
      " - read_seq_aligned\n"
     ]
    }
   ],
   "source": [
    "print(f\"{len(simread_align):,d} reads generated and available in aln file.\")\n",
    "print('For each read, following metadata is available in the aln file:')\n",
    "for s in ['aln_start_pos', 'readid', 'readnb', 'refseq_strand', 'refseqid', 'refseqnb', 'refsource', 'reftaxonomyid', 'ref_seq_aligned', 'read_seq_aligned']:\n",
    "    print(f\" - {s}\")"
   ]
  },
  {
   "cell_type": "markdown",
   "metadata": {},
   "source": [
    "Check consistency between refseqs from fasta and from aln "
   ]
  },
  {
   "cell_type": "code",
   "execution_count": null,
   "metadata": {},
   "outputs": [
    {
     "name": "stdout",
     "output_type": "stream",
     "text": [
      "ATCCGTGGGT TAGGCACCCA\n",
      "ATCCGTGGGT TGGGTGCCTA\n"
     ]
    }
   ],
   "source": [
    "# utility functions\n",
    "def complementary_strand(seq):\n",
    "    \"\"\"Converts a strand in its complementary\"\"\"\n",
    "    conv = {'A':'T', 'C':'G', 'G':'C', 'T':'A'}\n",
    "    return ''.join([conv[base] for base in seq])\n",
    "\n",
    "strand = 'ATCCGTGGGT'\n",
    "print(strand, complementary_strand(strand))\n",
    "\n",
    "def reverse_sequence(seq):\n",
    "    return seq[::-1]\n",
    "\n",
    "print(strand, reverse_sequence(strand))"
   ]
  },
  {
   "cell_type": "markdown",
   "metadata": {},
   "source": [
    "### Check aln reference sequence information"
   ]
  },
  {
   "cell_type": "code",
   "execution_count": null,
   "metadata": {},
   "outputs": [],
   "source": [
    "refseqid = '2591237:ncbi:1'\n",
    "# refseqid = '11128:ncbi:2'"
   ]
  },
  {
   "cell_type": "markdown",
   "metadata": {},
   "source": [
    "In the source `.fa` file"
   ]
  },
  {
   "cell_type": "code",
   "execution_count": null,
   "metadata": {},
   "outputs": [
    {
     "data": {
      "text/plain": [
       "('MK211378', 30213)"
      ]
     },
     "execution_count": null,
     "metadata": {},
     "output_type": "execute_result"
    }
   ],
   "source": [
    "original_seq = refseqs_fasta[refseqid]['sequence']\n",
    "original_seq_accession = refseqs_fasta[refseqid]['accession']\n",
    "\n",
    "original_seq_accession, len(original_seq)"
   ]
  },
  {
   "cell_type": "code",
   "execution_count": null,
   "metadata": {},
   "outputs": [
    {
     "data": {
      "text/plain": [
       "dict_keys(['2591237:ncbi:1'])"
      ]
     },
     "execution_count": null,
     "metadata": {},
     "output_type": "execute_result"
    }
   ],
   "source": [
    "refseqs_fasta.keys()\n",
    "refseqs_aln.keys()"
   ]
  },
  {
   "cell_type": "markdown",
   "metadata": {},
   "source": [
    "In the output`.aln` file"
   ]
  },
  {
   "cell_type": "code",
   "execution_count": null,
   "metadata": {},
   "outputs": [
    {
     "data": {
      "text/plain": [
       "('MK211378', 30213)"
      ]
     },
     "execution_count": null,
     "metadata": {},
     "output_type": "execute_result"
    }
   ],
   "source": [
    "assert original_seq_accession == refseqs_aln[refseqid]['refseq_accession']\n",
    "assert len(original_seq) == int(refseqs_aln[refseqid]['refseq_length'])\n",
    "\n",
    "refseqs_aln[refseqid]['refseq_accession'], int(refseqs_aln[refseqid]['refseq_length'])"
   ]
  },
  {
   "cell_type": "markdown",
   "metadata": {},
   "source": [
    "### Check alignment information"
   ]
  },
  {
   "cell_type": "code",
   "execution_count": null,
   "metadata": {},
   "outputs": [
    {
     "name": "stdout",
     "output_type": "stream",
     "text": [
      "{'aln_start_pos': '7607',\n",
      " 'read_seq_aligned': 'TGATTTGTCACTCCAGTTTAAAAGACCAATTAACCCTACTGACCAGTCAT',\n",
      " 'readid': '2591237:ncbi:1-60400',\n",
      " 'readnb': '60400',\n",
      " 'ref_seq_aligned': 'TGATTTGTCACTCCAGTTTAAAAGACCAATTAACCCTACTGACCAGTCAT',\n",
      " 'refseq_strand': '+',\n",
      " 'refseqid': '2591237:ncbi:1',\n",
      " 'refseqnb': '1',\n",
      " 'refsource': 'ncbi',\n",
      " 'reftaxonomyid': '2591237'}\n"
     ]
    }
   ],
   "source": [
    "pprint(simread_align['2591237:ncbi:1-60400'])"
   ]
  },
  {
   "cell_type": "markdown",
   "metadata": {},
   "source": [
    "Select all reads generated from a single reference sequence"
   ]
  },
  {
   "cell_type": "code",
   "execution_count": null,
   "metadata": {},
   "outputs": [
    {
     "name": "stdout",
     "output_type": "stream",
     "text": [
      "Select all reads from reference sequence '2591237:ncbi:1''\n",
      "Total of 120,800 reads\n"
     ]
    }
   ],
   "source": [
    "print(f\"Select all reads from reference sequence '{refseqid}''\")\n",
    "reads_from_refseq = {k:v for k,v in simread_align.items() if v['refseqid']==refseqid}\n",
    "nbr_generated_reads = len(reads_from_refseq)\n",
    "print(f\"Total of {nbr_generated_reads:,d} reads\")"
   ]
  },
  {
   "cell_type": "code",
   "execution_count": null,
   "metadata": {},
   "outputs": [
    {
     "name": "stdout",
     "output_type": "stream",
     "text": [
      "{'aln_start_pos': '7689',\n",
      " 'read_seq_aligned': 'GGCGCACTTCACCTCTACTTTGACAAAGCTGGTCAAAAGACTTATGAGAG',\n",
      " 'readid': '2591237:ncbi:1-120794',\n",
      " 'readnb': '120794',\n",
      " 'ref_seq_aligned': 'GGCGCACTTCACCTCTACTTTGACAAGGCTGGTCAAAAGACTTATGAGAG',\n",
      " 'refseq_strand': '+',\n",
      " 'refseqid': '2591237:ncbi:1',\n",
      " 'refseqnb': '1',\n",
      " 'refsource': 'ncbi',\n",
      " 'reftaxonomyid': '2591237'}\n"
     ]
    }
   ],
   "source": [
    "n = 6\n",
    "selected_simread = [v for k,v in reads_from_refseq.items()][n]\n",
    "pprint(selected_simread)"
   ]
  },
  {
   "cell_type": "code",
   "execution_count": null,
   "metadata": {},
   "outputs": [],
   "source": [
    "def check_alignment(n, reads):\n",
    "    selected_simread = [v for k,v in reads.items()][n]\n",
    "    print(f\"{'='*80}\")\n",
    "    print(f\"checking read {selected_simread['readid']}\")\n",
    "    start = int(selected_simread['aln_start_pos'])\n",
    "    strand = selected_simread['refseq_strand']\n",
    "    print(f\"simread info:\")\n",
    "    print(f\" - from `{strand}` strand\")\n",
    "    print(f\" - position: {start:,d}\")\n",
    "\n",
    "    if strand == '+':\n",
    "        segment_from_refseq = original_seq[start:start+50]\n",
    "    else:\n",
    "        segment_from_refseq = complementary_strand(reverse_sequence(original_seq)[start:start+50])\n",
    "\n",
    "    print('sequences:')\n",
    "    print(f'- simread seq          :', selected_simread['read_seq_aligned'])\n",
    "    print(f'- refseq aligned       :', selected_simread['ref_seq_aligned'])\n",
    "    print(f'- segment in orig. seq :', segment_from_refseq)"
   ]
  },
  {
   "cell_type": "code",
   "execution_count": null,
   "metadata": {},
   "outputs": [
    {
     "name": "stdout",
     "output_type": "stream",
     "text": [
      "================================================================================\n",
      "checking read 2591237:ncbi:1-1\n",
      "simread info:\n",
      " - from `+` strand\n",
      " - position: 15,444\n",
      "sequences:\n",
      "- simread seq          : GTGTCTTTAACATTTGTCAAGCTGTTACAGCTAATGTAAATGCACTCCTT\n",
      "- refseq aligned       : GTGTCTTTAACATTTGTCAAGCTGTTACAGCTAATGTAAATGCACTCCTT\n",
      "- segment in orig. seq : GTGTCTTTAACATTTGTCAAGCTGTTACAGCTAATGTAAATGCACTCCTT\n",
      "================================================================================\n",
      "checking read 2591237:ncbi:1-2\n",
      "simread info:\n",
      " - from `+` strand\n",
      " - position: 21,969\n",
      "sequences:\n",
      "- simread seq          : CATATAATTGCACATATGATAGAGTGGAGCAGAGCTTTCAACTCGACACT\n",
      "- refseq aligned       : CATATAATTGCACATATGATAGAGTGGAGCAGAGCTTTCAACTCGACACT\n",
      "- segment in orig. seq : CATATAATTGCACATATGATAGAGTGGAGCAGAGCTTTCAACTCGACACT\n",
      "================================================================================\n",
      "checking read 2591237:ncbi:1-3\n",
      "simread info:\n",
      " - from `-` strand\n",
      " - position: 15,830\n",
      "sequences:\n",
      "- simread seq          : ACACCATCTACAAATATTTTTCTTACTAGTGGTCCAAAACTTGTAGGTGG\n",
      "- refseq aligned       : ACACCATCTACAAATATTTTTCTTACTAGTGGTCCAAAACTTGTAGGTGG\n",
      "- segment in orig. seq : ACACCATCTACAAATATTTTTCTTACTAGTGGTCCAAAACTTGTAGGTGG\n",
      "================================================================================\n",
      "checking read 2591237:ncbi:1-4\n",
      "simread info:\n",
      " - from `+` strand\n",
      " - position: 5,031\n",
      "sequences:\n",
      "- simread seq          : CATGAGGGTAAGACTTTCTTTGTACTACCTAGTGATGACACACTACGTAG\n",
      "- refseq aligned       : CATGAGGGTAAGACTTTCTTTGTACTACCTAGTGATGACACACTACGTAG\n",
      "- segment in orig. seq : CATGAGGGTAAGACTTTCTTTGTACTACCTAGTGATGACACACTACGTAG\n",
      "================================================================================\n",
      "checking read 2591237:ncbi:1-5\n",
      "simread info:\n",
      " - from `-` strand\n",
      " - position: 10,768\n",
      "sequences:\n",
      "- simread seq          : TCGGTACTCATTTGCATGGTGTCTGCAAACAGCACCTCCCAAATTGCAAC\n",
      "- refseq aligned       : TCGGTACTCATTTGCATGGTGTCTGCAAACAGCACCTCCCAAATTGCAAC\n",
      "- segment in orig. seq : TCGGTACTCATTTGCATGGTGTCTGCAAACAGCACCTCCCAAATTGCAAC\n"
     ]
    }
   ],
   "source": [
    "for n in range(nbr_generated_reads-1, nbr_generated_reads-6, -1):\n",
    "    check_alignment(n, reads_from_refseq)"
   ]
  },
  {
   "cell_type": "markdown",
   "metadata": {},
   "source": [
    "## end of section"
   ]
  }
 ],
 "metadata": {
  "kernelspec": {
   "display_name": "python3",
   "language": "python",
   "name": "python3"
  }
 },
 "nbformat": 4,
 "nbformat_minor": 1
}
